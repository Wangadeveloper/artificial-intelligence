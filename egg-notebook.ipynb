{
 "cells": [
  {
   "cell_type": "code",
   "execution_count": 1,
   "id": "1f6ba45b",
   "metadata": {
    "_cell_guid": "b1076dfc-b9ad-4769-8c92-a6c4dae69d19",
    "_uuid": "8f2839f25d086af736a60e9eeb907d3b93b6e0e5",
    "execution": {
     "iopub.execute_input": "2024-12-02T06:20:31.671527Z",
     "iopub.status.busy": "2024-12-02T06:20:31.670651Z",
     "iopub.status.idle": "2024-12-02T06:20:32.507251Z",
     "shell.execute_reply": "2024-12-02T06:20:32.506044Z"
    },
    "papermill": {
     "duration": 0.847358,
     "end_time": "2024-12-02T06:20:32.509590",
     "exception": false,
     "start_time": "2024-12-02T06:20:31.662232",
     "status": "completed"
    },
    "tags": []
   },
   "outputs": [
    {
     "name": "stdout",
     "output_type": "stream",
     "text": [
      "/kaggle/input/eeg-eye-state-dataset/train.csv\n",
      "/kaggle/input/eeg-eye-state-dataset/test.csv\n"
     ]
    }
   ],
   "source": [
    "# This Python 3 environment comes with many helpful analytics libraries installed\n",
    "# It is defined by the kaggle/python Docker image: https://github.com/kaggle/docker-python\n",
    "# For example, here's several helpful packages to load\n",
    "\n",
    "import numpy as np # linear algebra\n",
    "import pandas as pd # data processing, CSV file I/O (e.g. pd.read_csv)\n",
    "\n",
    "# Input data files are available in the read-only \"../input/\" directory\n",
    "# For example, running this (by clicking run or pressing Shift+Enter) will list all files under the input directory\n",
    "\n",
    "import os\n",
    "for dirname, _, filenames in os.walk('/kaggle/input'):\n",
    "    for filename in filenames:\n",
    "        print(os.path.join(dirname, filename))\n",
    "\n",
    "# You can write up to 20GB to the current directory (/kaggle/working/) that gets preserved as output when you create a version using \"Save & Run All\" \n",
    "# You can also write temporary files to /kaggle/temp/, but they won't be saved outside of the current session"
   ]
  },
  {
   "cell_type": "code",
   "execution_count": 2,
   "id": "0e28a7c9",
   "metadata": {
    "execution": {
     "iopub.execute_input": "2024-12-02T06:20:32.523597Z",
     "iopub.status.busy": "2024-12-02T06:20:32.523040Z",
     "iopub.status.idle": "2024-12-02T06:20:32.852028Z",
     "shell.execute_reply": "2024-12-02T06:20:32.850756Z"
    },
    "papermill": {
     "duration": 0.338544,
     "end_time": "2024-12-02T06:20:32.854340",
     "exception": false,
     "start_time": "2024-12-02T06:20:32.515796",
     "status": "completed"
    },
    "tags": []
   },
   "outputs": [
    {
     "name": "stdout",
     "output_type": "stream",
     "text": [
      "Path to dataset files: /kaggle/input/eeg-eye-state-dataset\n"
     ]
    }
   ],
   "source": [
    "import kagglehub\n",
    "\n",
    "# Download latest version\n",
    "path = kagglehub.dataset_download(\"syednazmussakib/eeg-eye-state-dataset\")\n",
    "\n",
    "print(\"Path to dataset files:\", path)"
   ]
  },
  {
   "cell_type": "code",
   "execution_count": 3,
   "id": "f8b01950",
   "metadata": {
    "execution": {
     "iopub.execute_input": "2024-12-02T06:20:32.868281Z",
     "iopub.status.busy": "2024-12-02T06:20:32.867384Z",
     "iopub.status.idle": "2024-12-02T06:20:32.923545Z",
     "shell.execute_reply": "2024-12-02T06:20:32.922521Z"
    },
    "papermill": {
     "duration": 0.065732,
     "end_time": "2024-12-02T06:20:32.925956",
     "exception": false,
     "start_time": "2024-12-02T06:20:32.860224",
     "status": "completed"
    },
    "tags": []
   },
   "outputs": [],
   "source": [
    "train=pd.read_csv(\"/kaggle/input/eeg-eye-state-dataset/train.csv\")"
   ]
  },
  {
   "cell_type": "code",
   "execution_count": 4,
   "id": "6ba0f245",
   "metadata": {
    "execution": {
     "iopub.execute_input": "2024-12-02T06:20:32.939649Z",
     "iopub.status.busy": "2024-12-02T06:20:32.939243Z",
     "iopub.status.idle": "2024-12-02T06:20:32.969456Z",
     "shell.execute_reply": "2024-12-02T06:20:32.968432Z"
    },
    "papermill": {
     "duration": 0.039615,
     "end_time": "2024-12-02T06:20:32.971711",
     "exception": false,
     "start_time": "2024-12-02T06:20:32.932096",
     "status": "completed"
    },
    "tags": []
   },
   "outputs": [
    {
     "data": {
      "text/html": [
       "<div>\n",
       "<style scoped>\n",
       "    .dataframe tbody tr th:only-of-type {\n",
       "        vertical-align: middle;\n",
       "    }\n",
       "\n",
       "    .dataframe tbody tr th {\n",
       "        vertical-align: top;\n",
       "    }\n",
       "\n",
       "    .dataframe thead th {\n",
       "        text-align: right;\n",
       "    }\n",
       "</style>\n",
       "<table border=\"1\" class=\"dataframe\">\n",
       "  <thead>\n",
       "    <tr style=\"text-align: right;\">\n",
       "      <th></th>\n",
       "      <th>AF3</th>\n",
       "      <th>F7</th>\n",
       "      <th>F3</th>\n",
       "      <th>FC5</th>\n",
       "      <th>T7</th>\n",
       "      <th>P7</th>\n",
       "      <th>O1</th>\n",
       "      <th>O2</th>\n",
       "      <th>P8</th>\n",
       "      <th>T8</th>\n",
       "      <th>FC6</th>\n",
       "      <th>F4</th>\n",
       "      <th>F8</th>\n",
       "      <th>AF4</th>\n",
       "      <th>target</th>\n",
       "      <th>id</th>\n",
       "    </tr>\n",
       "  </thead>\n",
       "  <tbody>\n",
       "    <tr>\n",
       "      <th>0</th>\n",
       "      <td>4313.33</td>\n",
       "      <td>4008.72</td>\n",
       "      <td>4261.03</td>\n",
       "      <td>4090.26</td>\n",
       "      <td>4342.56</td>\n",
       "      <td>4626.15</td>\n",
       "      <td>4078.46</td>\n",
       "      <td>4633.85</td>\n",
       "      <td>4237.95</td>\n",
       "      <td>4274.87</td>\n",
       "      <td>4236.41</td>\n",
       "      <td>4304.62</td>\n",
       "      <td>4633.33</td>\n",
       "      <td>4386.67</td>\n",
       "      <td>0</td>\n",
       "      <td>1</td>\n",
       "    </tr>\n",
       "    <tr>\n",
       "      <th>1</th>\n",
       "      <td>4316.92</td>\n",
       "      <td>4016.92</td>\n",
       "      <td>4262.56</td>\n",
       "      <td>4101.03</td>\n",
       "      <td>4344.62</td>\n",
       "      <td>4632.31</td>\n",
       "      <td>4082.05</td>\n",
       "      <td>4643.08</td>\n",
       "      <td>4248.21</td>\n",
       "      <td>4286.15</td>\n",
       "      <td>4250.26</td>\n",
       "      <td>4311.79</td>\n",
       "      <td>4642.56</td>\n",
       "      <td>4390.77</td>\n",
       "      <td>0</td>\n",
       "      <td>2</td>\n",
       "    </tr>\n",
       "    <tr>\n",
       "      <th>2</th>\n",
       "      <td>4321.03</td>\n",
       "      <td>4018.46</td>\n",
       "      <td>4262.56</td>\n",
       "      <td>4107.69</td>\n",
       "      <td>4345.13</td>\n",
       "      <td>4639.49</td>\n",
       "      <td>4088.72</td>\n",
       "      <td>4645.64</td>\n",
       "      <td>4251.79</td>\n",
       "      <td>4284.10</td>\n",
       "      <td>4248.21</td>\n",
       "      <td>4312.82</td>\n",
       "      <td>4640.51</td>\n",
       "      <td>4387.69</td>\n",
       "      <td>0</td>\n",
       "      <td>3</td>\n",
       "    </tr>\n",
       "    <tr>\n",
       "      <th>3</th>\n",
       "      <td>4318.97</td>\n",
       "      <td>4009.23</td>\n",
       "      <td>4265.13</td>\n",
       "      <td>4102.56</td>\n",
       "      <td>4339.49</td>\n",
       "      <td>4637.95</td>\n",
       "      <td>4090.26</td>\n",
       "      <td>4649.23</td>\n",
       "      <td>4255.90</td>\n",
       "      <td>4283.08</td>\n",
       "      <td>4240.00</td>\n",
       "      <td>4311.79</td>\n",
       "      <td>4635.90</td>\n",
       "      <td>4369.23</td>\n",
       "      <td>0</td>\n",
       "      <td>4</td>\n",
       "    </tr>\n",
       "    <tr>\n",
       "      <th>4</th>\n",
       "      <td>4305.13</td>\n",
       "      <td>3997.95</td>\n",
       "      <td>4265.64</td>\n",
       "      <td>4093.85</td>\n",
       "      <td>4331.79</td>\n",
       "      <td>4635.90</td>\n",
       "      <td>4088.72</td>\n",
       "      <td>4650.26</td>\n",
       "      <td>4252.31</td>\n",
       "      <td>4287.69</td>\n",
       "      <td>4237.44</td>\n",
       "      <td>4308.21</td>\n",
       "      <td>4628.72</td>\n",
       "      <td>4355.38</td>\n",
       "      <td>0</td>\n",
       "      <td>5</td>\n",
       "    </tr>\n",
       "  </tbody>\n",
       "</table>\n",
       "</div>"
      ],
      "text/plain": [
       "       AF3       F7       F3      FC5       T7       P7       O1       O2  \\\n",
       "0  4313.33  4008.72  4261.03  4090.26  4342.56  4626.15  4078.46  4633.85   \n",
       "1  4316.92  4016.92  4262.56  4101.03  4344.62  4632.31  4082.05  4643.08   \n",
       "2  4321.03  4018.46  4262.56  4107.69  4345.13  4639.49  4088.72  4645.64   \n",
       "3  4318.97  4009.23  4265.13  4102.56  4339.49  4637.95  4090.26  4649.23   \n",
       "4  4305.13  3997.95  4265.64  4093.85  4331.79  4635.90  4088.72  4650.26   \n",
       "\n",
       "        P8       T8      FC6       F4       F8      AF4  target  id  \n",
       "0  4237.95  4274.87  4236.41  4304.62  4633.33  4386.67       0   1  \n",
       "1  4248.21  4286.15  4250.26  4311.79  4642.56  4390.77       0   2  \n",
       "2  4251.79  4284.10  4248.21  4312.82  4640.51  4387.69       0   3  \n",
       "3  4255.90  4283.08  4240.00  4311.79  4635.90  4369.23       0   4  \n",
       "4  4252.31  4287.69  4237.44  4308.21  4628.72  4355.38       0   5  "
      ]
     },
     "execution_count": 4,
     "metadata": {},
     "output_type": "execute_result"
    }
   ],
   "source": [
    "train.head()"
   ]
  },
  {
   "cell_type": "code",
   "execution_count": 5,
   "id": "9a1070cf",
   "metadata": {
    "execution": {
     "iopub.execute_input": "2024-12-02T06:20:32.987177Z",
     "iopub.status.busy": "2024-12-02T06:20:32.986200Z",
     "iopub.status.idle": "2024-12-02T06:20:33.012392Z",
     "shell.execute_reply": "2024-12-02T06:20:33.011136Z"
    },
    "papermill": {
     "duration": 0.0357,
     "end_time": "2024-12-02T06:20:33.014515",
     "exception": false,
     "start_time": "2024-12-02T06:20:32.978815",
     "status": "completed"
    },
    "tags": []
   },
   "outputs": [
    {
     "name": "stdout",
     "output_type": "stream",
     "text": [
      "<class 'pandas.core.frame.DataFrame'>\n",
      "RangeIndex: 9980 entries, 0 to 9979\n",
      "Data columns (total 16 columns):\n",
      " #   Column  Non-Null Count  Dtype  \n",
      "---  ------  --------------  -----  \n",
      " 0   AF3     9980 non-null   float64\n",
      " 1   F7      9980 non-null   float64\n",
      " 2   F3      9980 non-null   float64\n",
      " 3   FC5     9980 non-null   float64\n",
      " 4   T7      9980 non-null   float64\n",
      " 5   P7      9980 non-null   float64\n",
      " 6   O1      9980 non-null   float64\n",
      " 7   O2      9980 non-null   float64\n",
      " 8   P8      9980 non-null   float64\n",
      " 9   T8      9980 non-null   float64\n",
      " 10  FC6     9980 non-null   float64\n",
      " 11  F4      9980 non-null   float64\n",
      " 12  F8      9980 non-null   float64\n",
      " 13  AF4     9980 non-null   float64\n",
      " 14  target  9980 non-null   int64  \n",
      " 15  id      9980 non-null   int64  \n",
      "dtypes: float64(14), int64(2)\n",
      "memory usage: 1.2 MB\n"
     ]
    }
   ],
   "source": [
    "train.info()"
   ]
  },
  {
   "cell_type": "markdown",
   "id": "91709ed7",
   "metadata": {
    "papermill": {
     "duration": 0.006107,
     "end_time": "2024-12-02T06:20:33.026844",
     "exception": false,
     "start_time": "2024-12-02T06:20:33.020737",
     "status": "completed"
    },
    "tags": []
   },
   "source": [
    "from the above iformation we can see that our we do not need father preprocessing of data ,since it is in the perfect data type format"
   ]
  },
  {
   "cell_type": "code",
   "execution_count": 6,
   "id": "e36a64e1",
   "metadata": {
    "execution": {
     "iopub.execute_input": "2024-12-02T06:20:33.041489Z",
     "iopub.status.busy": "2024-12-02T06:20:33.040585Z",
     "iopub.status.idle": "2024-12-02T06:20:33.047618Z",
     "shell.execute_reply": "2024-12-02T06:20:33.046414Z"
    },
    "papermill": {
     "duration": 0.016304,
     "end_time": "2024-12-02T06:20:33.049652",
     "exception": false,
     "start_time": "2024-12-02T06:20:33.033348",
     "status": "completed"
    },
    "tags": []
   },
   "outputs": [
    {
     "data": {
      "text/plain": [
       "(9980, 16)"
      ]
     },
     "execution_count": 6,
     "metadata": {},
     "output_type": "execute_result"
    }
   ],
   "source": [
    "train.shape"
   ]
  },
  {
   "cell_type": "code",
   "execution_count": 7,
   "id": "4a10157a",
   "metadata": {
    "execution": {
     "iopub.execute_input": "2024-12-02T06:20:33.064141Z",
     "iopub.status.busy": "2024-12-02T06:20:33.063208Z",
     "iopub.status.idle": "2024-12-02T06:20:33.071299Z",
     "shell.execute_reply": "2024-12-02T06:20:33.070370Z"
    },
    "papermill": {
     "duration": 0.017412,
     "end_time": "2024-12-02T06:20:33.073265",
     "exception": false,
     "start_time": "2024-12-02T06:20:33.055853",
     "status": "completed"
    },
    "tags": []
   },
   "outputs": [
    {
     "data": {
      "text/plain": [
       "AF3       0\n",
       "F7        0\n",
       "F3        0\n",
       "FC5       0\n",
       "T7        0\n",
       "P7        0\n",
       "O1        0\n",
       "O2        0\n",
       "P8        0\n",
       "T8        0\n",
       "FC6       0\n",
       "F4        0\n",
       "F8        0\n",
       "AF4       0\n",
       "target    0\n",
       "id        0\n",
       "dtype: int64"
      ]
     },
     "execution_count": 7,
     "metadata": {},
     "output_type": "execute_result"
    }
   ],
   "source": [
    "train.isna().sum()"
   ]
  },
  {
   "cell_type": "markdown",
   "id": "42e25880",
   "metadata": {
    "papermill": {
     "duration": 0.00616,
     "end_time": "2024-12-02T06:20:33.086098",
     "exception": false,
     "start_time": "2024-12-02T06:20:33.079938",
     "status": "completed"
    },
    "tags": []
   },
   "source": [
    "having no null values we can go a and head check our target values if they are for binary classification or multiclass clasification"
   ]
  },
  {
   "cell_type": "code",
   "execution_count": 8,
   "id": "148e00af",
   "metadata": {
    "execution": {
     "iopub.execute_input": "2024-12-02T06:20:33.100933Z",
     "iopub.status.busy": "2024-12-02T06:20:33.100099Z",
     "iopub.status.idle": "2024-12-02T06:20:33.109777Z",
     "shell.execute_reply": "2024-12-02T06:20:33.108722Z"
    },
    "papermill": {
     "duration": 0.019056,
     "end_time": "2024-12-02T06:20:33.111723",
     "exception": false,
     "start_time": "2024-12-02T06:20:33.092667",
     "status": "completed"
    },
    "tags": []
   },
   "outputs": [
    {
     "data": {
      "text/plain": [
       "array([0, 1])"
      ]
     },
     "execution_count": 8,
     "metadata": {},
     "output_type": "execute_result"
    }
   ],
   "source": [
    "train[\"target\"].unique()"
   ]
  },
  {
   "cell_type": "code",
   "execution_count": 9,
   "id": "e49ea735",
   "metadata": {
    "execution": {
     "iopub.execute_input": "2024-12-02T06:20:33.126684Z",
     "iopub.status.busy": "2024-12-02T06:20:33.125784Z",
     "iopub.status.idle": "2024-12-02T06:20:34.962627Z",
     "shell.execute_reply": "2024-12-02T06:20:34.961465Z"
    },
    "papermill": {
     "duration": 1.846927,
     "end_time": "2024-12-02T06:20:34.965013",
     "exception": false,
     "start_time": "2024-12-02T06:20:33.118086",
     "status": "completed"
    },
    "tags": []
   },
   "outputs": [],
   "source": [
    "from sklearn.preprocessing import MinMaxScaler,StandardScaler \n",
    "from sklearn.linear_model import LogisticRegression\n",
    "from sklearn.model_selection import train_test_split\n",
    "import matplotlib.pyplot as plt\n",
    "from mlxtend.plotting import scatterplotmatrix\n",
    "from xgboost import XGBClassifier\n",
    "from sklearn.ensemble import RandomForestClassifier\n",
    "from sklearn.svm import SVC\n",
    "from sklearn.model_selection import cross_val_score"
   ]
  },
  {
   "cell_type": "code",
   "execution_count": 10,
   "id": "6de0387c",
   "metadata": {
    "execution": {
     "iopub.execute_input": "2024-12-02T06:20:34.981140Z",
     "iopub.status.busy": "2024-12-02T06:20:34.979657Z",
     "iopub.status.idle": "2024-12-02T06:20:34.987305Z",
     "shell.execute_reply": "2024-12-02T06:20:34.986223Z"
    },
    "papermill": {
     "duration": 0.017681,
     "end_time": "2024-12-02T06:20:34.989507",
     "exception": false,
     "start_time": "2024-12-02T06:20:34.971826",
     "status": "completed"
    },
    "tags": []
   },
   "outputs": [
    {
     "data": {
      "text/plain": [
       "Index(['AF3', 'F7', 'F3', 'FC5', 'T7', 'P7', 'O1', 'O2', 'P8', 'T8', 'FC6',\n",
       "       'F4', 'F8', 'AF4', 'target', 'id'],\n",
       "      dtype='object')"
      ]
     },
     "execution_count": 10,
     "metadata": {},
     "output_type": "execute_result"
    }
   ],
   "source": [
    "cols = train.columns\n",
    "cols"
   ]
  },
  {
   "cell_type": "code",
   "execution_count": 11,
   "id": "35afd217",
   "metadata": {
    "execution": {
     "iopub.execute_input": "2024-12-02T06:20:35.004172Z",
     "iopub.status.busy": "2024-12-02T06:20:35.003801Z",
     "iopub.status.idle": "2024-12-02T06:20:35.036454Z",
     "shell.execute_reply": "2024-12-02T06:20:35.035347Z"
    },
    "papermill": {
     "duration": 0.042956,
     "end_time": "2024-12-02T06:20:35.038958",
     "exception": false,
     "start_time": "2024-12-02T06:20:34.996002",
     "status": "completed"
    },
    "tags": []
   },
   "outputs": [],
   "source": [
    "test=pd.read_csv(\"/kaggle/input/eeg-eye-state-dataset/test.csv\")"
   ]
  },
  {
   "cell_type": "code",
   "execution_count": 12,
   "id": "d10b977f",
   "metadata": {
    "execution": {
     "iopub.execute_input": "2024-12-02T06:20:35.053749Z",
     "iopub.status.busy": "2024-12-02T06:20:35.053339Z",
     "iopub.status.idle": "2024-12-02T06:20:35.068082Z",
     "shell.execute_reply": "2024-12-02T06:20:35.066969Z"
    },
    "papermill": {
     "duration": 0.024692,
     "end_time": "2024-12-02T06:20:35.070375",
     "exception": false,
     "start_time": "2024-12-02T06:20:35.045683",
     "status": "completed"
    },
    "tags": []
   },
   "outputs": [],
   "source": [
    "#we are going to use MinMaxScaler to scale our data before feeding it into the models\n",
    "mc=MinMaxScaler()\n",
    "\n",
    "X=train.drop(\"target\",axis=1)\n",
    "y=train[\"target\"]\n",
    "\n",
    "xtrain,xval,ytrain,yval=train_test_split(X,y,test_size=.2,stratify=y)"
   ]
  },
  {
   "cell_type": "code",
   "execution_count": 13,
   "id": "1e522152",
   "metadata": {
    "execution": {
     "iopub.execute_input": "2024-12-02T06:20:35.085708Z",
     "iopub.status.busy": "2024-12-02T06:20:35.085285Z",
     "iopub.status.idle": "2024-12-02T06:20:35.097812Z",
     "shell.execute_reply": "2024-12-02T06:20:35.096774Z"
    },
    "papermill": {
     "duration": 0.022719,
     "end_time": "2024-12-02T06:20:35.100225",
     "exception": false,
     "start_time": "2024-12-02T06:20:35.077506",
     "status": "completed"
    },
    "tags": []
   },
   "outputs": [],
   "source": [
    "xtrain_norm=mc.fit_transform(xtrain)\n",
    "xval_norm=mc.transform(xval)"
   ]
  },
  {
   "cell_type": "code",
   "execution_count": 14,
   "id": "9b33596c",
   "metadata": {
    "execution": {
     "iopub.execute_input": "2024-12-02T06:20:35.115701Z",
     "iopub.status.busy": "2024-12-02T06:20:35.114651Z",
     "iopub.status.idle": "2024-12-02T06:20:35.121013Z",
     "shell.execute_reply": "2024-12-02T06:20:35.119901Z"
    },
    "papermill": {
     "duration": 0.016417,
     "end_time": "2024-12-02T06:20:35.123219",
     "exception": false,
     "start_time": "2024-12-02T06:20:35.106802",
     "status": "completed"
    },
    "tags": []
   },
   "outputs": [],
   "source": [
    "lg=LogisticRegression(\n",
    "    penalty='l2',             # Regularization: 'l1', 'l2', 'elasticnet', or 'none'\n",
    "    dual=False,               # Dual or primal formulation (only for l2 penalty)\n",
    "    tol=1e-4,                 # Tolerance for stopping criteria\n",
    "    C=1.0,                    # Inverse of regularization strength (smaller = stronger regularization)\n",
    "    fit_intercept=True,       # Whether to include the intercept in the model\n",
    "    intercept_scaling=1,      # Scaling factor for intercept in 'liblinear' solver\n",
    "    solver='lbfgs',           # Optimization solver: 'lbfgs', 'liblinear', 'sag', 'saga', 'newton-cg'\n",
    "    max_iter=100,             # Maximum number of iterations for convergence\n",
    "    multi_class='auto',       # Multi-class strategy: 'auto', 'ovr', 'multinomial'\n",
    "    verbose=0,                # Verbosity level\n",
    "    n_jobs=None,              # Number of jobs for parallel computation\n",
    "    random_state=None         # Random seed\n",
    ")\n"
   ]
  },
  {
   "cell_type": "code",
   "execution_count": 15,
   "id": "8ba5e597",
   "metadata": {
    "execution": {
     "iopub.execute_input": "2024-12-02T06:20:35.138970Z",
     "iopub.status.busy": "2024-12-02T06:20:35.137995Z",
     "iopub.status.idle": "2024-12-02T06:20:35.144443Z",
     "shell.execute_reply": "2024-12-02T06:20:35.143378Z"
    },
    "papermill": {
     "duration": 0.016661,
     "end_time": "2024-12-02T06:20:35.146614",
     "exception": false,
     "start_time": "2024-12-02T06:20:35.129953",
     "status": "completed"
    },
    "tags": []
   },
   "outputs": [],
   "source": [
    "svc=SVC(\n",
    "    C=1.0,                    # Regularization parameter (smaller = stronger regularization)\n",
    "    kernel='rbf',             # Kernel type: 'linear', 'poly', 'rbf', 'sigmoid', 'precomputed'\n",
    "    degree=3,                 # Degree for 'poly' kernel\n",
    "    gamma='scale',            # Kernel coefficient: 'scale', 'auto', or a float\n",
    "    coef0=0.0,                # Independent term for 'poly' and 'sigmoid' kernels\n",
    "    shrinking=True,           # Whether to use the shrinking heuristic\n",
    "    probability=False,        # Enable probability estimates\n",
    "    tol=1e-3,                 # Tolerance for stopping criteria\n",
    "    cache_size=200,           # Cache size (in MB) for kernel\n",
    "    class_weight=None,        # Weights for classes: 'balanced' or dict\n",
    "    verbose=False,            # Verbosity level\n",
    "    max_iter=-1,              # Maximum number of iterations (-1 for no limit)\n",
    "    random_state=None         # Random seed\n",
    ")\n"
   ]
  },
  {
   "cell_type": "code",
   "execution_count": 16,
   "id": "6377fe53",
   "metadata": {
    "execution": {
     "iopub.execute_input": "2024-12-02T06:20:35.161546Z",
     "iopub.status.busy": "2024-12-02T06:20:35.161118Z",
     "iopub.status.idle": "2024-12-02T06:20:35.167355Z",
     "shell.execute_reply": "2024-12-02T06:20:35.166196Z"
    },
    "papermill": {
     "duration": 0.016142,
     "end_time": "2024-12-02T06:20:35.169486",
     "exception": false,
     "start_time": "2024-12-02T06:20:35.153344",
     "status": "completed"
    },
    "tags": []
   },
   "outputs": [],
   "source": [
    "xgb=XGBClassifier(\n",
    "    n_estimators=100,          # Number of boosting rounds\n",
    "    max_depth=6,               # Maximum depth of a tree\n",
    "    learning_rate=0.3,         # Boosting learning rate\n",
    "    subsample=1.0,             # Subsample ratio of training samples\n",
    "    colsample_bytree=1.0,      # Subsample ratio of columns for each tree\n",
    "    colsample_bylevel=1.0,     # Subsample ratio of columns for each split\n",
    "    colsample_bynode=1.0,      # Subsample ratio of columns for each node\n",
    "    min_child_weight=1,        # Minimum sum of instance weight (hessian) in a child\n",
    "    gamma=0,                   # Minimum loss reduction to make a split\n",
    "    reg_alpha=0,               # L1 regularization term\n",
    "    reg_lambda=1,              # L2 regularization term\n",
    "    scale_pos_weight=1,        # Balancing of positive and negative weights\n",
    "    objective='binary:logistic', # Learning objective\n",
    "    booster='gbtree',          # Booster type: 'gbtree', 'gblinear', 'dart'\n",
    "    verbosity=1,               # Verbosity level (0 = silent)\n",
    "    random_state=None          # Random seed\n",
    ")\n"
   ]
  },
  {
   "cell_type": "code",
   "execution_count": 17,
   "id": "05c2eeb0",
   "metadata": {
    "execution": {
     "iopub.execute_input": "2024-12-02T06:20:35.184922Z",
     "iopub.status.busy": "2024-12-02T06:20:35.184094Z",
     "iopub.status.idle": "2024-12-02T06:20:35.190368Z",
     "shell.execute_reply": "2024-12-02T06:20:35.189240Z"
    },
    "papermill": {
     "duration": 0.016166,
     "end_time": "2024-12-02T06:20:35.192466",
     "exception": false,
     "start_time": "2024-12-02T06:20:35.176300",
     "status": "completed"
    },
    "tags": []
   },
   "outputs": [],
   "source": [
    "rf=RandomForestClassifier(\n",
    "    n_estimators=100,          # Number of trees in the forest\n",
    "    criterion='gini',          # Splitting criterion: 'gini' or 'entropy'\n",
    "    max_depth=None,            # Maximum depth of the trees\n",
    "    min_samples_split=2,       # Minimum samples required to split an internal node\n",
    "    min_samples_leaf=1,        # Minimum samples required to be at a leaf node\n",
    "    min_weight_fraction_leaf=0.0, # Minimum weighted fraction of the sum total of weights at a leaf\n",
    "    max_features='sqrt',       # Number of features to consider when looking for the best split\n",
    "    max_leaf_nodes=None,       # Maximum number of leaf nodes\n",
    "    bootstrap=True,            # Whether to use bootstrapped samples\n",
    "    oob_score=False,           # Whether to use out-of-bag samples for scoring\n",
    "    n_jobs=None,               # Number of jobs for parallel computation\n",
    "    random_state=None,         # Random seed\n",
    "    verbose=0,                 # Verbosity level\n",
    "    warm_start=False,          # Reuse previous solution to speed up training\n",
    "    class_weight=None          # Weights for classes: 'balanced', 'balanced_subsample', or dict\n",
    ")\n"
   ]
  },
  {
   "cell_type": "code",
   "execution_count": 18,
   "id": "8d863aee",
   "metadata": {
    "execution": {
     "iopub.execute_input": "2024-12-02T06:20:35.207406Z",
     "iopub.status.busy": "2024-12-02T06:20:35.207019Z",
     "iopub.status.idle": "2024-12-02T06:20:38.230349Z",
     "shell.execute_reply": "2024-12-02T06:20:38.229068Z"
    },
    "papermill": {
     "duration": 3.033673,
     "end_time": "2024-12-02T06:20:38.232918",
     "exception": false,
     "start_time": "2024-12-02T06:20:35.199245",
     "status": "completed"
    },
    "tags": []
   },
   "outputs": [
    {
     "name": "stdout",
     "output_type": "stream",
     "text": [
      "CV accuracy: 0.763 +/- 0.013\n"
     ]
    }
   ],
   "source": [
    "scores = cross_val_score(lg,\n",
    "                         X=xtrain_norm,\n",
    "                         y=ytrain,\n",
    "                         cv=10,\n",
    "                         n_jobs=5)\n",
    "print('CV accuracy: %.3f +/- %.3f' % (np.mean(scores),np.std(scores)))"
   ]
  },
  {
   "cell_type": "code",
   "execution_count": 19,
   "id": "69278698",
   "metadata": {
    "execution": {
     "iopub.execute_input": "2024-12-02T06:20:38.252470Z",
     "iopub.status.busy": "2024-12-02T06:20:38.251353Z",
     "iopub.status.idle": "2024-12-02T06:20:39.119386Z",
     "shell.execute_reply": "2024-12-02T06:20:39.118144Z"
    },
    "papermill": {
     "duration": 0.881993,
     "end_time": "2024-12-02T06:20:39.121479",
     "exception": false,
     "start_time": "2024-12-02T06:20:38.239486",
     "status": "completed"
    },
    "tags": []
   },
   "outputs": [
    {
     "name": "stdout",
     "output_type": "stream",
     "text": [
      "CV accuracy: 0.994 +/- 0.003\n"
     ]
    }
   ],
   "source": [
    "scores = cross_val_score(xgb,\n",
    "                         X=xtrain_norm,\n",
    "                         y=ytrain,\n",
    "                         cv=10,\n",
    "                         n_jobs=5)\n",
    "print('CV accuracy: %.3f +/- %.3f' % (np.mean(scores),np.std(scores)))"
   ]
  },
  {
   "cell_type": "code",
   "execution_count": 20,
   "id": "011d7bd3",
   "metadata": {
    "execution": {
     "iopub.execute_input": "2024-12-02T06:20:39.136934Z",
     "iopub.status.busy": "2024-12-02T06:20:39.136003Z",
     "iopub.status.idle": "2024-12-02T06:20:43.803507Z",
     "shell.execute_reply": "2024-12-02T06:20:43.802303Z"
    },
    "papermill": {
     "duration": 4.677692,
     "end_time": "2024-12-02T06:20:43.805876",
     "exception": false,
     "start_time": "2024-12-02T06:20:39.128184",
     "status": "completed"
    },
    "tags": []
   },
   "outputs": [
    {
     "name": "stdout",
     "output_type": "stream",
     "text": [
      "CV accuracy: 0.991 +/- 0.004\n"
     ]
    }
   ],
   "source": [
    "scores = cross_val_score(rf,\n",
    "                         X=xtrain_norm,\n",
    "                         y=ytrain,\n",
    "                         cv=10,\n",
    "                         n_jobs=5)\n",
    "print('CV accuracy: %.3f +/- %.3f' % (np.mean(scores),np.std(scores)))"
   ]
  },
  {
   "cell_type": "code",
   "execution_count": 21,
   "id": "9dd377d8",
   "metadata": {
    "execution": {
     "iopub.execute_input": "2024-12-02T06:20:43.822544Z",
     "iopub.status.busy": "2024-12-02T06:20:43.821632Z",
     "iopub.status.idle": "2024-12-02T06:20:56.495207Z",
     "shell.execute_reply": "2024-12-02T06:20:56.493531Z"
    },
    "papermill": {
     "duration": 12.684887,
     "end_time": "2024-12-02T06:20:56.498407",
     "exception": false,
     "start_time": "2024-12-02T06:20:43.813520",
     "status": "completed"
    },
    "tags": []
   },
   "outputs": [
    {
     "name": "stdout",
     "output_type": "stream",
     "text": [
      "CV accuracy: 0.757 +/- 0.015\n"
     ]
    }
   ],
   "source": [
    "scores = cross_val_score(svc,\n",
    "                         X=xtrain_norm,\n",
    "                         y=ytrain,\n",
    "                         cv=10,\n",
    "                         n_jobs=5)\n",
    "print('CV accuracy: %.3f +/- %.3f' % (np.mean(scores),np.std(scores)))"
   ]
  },
  {
   "cell_type": "markdown",
   "id": "f4d173a0",
   "metadata": {
    "papermill": {
     "duration": 0.007832,
     "end_time": "2024-12-02T06:20:56.516303",
     "exception": false,
     "start_time": "2024-12-02T06:20:56.508471",
     "status": "completed"
    },
    "tags": []
   },
   "source": [
    "form the above we can see thet xgb and rf models did agread job in learning the data"
   ]
  },
  {
   "cell_type": "code",
   "execution_count": 22,
   "id": "ec259b5f",
   "metadata": {
    "execution": {
     "iopub.execute_input": "2024-12-02T06:20:56.531607Z",
     "iopub.status.busy": "2024-12-02T06:20:56.531203Z",
     "iopub.status.idle": "2024-12-02T06:20:56.685271Z",
     "shell.execute_reply": "2024-12-02T06:20:56.684257Z"
    },
    "papermill": {
     "duration": 0.164493,
     "end_time": "2024-12-02T06:20:56.687609",
     "exception": false,
     "start_time": "2024-12-02T06:20:56.523116",
     "status": "completed"
    },
    "tags": []
   },
   "outputs": [
    {
     "name": "stdout",
     "output_type": "stream",
     "text": [
      "we have 13 misclassification out of 1996\n",
      "accuracy:0.9934869739478958\n"
     ]
    }
   ],
   "source": [
    "error=[]\n",
    "xgb.fit(xtrain_norm,ytrain)\n",
    "xval_pred=xgb.predict(xval_norm)\n",
    "for i in range(len(xval)):\n",
    "    if xval_pred[i] != yval.iloc[i]:\n",
    "        error.append(i)\n",
    "\n",
    "print(f\"we have {len(error)} misclassification out of {len(xval_pred)}\")\n",
    "print(f'accuracy:{1-len(error)/len(xval_pred)}')"
   ]
  },
  {
   "cell_type": "code",
   "execution_count": 23,
   "id": "7c83b733",
   "metadata": {
    "execution": {
     "iopub.execute_input": "2024-12-02T06:20:56.703176Z",
     "iopub.status.busy": "2024-12-02T06:20:56.702817Z",
     "iopub.status.idle": "2024-12-02T06:20:58.036852Z",
     "shell.execute_reply": "2024-12-02T06:20:58.035793Z"
    },
    "papermill": {
     "duration": 1.344585,
     "end_time": "2024-12-02T06:20:58.039105",
     "exception": false,
     "start_time": "2024-12-02T06:20:56.694520",
     "status": "completed"
    },
    "tags": []
   },
   "outputs": [
    {
     "name": "stdout",
     "output_type": "stream",
     "text": [
      "we have 13 misclassification out of 1996\n",
      "accuracy:0.9934869739478958\n"
     ]
    }
   ],
   "source": [
    "error=[]\n",
    "rf.fit(xtrain_norm,ytrain)\n",
    "xval_pred=xgb.predict(xval_norm)\n",
    "for i in range(len(xval)):\n",
    "    if xval_pred[i] != yval.iloc[i]:\n",
    "        error.append(i)\n",
    "\n",
    "print(f\"we have {len(error)} misclassification out of {len(xval_pred)}\")\n",
    "print(f'accuracy:{1-len(error)/len(xval_pred)}')"
   ]
  },
  {
   "cell_type": "code",
   "execution_count": 24,
   "id": "64164ced",
   "metadata": {
    "execution": {
     "iopub.execute_input": "2024-12-02T06:20:58.054848Z",
     "iopub.status.busy": "2024-12-02T06:20:58.054430Z",
     "iopub.status.idle": "2024-12-02T06:20:58.064027Z",
     "shell.execute_reply": "2024-12-02T06:20:58.063192Z"
    },
    "papermill": {
     "duration": 0.020141,
     "end_time": "2024-12-02T06:20:58.066136",
     "exception": false,
     "start_time": "2024-12-02T06:20:58.045995",
     "status": "completed"
    },
    "tags": []
   },
   "outputs": [],
   "source": [
    "xtest=test.drop(\"target\",axis=1)\n",
    "ytest=test['target']\n",
    "xtest_norm=mc.transform(xtest)"
   ]
  },
  {
   "cell_type": "code",
   "execution_count": 25,
   "id": "d7e68cf5",
   "metadata": {
    "execution": {
     "iopub.execute_input": "2024-12-02T06:20:58.081520Z",
     "iopub.status.busy": "2024-12-02T06:20:58.081105Z",
     "iopub.status.idle": "2024-12-02T06:20:58.126748Z",
     "shell.execute_reply": "2024-12-02T06:20:58.125557Z"
    },
    "papermill": {
     "duration": 0.055896,
     "end_time": "2024-12-02T06:20:58.128925",
     "exception": false,
     "start_time": "2024-12-02T06:20:58.073029",
     "status": "completed"
    },
    "tags": []
   },
   "outputs": [
    {
     "name": "stdout",
     "output_type": "stream",
     "text": [
      "we have 2459 misclassification out of 5000\n",
      "accuracy:0.5082\n"
     ]
    }
   ],
   "source": [
    "error_test=[]\n",
    "xtest_pred=xgb.predict(xtest_norm)\n",
    "for i in range(len(xtest_pred)):\n",
    "    if xtest_pred[i] != ytest.iloc[i]:\n",
    "        error_test.append(i)\n",
    "\n",
    "print(f\"we have {len(error_test)} misclassification out of {len(xtest_pred)}\")\n",
    "print(f'accuracy:{1-len(error_test)/len(xtest_pred)}')"
   ]
  },
  {
   "cell_type": "code",
   "execution_count": 26,
   "id": "a2f3f057",
   "metadata": {
    "execution": {
     "iopub.execute_input": "2024-12-02T06:20:58.144111Z",
     "iopub.status.busy": "2024-12-02T06:20:58.143734Z",
     "iopub.status.idle": "2024-12-02T06:20:58.238587Z",
     "shell.execute_reply": "2024-12-02T06:20:58.237377Z"
    },
    "papermill": {
     "duration": 0.104845,
     "end_time": "2024-12-02T06:20:58.240597",
     "exception": false,
     "start_time": "2024-12-02T06:20:58.135752",
     "status": "completed"
    },
    "tags": []
   },
   "outputs": [
    {
     "name": "stdout",
     "output_type": "stream",
     "text": [
      "we have 2184 misclassification out of 5000\n",
      "accuracy:0.5631999999999999\n"
     ]
    }
   ],
   "source": [
    "error_test=[]\n",
    "xtest_pred=rf.predict(xtest_norm)\n",
    "for i in range(len(xtest_pred)):\n",
    "    if xtest_pred[i] != ytest.iloc[i]:\n",
    "        error_test.append(i)\n",
    "\n",
    "print(f\"we have {len(error_test)} misclassification out of {len(xtest_pred)}\")\n",
    "print(f'accuracy:{1-len(error_test)/len(xtest_pred)}')"
   ]
  },
  {
   "cell_type": "code",
   "execution_count": null,
   "id": "c129a319",
   "metadata": {
    "papermill": {
     "duration": 0.006658,
     "end_time": "2024-12-02T06:20:58.254343",
     "exception": false,
     "start_time": "2024-12-02T06:20:58.247685",
     "status": "completed"
    },
    "tags": []
   },
   "outputs": [],
   "source": []
  }
 ],
 "metadata": {
  "kaggle": {
   "accelerator": "none",
   "dataSources": [
    {
     "datasetId": 5506859,
     "sourceId": 9213019,
     "sourceType": "datasetVersion"
    }
   ],
   "dockerImageVersionId": 30786,
   "isGpuEnabled": false,
   "isInternetEnabled": true,
   "language": "python",
   "sourceType": "notebook"
  },
  "kernelspec": {
   "display_name": "Python 3",
   "language": "python",
   "name": "python3"
  },
  "language_info": {
   "codemirror_mode": {
    "name": "ipython",
    "version": 3
   },
   "file_extension": ".py",
   "mimetype": "text/x-python",
   "name": "python",
   "nbconvert_exporter": "python",
   "pygments_lexer": "ipython3",
   "version": "3.10.14"
  },
  "papermill": {
   "default_parameters": {},
   "duration": 32.194805,
   "end_time": "2024-12-02T06:21:00.881832",
   "environment_variables": {},
   "exception": null,
   "input_path": "__notebook__.ipynb",
   "output_path": "__notebook__.ipynb",
   "parameters": {},
   "start_time": "2024-12-02T06:20:28.687027",
   "version": "2.6.0"
  }
 },
 "nbformat": 4,
 "nbformat_minor": 5
}
