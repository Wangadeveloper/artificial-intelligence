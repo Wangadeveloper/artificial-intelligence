{
 "cells": [
  {
   "cell_type": "code",
   "execution_count": 1,
   "id": "19614601",
   "metadata": {
    "_cell_guid": "b1076dfc-b9ad-4769-8c92-a6c4dae69d19",
    "_uuid": "8f2839f25d086af736a60e9eeb907d3b93b6e0e5",
    "execution": {
     "iopub.execute_input": "2024-11-30T08:51:33.907850Z",
     "iopub.status.busy": "2024-11-30T08:51:33.907447Z",
     "iopub.status.idle": "2024-11-30T08:51:34.944326Z",
     "shell.execute_reply": "2024-11-30T08:51:34.942824Z"
    },
    "papermill": {
     "duration": 1.047024,
     "end_time": "2024-11-30T08:51:34.946822",
     "exception": false,
     "start_time": "2024-11-30T08:51:33.899798",
     "status": "completed"
    },
    "tags": []
   },
   "outputs": [
    {
     "name": "stdout",
     "output_type": "stream",
     "text": [
      "/kaggle/input/eeg-eye-state-dataset/train.csv\n",
      "/kaggle/input/eeg-eye-state-dataset/test.csv\n"
     ]
    }
   ],
   "source": [
    "# This Python 3 environment comes with many helpful analytics libraries installed\n",
    "# It is defined by the kaggle/python Docker image: https://github.com/kaggle/docker-python\n",
    "# For example, here's several helpful packages to load\n",
    "\n",
    "import numpy as np # linear algebra\n",
    "import pandas as pd # data processing, CSV file I/O (e.g. pd.read_csv)\n",
    "\n",
    "# Input data files are available in the read-only \"../input/\" directory\n",
    "# For example, running this (by clicking run or pressing Shift+Enter) will list all files under the input directory\n",
    "\n",
    "import os\n",
    "for dirname, _, filenames in os.walk('/kaggle/input'):\n",
    "    for filename in filenames:\n",
    "        print(os.path.join(dirname, filename))\n",
    "\n",
    "# You can write up to 20GB to the current directory (/kaggle/working/) that gets preserved as output when you create a version using \"Save & Run All\" \n",
    "# You can also write temporary files to /kaggle/temp/, but they won't be saved outside of the current session"
   ]
  },
  {
   "cell_type": "code",
   "execution_count": 2,
   "id": "73784e3d",
   "metadata": {
    "execution": {
     "iopub.execute_input": "2024-11-30T08:51:34.959070Z",
     "iopub.status.busy": "2024-11-30T08:51:34.958526Z",
     "iopub.status.idle": "2024-11-30T08:51:35.244259Z",
     "shell.execute_reply": "2024-11-30T08:51:35.242843Z"
    },
    "papermill": {
     "duration": 0.294658,
     "end_time": "2024-11-30T08:51:35.246926",
     "exception": false,
     "start_time": "2024-11-30T08:51:34.952268",
     "status": "completed"
    },
    "tags": []
   },
   "outputs": [
    {
     "name": "stdout",
     "output_type": "stream",
     "text": [
      "Path to dataset files: /kaggle/input/eeg-eye-state-dataset\n"
     ]
    }
   ],
   "source": [
    "import kagglehub\n",
    "\n",
    "# Download latest version\n",
    "path = kagglehub.dataset_download(\"syednazmussakib/eeg-eye-state-dataset\")\n",
    "\n",
    "print(\"Path to dataset files:\", path)"
   ]
  },
  {
   "cell_type": "code",
   "execution_count": 3,
   "id": "d3f22603",
   "metadata": {
    "execution": {
     "iopub.execute_input": "2024-11-30T08:51:35.259129Z",
     "iopub.status.busy": "2024-11-30T08:51:35.258769Z",
     "iopub.status.idle": "2024-11-30T08:51:35.309974Z",
     "shell.execute_reply": "2024-11-30T08:51:35.308730Z"
    },
    "papermill": {
     "duration": 0.060326,
     "end_time": "2024-11-30T08:51:35.312502",
     "exception": false,
     "start_time": "2024-11-30T08:51:35.252176",
     "status": "completed"
    },
    "tags": []
   },
   "outputs": [],
   "source": [
    "train=pd.read_csv(\"/kaggle/input/eeg-eye-state-dataset/train.csv\")"
   ]
  },
  {
   "cell_type": "code",
   "execution_count": 4,
   "id": "aa0da6d1",
   "metadata": {
    "execution": {
     "iopub.execute_input": "2024-11-30T08:51:35.325803Z",
     "iopub.status.busy": "2024-11-30T08:51:35.324500Z",
     "iopub.status.idle": "2024-11-30T08:51:35.358323Z",
     "shell.execute_reply": "2024-11-30T08:51:35.357098Z"
    },
    "papermill": {
     "duration": 0.04304,
     "end_time": "2024-11-30T08:51:35.360885",
     "exception": false,
     "start_time": "2024-11-30T08:51:35.317845",
     "status": "completed"
    },
    "tags": []
   },
   "outputs": [
    {
     "data": {
      "text/html": [
       "<div>\n",
       "<style scoped>\n",
       "    .dataframe tbody tr th:only-of-type {\n",
       "        vertical-align: middle;\n",
       "    }\n",
       "\n",
       "    .dataframe tbody tr th {\n",
       "        vertical-align: top;\n",
       "    }\n",
       "\n",
       "    .dataframe thead th {\n",
       "        text-align: right;\n",
       "    }\n",
       "</style>\n",
       "<table border=\"1\" class=\"dataframe\">\n",
       "  <thead>\n",
       "    <tr style=\"text-align: right;\">\n",
       "      <th></th>\n",
       "      <th>AF3</th>\n",
       "      <th>F7</th>\n",
       "      <th>F3</th>\n",
       "      <th>FC5</th>\n",
       "      <th>T7</th>\n",
       "      <th>P7</th>\n",
       "      <th>O1</th>\n",
       "      <th>O2</th>\n",
       "      <th>P8</th>\n",
       "      <th>T8</th>\n",
       "      <th>FC6</th>\n",
       "      <th>F4</th>\n",
       "      <th>F8</th>\n",
       "      <th>AF4</th>\n",
       "      <th>target</th>\n",
       "      <th>id</th>\n",
       "    </tr>\n",
       "  </thead>\n",
       "  <tbody>\n",
       "    <tr>\n",
       "      <th>0</th>\n",
       "      <td>4313.33</td>\n",
       "      <td>4008.72</td>\n",
       "      <td>4261.03</td>\n",
       "      <td>4090.26</td>\n",
       "      <td>4342.56</td>\n",
       "      <td>4626.15</td>\n",
       "      <td>4078.46</td>\n",
       "      <td>4633.85</td>\n",
       "      <td>4237.95</td>\n",
       "      <td>4274.87</td>\n",
       "      <td>4236.41</td>\n",
       "      <td>4304.62</td>\n",
       "      <td>4633.33</td>\n",
       "      <td>4386.67</td>\n",
       "      <td>0</td>\n",
       "      <td>1</td>\n",
       "    </tr>\n",
       "    <tr>\n",
       "      <th>1</th>\n",
       "      <td>4316.92</td>\n",
       "      <td>4016.92</td>\n",
       "      <td>4262.56</td>\n",
       "      <td>4101.03</td>\n",
       "      <td>4344.62</td>\n",
       "      <td>4632.31</td>\n",
       "      <td>4082.05</td>\n",
       "      <td>4643.08</td>\n",
       "      <td>4248.21</td>\n",
       "      <td>4286.15</td>\n",
       "      <td>4250.26</td>\n",
       "      <td>4311.79</td>\n",
       "      <td>4642.56</td>\n",
       "      <td>4390.77</td>\n",
       "      <td>0</td>\n",
       "      <td>2</td>\n",
       "    </tr>\n",
       "    <tr>\n",
       "      <th>2</th>\n",
       "      <td>4321.03</td>\n",
       "      <td>4018.46</td>\n",
       "      <td>4262.56</td>\n",
       "      <td>4107.69</td>\n",
       "      <td>4345.13</td>\n",
       "      <td>4639.49</td>\n",
       "      <td>4088.72</td>\n",
       "      <td>4645.64</td>\n",
       "      <td>4251.79</td>\n",
       "      <td>4284.10</td>\n",
       "      <td>4248.21</td>\n",
       "      <td>4312.82</td>\n",
       "      <td>4640.51</td>\n",
       "      <td>4387.69</td>\n",
       "      <td>0</td>\n",
       "      <td>3</td>\n",
       "    </tr>\n",
       "    <tr>\n",
       "      <th>3</th>\n",
       "      <td>4318.97</td>\n",
       "      <td>4009.23</td>\n",
       "      <td>4265.13</td>\n",
       "      <td>4102.56</td>\n",
       "      <td>4339.49</td>\n",
       "      <td>4637.95</td>\n",
       "      <td>4090.26</td>\n",
       "      <td>4649.23</td>\n",
       "      <td>4255.90</td>\n",
       "      <td>4283.08</td>\n",
       "      <td>4240.00</td>\n",
       "      <td>4311.79</td>\n",
       "      <td>4635.90</td>\n",
       "      <td>4369.23</td>\n",
       "      <td>0</td>\n",
       "      <td>4</td>\n",
       "    </tr>\n",
       "    <tr>\n",
       "      <th>4</th>\n",
       "      <td>4305.13</td>\n",
       "      <td>3997.95</td>\n",
       "      <td>4265.64</td>\n",
       "      <td>4093.85</td>\n",
       "      <td>4331.79</td>\n",
       "      <td>4635.90</td>\n",
       "      <td>4088.72</td>\n",
       "      <td>4650.26</td>\n",
       "      <td>4252.31</td>\n",
       "      <td>4287.69</td>\n",
       "      <td>4237.44</td>\n",
       "      <td>4308.21</td>\n",
       "      <td>4628.72</td>\n",
       "      <td>4355.38</td>\n",
       "      <td>0</td>\n",
       "      <td>5</td>\n",
       "    </tr>\n",
       "  </tbody>\n",
       "</table>\n",
       "</div>"
      ],
      "text/plain": [
       "       AF3       F7       F3      FC5       T7       P7       O1       O2  \\\n",
       "0  4313.33  4008.72  4261.03  4090.26  4342.56  4626.15  4078.46  4633.85   \n",
       "1  4316.92  4016.92  4262.56  4101.03  4344.62  4632.31  4082.05  4643.08   \n",
       "2  4321.03  4018.46  4262.56  4107.69  4345.13  4639.49  4088.72  4645.64   \n",
       "3  4318.97  4009.23  4265.13  4102.56  4339.49  4637.95  4090.26  4649.23   \n",
       "4  4305.13  3997.95  4265.64  4093.85  4331.79  4635.90  4088.72  4650.26   \n",
       "\n",
       "        P8       T8      FC6       F4       F8      AF4  target  id  \n",
       "0  4237.95  4274.87  4236.41  4304.62  4633.33  4386.67       0   1  \n",
       "1  4248.21  4286.15  4250.26  4311.79  4642.56  4390.77       0   2  \n",
       "2  4251.79  4284.10  4248.21  4312.82  4640.51  4387.69       0   3  \n",
       "3  4255.90  4283.08  4240.00  4311.79  4635.90  4369.23       0   4  \n",
       "4  4252.31  4287.69  4237.44  4308.21  4628.72  4355.38       0   5  "
      ]
     },
     "execution_count": 4,
     "metadata": {},
     "output_type": "execute_result"
    }
   ],
   "source": [
    "train.head()"
   ]
  },
  {
   "cell_type": "code",
   "execution_count": 5,
   "id": "41bf4185",
   "metadata": {
    "execution": {
     "iopub.execute_input": "2024-11-30T08:51:35.374667Z",
     "iopub.status.busy": "2024-11-30T08:51:35.373699Z",
     "iopub.status.idle": "2024-11-30T08:51:35.404033Z",
     "shell.execute_reply": "2024-11-30T08:51:35.402807Z"
    },
    "papermill": {
     "duration": 0.040205,
     "end_time": "2024-11-30T08:51:35.406819",
     "exception": false,
     "start_time": "2024-11-30T08:51:35.366614",
     "status": "completed"
    },
    "tags": []
   },
   "outputs": [
    {
     "name": "stdout",
     "output_type": "stream",
     "text": [
      "<class 'pandas.core.frame.DataFrame'>\n",
      "RangeIndex: 9980 entries, 0 to 9979\n",
      "Data columns (total 16 columns):\n",
      " #   Column  Non-Null Count  Dtype  \n",
      "---  ------  --------------  -----  \n",
      " 0   AF3     9980 non-null   float64\n",
      " 1   F7      9980 non-null   float64\n",
      " 2   F3      9980 non-null   float64\n",
      " 3   FC5     9980 non-null   float64\n",
      " 4   T7      9980 non-null   float64\n",
      " 5   P7      9980 non-null   float64\n",
      " 6   O1      9980 non-null   float64\n",
      " 7   O2      9980 non-null   float64\n",
      " 8   P8      9980 non-null   float64\n",
      " 9   T8      9980 non-null   float64\n",
      " 10  FC6     9980 non-null   float64\n",
      " 11  F4      9980 non-null   float64\n",
      " 12  F8      9980 non-null   float64\n",
      " 13  AF4     9980 non-null   float64\n",
      " 14  target  9980 non-null   int64  \n",
      " 15  id      9980 non-null   int64  \n",
      "dtypes: float64(14), int64(2)\n",
      "memory usage: 1.2 MB\n"
     ]
    }
   ],
   "source": [
    "train.info()"
   ]
  },
  {
   "cell_type": "code",
   "execution_count": 6,
   "id": "4783acf6",
   "metadata": {
    "execution": {
     "iopub.execute_input": "2024-11-30T08:51:35.420746Z",
     "iopub.status.busy": "2024-11-30T08:51:35.420318Z",
     "iopub.status.idle": "2024-11-30T08:51:35.427196Z",
     "shell.execute_reply": "2024-11-30T08:51:35.426094Z"
    },
    "papermill": {
     "duration": 0.017452,
     "end_time": "2024-11-30T08:51:35.429856",
     "exception": false,
     "start_time": "2024-11-30T08:51:35.412404",
     "status": "completed"
    },
    "tags": []
   },
   "outputs": [
    {
     "data": {
      "text/plain": [
       "(9980, 16)"
      ]
     },
     "execution_count": 6,
     "metadata": {},
     "output_type": "execute_result"
    }
   ],
   "source": [
    "train.shape"
   ]
  },
  {
   "cell_type": "code",
   "execution_count": 7,
   "id": "1c915ebf",
   "metadata": {
    "execution": {
     "iopub.execute_input": "2024-11-30T08:51:35.442929Z",
     "iopub.status.busy": "2024-11-30T08:51:35.442502Z",
     "iopub.status.idle": "2024-11-30T08:51:35.452014Z",
     "shell.execute_reply": "2024-11-30T08:51:35.450714Z"
    },
    "papermill": {
     "duration": 0.018966,
     "end_time": "2024-11-30T08:51:35.454501",
     "exception": false,
     "start_time": "2024-11-30T08:51:35.435535",
     "status": "completed"
    },
    "tags": []
   },
   "outputs": [
    {
     "data": {
      "text/plain": [
       "AF3       0\n",
       "F7        0\n",
       "F3        0\n",
       "FC5       0\n",
       "T7        0\n",
       "P7        0\n",
       "O1        0\n",
       "O2        0\n",
       "P8        0\n",
       "T8        0\n",
       "FC6       0\n",
       "F4        0\n",
       "F8        0\n",
       "AF4       0\n",
       "target    0\n",
       "id        0\n",
       "dtype: int64"
      ]
     },
     "execution_count": 7,
     "metadata": {},
     "output_type": "execute_result"
    }
   ],
   "source": [
    "train.isna().sum()"
   ]
  },
  {
   "cell_type": "code",
   "execution_count": 8,
   "id": "2ae09934",
   "metadata": {
    "execution": {
     "iopub.execute_input": "2024-11-30T08:51:35.468654Z",
     "iopub.status.busy": "2024-11-30T08:51:35.468186Z",
     "iopub.status.idle": "2024-11-30T08:51:37.344953Z",
     "shell.execute_reply": "2024-11-30T08:51:37.343592Z"
    },
    "papermill": {
     "duration": 1.887309,
     "end_time": "2024-11-30T08:51:37.347830",
     "exception": false,
     "start_time": "2024-11-30T08:51:35.460521",
     "status": "completed"
    },
    "tags": []
   },
   "outputs": [],
   "source": [
    "import matplotlib.pyplot as plt\n",
    "from mlxtend.plotting import scatterplotmatrix"
   ]
  },
  {
   "cell_type": "code",
   "execution_count": 9,
   "id": "29ecb09d",
   "metadata": {
    "execution": {
     "iopub.execute_input": "2024-11-30T08:51:37.361442Z",
     "iopub.status.busy": "2024-11-30T08:51:37.360761Z",
     "iopub.status.idle": "2024-11-30T08:51:37.368152Z",
     "shell.execute_reply": "2024-11-30T08:51:37.366986Z"
    },
    "papermill": {
     "duration": 0.016799,
     "end_time": "2024-11-30T08:51:37.370457",
     "exception": false,
     "start_time": "2024-11-30T08:51:37.353658",
     "status": "completed"
    },
    "tags": []
   },
   "outputs": [
    {
     "data": {
      "text/plain": [
       "['AF3',\n",
       " 'F7',\n",
       " 'F3',\n",
       " 'FC5',\n",
       " 'T7',\n",
       " 'P7',\n",
       " 'O1',\n",
       " 'O2',\n",
       " 'P8',\n",
       " 'T8',\n",
       " 'FC6',\n",
       " 'F4',\n",
       " 'F8',\n",
       " 'AF4',\n",
       " 'target',\n",
       " 'id']"
      ]
     },
     "execution_count": 9,
     "metadata": {},
     "output_type": "execute_result"
    }
   ],
   "source": [
    "cols = list(train.columns)\n",
    "cols"
   ]
  },
  {
   "cell_type": "code",
   "execution_count": 10,
   "id": "87e343d6",
   "metadata": {
    "execution": {
     "iopub.execute_input": "2024-11-30T08:51:37.383798Z",
     "iopub.status.busy": "2024-11-30T08:51:37.383394Z",
     "iopub.status.idle": "2024-11-30T08:51:38.243750Z",
     "shell.execute_reply": "2024-11-30T08:51:38.242198Z"
    },
    "papermill": {
     "duration": 0.870175,
     "end_time": "2024-11-30T08:51:38.246483",
     "exception": false,
     "start_time": "2024-11-30T08:51:37.376308",
     "status": "completed"
    },
    "tags": []
   },
   "outputs": [],
   "source": [
    "from sklearn.linear_model import LinearRegression\n",
    "from sklearn.model_selection import cross_val_score\n",
    "from sklearn.svm import SVR\n",
    "from xgboost import XGBRegressor\n",
    "from sklearn.ensemble import VotingRegressor, RandomForestRegressor\n",
    "from sklearn.metrics import mean_absolute_error, r2_score\n",
    "from sklearn.impute import SimpleImputer\n",
    "import seaborn as sns"
   ]
  },
  {
   "cell_type": "code",
   "execution_count": 11,
   "id": "9f697bf0",
   "metadata": {
    "execution": {
     "iopub.execute_input": "2024-11-30T08:51:38.260483Z",
     "iopub.status.busy": "2024-11-30T08:51:38.259936Z",
     "iopub.status.idle": "2024-11-30T08:51:38.265291Z",
     "shell.execute_reply": "2024-11-30T08:51:38.264131Z"
    },
    "papermill": {
     "duration": 0.015353,
     "end_time": "2024-11-30T08:51:38.267981",
     "exception": false,
     "start_time": "2024-11-30T08:51:38.252628",
     "status": "completed"
    },
    "tags": []
   },
   "outputs": [],
   "source": [
    "\n",
    "#fig, axs = plt.subplots(1, len(cols), figsize=(5*len(cols), 3))\n",
    "\n",
    "#for i, column in enumerate(cols):\n",
    "   ##_ = fig.tight_layout()"
   ]
  },
  {
   "cell_type": "code",
   "execution_count": 12,
   "id": "145ed90c",
   "metadata": {
    "execution": {
     "iopub.execute_input": "2024-11-30T08:51:38.281387Z",
     "iopub.status.busy": "2024-11-30T08:51:38.280993Z",
     "iopub.status.idle": "2024-11-30T08:51:38.313024Z",
     "shell.execute_reply": "2024-11-30T08:51:38.311833Z"
    },
    "papermill": {
     "duration": 0.041858,
     "end_time": "2024-11-30T08:51:38.315815",
     "exception": false,
     "start_time": "2024-11-30T08:51:38.273957",
     "status": "completed"
    },
    "tags": []
   },
   "outputs": [],
   "source": [
    "test=pd.read_csv(\"/kaggle/input/eeg-eye-state-dataset/test.csv\")"
   ]
  },
  {
   "cell_type": "code",
   "execution_count": 13,
   "id": "e45ce6b2",
   "metadata": {
    "execution": {
     "iopub.execute_input": "2024-11-30T08:51:38.329329Z",
     "iopub.status.busy": "2024-11-30T08:51:38.328968Z",
     "iopub.status.idle": "2024-11-30T08:51:38.335587Z",
     "shell.execute_reply": "2024-11-30T08:51:38.334281Z"
    },
    "papermill": {
     "duration": 0.01633,
     "end_time": "2024-11-30T08:51:38.338125",
     "exception": false,
     "start_time": "2024-11-30T08:51:38.321795",
     "status": "completed"
    },
    "tags": []
   },
   "outputs": [],
   "source": [
    "from sklearn.preprocessing import StandardScaler\n",
    "sc=StandardScaler()\n",
    "y=train[\"target\"]\n",
    "train.pop(\"target\")\n",
    "X=train"
   ]
  },
  {
   "cell_type": "code",
   "execution_count": 14,
   "id": "1e88b117",
   "metadata": {
    "execution": {
     "iopub.execute_input": "2024-11-30T08:51:38.351694Z",
     "iopub.status.busy": "2024-11-30T08:51:38.351253Z",
     "iopub.status.idle": "2024-11-30T08:51:38.373593Z",
     "shell.execute_reply": "2024-11-30T08:51:38.372365Z"
    },
    "papermill": {
     "duration": 0.032108,
     "end_time": "2024-11-30T08:51:38.376121",
     "exception": false,
     "start_time": "2024-11-30T08:51:38.344013",
     "status": "completed"
    },
    "tags": []
   },
   "outputs": [
    {
     "data": {
      "text/html": [
       "<div>\n",
       "<style scoped>\n",
       "    .dataframe tbody tr th:only-of-type {\n",
       "        vertical-align: middle;\n",
       "    }\n",
       "\n",
       "    .dataframe tbody tr th {\n",
       "        vertical-align: top;\n",
       "    }\n",
       "\n",
       "    .dataframe thead th {\n",
       "        text-align: right;\n",
       "    }\n",
       "</style>\n",
       "<table border=\"1\" class=\"dataframe\">\n",
       "  <thead>\n",
       "    <tr style=\"text-align: right;\">\n",
       "      <th></th>\n",
       "      <th>AF3</th>\n",
       "      <th>F7</th>\n",
       "      <th>F3</th>\n",
       "      <th>FC5</th>\n",
       "      <th>T7</th>\n",
       "      <th>P7</th>\n",
       "      <th>O1</th>\n",
       "      <th>O2</th>\n",
       "      <th>P8</th>\n",
       "      <th>T8</th>\n",
       "      <th>FC6</th>\n",
       "      <th>F4</th>\n",
       "      <th>F8</th>\n",
       "      <th>AF4</th>\n",
       "      <th>id</th>\n",
       "    </tr>\n",
       "  </thead>\n",
       "  <tbody>\n",
       "    <tr>\n",
       "      <th>0</th>\n",
       "      <td>4313.33</td>\n",
       "      <td>4008.72</td>\n",
       "      <td>4261.03</td>\n",
       "      <td>4090.26</td>\n",
       "      <td>4342.56</td>\n",
       "      <td>4626.15</td>\n",
       "      <td>4078.46</td>\n",
       "      <td>4633.85</td>\n",
       "      <td>4237.95</td>\n",
       "      <td>4274.87</td>\n",
       "      <td>4236.41</td>\n",
       "      <td>4304.62</td>\n",
       "      <td>4633.33</td>\n",
       "      <td>4386.67</td>\n",
       "      <td>1</td>\n",
       "    </tr>\n",
       "    <tr>\n",
       "      <th>1</th>\n",
       "      <td>4316.92</td>\n",
       "      <td>4016.92</td>\n",
       "      <td>4262.56</td>\n",
       "      <td>4101.03</td>\n",
       "      <td>4344.62</td>\n",
       "      <td>4632.31</td>\n",
       "      <td>4082.05</td>\n",
       "      <td>4643.08</td>\n",
       "      <td>4248.21</td>\n",
       "      <td>4286.15</td>\n",
       "      <td>4250.26</td>\n",
       "      <td>4311.79</td>\n",
       "      <td>4642.56</td>\n",
       "      <td>4390.77</td>\n",
       "      <td>2</td>\n",
       "    </tr>\n",
       "    <tr>\n",
       "      <th>2</th>\n",
       "      <td>4321.03</td>\n",
       "      <td>4018.46</td>\n",
       "      <td>4262.56</td>\n",
       "      <td>4107.69</td>\n",
       "      <td>4345.13</td>\n",
       "      <td>4639.49</td>\n",
       "      <td>4088.72</td>\n",
       "      <td>4645.64</td>\n",
       "      <td>4251.79</td>\n",
       "      <td>4284.10</td>\n",
       "      <td>4248.21</td>\n",
       "      <td>4312.82</td>\n",
       "      <td>4640.51</td>\n",
       "      <td>4387.69</td>\n",
       "      <td>3</td>\n",
       "    </tr>\n",
       "    <tr>\n",
       "      <th>3</th>\n",
       "      <td>4318.97</td>\n",
       "      <td>4009.23</td>\n",
       "      <td>4265.13</td>\n",
       "      <td>4102.56</td>\n",
       "      <td>4339.49</td>\n",
       "      <td>4637.95</td>\n",
       "      <td>4090.26</td>\n",
       "      <td>4649.23</td>\n",
       "      <td>4255.90</td>\n",
       "      <td>4283.08</td>\n",
       "      <td>4240.00</td>\n",
       "      <td>4311.79</td>\n",
       "      <td>4635.90</td>\n",
       "      <td>4369.23</td>\n",
       "      <td>4</td>\n",
       "    </tr>\n",
       "    <tr>\n",
       "      <th>4</th>\n",
       "      <td>4305.13</td>\n",
       "      <td>3997.95</td>\n",
       "      <td>4265.64</td>\n",
       "      <td>4093.85</td>\n",
       "      <td>4331.79</td>\n",
       "      <td>4635.90</td>\n",
       "      <td>4088.72</td>\n",
       "      <td>4650.26</td>\n",
       "      <td>4252.31</td>\n",
       "      <td>4287.69</td>\n",
       "      <td>4237.44</td>\n",
       "      <td>4308.21</td>\n",
       "      <td>4628.72</td>\n",
       "      <td>4355.38</td>\n",
       "      <td>5</td>\n",
       "    </tr>\n",
       "  </tbody>\n",
       "</table>\n",
       "</div>"
      ],
      "text/plain": [
       "       AF3       F7       F3      FC5       T7       P7       O1       O2  \\\n",
       "0  4313.33  4008.72  4261.03  4090.26  4342.56  4626.15  4078.46  4633.85   \n",
       "1  4316.92  4016.92  4262.56  4101.03  4344.62  4632.31  4082.05  4643.08   \n",
       "2  4321.03  4018.46  4262.56  4107.69  4345.13  4639.49  4088.72  4645.64   \n",
       "3  4318.97  4009.23  4265.13  4102.56  4339.49  4637.95  4090.26  4649.23   \n",
       "4  4305.13  3997.95  4265.64  4093.85  4331.79  4635.90  4088.72  4650.26   \n",
       "\n",
       "        P8       T8      FC6       F4       F8      AF4  id  \n",
       "0  4237.95  4274.87  4236.41  4304.62  4633.33  4386.67   1  \n",
       "1  4248.21  4286.15  4250.26  4311.79  4642.56  4390.77   2  \n",
       "2  4251.79  4284.10  4248.21  4312.82  4640.51  4387.69   3  \n",
       "3  4255.90  4283.08  4240.00  4311.79  4635.90  4369.23   4  \n",
       "4  4252.31  4287.69  4237.44  4308.21  4628.72  4355.38   5  "
      ]
     },
     "execution_count": 14,
     "metadata": {},
     "output_type": "execute_result"
    }
   ],
   "source": [
    "X.head()"
   ]
  },
  {
   "cell_type": "code",
   "execution_count": 15,
   "id": "b379b631",
   "metadata": {
    "execution": {
     "iopub.execute_input": "2024-11-30T08:51:38.390719Z",
     "iopub.status.busy": "2024-11-30T08:51:38.390312Z",
     "iopub.status.idle": "2024-11-30T08:51:38.397756Z",
     "shell.execute_reply": "2024-11-30T08:51:38.396666Z"
    },
    "papermill": {
     "duration": 0.017382,
     "end_time": "2024-11-30T08:51:38.400180",
     "exception": false,
     "start_time": "2024-11-30T08:51:38.382798",
     "status": "completed"
    },
    "tags": []
   },
   "outputs": [
    {
     "data": {
      "text/plain": [
       "Index(['AF3', 'F7', 'F3', 'FC5', 'T7', 'P7', 'O1', 'O2', 'P8', 'T8', 'FC6',\n",
       "       'F4', 'F8', 'AF4', 'id'],\n",
       "      dtype='object')"
      ]
     },
     "execution_count": 15,
     "metadata": {},
     "output_type": "execute_result"
    }
   ],
   "source": [
    "X.columns"
   ]
  },
  {
   "cell_type": "code",
   "execution_count": 16,
   "id": "559cecf5",
   "metadata": {
    "execution": {
     "iopub.execute_input": "2024-11-30T08:51:38.417730Z",
     "iopub.status.busy": "2024-11-30T08:51:38.417275Z",
     "iopub.status.idle": "2024-11-30T08:51:38.425178Z",
     "shell.execute_reply": "2024-11-30T08:51:38.424011Z"
    },
    "papermill": {
     "duration": 0.017933,
     "end_time": "2024-11-30T08:51:38.427512",
     "exception": false,
     "start_time": "2024-11-30T08:51:38.409579",
     "status": "completed"
    },
    "tags": []
   },
   "outputs": [
    {
     "data": {
      "text/plain": [
       "Index(['AF3', 'F7', 'F3', 'FC5', 'T7', 'P7', 'O1', 'O2', 'P8', 'T8', 'FC6',\n",
       "       'F4', 'F8', 'AF4', 'target', 'id'],\n",
       "      dtype='object')"
      ]
     },
     "execution_count": 16,
     "metadata": {},
     "output_type": "execute_result"
    }
   ],
   "source": [
    "test.columns"
   ]
  },
  {
   "cell_type": "code",
   "execution_count": null,
   "id": "1c60c111",
   "metadata": {
    "papermill": {
     "duration": 0.006062,
     "end_time": "2024-11-30T08:51:38.439925",
     "exception": false,
     "start_time": "2024-11-30T08:51:38.433863",
     "status": "completed"
    },
    "tags": []
   },
   "outputs": [],
   "source": []
  },
  {
   "cell_type": "code",
   "execution_count": 17,
   "id": "188db81f",
   "metadata": {
    "execution": {
     "iopub.execute_input": "2024-11-30T08:51:38.454262Z",
     "iopub.status.busy": "2024-11-30T08:51:38.453853Z",
     "iopub.status.idle": "2024-11-30T08:51:38.470420Z",
     "shell.execute_reply": "2024-11-30T08:51:38.468999Z"
    },
    "papermill": {
     "duration": 0.027217,
     "end_time": "2024-11-30T08:51:38.473485",
     "exception": false,
     "start_time": "2024-11-30T08:51:38.446268",
     "status": "completed"
    },
    "tags": []
   },
   "outputs": [],
   "source": [
    "X_transf=sc.fit_transform(X)\n"
   ]
  },
  {
   "cell_type": "code",
   "execution_count": 18,
   "id": "09671078",
   "metadata": {
    "execution": {
     "iopub.execute_input": "2024-11-30T08:51:38.488148Z",
     "iopub.status.busy": "2024-11-30T08:51:38.487725Z",
     "iopub.status.idle": "2024-11-30T08:51:38.497461Z",
     "shell.execute_reply": "2024-11-30T08:51:38.496402Z"
    },
    "papermill": {
     "duration": 0.020228,
     "end_time": "2024-11-30T08:51:38.500107",
     "exception": false,
     "start_time": "2024-11-30T08:51:38.479879",
     "status": "completed"
    },
    "tags": []
   },
   "outputs": [],
   "source": [
    "from sklearn.model_selection import train_test_split\n",
    "\n",
    "xtrain,xtest,ytrain,ytest=train_test_split(X_transf,y,test_size=.2,random_state=0)"
   ]
  },
  {
   "cell_type": "code",
   "execution_count": 19,
   "id": "42aff85a",
   "metadata": {
    "execution": {
     "iopub.execute_input": "2024-11-30T08:51:38.515544Z",
     "iopub.status.busy": "2024-11-30T08:51:38.514455Z",
     "iopub.status.idle": "2024-11-30T08:51:38.520355Z",
     "shell.execute_reply": "2024-11-30T08:51:38.518997Z"
    },
    "papermill": {
     "duration": 0.016459,
     "end_time": "2024-11-30T08:51:38.522777",
     "exception": false,
     "start_time": "2024-11-30T08:51:38.506318",
     "status": "completed"
    },
    "tags": []
   },
   "outputs": [],
   "source": [
    "linear_reg = LinearRegression()\n",
    "svr_reg = SVR(kernel='sigmoid') # You can choose different kernels if needed\n",
    "xgb_reg = XGBRegressor(random_state=42)\n",
    "rf_reg = RandomForestRegressor(random_state=42)"
   ]
  },
  {
   "cell_type": "code",
   "execution_count": 20,
   "id": "90aa95a9",
   "metadata": {
    "execution": {
     "iopub.execute_input": "2024-11-30T08:51:38.538143Z",
     "iopub.status.busy": "2024-11-30T08:51:38.537726Z",
     "iopub.status.idle": "2024-11-30T08:51:42.169359Z",
     "shell.execute_reply": "2024-11-30T08:51:42.167419Z"
    },
    "papermill": {
     "duration": 3.642182,
     "end_time": "2024-11-30T08:51:42.172173",
     "exception": false,
     "start_time": "2024-11-30T08:51:38.529991",
     "status": "completed"
    },
    "tags": []
   },
   "outputs": [
    {
     "name": "stdout",
     "output_type": "stream",
     "text": [
      "CV accuracy: -24.333 +/- 73.929\n"
     ]
    }
   ],
   "source": [
    "scores = cross_val_score(linear_reg,\n",
    "                         X=xtrain,\n",
    "                         y=ytrain,\n",
    "                         cv=10,\n",
    "                         n_jobs=5)\n",
    "print('CV accuracy: %.3f +/- %.3f' % (np.mean(scores),np.std(scores)))"
   ]
  },
  {
   "cell_type": "code",
   "execution_count": 21,
   "id": "dbbebe38",
   "metadata": {
    "execution": {
     "iopub.execute_input": "2024-11-30T08:51:42.187629Z",
     "iopub.status.busy": "2024-11-30T08:51:42.187026Z",
     "iopub.status.idle": "2024-11-30T08:51:43.665459Z",
     "shell.execute_reply": "2024-11-30T08:51:43.663952Z"
    },
    "papermill": {
     "duration": 1.489443,
     "end_time": "2024-11-30T08:51:43.668181",
     "exception": false,
     "start_time": "2024-11-30T08:51:42.178738",
     "status": "completed"
    },
    "tags": []
   },
   "outputs": [
    {
     "name": "stdout",
     "output_type": "stream",
     "text": [
      "CV accuracy: 0.979 +/- 0.006\n"
     ]
    }
   ],
   "source": [
    "scores = cross_val_score(xgb_reg,\n",
    "                         X=xtrain,\n",
    "                         y=ytrain,\n",
    "                         cv=10,\n",
    "                         n_jobs=5)\n",
    "print('CV accuracy: %.3f +/- %.3f' % (np.mean(scores),np.std(scores)))"
   ]
  },
  {
   "cell_type": "code",
   "execution_count": 22,
   "id": "22eb4b54",
   "metadata": {
    "execution": {
     "iopub.execute_input": "2024-11-30T08:51:43.682839Z",
     "iopub.status.busy": "2024-11-30T08:51:43.682392Z",
     "iopub.status.idle": "2024-11-30T08:51:53.854651Z",
     "shell.execute_reply": "2024-11-30T08:51:53.852994Z"
    },
    "papermill": {
     "duration": 10.182727,
     "end_time": "2024-11-30T08:51:53.857272",
     "exception": false,
     "start_time": "2024-11-30T08:51:43.674545",
     "status": "completed"
    },
    "tags": []
   },
   "outputs": [
    {
     "name": "stdout",
     "output_type": "stream",
     "text": [
      "CV accuracy: 0.981 +/- 0.007\n"
     ]
    }
   ],
   "source": [
    "scores = cross_val_score(rf_reg,\n",
    "                         X=xtrain,\n",
    "                         y=ytrain,\n",
    "                         cv=10,\n",
    "                         n_jobs=5)\n",
    "print('CV accuracy: %.3f +/- %.3f' % (np.mean(scores),np.std(scores)))"
   ]
  },
  {
   "cell_type": "code",
   "execution_count": null,
   "id": "03703a98",
   "metadata": {
    "papermill": {
     "duration": 0.00625,
     "end_time": "2024-11-30T08:51:53.870057",
     "exception": false,
     "start_time": "2024-11-30T08:51:53.863807",
     "status": "completed"
    },
    "tags": []
   },
   "outputs": [],
   "source": []
  }
 ],
 "metadata": {
  "kaggle": {
   "accelerator": "none",
   "dataSources": [
    {
     "databundleVersionId": 9398317,
     "datasetId": 5506859,
     "sourceId": 9213019,
     "sourceType": "datasetVersion"
    }
   ],
   "dockerImageVersionId": 30786,
   "isGpuEnabled": false,
   "isInternetEnabled": true,
   "language": "python",
   "sourceType": "notebook"
  },
  "kernelspec": {
   "display_name": "Python 3",
   "language": "python",
   "name": "python3"
  },
  "language_info": {
   "codemirror_mode": {
    "name": "ipython",
    "version": 3
   },
   "file_extension": ".py",
   "mimetype": "text/x-python",
   "name": "python",
   "nbconvert_exporter": "python",
   "pygments_lexer": "ipython3",
   "version": "3.10.14"
  },
  "papermill": {
   "default_parameters": {},
   "duration": 25.505826,
   "end_time": "2024-11-30T08:51:56.497782",
   "environment_variables": {},
   "exception": null,
   "input_path": "__notebook__.ipynb",
   "output_path": "__notebook__.ipynb",
   "parameters": {},
   "start_time": "2024-11-30T08:51:30.991956",
   "version": "2.6.0"
  }
 },
 "nbformat": 4,
 "nbformat_minor": 5
}
