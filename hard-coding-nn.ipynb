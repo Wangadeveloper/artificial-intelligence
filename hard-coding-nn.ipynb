{
 "cells": [
  {
   "attachments": {
    "5165d034-2486-407a-a703-cfa40ba13f2f.png": {
     "image/png": "[encoded data removed]"
    }
   },
   "cell_type": "markdown",
   "id": "4c9b3edc",
   "metadata": {
    "papermill": {
     "duration": 0.003613,
     "end_time": "2025-02-14T07:08:41.938118",
     "exception": false,
     "start_time": "2025-02-14T07:08:41.934505",
     "status": "completed"
    },
    "tags": []
   },
   "source": [
    "# **1 Hard-Coding Networks**\n",
    "\n",
    "1.1 Verify Sort \n",
    "\n",
    "In this problem, you need to find a set of weights and biases for a multilayer perceptron which\n",
    "\n",
    "determines if a list of length 4 is in sorted order. More specifically, you receive four inputs x1, . . . , x4,\n",
    "\n",
    "where xi ∈ R, and the network must output 1 if x1 ≤ x2 ≤ x3 ≤ x4, and 0 otherwise. You will use\n",
    "\n",
    "the following architecture:\n",
    "\n",
    "![image.png](attachment:5165d034-2486-407a-a703-cfa40ba13f2f.png)\n",
    "\n",
    "\n",
    "\n",
    "\n",
    "All of the hidden units and the output unit use a hard threshold activation function:\n",
    "\n",
    "φ(z) = I(z ≥ 0) = \u001a\n",
    "\n",
    "1 if z ≥ 0\n",
    "\n",
    "0 if z < 0\n",
    "\n",
    "Please give a set of weights and biases for the network which correctly implements this function\n",
    "(including cases where some of the inputs are equal).\n",
    "Your answer should include:\n",
    "\n",
    "• A 3 × 4 weight matrix W(1) for the hidden layer\n",
    "\n",
    "• A 3-dimensional vector of biases b\n",
    "\n",
    "(1) for the hidden layer\n",
    "\n",
    "• A 3-dimensional weight vector w(2) for the output layer"
   ]
  },
  {
   "cell_type": "code",
   "execution_count": 1,
   "id": "e8613674",
   "metadata": {
    "execution": {
     "iopub.execute_input": "2025-02-14T07:08:41.945089Z",
     "iopub.status.busy": "2025-02-14T07:08:41.944760Z",
     "iopub.status.idle": "2025-02-14T07:08:56.320121Z",
     "shell.execute_reply": "2025-02-14T07:08:56.319111Z"
    },
    "papermill": {
     "duration": 14.380821,
     "end_time": "2025-02-14T07:08:56.321906",
     "exception": false,
     "start_time": "2025-02-14T07:08:41.941085",
     "status": "completed"
    },
    "tags": []
   },
   "outputs": [],
   "source": [
    "import tensorflow as tf\n",
    "import numpy as np"
   ]
  },
  {
   "cell_type": "code",
   "execution_count": 2,
   "id": "f9bc9ec0",
   "metadata": {
    "execution": {
     "iopub.execute_input": "2025-02-14T07:08:56.329247Z",
     "iopub.status.busy": "2025-02-14T07:08:56.328708Z",
     "iopub.status.idle": "2025-02-14T07:08:56.333097Z",
     "shell.execute_reply": "2025-02-14T07:08:56.331817Z"
    },
    "papermill": {
     "duration": 0.009496,
     "end_time": "2025-02-14T07:08:56.334550",
     "exception": false,
     "start_time": "2025-02-14T07:08:56.325054",
     "status": "completed"
    },
    "tags": []
   },
   "outputs": [],
   "source": [
    "# Defining a custom hard threshold activation function\n",
    "def hard_threshold(z):\n",
    "    return tf.where(z >= 0, 1.0, 0.0)"
   ]
  },
  {
   "cell_type": "code",
   "execution_count": 3,
   "id": "49da14b0",
   "metadata": {
    "execution": {
     "iopub.execute_input": "2025-02-14T07:08:56.341504Z",
     "iopub.status.busy": "2025-02-14T07:08:56.341256Z",
     "iopub.status.idle": "2025-02-14T07:08:56.406496Z",
     "shell.execute_reply": "2025-02-14T07:08:56.405512Z"
    },
    "papermill": {
     "duration": 0.070201,
     "end_time": "2025-02-14T07:08:56.407892",
     "exception": false,
     "start_time": "2025-02-14T07:08:56.337691",
     "status": "completed"
    },
    "tags": []
   },
   "outputs": [],
   "source": [
    "# Defining the Verify Sort network\n",
    "class VerifySortModel(tf.keras.Model):\n",
    "    def __init__(self):\n",
    "        super(VerifySortModel, self).__init__()\n",
    "        self.hidden_layer = tf.keras.layers.Dense(3, activation=\"sigmoid\", use_bias=True)\n",
    "        self.output_layer = tf.keras.layers.Dense(1, activation=\"sigmoid\", use_bias=True)\n",
    "\n",
    "    def call(self, inputs, training=False):\n",
    "        x = self.hidden_layer(inputs)\n",
    "        x = self.output_layer(x)\n",
    "\n",
    "        # During inference, apply hard threshold\n",
    "        if not training:\n",
    "            x = hard_threshold(x)\n",
    "        return x\n",
    "\n"
   ]
  },
  {
   "cell_type": "code",
   "execution_count": 4,
   "id": "f16918fb",
   "metadata": {
    "execution": {
     "iopub.execute_input": "2025-02-14T07:08:56.414837Z",
     "iopub.status.busy": "2025-02-14T07:08:56.414515Z",
     "iopub.status.idle": "2025-02-14T07:08:56.421138Z",
     "shell.execute_reply": "2025-02-14T07:08:56.420389Z"
    },
    "papermill": {
     "duration": 0.011286,
     "end_time": "2025-02-14T07:08:56.422268",
     "exception": false,
     "start_time": "2025-02-14T07:08:56.410982",
     "status": "completed"
    },
    "tags": []
   },
   "outputs": [],
   "source": [
    "# Initialize the model\n",
    "model = VerifySortModel()"
   ]
  },
  {
   "cell_type": "code",
   "execution_count": 5,
   "id": "03b3d01f",
   "metadata": {
    "execution": {
     "iopub.execute_input": "2025-02-14T07:08:56.428848Z",
     "iopub.status.busy": "2025-02-14T07:08:56.428627Z",
     "iopub.status.idle": "2025-02-14T07:08:56.432167Z",
     "shell.execute_reply": "2025-02-14T07:08:56.431228Z"
    },
    "papermill": {
     "duration": 0.008052,
     "end_time": "2025-02-14T07:08:56.433363",
     "exception": false,
     "start_time": "2025-02-14T07:08:56.425311",
     "status": "completed"
    },
    "tags": []
   },
   "outputs": [],
   "source": [
    "# Example input: [1, 2, 3, 4] (Sorted) and [3, 1, 4, 2] (Not Sorted)\n",
    "inputs = np.array([[1, 2, 3, 4], [3, 1, 4, 2]], dtype=np.float32)"
   ]
  },
  {
   "cell_type": "code",
   "execution_count": 6,
   "id": "2c136a09",
   "metadata": {
    "execution": {
     "iopub.execute_input": "2025-02-14T07:08:56.440039Z",
     "iopub.status.busy": "2025-02-14T07:08:56.439724Z",
     "iopub.status.idle": "2025-02-14T07:08:56.590668Z",
     "shell.execute_reply": "2025-02-14T07:08:56.589602Z"
    },
    "papermill": {
     "duration": 0.155773,
     "end_time": "2025-02-14T07:08:56.591984",
     "exception": false,
     "start_time": "2025-02-14T07:08:56.436211",
     "status": "completed"
    },
    "tags": []
   },
   "outputs": [
    {
     "name": "stdout",
     "output_type": "stream",
     "text": [
      "[[1.]\n",
      " [1.]]\n"
     ]
    }
   ],
   "source": [
    "# Get predictions\n",
    "predictions = model(inputs)\n",
    "print(predictions.numpy())  # Expected output: [1, 0] (Sorted → 1, Not Sorted → 0)"
   ]
  },
  {
   "cell_type": "code",
   "execution_count": 7,
   "id": "30cdd0ad",
   "metadata": {
    "execution": {
     "iopub.execute_input": "2025-02-14T07:08:56.599090Z",
     "iopub.status.busy": "2025-02-14T07:08:56.598791Z",
     "iopub.status.idle": "2025-02-14T07:08:56.606996Z",
     "shell.execute_reply": "2025-02-14T07:08:56.606112Z"
    },
    "papermill": {
     "duration": 0.01327,
     "end_time": "2025-02-14T07:08:56.608183",
     "exception": false,
     "start_time": "2025-02-14T07:08:56.594913",
     "status": "completed"
    },
    "tags": []
   },
   "outputs": [
    {
     "name": "stdout",
     "output_type": "stream",
     "text": [
      "Hidden Layer Weights (W1):\n",
      " [[ 0.52816415  0.10128987 -0.671031  ]\n",
      " [-0.6329193   0.31446266  0.9226264 ]\n",
      " [-0.2265274   0.76567745 -0.22588772]\n",
      " [-0.7836958   0.6284671   0.5081475 ]]\n",
      "Hidden Layer Biases (b1):\n",
      " [0. 0. 0.]\n",
      "Output Layer Weights (W2):\n",
      " [[0.21540141]\n",
      " [0.88403666]\n",
      " [0.14090121]]\n",
      "Output Layer Biases (b2):\n",
      " [0.]\n"
     ]
    }
   ],
   "source": [
    "# Get weights and biases\n",
    "hidden_weights, hidden_biases = model.hidden_layer.get_weights()\n",
    "output_weights, output_biases = model.output_layer.get_weights()\n",
    "\n",
    "# Print weights and biases\n",
    "print(\"Hidden Layer Weights (W1):\\n\", hidden_weights)\n",
    "print(\"Hidden Layer Biases (b1):\\n\", hidden_biases)\n",
    "print(\"Output Layer Weights (W2):\\n\", output_weights)\n",
    "print(\"Output Layer Biases (b2):\\n\", output_biases)"
   ]
  },
  {
   "cell_type": "code",
   "execution_count": 8,
   "id": "14418009",
   "metadata": {
    "execution": {
     "iopub.execute_input": "2025-02-14T07:08:56.615278Z",
     "iopub.status.busy": "2025-02-14T07:08:56.614961Z",
     "iopub.status.idle": "2025-02-14T07:08:57.958261Z",
     "shell.execute_reply": "2025-02-14T07:08:57.957186Z"
    },
    "papermill": {
     "duration": 1.348629,
     "end_time": "2025-02-14T07:08:57.959840",
     "exception": false,
     "start_time": "2025-02-14T07:08:56.611211",
     "status": "completed"
    },
    "tags": []
   },
   "outputs": [],
   "source": [
    "def generate_data(num_samples=100000, seq_length=4):\n",
    "    np.random.seed(42)  # Ensure reproducibility\n",
    "    X, y = [], []\n",
    "\n",
    "    half_samples = num_samples // 2  # Ensure a balanced dataset\n",
    "\n",
    "    # Generate sorted sequences (label = 1)\n",
    "    for _ in range(half_samples):\n",
    "        seq = np.sort(np.random.randint(0, 10, size=seq_length))\n",
    "        X.append(seq)\n",
    "        y.append(1)\n",
    "\n",
    "    # Generate unsorted sequences (label = 0)\n",
    "    for _ in range(half_samples):\n",
    "        seq = np.random.randint(0, 10, size=seq_length)\n",
    "        while np.all(seq[:-1] <= seq[1:]):  # Avoid accidentally generating sorted sequences\n",
    "            seq = np.random.randint(0, 10, size=seq_length)\n",
    "        X.append(seq)\n",
    "        y.append(0)\n",
    "\n",
    "    return np.array(X, dtype=np.float32), np.array(y, dtype=np.float32)\n",
    "\n",
    "# Generate the dataset\n",
    "X_train, y_train = generate_data(100000)\n",
    "X_test, y_test = generate_data(40000)\n"
   ]
  },
  {
   "cell_type": "code",
   "execution_count": 9,
   "id": "d3f2e512",
   "metadata": {
    "execution": {
     "iopub.execute_input": "2025-02-14T07:08:57.967022Z",
     "iopub.status.busy": "2025-02-14T07:08:57.966755Z",
     "iopub.status.idle": "2025-02-14T07:08:59.066197Z",
     "shell.execute_reply": "2025-02-14T07:08:59.065132Z"
    },
    "papermill": {
     "duration": 1.105016,
     "end_time": "2025-02-14T07:08:59.068110",
     "exception": false,
     "start_time": "2025-02-14T07:08:57.963094",
     "status": "completed"
    },
    "tags": []
   },
   "outputs": [],
   "source": [
    "from sklearn.utils import shuffle\n",
    "\n",
    "X_train, y_train = shuffle(X_train, y_train, random_state=42)\n",
    "X_test, y_test = shuffle(X_test, y_test, random_state=42)"
   ]
  },
  {
   "cell_type": "code",
   "execution_count": 10,
   "id": "b177934f",
   "metadata": {
    "execution": {
     "iopub.execute_input": "2025-02-14T07:08:59.075609Z",
     "iopub.status.busy": "2025-02-14T07:08:59.075083Z",
     "iopub.status.idle": "2025-02-14T07:08:59.097514Z",
     "shell.execute_reply": "2025-02-14T07:08:59.096417Z"
    },
    "papermill": {
     "duration": 0.027307,
     "end_time": "2025-02-14T07:08:59.098857",
     "exception": false,
     "start_time": "2025-02-14T07:08:59.071550",
     "status": "completed"
    },
    "tags": []
   },
   "outputs": [
    {
     "name": "stdout",
     "output_type": "stream",
     "text": [
      "      0    1    2    3  Label\n",
      "0   6.0  4.0  1.0  2.0    0.0\n",
      "1   8.0  2.0  7.0  1.0    0.0\n",
      "2   0.0  1.0  6.0  7.0    1.0\n",
      "3   2.0  3.0  1.0  6.0    0.0\n",
      "4   4.0  3.0  7.0  6.0    0.0\n",
      "5   1.0  7.0  9.0  8.0    0.0\n",
      "6   4.0  9.0  7.0  3.0    0.0\n",
      "7   0.0  8.0  6.0  5.0    0.0\n",
      "8   9.0  2.0  9.0  5.0    0.0\n",
      "9   4.0  4.0  2.0  2.0    0.0\n",
      "10  0.0  4.0  7.0  8.0    1.0\n",
      "11  1.0  4.0  5.0  8.0    1.0\n",
      "12  1.0  3.0  6.0  9.0    1.0\n",
      "13  3.0  4.0  5.0  5.0    1.0\n",
      "14  2.0  2.0  5.0  7.0    1.0\n",
      "15  6.0  9.0  1.0  3.0    0.0\n",
      "16  0.0  0.0  1.0  8.0    1.0\n",
      "17  0.0  4.0  5.0  6.0    1.0\n",
      "18  3.0  0.0  5.0  2.0    0.0\n",
      "19  2.0  1.0  5.0  4.0    0.0\n",
      "20  0.0  5.0  4.0  5.0    0.0\n",
      "21  2.0  5.0  7.0  9.0    1.0\n",
      "22  4.0  9.0  5.0  4.0    0.0\n",
      "23  0.0  4.0  5.0  7.0    1.0\n",
      "24  0.0  3.0  3.0  7.0    1.0\n",
      "25  0.0  1.0  5.0  5.0    1.0\n",
      "26  1.0  8.0  5.0  9.0    0.0\n",
      "27  5.0  0.0  3.0  1.0    0.0\n",
      "28  4.0  5.0  4.0  5.0    0.0\n",
      "29  0.0  3.0  4.0  8.0    1.0\n",
      "30  7.0  5.0  4.0  0.0    0.0\n",
      "31  3.0  3.0  1.0  2.0    0.0\n",
      "32  3.0  3.0  3.0  7.0    1.0\n",
      "33  3.0  5.0  8.0  8.0    1.0\n",
      "34  1.0  1.0  5.0  5.0    1.0\n",
      "35  3.0  3.0  6.0  9.0    1.0\n",
      "36  1.0  5.0  3.0  2.0    0.0\n",
      "37  0.0  6.0  8.0  9.0    1.0\n",
      "38  8.0  2.0  4.0  2.0    0.0\n",
      "39  4.0  4.0  5.0  6.0    1.0\n",
      "40  6.0  7.0  8.0  9.0    1.0\n",
      "41  9.0  3.0  1.0  3.0    0.0\n",
      "42  1.0  4.0  6.0  9.0    1.0\n",
      "43  1.0  1.0  4.0  9.0    1.0\n",
      "44  3.0  5.0  6.0  7.0    1.0\n",
      "45  7.0  2.0  2.0  9.0    0.0\n",
      "46  5.0  0.0  7.0  3.0    0.0\n",
      "47  7.0  2.0  5.0  4.0    0.0\n",
      "48  1.0  2.0  6.0  7.0    1.0\n",
      "49  4.0  1.0  6.0  4.0    0.0\n"
     ]
    }
   ],
   "source": [
    "import pandas as pd\n",
    "\n",
    "df = pd.DataFrame(X_train[:50])\n",
    "df['Label'] = y_train[:50]\n",
    "print(df)\n"
   ]
  },
  {
   "cell_type": "code",
   "execution_count": 11,
   "id": "b434d329",
   "metadata": {
    "execution": {
     "iopub.execute_input": "2025-02-14T07:08:59.105985Z",
     "iopub.status.busy": "2025-02-14T07:08:59.105711Z",
     "iopub.status.idle": "2025-02-14T07:09:44.294432Z",
     "shell.execute_reply": "2025-02-14T07:09:44.292926Z"
    },
    "papermill": {
     "duration": 45.194127,
     "end_time": "2025-02-14T07:09:44.296130",
     "exception": false,
     "start_time": "2025-02-14T07:08:59.102003",
     "status": "completed"
    },
    "tags": []
   },
   "outputs": [
    {
     "name": "stdout",
     "output_type": "stream",
     "text": [
      "Epoch 1/10\n",
      "\u001b[1m3125/3125\u001b[0m \u001b[32m━━━━━━━━━━━━━━━━━━━━\u001b[0m\u001b[37m\u001b[0m \u001b[1m5s\u001b[0m 1ms/step - accuracy: 0.7258 - loss: 0.5578 - val_accuracy: 0.5000 - val_loss: 7.9712\n",
      "Epoch 2/10\n",
      "\u001b[1m3125/3125\u001b[0m \u001b[32m━━━━━━━━━━━━━━━━━━━━\u001b[0m\u001b[37m\u001b[0m \u001b[1m4s\u001b[0m 1ms/step - accuracy: 0.8794 - loss: 0.2980 - val_accuracy: 0.5000 - val_loss: 7.9712\n",
      "Epoch 3/10\n",
      "\u001b[1m3125/3125\u001b[0m \u001b[32m━━━━━━━━━━━━━━━━━━━━\u001b[0m\u001b[37m\u001b[0m \u001b[1m4s\u001b[0m 1ms/step - accuracy: 0.9076 - loss: 0.2344 - val_accuracy: 0.5000 - val_loss: 7.9712\n",
      "Epoch 4/10\n",
      "\u001b[1m3125/3125\u001b[0m \u001b[32m━━━━━━━━━━━━━━━━━━━━\u001b[0m\u001b[37m\u001b[0m \u001b[1m4s\u001b[0m 1ms/step - accuracy: 0.9228 - loss: 0.2021 - val_accuracy: 0.5000 - val_loss: 7.9712\n",
      "Epoch 5/10\n",
      "\u001b[1m3125/3125\u001b[0m \u001b[32m━━━━━━━━━━━━━━━━━━━━\u001b[0m\u001b[37m\u001b[0m \u001b[1m4s\u001b[0m 1ms/step - accuracy: 0.9374 - loss: 0.1792 - val_accuracy: 0.5000 - val_loss: 7.9712\n",
      "Epoch 6/10\n",
      "\u001b[1m3125/3125\u001b[0m \u001b[32m━━━━━━━━━━━━━━━━━━━━\u001b[0m\u001b[37m\u001b[0m \u001b[1m5s\u001b[0m 1ms/step - accuracy: 0.9506 - loss: 0.1586 - val_accuracy: 0.5000 - val_loss: 7.9712\n",
      "Epoch 7/10\n",
      "\u001b[1m3125/3125\u001b[0m \u001b[32m━━━━━━━━━━━━━━━━━━━━\u001b[0m\u001b[37m\u001b[0m \u001b[1m4s\u001b[0m 1ms/step - accuracy: 0.9619 - loss: 0.1393 - val_accuracy: 0.5000 - val_loss: 7.9712\n",
      "Epoch 8/10\n",
      "\u001b[1m3125/3125\u001b[0m \u001b[32m━━━━━━━━━━━━━━━━━━━━\u001b[0m\u001b[37m\u001b[0m \u001b[1m4s\u001b[0m 1ms/step - accuracy: 0.9725 - loss: 0.1151 - val_accuracy: 0.5000 - val_loss: 7.9712\n",
      "Epoch 9/10\n",
      "\u001b[1m3125/3125\u001b[0m \u001b[32m━━━━━━━━━━━━━━━━━━━━\u001b[0m\u001b[37m\u001b[0m \u001b[1m4s\u001b[0m 1ms/step - accuracy: 0.9809 - loss: 0.0939 - val_accuracy: 0.5000 - val_loss: 7.9712\n",
      "Epoch 10/10\n",
      "\u001b[1m3125/3125\u001b[0m \u001b[32m━━━━━━━━━━━━━━━━━━━━\u001b[0m\u001b[37m\u001b[0m \u001b[1m5s\u001b[0m 1ms/step - accuracy: 0.9883 - loss: 0.0731 - val_accuracy: 0.5000 - val_loss: 7.9712\n"
     ]
    },
    {
     "data": {
      "text/plain": [
       "<keras.src.callbacks.history.History at 0x78faccb79660>"
      ]
     },
     "execution_count": 11,
     "metadata": {},
     "output_type": "execute_result"
    }
   ],
   "source": [
    "# Compile model\n",
    "model.compile(optimizer=\"adam\", loss=\"binary_crossentropy\", metrics=[\"accuracy\"])\n",
    "\n",
    "# Train the model\n",
    "model.fit(X_train, y_train, epochs=10, batch_size=32, validation_data=(X_test, y_test))\n"
   ]
  },
  {
   "cell_type": "code",
   "execution_count": 12,
   "id": "c3d23817",
   "metadata": {
    "execution": {
     "iopub.execute_input": "2025-02-14T07:09:44.356662Z",
     "iopub.status.busy": "2025-02-14T07:09:44.356363Z",
     "iopub.status.idle": "2025-02-14T07:09:44.364853Z",
     "shell.execute_reply": "2025-02-14T07:09:44.363750Z"
    },
    "papermill": {
     "duration": 0.039623,
     "end_time": "2025-02-14T07:09:44.366076",
     "exception": false,
     "start_time": "2025-02-14T07:09:44.326453",
     "status": "completed"
    },
    "tags": []
   },
   "outputs": [
    {
     "name": "stdout",
     "output_type": "stream",
     "text": [
      "[[1.]\n",
      " [1.]]\n"
     ]
    }
   ],
   "source": [
    "test_samples = np.array([[1, 2, 3, 4], [3, 1, 4, 2]], dtype=np.float32)\n",
    "predictions = model(test_samples, training=False)\n",
    "print(predictions.numpy())  # Expected output: ~[1, 0] (after thresholding)\n"
   ]
  },
  {
   "cell_type": "code",
   "execution_count": null,
   "id": "4562f5c2",
   "metadata": {
    "papermill": {
     "duration": 0.028736,
     "end_time": "2025-02-14T07:09:44.423772",
     "exception": false,
     "start_time": "2025-02-14T07:09:44.395036",
     "status": "completed"
    },
    "tags": []
   },
   "outputs": [],
   "source": []
  }
 ],
 "metadata": {
  "kaggle": {
   "accelerator": "none",
   "dataSources": [],
   "dockerImageVersionId": 30886,
   "isGpuEnabled": false,
   "isInternetEnabled": true,
   "language": "python",
   "sourceType": "notebook"
  },
  "kernelspec": {
   "display_name": "Python 3",
   "language": "python",
   "name": "python3"
  },
  "language_info": {
   "codemirror_mode": {
    "name": "ipython",
    "version": 3
   },
   "file_extension": ".py",
   "mimetype": "text/x-python",
   "name": "python",
   "nbconvert_exporter": "python",
   "pygments_lexer": "ipython3",
   "version": "3.10.12"
  },
  "papermill": {
   "default_parameters": {},
   "duration": 66.282933,
   "end_time": "2025-02-14T07:09:46.076103",
   "environment_variables": {},
   "exception": null,
   "input_path": "__notebook__.ipynb",
   "output_path": "__notebook__.ipynb",
   "parameters": {},
   "start_time": "2025-02-14T07:08:39.793170",
   "version": "2.6.0"
  }
 },
 "nbformat": 4,
 "nbformat_minor": 5
}
