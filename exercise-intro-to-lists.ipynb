{
 "cells": [
  {
   "cell_type": "markdown",
   "id": "9694588e",
   "metadata": {
    "papermill": {
     "duration": 0.00596,
     "end_time": "2025-03-06T07:35:43.818767",
     "exception": false,
     "start_time": "2025-03-06T07:35:43.812807",
     "status": "completed"
    },
    "tags": []
   },
   "source": [
    "**This notebook is an exercise in the [Intro to Programming](https://www.kaggle.com/learn/intro-to-programming) course.  You can reference the tutorial at [this link](https://www.kaggle.com/alexisbcook/intro-to-lists).**\n",
    "\n",
    "---\n"
   ]
  },
  {
   "cell_type": "markdown",
   "id": "dd089cbf",
   "metadata": {
    "papermill": {
     "duration": 0.00494,
     "end_time": "2025-03-06T07:35:43.829190",
     "exception": false,
     "start_time": "2025-03-06T07:35:43.824250",
     "status": "completed"
    },
    "tags": []
   },
   "source": [
    "In the tutorial, you learned how to define and modify Python lists.  In this exercise, you will use your new knowledge to solve several problems.\n",
    "\n",
    "# Set up the notebook\n",
    "\n",
    "Run the next code cell without changes to set up the notebook."
   ]
  },
  {
   "cell_type": "code",
   "execution_count": 1,
   "id": "80d20f22",
   "metadata": {
    "execution": {
     "iopub.execute_input": "2025-03-06T07:35:43.841013Z",
     "iopub.status.busy": "2025-03-06T07:35:43.840507Z",
     "iopub.status.idle": "2025-03-06T07:35:44.862947Z",
     "shell.execute_reply": "2025-03-06T07:35:44.861483Z"
    },
    "papermill": {
     "duration": 1.030573,
     "end_time": "2025-03-06T07:35:44.864916",
     "exception": false,
     "start_time": "2025-03-06T07:35:43.834343",
     "status": "completed"
    },
    "tags": []
   },
   "outputs": [
    {
     "name": "stdout",
     "output_type": "stream",
     "text": [
      "Setup complete.\n"
     ]
    }
   ],
   "source": [
    "from learntools.core import binder\n",
    "binder.bind(globals())\n",
    "from learntools.intro_to_programming.ex5 import *\n",
    "print('Setup complete.')"
   ]
  },
  {
   "cell_type": "markdown",
   "id": "bf7b2243",
   "metadata": {
    "papermill": {
     "duration": 0.005144,
     "end_time": "2025-03-06T07:35:44.876273",
     "exception": false,
     "start_time": "2025-03-06T07:35:44.871129",
     "status": "completed"
    },
    "tags": []
   },
   "source": [
    "# Question 1\n",
    "\n",
    "You own a restaurant with five food dishes, organized in the Python list `menu` below.  One day, you decide to:\n",
    "- remove bean soup (`'bean soup'`) from the menu, and\n",
    "- add roasted beet salad (`'roasted beet salad'`) to the menu.\n",
    "\n",
    "Implement this change to the list below.  While completing this task, \n",
    "- do not change the line that creates the `menu` list.  \n",
    "- your answer should use `.remove()` and `.append()`.  "
   ]
  },
  {
   "cell_type": "code",
   "execution_count": 2,
   "id": "dfafcbaa",
   "metadata": {
    "execution": {
     "iopub.execute_input": "2025-03-06T07:35:44.888228Z",
     "iopub.status.busy": "2025-03-06T07:35:44.887698Z",
     "iopub.status.idle": "2025-03-06T07:35:44.896066Z",
     "shell.execute_reply": "2025-03-06T07:35:44.895127Z"
    },
    "papermill": {
     "duration": 0.016109,
     "end_time": "2025-03-06T07:35:44.897625",
     "exception": false,
     "start_time": "2025-03-06T07:35:44.881516",
     "status": "completed"
    },
    "tags": []
   },
   "outputs": [
    {
     "data": {
      "application/javascript": [
       "parent.postMessage({\"jupyterEvent\": \"custom.exercise_interaction\", \"data\": {\"outcomeType\": 1, \"valueTowardsCompletion\": 0.2, \"interactionType\": 1, \"questionType\": 2, \"questionId\": \"1_FoodMenu\", \"learnToolsVersion\": \"0.3.4\", \"failureMessage\": \"\", \"exceptionClass\": \"\", \"trace\": \"\"}}, \"*\")"
      ],
      "text/plain": [
       "<IPython.core.display.Javascript object>"
      ]
     },
     "metadata": {},
     "output_type": "display_data"
    },
    {
     "data": {
      "text/markdown": [
       "<span style=\"color:#33cc33\">Correct</span>"
      ],
      "text/plain": [
       "Correct"
      ]
     },
     "metadata": {},
     "output_type": "display_data"
    }
   ],
   "source": [
    "# Do not change: Initial menu for your restaurant\n",
    "menu = ['stewed meat with onions', 'bean soup', 'risotto with trout and shrimp',\n",
    "       'fish soup with cream and onion', 'gyro']\n",
    "\n",
    "# TODO: remove 'bean soup', and add 'roasted beet salad' to the end of the menu\n",
    "menu.remove(\"bean soup\")\n",
    "menu.append(\"roasted beet salad\")\n",
    "# Do not change: Check your answer\n",
    "q1.check()"
   ]
  },
  {
   "cell_type": "code",
   "execution_count": 3,
   "id": "230db947",
   "metadata": {
    "execution": {
     "iopub.execute_input": "2025-03-06T07:35:44.910548Z",
     "iopub.status.busy": "2025-03-06T07:35:44.910097Z",
     "iopub.status.idle": "2025-03-06T07:35:44.914151Z",
     "shell.execute_reply": "2025-03-06T07:35:44.913155Z"
    },
    "papermill": {
     "duration": 0.012309,
     "end_time": "2025-03-06T07:35:44.915745",
     "exception": false,
     "start_time": "2025-03-06T07:35:44.903436",
     "status": "completed"
    },
    "tags": []
   },
   "outputs": [],
   "source": [
    "# Uncomment to see a hint\n",
    "#q1.hint()\n",
    "\n",
    "# Uncomment to see the solution\n",
    "#q1.solution()"
   ]
  },
  {
   "cell_type": "markdown",
   "id": "18000d45",
   "metadata": {
    "papermill": {
     "duration": 0.005202,
     "end_time": "2025-03-06T07:35:44.926626",
     "exception": false,
     "start_time": "2025-03-06T07:35:44.921424",
     "status": "completed"
    },
    "tags": []
   },
   "source": [
    "# Question 2\n",
    "\n",
    "The list `num_customers` contains the number of customers who came into your restaurant every day over the last month (which lasted thirty days).  Fill in values for each of the following:\n",
    "- `avg_first_seven` - average number of customers who visited in the first seven days\n",
    "- `avg_last_seven` - average number of customers who visited in the last seven days\n",
    "- `max_month` - number of customers on the day that got the most customers in the last month\n",
    "- `min_month` - number of customers on the day that got the least customers in the last month\n",
    "\n",
    "Answer this question by writing code.  For instance, if you have to find the minimum value in a list, use `min()` instead of scanning for the smallest value and directly filling in a number."
   ]
  },
  {
   "cell_type": "code",
   "execution_count": 4,
   "id": "00da4740",
   "metadata": {
    "execution": {
     "iopub.execute_input": "2025-03-06T07:35:44.939107Z",
     "iopub.status.busy": "2025-03-06T07:35:44.938739Z",
     "iopub.status.idle": "2025-03-06T07:35:44.947390Z",
     "shell.execute_reply": "2025-03-06T07:35:44.946431Z"
    },
    "papermill": {
     "duration": 0.016649,
     "end_time": "2025-03-06T07:35:44.949002",
     "exception": false,
     "start_time": "2025-03-06T07:35:44.932353",
     "status": "completed"
    },
    "tags": []
   },
   "outputs": [
    {
     "data": {
      "application/javascript": [
       "parent.postMessage({\"jupyterEvent\": \"custom.exercise_interaction\", \"data\": {\"outcomeType\": 1, \"valueTowardsCompletion\": 0.2, \"interactionType\": 1, \"questionType\": 1, \"questionId\": \"2_NumCustomers\", \"learnToolsVersion\": \"0.3.4\", \"failureMessage\": \"\", \"exceptionClass\": \"\", \"trace\": \"\"}}, \"*\")"
      ],
      "text/plain": [
       "<IPython.core.display.Javascript object>"
      ]
     },
     "metadata": {},
     "output_type": "display_data"
    },
    {
     "data": {
      "text/markdown": [
       "<span style=\"color:#33cc33\">Correct</span>"
      ],
      "text/plain": [
       "Correct"
      ]
     },
     "metadata": {},
     "output_type": "display_data"
    }
   ],
   "source": [
    "# Do not change: Number of customers each day for the last month\n",
    "num_customers = [137, 147, 135, 128, 170, 174, 165, 146, 126, 159,\n",
    "                 141, 148, 132, 147, 168, 153, 170, 161, 148, 152,\n",
    "                 141, 151, 131, 149, 164, 163, 143, 143, 166, 171]\n",
    "\n",
    "# TODO: Fill in values for the variables below\n",
    "avg_first_seven = (sum(num_customers[:7]))/7\n",
    "avg_last_seven = (sum(num_customers[-7:]))/7\n",
    "max_month = max(num_customers)\n",
    "min_month = min(num_customers)\n",
    "\n",
    "# Do not change: Check your answer\n",
    "q2.check()"
   ]
  },
  {
   "cell_type": "code",
   "execution_count": 5,
   "id": "36d9ac79",
   "metadata": {
    "execution": {
     "iopub.execute_input": "2025-03-06T07:35:44.961984Z",
     "iopub.status.busy": "2025-03-06T07:35:44.961624Z",
     "iopub.status.idle": "2025-03-06T07:35:44.969699Z",
     "shell.execute_reply": "2025-03-06T07:35:44.968421Z"
    },
    "papermill": {
     "duration": 0.01644,
     "end_time": "2025-03-06T07:35:44.971379",
     "exception": false,
     "start_time": "2025-03-06T07:35:44.954939",
     "status": "completed"
    },
    "tags": []
   },
   "outputs": [
    {
     "data": {
      "application/javascript": [
       "parent.postMessage({\"jupyterEvent\": \"custom.exercise_interaction\", \"data\": {\"interactionType\": 3, \"questionType\": 1, \"questionId\": \"2_NumCustomers\", \"learnToolsVersion\": \"0.3.4\", \"valueTowardsCompletion\": 0.0, \"failureMessage\": \"\", \"exceptionClass\": \"\", \"trace\": \"\", \"outcomeType\": 4}}, \"*\")"
      ],
      "text/plain": [
       "<IPython.core.display.Javascript object>"
      ]
     },
     "metadata": {},
     "output_type": "display_data"
    },
    {
     "data": {
      "text/markdown": [
       "<span style=\"color:#33cc99\">Solution:</span> \n",
       "```python\n",
       "# Fill in values for the variables below\n",
       "avg_first_seven = sum(num_customers[:7])/7 \n",
       "avg_last_seven = sum(num_customers[-7:])/7\n",
       "max_month = max(num_customers)\n",
       "min_month = min(num_customers)\n",
       "\n",
       "```"
      ],
      "text/plain": [
       "Solution: \n",
       "```python\n",
       "# Fill in values for the variables below\n",
       "avg_first_seven = sum(num_customers[:7])/7 \n",
       "avg_last_seven = sum(num_customers[-7:])/7\n",
       "max_month = max(num_customers)\n",
       "min_month = min(num_customers)\n",
       "\n",
       "```"
      ]
     },
     "metadata": {},
     "output_type": "display_data"
    }
   ],
   "source": [
    "# Uncomment to see a hint\n",
    "#q2.hint()\n",
    "\n",
    "# Uncomment to see the solution\n",
    "q2.solution()"
   ]
  },
  {
   "cell_type": "markdown",
   "id": "1b29f34d",
   "metadata": {
    "papermill": {
     "duration": 0.005768,
     "end_time": "2025-03-06T07:35:44.983313",
     "exception": false,
     "start_time": "2025-03-06T07:35:44.977545",
     "status": "completed"
    },
    "tags": []
   },
   "source": [
    "# Question 3\n",
    "\n",
    "In the tutorial, we gave an example of a Python string with information that was better as a list."
   ]
  },
  {
   "cell_type": "code",
   "execution_count": 6,
   "id": "d4c9b498",
   "metadata": {
    "execution": {
     "iopub.execute_input": "2025-03-06T07:35:44.996783Z",
     "iopub.status.busy": "2025-03-06T07:35:44.996393Z",
     "iopub.status.idle": "2025-03-06T07:35:45.001120Z",
     "shell.execute_reply": "2025-03-06T07:35:44.999723Z"
    },
    "papermill": {
     "duration": 0.013517,
     "end_time": "2025-03-06T07:35:45.002857",
     "exception": false,
     "start_time": "2025-03-06T07:35:44.989340",
     "status": "completed"
    },
    "tags": []
   },
   "outputs": [],
   "source": [
    "flowers = \"pink primrose,hard-leaved pocket orchid,canterbury bells,sweet pea,english marigold,tiger lily,moon orchid,bird of paradise,monkshood,globe thistle\""
   ]
  },
  {
   "cell_type": "markdown",
   "id": "e63fe8ea",
   "metadata": {
    "papermill": {
     "duration": 0.006237,
     "end_time": "2025-03-06T07:35:45.015234",
     "exception": false,
     "start_time": "2025-03-06T07:35:45.008997",
     "status": "completed"
    },
    "tags": []
   },
   "source": [
    "You can actually use Python to quickly turn this string into a list with `.split()`.  In the parentheses, we need to provide the character should be used to mark the end of one list item and the beginning of another, and enclose it in quotation marks.  In this case, that character is a comma."
   ]
  },
  {
   "cell_type": "code",
   "execution_count": 7,
   "id": "82bbd231",
   "metadata": {
    "execution": {
     "iopub.execute_input": "2025-03-06T07:35:45.028405Z",
     "iopub.status.busy": "2025-03-06T07:35:45.027995Z",
     "iopub.status.idle": "2025-03-06T07:35:45.033172Z",
     "shell.execute_reply": "2025-03-06T07:35:45.032095Z"
    },
    "papermill": {
     "duration": 0.013485,
     "end_time": "2025-03-06T07:35:45.034704",
     "exception": false,
     "start_time": "2025-03-06T07:35:45.021219",
     "status": "completed"
    },
    "tags": []
   },
   "outputs": [
    {
     "name": "stdout",
     "output_type": "stream",
     "text": [
      "['pink primrose', 'hard-leaved pocket orchid', 'canterbury bells', 'sweet pea', 'english marigold', 'tiger lily', 'moon orchid', 'bird of paradise', 'monkshood', 'globe thistle']\n"
     ]
    }
   ],
   "source": [
    " print(flowers.split(\",\"))"
   ]
  },
  {
   "cell_type": "markdown",
   "id": "b0bed7f1",
   "metadata": {
    "papermill": {
     "duration": 0.005795,
     "end_time": "2025-03-06T07:35:45.046633",
     "exception": false,
     "start_time": "2025-03-06T07:35:45.040838",
     "status": "completed"
    },
    "tags": []
   },
   "source": [
    "Now it is your turn to try this out!  Create two Python lists:\n",
    "- `letters` should be a Python list where each entry is an uppercase letter of the English alphabet.  For instance, the first two entries should be `\"A\"` and `\"B\"`, and the final two entries should be `\"Y\"` and `\"Z\"`.  Use the string `alphabet` to create this list.\n",
    "- `address` should be a Python list where each row in `address` is a different item in the list.  Currently, each row in `address` is separated by a comma. "
   ]
  },
  {
   "cell_type": "code",
   "execution_count": 8,
   "id": "105fe9a7",
   "metadata": {
    "execution": {
     "iopub.execute_input": "2025-03-06T07:35:45.059830Z",
     "iopub.status.busy": "2025-03-06T07:35:45.059511Z",
     "iopub.status.idle": "2025-03-06T07:35:45.067440Z",
     "shell.execute_reply": "2025-03-06T07:35:45.066491Z"
    },
    "papermill": {
     "duration": 0.016509,
     "end_time": "2025-03-06T07:35:45.069148",
     "exception": false,
     "start_time": "2025-03-06T07:35:45.052639",
     "status": "completed"
    },
    "tags": []
   },
   "outputs": [
    {
     "data": {
      "application/javascript": [
       "parent.postMessage({\"jupyterEvent\": \"custom.exercise_interaction\", \"data\": {\"outcomeType\": 1, \"valueTowardsCompletion\": 0.2, \"interactionType\": 1, \"questionType\": 1, \"questionId\": \"3_SplitString\", \"learnToolsVersion\": \"0.3.4\", \"failureMessage\": \"\", \"exceptionClass\": \"\", \"trace\": \"\"}}, \"*\")"
      ],
      "text/plain": [
       "<IPython.core.display.Javascript object>"
      ]
     },
     "metadata": {},
     "output_type": "display_data"
    },
    {
     "data": {
      "text/markdown": [
       "<span style=\"color:#33cc33\">Correct</span>"
      ],
      "text/plain": [
       "Correct"
      ]
     },
     "metadata": {},
     "output_type": "display_data"
    }
   ],
   "source": [
    "# DO not change: Define two Python strings\n",
    "alphabet = \"A.B.C.D.E.F.G.H.I.J.K.L.M.N.O.P.Q.R.S.T.U.V.W.X.Y.Z\"\n",
    "address = \"Mr. H. Potter,The cupboard under the Stairs,4 Privet Drive,Little Whinging,Surrey\"\n",
    "\n",
    "# TODO: Convert strings into Python lists\n",
    "letters = alphabet.split(\".\")\n",
    "formatted_address = address.split(',')\n",
    "\n",
    "# Do not change: Check your answer\n",
    "q3.check()"
   ]
  },
  {
   "cell_type": "code",
   "execution_count": 9,
   "id": "a1275ef4",
   "metadata": {
    "execution": {
     "iopub.execute_input": "2025-03-06T07:35:45.083178Z",
     "iopub.status.busy": "2025-03-06T07:35:45.082798Z",
     "iopub.status.idle": "2025-03-06T07:35:45.086394Z",
     "shell.execute_reply": "2025-03-06T07:35:45.085445Z"
    },
    "papermill": {
     "duration": 0.012412,
     "end_time": "2025-03-06T07:35:45.087964",
     "exception": false,
     "start_time": "2025-03-06T07:35:45.075552",
     "status": "completed"
    },
    "tags": []
   },
   "outputs": [],
   "source": [
    "# Uncomment to see a hint\n",
    "#q3.hint()\n",
    "\n",
    "# Uncomment to see the solution\n",
    "#q3.solution()"
   ]
  },
  {
   "cell_type": "markdown",
   "id": "c7379af2",
   "metadata": {
    "papermill": {
     "duration": 0.005884,
     "end_time": "2025-03-06T07:35:45.100361",
     "exception": false,
     "start_time": "2025-03-06T07:35:45.094477",
     "status": "completed"
    },
    "tags": []
   },
   "source": [
    "# Question 4\n",
    "\n",
    "In the Python course, you'll learn all about **list comprehensions**, which allow you to create a list based on the values in another list.  In this question, you'll get a brief preview of how they work.\n",
    "\n",
    "Say we're working with the list below."
   ]
  },
  {
   "cell_type": "code",
   "execution_count": 10,
   "id": "f3c599f6",
   "metadata": {
    "execution": {
     "iopub.execute_input": "2025-03-06T07:35:45.114155Z",
     "iopub.status.busy": "2025-03-06T07:35:45.113751Z",
     "iopub.status.idle": "2025-03-06T07:35:45.118519Z",
     "shell.execute_reply": "2025-03-06T07:35:45.117316Z"
    },
    "papermill": {
     "duration": 0.013861,
     "end_time": "2025-03-06T07:35:45.120342",
     "exception": false,
     "start_time": "2025-03-06T07:35:45.106481",
     "status": "completed"
    },
    "tags": []
   },
   "outputs": [],
   "source": [
    "test_ratings = [1, 2, 3, 4, 5]"
   ]
  },
  {
   "cell_type": "markdown",
   "id": "b64c20d8",
   "metadata": {
    "papermill": {
     "duration": 0.006107,
     "end_time": "2025-03-06T07:35:45.132804",
     "exception": false,
     "start_time": "2025-03-06T07:35:45.126697",
     "status": "completed"
    },
    "tags": []
   },
   "source": [
    "Then we can use this list (`test_ratings`) to create a new list (`test_liked`) where each item has been turned into a boolean, depending on whether or not the item is greater than or equal to four."
   ]
  },
  {
   "cell_type": "code",
   "execution_count": 11,
   "id": "bc48489e",
   "metadata": {
    "execution": {
     "iopub.execute_input": "2025-03-06T07:35:45.147528Z",
     "iopub.status.busy": "2025-03-06T07:35:45.147130Z",
     "iopub.status.idle": "2025-03-06T07:35:45.153385Z",
     "shell.execute_reply": "2025-03-06T07:35:45.151769Z"
    },
    "papermill": {
     "duration": 0.016398,
     "end_time": "2025-03-06T07:35:45.155847",
     "exception": false,
     "start_time": "2025-03-06T07:35:45.139449",
     "status": "completed"
    },
    "tags": []
   },
   "outputs": [
    {
     "name": "stdout",
     "output_type": "stream",
     "text": [
      "[False, False, False, True, True]\n"
     ]
    }
   ],
   "source": [
    "test_liked = [i>=4 for i in test_ratings]\n",
    "print(test_liked)"
   ]
  },
  {
   "cell_type": "markdown",
   "id": "915b552e",
   "metadata": {
    "papermill": {
     "duration": 0.006254,
     "end_time": "2025-03-06T07:35:45.169442",
     "exception": false,
     "start_time": "2025-03-06T07:35:45.163188",
     "status": "completed"
    },
    "tags": []
   },
   "source": [
    "In this question, you'll use this list comprehension to define a function `percentage_liked()` that takes one argument as input:\n",
    "- `ratings`: list of ratings that people gave to a movie, where each rating is a number between 1-5, inclusive\n",
    "\n",
    "We say someone liked the movie, if they gave a rating of either 4 or 5.  Your function should return the percentage of people who liked the movie.\n",
    "\n",
    "For instance, if we supply a value of `[1, 2, 3, 4, 5, 4, 5, 1]`, then 50% (4/8) of the people liked the movie, and the function should return `0.5`.\n",
    "\n",
    "Part of the function has already been completed for you.  You need only use `list_liked` to calculate `percentage_liked`."
   ]
  },
  {
   "cell_type": "code",
   "execution_count": 12,
   "id": "5a0e5a3f",
   "metadata": {
    "execution": {
     "iopub.execute_input": "2025-03-06T07:35:45.185159Z",
     "iopub.status.busy": "2025-03-06T07:35:45.184757Z",
     "iopub.status.idle": "2025-03-06T07:35:45.194108Z",
     "shell.execute_reply": "2025-03-06T07:35:45.193111Z"
    },
    "papermill": {
     "duration": 0.02028,
     "end_time": "2025-03-06T07:35:45.196174",
     "exception": false,
     "start_time": "2025-03-06T07:35:45.175894",
     "status": "completed"
    },
    "tags": []
   },
   "outputs": [
    {
     "data": {
      "application/javascript": [
       "parent.postMessage({\"jupyterEvent\": \"custom.exercise_interaction\", \"data\": {\"outcomeType\": 1, \"valueTowardsCompletion\": 0.2, \"interactionType\": 1, \"questionType\": 2, \"questionId\": \"4_PercentageLiked\", \"learnToolsVersion\": \"0.3.4\", \"failureMessage\": \"\", \"exceptionClass\": \"\", \"trace\": \"\"}}, \"*\")"
      ],
      "text/plain": [
       "<IPython.core.display.Javascript object>"
      ]
     },
     "metadata": {},
     "output_type": "display_data"
    },
    {
     "data": {
      "text/markdown": [
       "<span style=\"color:#33cc33\">Correct</span>"
      ],
      "text/plain": [
       "Correct"
      ]
     },
     "metadata": {},
     "output_type": "display_data"
    }
   ],
   "source": [
    "\n",
    "def percentage_liked(ratings):\n",
    "    list_liked = [i >= 4 for i in ratings]\n",
    "    percentage_liked = sum(list_liked)/len(list_liked)\n",
    "    return percentage_liked\n",
    "# Do not change: should return 0.5\n",
    "percentage_liked([1, 2, 3, 4, 5, 4, 5, 1])\n",
    "\n",
    "# Do not change: Check your answer\n",
    "q4.check()"
   ]
  },
  {
   "cell_type": "code",
   "execution_count": 13,
   "id": "3ea582a9",
   "metadata": {
    "execution": {
     "iopub.execute_input": "2025-03-06T07:35:45.211312Z",
     "iopub.status.busy": "2025-03-06T07:35:45.210896Z",
     "iopub.status.idle": "2025-03-06T07:35:45.219657Z",
     "shell.execute_reply": "2025-03-06T07:35:45.218174Z"
    },
    "papermill": {
     "duration": 0.018537,
     "end_time": "2025-03-06T07:35:45.221696",
     "exception": false,
     "start_time": "2025-03-06T07:35:45.203159",
     "status": "completed"
    },
    "tags": []
   },
   "outputs": [
    {
     "data": {
      "application/javascript": [
       "parent.postMessage({\"jupyterEvent\": \"custom.exercise_interaction\", \"data\": {\"interactionType\": 3, \"questionType\": 2, \"questionId\": \"4_PercentageLiked\", \"learnToolsVersion\": \"0.3.4\", \"valueTowardsCompletion\": 0.0, \"failureMessage\": \"\", \"exceptionClass\": \"\", \"trace\": \"\", \"outcomeType\": 4}}, \"*\")"
      ],
      "text/plain": [
       "<IPython.core.display.Javascript object>"
      ]
     },
     "metadata": {},
     "output_type": "display_data"
    },
    {
     "data": {
      "text/markdown": [
       "<span style=\"color:#33cc99\">Solution:</span> \n",
       "```python\n",
       "\n",
       "# Complete the function\n",
       "def percentage_liked(ratings):\n",
       "    list_liked = [i >= 4 for i in ratings]\n",
       "    percentage_liked = sum(list_liked)/len(list_liked)\n",
       "    return percentage_liked\n",
       "\n",
       "```"
      ],
      "text/plain": [
       "Solution: \n",
       "```python\n",
       "\n",
       "# Complete the function\n",
       "def percentage_liked(ratings):\n",
       "    list_liked = [i >= 4 for i in ratings]\n",
       "    percentage_liked = sum(list_liked)/len(list_liked)\n",
       "    return percentage_liked\n",
       "\n",
       "```"
      ]
     },
     "metadata": {},
     "output_type": "display_data"
    }
   ],
   "source": [
    "# Uncomment to see a hint\n",
    "#q4.hint()\n",
    "\n",
    "# Uncomment to see the solution\n",
    "q4.solution()"
   ]
  },
  {
   "cell_type": "markdown",
   "id": "50baa7a7",
   "metadata": {
    "papermill": {
     "duration": 0.007382,
     "end_time": "2025-03-06T07:35:45.236232",
     "exception": false,
     "start_time": "2025-03-06T07:35:45.228850",
     "status": "completed"
    },
    "tags": []
   },
   "source": [
    "# 🌶️ Question 5\n",
    " \n",
    "Say you're doing analytics for a website.  You need to write a function that returns the percentage growth in the total number of users relative to a specified number of years ago.\n",
    "\n",
    "Your function `percentage_growth()` should take two arguments as input:\n",
    "- `num_users` = Python list with the total number of users each year.  So `num_users[0]` is the total number of users in the first year, `num_users[1]` is the total number of users in the second year, and so on.  The final entry in the list gives the total number of users in the most recently completed year.\n",
    "- `yrs_ago` = number of years to go back in time when calculating the growth percentage\n",
    "\n",
    "For instance, say `num_users = [920344, 1043553, 1204334, 1458996, 1503323, 1593432, 1623463, 1843064, 1930992, 2001078]`.\n",
    "- if `yrs_ago = 1`, we want the function to return a value of about `0.036`. This corresponds to a percentage growth of approximately 3.6%, calculated as (2001078 - 1930992)/1930992.\n",
    "- if `years_ago = 7`, we would want to return approximately `0.66`.  This corresponds to a percentage growth of approximately 66%, calculated as (2001078 - 1204334)/1204334.\n",
    "\n",
    "Your coworker sent you a draft of a function, but it doesn't seem to be doing the correct calculation.  Can you figure out what has gone wrong and make the needed changes?"
   ]
  },
  {
   "cell_type": "code",
   "execution_count": 14,
   "id": "b5f132fd",
   "metadata": {
    "execution": {
     "iopub.execute_input": "2025-03-06T07:35:45.252885Z",
     "iopub.status.busy": "2025-03-06T07:35:45.252503Z",
     "iopub.status.idle": "2025-03-06T07:35:45.262970Z",
     "shell.execute_reply": "2025-03-06T07:35:45.261974Z"
    },
    "papermill": {
     "duration": 0.020022,
     "end_time": "2025-03-06T07:35:45.264551",
     "exception": false,
     "start_time": "2025-03-06T07:35:45.244529",
     "status": "completed"
    },
    "tags": []
   },
   "outputs": [
    {
     "name": "stdout",
     "output_type": "stream",
     "text": [
      "0.03629533421163837\n",
      "0.6615639847417742\n"
     ]
    },
    {
     "data": {
      "application/javascript": [
       "parent.postMessage({\"jupyterEvent\": \"custom.exercise_interaction\", \"data\": {\"outcomeType\": 1, \"valueTowardsCompletion\": 0.2, \"interactionType\": 1, \"questionType\": 2, \"questionId\": \"5_WebsiteAnalytics\", \"learnToolsVersion\": \"0.3.4\", \"failureMessage\": \"\", \"exceptionClass\": \"\", \"trace\": \"\"}}, \"*\")"
      ],
      "text/plain": [
       "<IPython.core.display.Javascript object>"
      ]
     },
     "metadata": {},
     "output_type": "display_data"
    },
    {
     "data": {
      "text/markdown": [
       "<span style=\"color:#33cc33\">Correct</span>"
      ],
      "text/plain": [
       "Correct"
      ]
     },
     "metadata": {},
     "output_type": "display_data"
    }
   ],
   "source": [
    "# TODO: Edit the function\n",
    "def percentage_growth(num_users, yrs_ago):\n",
    "    current_value = num_users[len(num_users)-1]\n",
    "    yrs_ago_value = num_users[len(num_users)-yrs_ago-1]\n",
    "    growth = (current_value-yrs_ago_value) / yrs_ago_value\n",
    "    return growth\n",
    "\n",
    "# Do not change: Variable for calculating some test examples\n",
    "num_users_test = [920344, 1043553, 1204334, 1458996, 1503323, 1593432, 1623463, 1843064, 1930992, 2001078]\n",
    "\n",
    "# Do not change: Should return .036\n",
    "print(percentage_growth(num_users_test, 1))\n",
    "\n",
    "# Do not change: Should return 0.66\n",
    "print(percentage_growth(num_users_test, 7))\n",
    "\n",
    "# Do not change: Check your answer\n",
    "q5.check()"
   ]
  },
  {
   "cell_type": "code",
   "execution_count": 15,
   "id": "f64c1708",
   "metadata": {
    "execution": {
     "iopub.execute_input": "2025-03-06T07:35:45.281233Z",
     "iopub.status.busy": "2025-03-06T07:35:45.280643Z",
     "iopub.status.idle": "2025-03-06T07:35:45.285309Z",
     "shell.execute_reply": "2025-03-06T07:35:45.284103Z"
    },
    "papermill": {
     "duration": 0.01473,
     "end_time": "2025-03-06T07:35:45.287202",
     "exception": false,
     "start_time": "2025-03-06T07:35:45.272472",
     "status": "completed"
    },
    "tags": []
   },
   "outputs": [],
   "source": [
    "# Uncomment to see a hint\n",
    "#q5.hint()\n",
    "\n",
    "# Uncomment to see the solution\n",
    "#q5.solution()"
   ]
  },
  {
   "cell_type": "markdown",
   "id": "10843eb4",
   "metadata": {
    "papermill": {
     "duration": 0.008485,
     "end_time": "2025-03-06T07:35:45.302999",
     "exception": false,
     "start_time": "2025-03-06T07:35:45.294514",
     "status": "completed"
    },
    "tags": []
   },
   "source": [
    "# Congratulations!\n",
    "\n",
    "Congratulations for finishing the Intro to Programming course!  You should be proud of your very first steps with learning programming.  As next steps, we recommend taking:\n",
    "- the **[Python course](http://www.kaggle.com/learn/python)**, and \n",
    "- the **[Intro to Machine Learning course](https://www.kaggle.com/learn/intro-to-machine-learning)**."
   ]
  },
  {
   "cell_type": "markdown",
   "id": "979ebdf0",
   "metadata": {
    "papermill": {
     "duration": 0.007404,
     "end_time": "2025-03-06T07:35:45.317445",
     "exception": false,
     "start_time": "2025-03-06T07:35:45.310041",
     "status": "completed"
    },
    "tags": []
   },
   "source": [
    "---\n",
    "\n",
    "\n",
    "\n",
    "\n",
    "*Have questions or comments? Visit the [course discussion forum](https://www.kaggle.com/learn/intro-to-programming/discussion) to chat with other learners.*"
   ]
  }
 ],
 "metadata": {
  "kaggle": {
   "accelerator": "none",
   "dataSources": [],
   "isGpuEnabled": false,
   "isInternetEnabled": false,
   "language": "python",
   "sourceType": "notebook"
  },
  "kernelspec": {
   "display_name": "Python 3",
   "language": "python",
   "name": "python3"
  },
  "language_info": {
   "codemirror_mode": {
    "name": "ipython",
    "version": 3
   },
   "file_extension": ".py",
   "mimetype": "text/x-python",
   "name": "python",
   "nbconvert_exporter": "python",
   "pygments_lexer": "ipython3",
   "version": "3.10.12"
  },
  "papermill": {
   "default_parameters": {},
   "duration": 5.065021,
   "end_time": "2025-03-06T07:35:45.945139",
   "environment_variables": {},
   "exception": null,
   "input_path": "__notebook__.ipynb",
   "output_path": "__notebook__.ipynb",
   "parameters": {},
   "start_time": "2025-03-06T07:35:40.880118",
   "version": "2.6.0"
  }
 },
 "nbformat": 4,
 "nbformat_minor": 5
}
