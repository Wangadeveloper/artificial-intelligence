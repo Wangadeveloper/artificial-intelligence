{
 "cells": [
  {
   "cell_type": "markdown",
   "id": "0cf40bd2",
   "metadata": {
    "papermill": {
     "duration": 0.007462,
     "end_time": "2025-04-08T12:23:14.882829",
     "exception": false,
     "start_time": "2025-04-08T12:23:14.875367",
     "status": "completed"
    },
    "tags": []
   },
   "source": [
    "### **Introduction**\n",
    "\n",
    "In this project, I utilized Google’s Gemini model to develop an intelligent system for financial document analysis and personalized loan advisory, addressing a pressing issue in Kenya’s financial landscape as reported by a kenyan bank analysis report,I know this is not an issue facing this country only its world wide: the **rising rate of non-performing loans**. With more individuals and businesses struggling to repay loans—partly due to economic uncertainty and poor financial planning—there is an urgent need for smarter, data-driven tools that can both inform lending decisions and guide borrowers toward better financial health.\n",
    "\n",
    "To begin, I took advantage of **Gemini’s large context window** to analyze the Kenya Financial Performance Document 2023, published by the Kenya Bureau of Standards (KEBS). This detailed national report contains extensive economic data, including trends that influence lending performance, credit access, and default risk. Processing such a large document in its entirety allowed the model to extract contextually relevant insights—such as sector-specific risks and macroeconomic trends—that are crucial for financial institutions trying to assess lending environments more accurately.\n",
    "\n",
    "To make the system responsive to practical loan advisory needs, I applied **few-shot prompting**. By showing the model a handful of curated examples—such as how to evaluate a borrower’s spending behavior, savings discipline, or debt-to-income ratio:\n",
    "—I was able to shape its outputs to give advice that aligns with real-world lending criteria. This approach helps borrowers receive tailored financial feedback, improving their preparedness and reducing the chances of default.\n",
    "\n",
    "Furthermore, I enhanced user interaction by integrating **function calling**, enabling the model to work with real-world financial data from my M-Pesa statement. For context, M-Pesa is a widely used mobile money service in Kenya that allows people to send money, pay bills, and make purchases directly from their phones. I downloaded my M-Pesa statement, converted it into a CSV, and then imported it into a SQL table. This allowed the model to run natural language queries like “How much did I spend on recurring expenses last month?” or “What is my average transaction amount?”, turning complex financial behavior into digestible insights.\n",
    "\n",
    "By combining these techniques—large-context analysis, few-shot learning, and functional calling —this project contributes a practical solution to the growing challenge of non performning loans. It empowers individuals with AI-driven financial literacy while giving lenders smarter tools to assess creditworthiness and manage risk more proactively."
   ]
  },
  {
   "cell_type": "code",
   "execution_count": 1,
   "id": "81fd2aa4",
   "metadata": {
    "execution": {
     "iopub.execute_input": "2025-04-08T12:23:14.896259Z",
     "iopub.status.busy": "2025-04-08T12:23:14.895825Z",
     "iopub.status.idle": "2025-04-08T12:23:15.954258Z",
     "shell.execute_reply": "2025-04-08T12:23:15.952931Z"
    },
    "papermill": {
     "duration": 1.06713,
     "end_time": "2025-04-08T12:23:15.956113",
     "exception": false,
     "start_time": "2025-04-08T12:23:14.888983",
     "status": "completed"
    },
    "tags": []
   },
   "outputs": [
    {
     "name": "stdout",
     "output_type": "stream",
     "text": [
      "/kaggle/input/statements/ml_ready_features.csv\n",
      "/kaggle/input/statements/merged_mpesa.csv\n",
      "/kaggle/input/economic/Facts-Figures-2024.pdf\n"
     ]
    }
   ],
   "source": [
    "# This Python 3 environment comes with many helpful analytics libraries installed\n",
    "# It is defined by the kaggle/python Docker image: https://github.com/kaggle/docker-python\n",
    "# For example, here's several helpful packages to load\n",
    "\n",
    "import numpy as np # linear algebra\n",
    "import pandas as pd # data processing, CSV file I/O (e.g. pd.read_csv)\n",
    "\n",
    "# Input data files are available in the read-only \"../input/\" directory\n",
    "# For example, running this (by clicking run or pressing Shift+Enter) will list all files under the input directory\n",
    "\n",
    "import os\n",
    "for dirname, _, filenames in os.walk('/kaggle/input'):\n",
    "    for filename in filenames:\n",
    "        print(os.path.join(dirname, filename))\n",
    "\n",
    "# You can write up to 20GB to the current directory (/kaggle/working/) that gets preserved as output when you create a version using \"Save & Run All\" \n",
    "# You can also write temporary files to /kaggle/temp/, but they won't be saved outside of the current session"
   ]
  },
  {
   "cell_type": "code",
   "execution_count": 2,
   "id": "66467719",
   "metadata": {
    "execution": {
     "iopub.execute_input": "2025-04-08T12:23:15.969424Z",
     "iopub.status.busy": "2025-04-08T12:23:15.968874Z",
     "iopub.status.idle": "2025-04-08T12:23:29.814317Z",
     "shell.execute_reply": "2025-04-08T12:23:29.812788Z"
    },
    "papermill": {
     "duration": 13.854494,
     "end_time": "2025-04-08T12:23:29.816550",
     "exception": false,
     "start_time": "2025-04-08T12:23:15.962056",
     "status": "completed"
    },
    "tags": []
   },
   "outputs": [
    {
     "name": "stdout",
     "output_type": "stream",
     "text": [
      "\u001b[2K   \u001b[90m━━━━━━━━━━━━━━━━━━━━━━━━━━━━━━━━━━━━━━━━\u001b[0m \u001b[32m232.6/232.6 kB\u001b[0m \u001b[31m4.8 MB/s\u001b[0m eta \u001b[36m0:00:00\u001b[0m\r\n",
      "\u001b[?25h  Preparing metadata (setup.py) ... \u001b[?25l\u001b[?25hdone\r\n",
      "  Building wheel for srt (setup.py) ... \u001b[?25l\u001b[?25hdone\r\n"
     ]
    }
   ],
   "source": [
    "!pip install -qqqU PyPDF2\n",
    "!pip install -qqqU edge-tts"
   ]
  },
  {
   "cell_type": "code",
   "execution_count": 3,
   "id": "37a676d7",
   "metadata": {
    "execution": {
     "iopub.execute_input": "2025-04-08T12:23:29.830126Z",
     "iopub.status.busy": "2025-04-08T12:23:29.829725Z",
     "iopub.status.idle": "2025-04-08T12:23:33.118523Z",
     "shell.execute_reply": "2025-04-08T12:23:33.117410Z"
    },
    "papermill": {
     "duration": 3.297945,
     "end_time": "2025-04-08T12:23:33.120622",
     "exception": false,
     "start_time": "2025-04-08T12:23:29.822677",
     "status": "completed"
    },
    "tags": []
   },
   "outputs": [],
   "source": [
    "import google.generativeai as genai\n",
    "from google.genai import types\n",
    "import sqlite3\n",
    "import PyPDF2\n",
    "from IPython.display import HTML, Markdown, display"
   ]
  },
  {
   "cell_type": "code",
   "execution_count": 4,
   "id": "c873f3f2",
   "metadata": {
    "execution": {
     "iopub.execute_input": "2025-04-08T12:23:33.134287Z",
     "iopub.status.busy": "2025-04-08T12:23:33.133593Z",
     "iopub.status.idle": "2025-04-08T12:23:33.246804Z",
     "shell.execute_reply": "2025-04-08T12:23:33.245818Z"
    },
    "papermill": {
     "duration": 0.122069,
     "end_time": "2025-04-08T12:23:33.248740",
     "exception": false,
     "start_time": "2025-04-08T12:23:33.126671",
     "status": "completed"
    },
    "tags": []
   },
   "outputs": [],
   "source": [
    "from kaggle_secrets import UserSecretsClient\n",
    "user_secrets = UserSecretsClient()\n",
    "secret_value = user_secrets.get_secret(\"gemini_key\")\n",
    "genai.configure(api_key=secret_value)"
   ]
  },
  {
   "cell_type": "code",
   "execution_count": 5,
   "id": "a9f45146",
   "metadata": {
    "execution": {
     "iopub.execute_input": "2025-04-08T12:23:33.262277Z",
     "iopub.status.busy": "2025-04-08T12:23:33.261928Z",
     "iopub.status.idle": "2025-04-08T12:23:33.266977Z",
     "shell.execute_reply": "2025-04-08T12:23:33.265625Z"
    },
    "papermill": {
     "duration": 0.014096,
     "end_time": "2025-04-08T12:23:33.268862",
     "exception": false,
     "start_time": "2025-04-08T12:23:33.254766",
     "status": "completed"
    },
    "tags": []
   },
   "outputs": [],
   "source": [
    "generation_config = {\n",
    "  \"temperature\": 0.3,\n",
    "  \"top_p\": 0.95,\n",
    "  \"top_k\": 64,\n",
    "  \"max_output_tokens\": 8192,\n",
    "  \"response_mime_type\": \"text/plain\",\n",
    "}\n",
    "\n",
    "model = genai.GenerativeModel(\n",
    "  model_name=\"gemini-1.5-flash\",\n",
    "  generation_config=generation_config,\n",
    ")"
   ]
  },
  {
   "cell_type": "markdown",
   "id": "46b71d9e",
   "metadata": {
    "papermill": {
     "duration": 0.00561,
     "end_time": "2025-04-08T12:23:33.280423",
     "exception": false,
     "start_time": "2025-04-08T12:23:33.274813",
     "status": "completed"
    },
    "tags": []
   },
   "source": [
    "## Gemini’s large context window to analyze the Kenya Financial Performance Document 2023,"
   ]
  },
  {
   "cell_type": "code",
   "execution_count": 6,
   "id": "3d21ccd4",
   "metadata": {
    "execution": {
     "iopub.execute_input": "2025-04-08T12:23:33.293214Z",
     "iopub.status.busy": "2025-04-08T12:23:33.292840Z",
     "iopub.status.idle": "2025-04-08T12:23:33.296946Z",
     "shell.execute_reply": "2025-04-08T12:23:33.295914Z"
    },
    "papermill": {
     "duration": 0.012535,
     "end_time": "2025-04-08T12:23:33.298666",
     "exception": false,
     "start_time": "2025-04-08T12:23:33.286131",
     "status": "completed"
    },
    "tags": []
   },
   "outputs": [],
   "source": [
    "pdf_file='/kaggle/input/economic/Facts-Figures-2024.pdf'"
   ]
  },
  {
   "cell_type": "code",
   "execution_count": 7,
   "id": "06b8f2b2",
   "metadata": {
    "execution": {
     "iopub.execute_input": "2025-04-08T12:23:33.311911Z",
     "iopub.status.busy": "2025-04-08T12:23:33.311405Z",
     "iopub.status.idle": "2025-04-08T12:23:35.144809Z",
     "shell.execute_reply": "2025-04-08T12:23:35.143562Z"
    },
    "papermill": {
     "duration": 1.842108,
     "end_time": "2025-04-08T12:23:35.146802",
     "exception": false,
     "start_time": "2025-04-08T12:23:33.304694",
     "status": "completed"
    },
    "tags": []
   },
   "outputs": [
    {
     "name": "stdout",
     "output_type": "stream",
     "text": [
      "genai.File({\n",
      "    'name': 'files/cvetgetlmx0u',\n",
      "    'display_name': 'Facts-Figures-2024.pdf',\n",
      "    'mime_type': 'application/pdf',\n",
      "    'sha256_hash': 'MmJhYjBjODdhNzBiM2U2YWY1MWNiNDU1YzAzYWNmOTU3YTk2Mjc1NWE4MzliM2NhN2I5NjJjMmRmNjFkY2JmYw==',\n",
      "    'size_bytes': '8257036',\n",
      "    'state': 'ACTIVE',\n",
      "    'uri': 'https://generativelanguage.googleapis.com/v1beta/files/cvetgetlmx0u',\n",
      "    'create_time': '2025-04-08T12:23:34.807092Z',\n",
      "    'expiration_time': '2025-04-10T12:23:34.773310671Z',\n",
      "    'update_time': '2025-04-08T12:23:34.807092Z'})\n"
     ]
    }
   ],
   "source": [
    "my_file = genai.upload_file(pdf_file)\n",
    "file_name = my_file.name\n",
    "myfile = genai.get_file(file_name)\n",
    "\n",
    "print(myfile)"
   ]
  },
  {
   "cell_type": "markdown",
   "id": "d636edfe",
   "metadata": {
    "papermill": {
     "duration": 0.006207,
     "end_time": "2025-04-08T12:23:35.159376",
     "exception": false,
     "start_time": "2025-04-08T12:23:35.153169",
     "status": "completed"
    },
    "tags": []
   },
   "source": [
    "> testing the model on the pdf file"
   ]
  },
  {
   "cell_type": "code",
   "execution_count": 8,
   "id": "4f9bcf49",
   "metadata": {
    "execution": {
     "iopub.execute_input": "2025-04-08T12:23:35.172344Z",
     "iopub.status.busy": "2025-04-08T12:23:35.171970Z",
     "iopub.status.idle": "2025-04-08T12:23:54.347832Z",
     "shell.execute_reply": "2025-04-08T12:23:54.346708Z"
    },
    "papermill": {
     "duration": 19.184399,
     "end_time": "2025-04-08T12:23:54.349686",
     "exception": false,
     "start_time": "2025-04-08T12:23:35.165287",
     "status": "completed"
    },
    "tags": []
   },
   "outputs": [
    {
     "data": {
      "text/markdown": [
       "The document is the Kenya Facts and Figures 2024 publication from the Kenya National Bureau of Statistics (KNBS).  It provides a summary of selected economic and social indicators for the period 2019 to 2023, presented in charts and tables.  The publication covers a wide range of topics including:\n",
       "\n",
       "* **National Accounts:** GDP, income, savings, etc.\n",
       "* **Employment and Earnings:** Wage employment, wages, inflation.\n",
       "* **Government Finance:** Revenue, expenditure, public debt.\n",
       "* **International Trade:** Exports, imports, balance of trade.\n",
       "* **Monetary and Financial Statistics:** Money supply, interest rates.\n",
       "* **Agriculture Sector:** Crop production, prices.\n",
       "* **Energy Sector:** Electricity generation and consumption, petroleum consumption.\n",
       "* **Manufacturing Sector:** Production indices.\n",
       "* **Building and Construction Sector:** Road infrastructure.\n",
       "* **Tourism Sector:** Visitor arrivals.\n",
       "* **Transport Sector:** Passenger and cargo traffic.\n",
       "* **Communication Sector:** Telephone and internet subscriptions.\n",
       "* **Education Sector:** Student enrollment, HELB statistics.\n",
       "* **Health Sector:** Healthcare personnel, health facilities.\n",
       "* **Governance Sector:** Identity cards, passports, crime statistics.\n",
       "* **Social and Economic Inclusion:** Affirmative action funds, social protection.\n",
       "\n",
       "\n",
       "Essentially, it's a statistical overview of key aspects of the Kenyan economy and society during the specified period.  It's intended to provide a concise, readily accessible source of information.\n"
      ],
      "text/plain": [
       "<IPython.core.display.Markdown object>"
      ]
     },
     "execution_count": 8,
     "metadata": {},
     "output_type": "execute_result"
    }
   ],
   "source": [
    "result = model.generate_content(\n",
    "    [myfile, \"\\n\\n\", \"what is the paper provided about?\"]\n",
    ")\n",
    "Markdown(result.text)"
   ]
  },
  {
   "cell_type": "markdown",
   "id": "e2af0850",
   "metadata": {
    "papermill": {
     "duration": 0.00562,
     "end_time": "2025-04-08T12:23:54.362170",
     "exception": false,
     "start_time": "2025-04-08T12:23:54.356550",
     "status": "completed"
    },
    "tags": []
   },
   "source": [
    "## few-shot prompting"
   ]
  },
  {
   "cell_type": "code",
   "execution_count": 9,
   "id": "a573b796",
   "metadata": {
    "execution": {
     "iopub.execute_input": "2025-04-08T12:23:54.375942Z",
     "iopub.status.busy": "2025-04-08T12:23:54.375595Z",
     "iopub.status.idle": "2025-04-08T12:24:16.203360Z",
     "shell.execute_reply": "2025-04-08T12:24:16.202232Z"
    },
    "papermill": {
     "duration": 21.836625,
     "end_time": "2025-04-08T12:24:16.205184",
     "exception": false,
     "start_time": "2025-04-08T12:23:54.368559",
     "status": "completed"
    },
    "tags": []
   },
   "outputs": [
    {
     "data": {
      "text/markdown": [
       "With a monthly income of KES 60,000, you have more flexibility in loan amounts compared to someone with a KES 20,000 income.  However, responsible borrowing remains crucial.\n",
       "\n",
       "**Recommended Loan Amount Range:**\n",
       "\n",
       "Using the 30-40% rule of thumb for loan repayments relative to monthly income, your maximum monthly repayment should be between KES 18,000 and KES 24,000.  The specific loan amount you can afford will depend on the interest rate and loan term.  Use a loan calculator (many are available online) to determine the maximum loan amount that results in a monthly repayment within this range.  Remember to factor in any loan fees.\n",
       "\n",
       "**Investment Recommendations for Your Cattle Brokerage Business:**\n",
       "\n",
       "Since you have an established business, the loan should be used strategically to expand your operations and increase profitability. Here are some options:\n",
       "\n",
       "* **Improved Transportation:** Invest in reliable transportation (a vehicle or upgrading your current one) to efficiently move cattle and reduce transportation costs. This will allow you to handle more transactions.\n",
       "\n",
       "* **Technology and Communication:**  Invest in communication tools (better mobile phone, reliable internet access) and potentially software to manage your inventory, track transactions, and communicate effectively with buyers and sellers.\n",
       "\n",
       "* **Networking and Market Expansion:**  Allocate funds to expand your network of contacts within the cattle industry. This could involve attending industry events, advertising in relevant publications, or building relationships with key players in the market.\n",
       "\n",
       "* **Improved Record Keeping:** Invest in a robust accounting system to accurately track your income and expenses. This will help you manage your finances effectively and make informed decisions.\n",
       "\n",
       "* **Training and Skill Enhancement:** Consider investing in training to improve your negotiation skills, market analysis, and cattle handling techniques.\n",
       "\n",
       "**Important Considerations:**\n",
       "\n",
       "* **Interest Rates:**  Compare loan offers from different lenders in Kenya to secure the most favorable interest rate.\n",
       "* **Loan Fees:** Factor in all associated fees (processing fees, early repayment penalties, etc.) when calculating affordability.\n",
       "* **Repayment Plan:** Develop a realistic repayment plan that aligns with your cash flow.  Consider a shorter loan term to minimize interest payments.\n",
       "* **Emergency Fund:**  Maintain a healthy emergency fund to handle unexpected expenses.\n",
       "* **Business Plan:**  Before applying for a loan, create a detailed business plan outlining how you will use the loan and how it will generate a return on investment.  This will strengthen your loan application.\n",
       "\n",
       "\n",
       "Remember, responsible borrowing is key.  Don't borrow more than you can comfortably repay.  Prioritize investments that will directly improve your business's efficiency and profitability.\n"
      ],
      "text/plain": [
       "<IPython.core.display.Markdown object>"
      ]
     },
     "execution_count": 9,
     "metadata": {},
     "output_type": "execute_result"
    }
   ],
   "source": [
    "few_shot_prompt=\"\"\"\n",
    "The provided document is a statistical report on Kenya, not a financial guide.use it when neccesary to provide tailored \n",
    "advice,for a particular request the advice should look like this :\n",
    "With a monthly income of KES 20,000 and a 12-month repayment period, it's crucial\n",
    "to apply for a loan amount that won't strain your finances. A general rule of thumb is\n",
    "to keep your loan repayments at no more than 30-40% of your monthly income. Let's\n",
    "analyze:\n",
    "Maximum Recommended Loan:\n",
    " Using the 40% rule, your maximum monthly repayment should be KES 8,000 (KES\n",
    "20,000\n",
    " 0.40). To determine the maximum loan amount, you'll need to know the interest rate\n",
    "offered by the lender. Let's assume an interest rate of 15% per annum (this is a\n",
    "common rate, but you should check with lenders for their current rates). You can use\n",
    "a loan calculator (many are available online) to determine the maximum loan amount\n",
    "that results in a monthly repayment of approximately KES 8,000 over 12 months. The\n",
    "actual amount will depend on the specific interest rate and any fees.\n",
    "Conservative Approach:\n",
    " A more conservative approach, especially given the inherent risks in business,\n",
    "would be to limit your monthly repayment to 30% of your income (KES 6,000). This\n",
    "leaves more room for unexpected expenses and ensures you can comfortably meet\n",
    "your obligations. Again, use a loan calculator to determine the corresponding loan\n",
    "amount.\n",
    "Investment Recommendations for Your Teaching Business:\n",
    "Since you're a teacher with an established business, the loan should be used to\n",
    "enhance your teaching capabilities and potentially increase your income. Here are\n",
    "some investment options:\n",
    "Improved Teaching Resources:\n",
    " Invest in high-quality teaching materials, technology (like a projector, interactive\n",
    "whiteboard, or educational software), or a comfortable and well-equipped learning\n",
    "space. This will improve the quality of your teaching and attract more students.\n",
    "Marketing and Advertising:\n",
    " Allocate funds to promote your teaching services. This could involve creating a\n",
    "professional website, running targeted online ads, distributing flyers in your\n",
    "community, or networking with schools and other institutions.\n",
    "Professional Development:\n",
    " Use some of the loan to attend workshops, conferences, or online courses to\n",
    "enhance your teaching skills and knowledge in your specific subject area. This will\n",
    "make you more competitive and attractive to potential students.\n",
    "Expansion of Services:\n",
    " If feasible, consider expanding your services. This could involve offering tutoring\n",
    "services, online courses, or workshops in addition to your regular teaching.\n",
    "Important Considerations:\n",
    "Interest Rates:\n",
    " Shop around and compare loan offers from different lenders in Kenya to find the\n",
    "best interest rate.\n",
    "Loan Fees:\n",
    " Be aware of any associated fees (processing fees, late payment penalties, etc.) and\n",
    "factor them into your calculations.\n",
    "Repayment Plan:\n",
    " Ensure you have a realistic repayment plan that aligns with your income and cash\n",
    "flow.\n",
    "Emergency Fund:\n",
    " Before taking out a loan, ensure you have an emergency fund to cover unexpected\n",
    "expenses. This will protect you if your business experiences a downturn.\n",
    "Before applying for any loan, create a detailed business plan outlining how you will\n",
    "use the loan and how it will generate a return on investment. This will help you secure\n",
    "the loan and ensure its successful utilization. \"\"\"\n",
    "\n",
    "borrowers_request = \"\"\"what amount of loan do you recomend for a person having a cattle brokerage bussiness with a monthly income \n",
    "of ksh.60000 and on an established bussiness\"\"\"\n",
    "\n",
    "\n",
    "result = model.generate_content(\n",
    "    [myfile,few_shot_prompt, \"\\n\\n\", borrowers_request]\n",
    ")\n",
    "Markdown(result.text)"
   ]
  },
  {
   "cell_type": "markdown",
   "id": "ae8680e8",
   "metadata": {
    "papermill": {
     "duration": 0.005762,
     "end_time": "2025-04-08T12:24:16.217431",
     "exception": false,
     "start_time": "2025-04-08T12:24:16.211669",
     "status": "completed"
    },
    "tags": []
   },
   "source": [
    "## function calling"
   ]
  },
  {
   "cell_type": "code",
   "execution_count": 10,
   "id": "980a4a7c",
   "metadata": {
    "execution": {
     "iopub.execute_input": "2025-04-08T12:24:16.231258Z",
     "iopub.status.busy": "2025-04-08T12:24:16.230926Z",
     "iopub.status.idle": "2025-04-08T12:24:16.265774Z",
     "shell.execute_reply": "2025-04-08T12:24:16.264447Z"
    },
    "papermill": {
     "duration": 0.044426,
     "end_time": "2025-04-08T12:24:16.268150",
     "exception": false,
     "start_time": "2025-04-08T12:24:16.223724",
     "status": "completed"
    },
    "tags": []
   },
   "outputs": [],
   "source": [
    "df=pd.read_csv(\"/kaggle/input/statements/merged_mpesa.csv\")\n",
    "df1=pd.read_csv(\"/kaggle/input/statements/ml_ready_features.csv\")"
   ]
  },
  {
   "cell_type": "code",
   "execution_count": 11,
   "id": "05c674de",
   "metadata": {
    "execution": {
     "iopub.execute_input": "2025-04-08T12:24:16.283283Z",
     "iopub.status.busy": "2025-04-08T12:24:16.282917Z",
     "iopub.status.idle": "2025-04-08T12:24:16.353579Z",
     "shell.execute_reply": "2025-04-08T12:24:16.352476Z"
    },
    "papermill": {
     "duration": 0.08,
     "end_time": "2025-04-08T12:24:16.355283",
     "exception": false,
     "start_time": "2025-04-08T12:24:16.275283",
     "status": "completed"
    },
    "tags": []
   },
   "outputs": [
    {
     "data": {
      "text/plain": [
       "4"
      ]
     },
     "execution_count": 11,
     "metadata": {},
     "output_type": "execute_result"
    }
   ],
   "source": [
    "from io import StringIO\n",
    "\n",
    "# Convert DataFrame to SQLite\n",
    "db_file = \"pandas_to_sql.db\"\n",
    "conn = sqlite3.connect(db_file)\n",
    "df.to_sql(\"transuction\", conn, if_exists=\"replace\", index=False)\n",
    "df1.to_sql(\"summary\", conn, if_exists=\"replace\", index=False)"
   ]
  },
  {
   "cell_type": "code",
   "execution_count": 12,
   "id": "d9f8b32a",
   "metadata": {
    "execution": {
     "iopub.execute_input": "2025-04-08T12:24:16.369481Z",
     "iopub.status.busy": "2025-04-08T12:24:16.369087Z",
     "iopub.status.idle": "2025-04-08T12:24:16.377531Z",
     "shell.execute_reply": "2025-04-08T12:24:16.376477Z"
    },
    "papermill": {
     "duration": 0.017677,
     "end_time": "2025-04-08T12:24:16.379502",
     "exception": false,
     "start_time": "2025-04-08T12:24:16.361825",
     "status": "completed"
    },
    "tags": []
   },
   "outputs": [
    {
     "name": "stdout",
     "output_type": "stream",
     "text": [
      " - DB CALL: list_tables()\n"
     ]
    },
    {
     "data": {
      "text/plain": [
       "['transuction', 'summary']"
      ]
     },
     "execution_count": 12,
     "metadata": {},
     "output_type": "execute_result"
    }
   ],
   "source": [
    "def list_tables() -> list[str]:\n",
    "    \"\"\"Retrieve the names of all tables in the database.\"\"\"\n",
    "    # Include print logging statements so you can see when functions are being called.\n",
    "    print(' - DB CALL: list_tables()')\n",
    "\n",
    "    cursor = conn.cursor()\n",
    "\n",
    "    # Fetch the table names.\n",
    "    cursor.execute(\"SELECT name FROM sqlite_master WHERE type='table';\")\n",
    "\n",
    "    tables = cursor.fetchall()\n",
    "    return [t[0] for t in tables]\n",
    "\n",
    "\n",
    "list_tables()"
   ]
  },
  {
   "cell_type": "code",
   "execution_count": 13,
   "id": "43c02293",
   "metadata": {
    "execution": {
     "iopub.execute_input": "2025-04-08T12:24:16.394553Z",
     "iopub.status.busy": "2025-04-08T12:24:16.394160Z",
     "iopub.status.idle": "2025-04-08T12:24:16.399272Z",
     "shell.execute_reply": "2025-04-08T12:24:16.398097Z"
    },
    "papermill": {
     "duration": 0.01473,
     "end_time": "2025-04-08T12:24:16.401189",
     "exception": false,
     "start_time": "2025-04-08T12:24:16.386459",
     "status": "completed"
    },
    "tags": []
   },
   "outputs": [],
   "source": [
    "def execute_query(sql: str) -> list[list[str]]:\n",
    "    \"\"\"Execute an SQL statement, returning the results.\"\"\"\n",
    "    print(f' - DB CALL: execute_query({sql})')\n",
    "\n",
    "    cursor = conn.cursor()\n",
    "\n",
    "    cursor.execute(sql)\n",
    "    return cursor.fetchall()\n"
   ]
  },
  {
   "cell_type": "code",
   "execution_count": 14,
   "id": "90ffbed8",
   "metadata": {
    "execution": {
     "iopub.execute_input": "2025-04-08T12:24:16.415852Z",
     "iopub.status.busy": "2025-04-08T12:24:16.415473Z",
     "iopub.status.idle": "2025-04-08T12:24:16.424451Z",
     "shell.execute_reply": "2025-04-08T12:24:16.423409Z"
    },
    "papermill": {
     "duration": 0.018042,
     "end_time": "2025-04-08T12:24:16.426049",
     "exception": false,
     "start_time": "2025-04-08T12:24:16.408007",
     "status": "completed"
    },
    "tags": []
   },
   "outputs": [
    {
     "name": "stdout",
     "output_type": "stream",
     "text": [
      " - DB CALL: describe_table(transuction)\n"
     ]
    },
    {
     "data": {
      "text/plain": [
       "[('Receipt No.', 'TEXT'),\n",
       " ('Completion Time', 'TEXT'),\n",
       " ('Details', 'TEXT'),\n",
       " ('Transaction Status', 'TEXT'),\n",
       " ('Paid In', 'TEXT'),\n",
       " ('Withdrawn', 'TEXT'),\n",
       " ('Balance', 'TEXT'),\n",
       " ('Unnamed: 2', 'TEXT'),\n",
       " ('Unnamed: 3', 'TEXT'),\n",
       " ('Unnamed: 4', 'TEXT')]"
      ]
     },
     "execution_count": 14,
     "metadata": {},
     "output_type": "execute_result"
    }
   ],
   "source": [
    "def describe_table(table_name: str) -> list[tuple[str, str]]:\n",
    "    \"\"\"Look up the table schema.\n",
    "\n",
    "    Returns:\n",
    "      List of columns, where each entry is a tuple of (column, type).\n",
    "    \"\"\"\n",
    "    print(f' - DB CALL: describe_table({table_name})')\n",
    "\n",
    "    cursor = conn.cursor()\n",
    "\n",
    "    cursor.execute(f\"PRAGMA table_info({table_name});\")\n",
    "\n",
    "    schema = cursor.fetchall()\n",
    "    # [column index, column name, column type, ...]\n",
    "    return [(col[1], col[2]) for col in schema]\n",
    "\n",
    "\n",
    "describe_table(\"transuction\")"
   ]
  },
  {
   "cell_type": "code",
   "execution_count": 15,
   "id": "6b9afc73",
   "metadata": {
    "execution": {
     "iopub.execute_input": "2025-04-08T12:24:16.440744Z",
     "iopub.status.busy": "2025-04-08T12:24:16.440398Z",
     "iopub.status.idle": "2025-04-08T12:24:16.447853Z",
     "shell.execute_reply": "2025-04-08T12:24:16.446711Z"
    },
    "papermill": {
     "duration": 0.016768,
     "end_time": "2025-04-08T12:24:16.449609",
     "exception": false,
     "start_time": "2025-04-08T12:24:16.432841",
     "status": "completed"
    },
    "tags": []
   },
   "outputs": [
    {
     "name": "stdout",
     "output_type": "stream",
     "text": [
      " - DB CALL: describe_table(summary)\n"
     ]
    },
    {
     "data": {
      "text/plain": [
       "[('Month', 'TEXT'),\n",
       " ('Paid In', 'REAL'),\n",
       " ('Withdrawn', 'REAL'),\n",
       " ('Net Amount', 'REAL'),\n",
       " ('Transaction Count', 'INTEGER'),\n",
       " ('Bill Payment', 'INTEGER'),\n",
       " ('Gambling', 'INTEGER'),\n",
       " ('Income', 'INTEGER'),\n",
       " ('Loan Related', 'INTEGER'),\n",
       " ('Other', 'INTEGER'),\n",
       " ('Peer Transfer', 'INTEGER'),\n",
       " ('Utilities', 'INTEGER'),\n",
       " ('Loan Expense Ratio', 'REAL'),\n",
       " ('Bill Expense Ratio', 'REAL')]"
      ]
     },
     "execution_count": 15,
     "metadata": {},
     "output_type": "execute_result"
    }
   ],
   "source": [
    "describe_table(\"summary\")"
   ]
  },
  {
   "cell_type": "code",
   "execution_count": 16,
   "id": "380f2f5d",
   "metadata": {
    "execution": {
     "iopub.execute_input": "2025-04-08T12:24:16.464613Z",
     "iopub.status.busy": "2025-04-08T12:24:16.464101Z",
     "iopub.status.idle": "2025-04-08T12:24:16.545787Z",
     "shell.execute_reply": "2025-04-08T12:24:16.544813Z"
    },
    "papermill": {
     "duration": 0.09123,
     "end_time": "2025-04-08T12:24:16.547590",
     "exception": false,
     "start_time": "2025-04-08T12:24:16.456360",
     "status": "completed"
    },
    "tags": []
   },
   "outputs": [],
   "source": [
    "from google import genai\n",
    "from kaggle_secrets import UserSecretsClient\n",
    "\n",
    "\n",
    "GOOGLE_API_KEY = UserSecretsClient().get_secret(\"GOOGLE_API_KEY\")\n",
    "client = genai.Client(api_key=GOOGLE_API_KEY)\n",
    "# These are the Python functions defined above.\n",
    "db_tools = [list_tables, describe_table, execute_query]\n",
    "\n",
    "instruction = \"\"\"You are a helpful chatbot that can interact with an SQL database\n",
    "for a computer store. You will take the users questions and turn them into SQL\n",
    "queries using the tools available. Once you have the information you need, you will\n",
    "answer the user's question using the data returned.\n",
    "\n",
    "Use list_tables to see what tables are present, describe_table to understand the\n",
    "schema, and execute_query to issue an SQL SELECT query.\"\"\"\n",
    "\n",
    "client = genai.Client(api_key=GOOGLE_API_KEY)\n",
    "\n",
    "# Start a chat with automatic function calling enabled.\n",
    "chat = client.chats.create(\n",
    "    model=\"gemini-2.0-flash\",\n",
    "    config=types.GenerateContentConfig(\n",
    "        system_instruction=instruction,\n",
    "        tools=db_tools,\n",
    "    ),\n",
    ")"
   ]
  },
  {
   "cell_type": "code",
   "execution_count": 17,
   "id": "70e7abd7",
   "metadata": {
    "execution": {
     "iopub.execute_input": "2025-04-08T12:24:16.563563Z",
     "iopub.status.busy": "2025-04-08T12:24:16.563155Z",
     "iopub.status.idle": "2025-04-08T12:24:17.055478Z",
     "shell.execute_reply": "2025-04-08T12:24:17.054373Z"
    },
    "papermill": {
     "duration": 0.502519,
     "end_time": "2025-04-08T12:24:17.057233",
     "exception": false,
     "start_time": "2025-04-08T12:24:16.554714",
     "status": "completed"
    },
    "tags": []
   },
   "outputs": [
    {
     "name": "stdout",
     "output_type": "stream",
     "text": [
      "\n",
      "Could you please provide the table name where the \"Details\" column and transaction information are stored?\n",
      "\n"
     ]
    }
   ],
   "source": [
    "resp = chat.send_message(\"how many transuctions involved moureen on the Details column?\")\n",
    "print(f\"\\n{resp.text}\")"
   ]
  },
  {
   "cell_type": "code",
   "execution_count": 18,
   "id": "1c8f44d1",
   "metadata": {
    "execution": {
     "iopub.execute_input": "2025-04-08T12:24:17.072314Z",
     "iopub.status.busy": "2025-04-08T12:24:17.071936Z",
     "iopub.status.idle": "2025-04-08T12:24:17.517013Z",
     "shell.execute_reply": "2025-04-08T12:24:17.515818Z"
    },
    "papermill": {
     "duration": 0.454471,
     "end_time": "2025-04-08T12:24:17.518671",
     "exception": false,
     "start_time": "2025-04-08T12:24:17.064200",
     "status": "completed"
    },
    "tags": []
   },
   "outputs": [
    {
     "data": {
      "text/markdown": [
       "\n",
       "Could you please specify which tables you would like to see?\n"
      ],
      "text/plain": [
       "<IPython.core.display.Markdown object>"
      ]
     },
     "execution_count": 18,
     "metadata": {},
     "output_type": "execute_result"
    }
   ],
   "source": [
    "resp = chat.send_message(\"can i see them\")\n",
    "Markdown(f\"\\n{resp.text}\")"
   ]
  },
  {
   "cell_type": "code",
   "execution_count": 19,
   "id": "89f31e94",
   "metadata": {
    "execution": {
     "iopub.execute_input": "2025-04-08T12:24:17.534382Z",
     "iopub.status.busy": "2025-04-08T12:24:17.534017Z",
     "iopub.status.idle": "2025-04-08T12:24:18.109160Z",
     "shell.execute_reply": "2025-04-08T12:24:18.108082Z"
    },
    "papermill": {
     "duration": 0.585226,
     "end_time": "2025-04-08T12:24:18.110950",
     "exception": false,
     "start_time": "2025-04-08T12:24:17.525724",
     "status": "completed"
    },
    "tags": []
   },
   "outputs": [
    {
     "data": {
      "text/markdown": [
       "\n",
       "I need to know which table contains the transaction information (dates and amounts) to calculate your total spending per month. Could you please tell me the name of that table?\n"
      ],
      "text/plain": [
       "<IPython.core.display.Markdown object>"
      ]
     },
     "execution_count": 19,
     "metadata": {},
     "output_type": "execute_result"
    }
   ],
   "source": [
    "resp = chat.send_message(\"What was my total spending per month?\")\n",
    "Markdown(f\"\\n{resp.text}\")\n"
   ]
  },
  {
   "cell_type": "markdown",
   "id": "91488b6e",
   "metadata": {
    "papermill": {
     "duration": 0.006656,
     "end_time": "2025-04-08T12:24:18.124752",
     "exception": false,
     "start_time": "2025-04-08T12:24:18.118096",
     "status": "completed"
    },
    "tags": []
   },
   "source": [
    "## conclution\n",
    "\n",
    "Wow!this is great and huge thank you to the google team for the wonderfull course."
   ]
  },
  {
   "cell_type": "code",
   "execution_count": null,
   "id": "0c685202",
   "metadata": {
    "papermill": {
     "duration": 0.006586,
     "end_time": "2025-04-08T12:24:18.138417",
     "exception": false,
     "start_time": "2025-04-08T12:24:18.131831",
     "status": "completed"
    },
    "tags": []
   },
   "outputs": [],
   "source": []
  }
 ],
 "metadata": {
  "kaggle": {
   "accelerator": "none",
   "dataSources": [
    {
     "sourceId": 97258,
     "sourceType": "competition"
    },
    {
     "datasetId": 7055229,
     "sourceId": 11284218,
     "sourceType": "datasetVersion"
    },
    {
     "datasetId": 7055301,
     "sourceId": 11284316,
     "sourceType": "datasetVersion"
    }
   ],
   "dockerImageVersionId": 30918,
   "isGpuEnabled": false,
   "isInternetEnabled": true,
   "language": "python",
   "sourceType": "notebook"
  },
  "kernelspec": {
   "display_name": "Python 3",
   "language": "python",
   "name": "python3"
  },
  "language_info": {
   "codemirror_mode": {
    "name": "ipython",
    "version": 3
   },
   "file_extension": ".py",
   "mimetype": "text/x-python",
   "name": "python",
   "nbconvert_exporter": "python",
   "pygments_lexer": "ipython3",
   "version": "3.10.12"
  },
  "papermill": {
   "default_parameters": {},
   "duration": 69.683666,
   "end_time": "2025-04-08T12:24:21.517613",
   "environment_variables": {},
   "exception": null,
   "input_path": "__notebook__.ipynb",
   "output_path": "__notebook__.ipynb",
   "parameters": {},
   "start_time": "2025-04-08T12:23:11.833947",
   "version": "2.6.0"
  }
 },
 "nbformat": 4,
 "nbformat_minor": 5
}
