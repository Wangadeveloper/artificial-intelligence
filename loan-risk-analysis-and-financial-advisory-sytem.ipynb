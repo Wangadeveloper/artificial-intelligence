{
 "cells": [
  {
   "cell_type": "markdown",
   "id": "2040b494",
   "metadata": {
    "papermill": {
     "duration": 0.006325,
     "end_time": "2025-04-08T13:20:50.428733",
     "exception": false,
     "start_time": "2025-04-08T13:20:50.422408",
     "status": "completed"
    },
    "tags": []
   },
   "source": [
    "### **Introduction**\n",
    "\n",
    "In this project, I utilized Google’s Gemini model to develop an intelligent system for financial document analysis and personalized loan advisory, addressing a pressing issue in Kenya’s financial landscape as reported by a kenyan bank analysis report,I know this is not an issue facing this country only its world wide: the **rising rate of non-performing loans**. With more individuals and businesses struggling to repay loans—partly due to economic uncertainty and poor financial planning—there is an urgent need for smarter, data-driven tools that can both inform lending decisions and guide borrowers toward better financial health.\n",
    "\n",
    "To begin, I took advantage of **Gemini’s large context window** to analyze the Kenya Financial Performance Document 2023, published by the Kenya Bureau of Standards (KEBS). This detailed national report contains extensive economic data, including trends that influence lending performance, credit access, and default risk. Processing such a large document in its entirety allowed the model to extract contextually relevant insights—such as sector-specific risks and macroeconomic trends—that are crucial for financial institutions trying to assess lending environments more accurately.\n",
    "\n",
    "To make the system responsive to practical loan advisory needs, I applied **few-shot prompting**. By showing the model a handful of curated examples—such as how to evaluate a borrower’s spending behavior, savings discipline, or debt-to-income ratio:\n",
    "—I was able to shape its outputs to give advice that aligns with real-world lending criteria. This approach helps borrowers receive tailored financial feedback, improving their preparedness and reducing the chances of default.\n",
    "\n",
    "Furthermore, I enhanced user interaction by integrating **function calling**, enabling the model to work with real-world financial data from my M-Pesa statement. For context, M-Pesa is a widely used mobile money service in Kenya that allows people to send money, pay bills, and make purchases directly from their phones. I downloaded my M-Pesa statement, converted it into a CSV, and then imported it into a SQL table. This allowed the model to run natural language queries like “How much did I spend on recurring expenses last month?” or “What is my average transaction amount?”, turning complex financial behavior into digestible insights.\n",
    "\n",
    "By combining these techniques—large-context analysis, few-shot learning, and functional calling —this project contributes a practical solution to the growing challenge of non performning loans. It empowers individuals with AI-driven financial literacy while giving lenders smarter tools to assess creditworthiness and manage risk more proactively."
   ]
  },
  {
   "cell_type": "code",
   "execution_count": 1,
   "id": "3045206b",
   "metadata": {
    "execution": {
     "iopub.execute_input": "2025-04-08T13:20:50.441468Z",
     "iopub.status.busy": "2025-04-08T13:20:50.441123Z",
     "iopub.status.idle": "2025-04-08T13:20:51.233424Z",
     "shell.execute_reply": "2025-04-08T13:20:51.231936Z"
    },
    "papermill": {
     "duration": 0.80055,
     "end_time": "2025-04-08T13:20:51.235103",
     "exception": false,
     "start_time": "2025-04-08T13:20:50.434553",
     "status": "completed"
    },
    "tags": []
   },
   "outputs": [
    {
     "name": "stdout",
     "output_type": "stream",
     "text": [
      "/kaggle/input/economic/Facts-Figures-2024.pdf\n",
      "/kaggle/input/statements/ml_ready_features.csv\n",
      "/kaggle/input/statements/merged_mpesa.csv\n"
     ]
    }
   ],
   "source": [
    "# This Python 3 environment comes with many helpful analytics libraries installed\n",
    "# It is defined by the kaggle/python Docker image: https://github.com/kaggle/docker-python\n",
    "# For example, here's several helpful packages to load\n",
    "\n",
    "import numpy as np # linear algebra\n",
    "import pandas as pd # data processing, CSV file I/O (e.g. pd.read_csv)\n",
    "\n",
    "# Input data files are available in the read-only \"../input/\" directory\n",
    "# For example, running this (by clicking run or pressing Shift+Enter) will list all files under the input directory\n",
    "\n",
    "import os\n",
    "for dirname, _, filenames in os.walk('/kaggle/input'):\n",
    "    for filename in filenames:\n",
    "        print(os.path.join(dirname, filename))\n",
    "\n",
    "# You can write up to 20GB to the current directory (/kaggle/working/) that gets preserved as output when you create a version using \"Save & Run All\" \n",
    "# You can also write temporary files to /kaggle/temp/, but they won't be saved outside of the current session"
   ]
  },
  {
   "cell_type": "code",
   "execution_count": 2,
   "id": "bf51063c",
   "metadata": {
    "execution": {
     "iopub.execute_input": "2025-04-08T13:20:51.248594Z",
     "iopub.status.busy": "2025-04-08T13:20:51.248103Z",
     "iopub.status.idle": "2025-04-08T13:21:04.272104Z",
     "shell.execute_reply": "2025-04-08T13:21:04.270597Z"
    },
    "papermill": {
     "duration": 13.03286,
     "end_time": "2025-04-08T13:21:04.274080",
     "exception": false,
     "start_time": "2025-04-08T13:20:51.241220",
     "status": "completed"
    },
    "tags": []
   },
   "outputs": [
    {
     "name": "stdout",
     "output_type": "stream",
     "text": [
      "\u001b[2K   \u001b[90m━━━━━━━━━━━━━━━━━━━━━━━━━━━━━━━━━━━━━━━━\u001b[0m \u001b[32m232.6/232.6 kB\u001b[0m \u001b[31m8.8 MB/s\u001b[0m eta \u001b[36m0:00:00\u001b[0m\r\n",
      "\u001b[?25h  Preparing metadata (setup.py) ... \u001b[?25l\u001b[?25hdone\r\n",
      "  Building wheel for srt (setup.py) ... \u001b[?25l\u001b[?25hdone\r\n"
     ]
    }
   ],
   "source": [
    "!pip install -qqqU PyPDF2\n",
    "!pip install -qqqU edge-tts"
   ]
  },
  {
   "cell_type": "code",
   "execution_count": 3,
   "id": "a52ec0fb",
   "metadata": {
    "execution": {
     "iopub.execute_input": "2025-04-08T13:21:04.287830Z",
     "iopub.status.busy": "2025-04-08T13:21:04.287447Z",
     "iopub.status.idle": "2025-04-08T13:21:07.297907Z",
     "shell.execute_reply": "2025-04-08T13:21:07.296999Z"
    },
    "papermill": {
     "duration": 3.019429,
     "end_time": "2025-04-08T13:21:07.299699",
     "exception": false,
     "start_time": "2025-04-08T13:21:04.280270",
     "status": "completed"
    },
    "tags": []
   },
   "outputs": [],
   "source": [
    "import google.generativeai as genai\n",
    "from google.genai import types\n",
    "import sqlite3\n",
    "import PyPDF2\n",
    "from IPython.display import HTML, Markdown, display"
   ]
  },
  {
   "cell_type": "code",
   "execution_count": 4,
   "id": "5e07b732",
   "metadata": {
    "execution": {
     "iopub.execute_input": "2025-04-08T13:21:07.313545Z",
     "iopub.status.busy": "2025-04-08T13:21:07.312923Z",
     "iopub.status.idle": "2025-04-08T13:21:07.487917Z",
     "shell.execute_reply": "2025-04-08T13:21:07.486827Z"
    },
    "papermill": {
     "duration": 0.183908,
     "end_time": "2025-04-08T13:21:07.489877",
     "exception": false,
     "start_time": "2025-04-08T13:21:07.305969",
     "status": "completed"
    },
    "tags": []
   },
   "outputs": [],
   "source": [
    "from kaggle_secrets import UserSecretsClient\n",
    "user_secrets = UserSecretsClient()\n",
    "secret_value = user_secrets.get_secret(\"gemini_key\")\n",
    "genai.configure(api_key=secret_value)"
   ]
  },
  {
   "cell_type": "code",
   "execution_count": 5,
   "id": "c044b0ac",
   "metadata": {
    "execution": {
     "iopub.execute_input": "2025-04-08T13:21:07.503646Z",
     "iopub.status.busy": "2025-04-08T13:21:07.503314Z",
     "iopub.status.idle": "2025-04-08T13:21:07.507820Z",
     "shell.execute_reply": "2025-04-08T13:21:07.506857Z"
    },
    "papermill": {
     "duration": 0.013114,
     "end_time": "2025-04-08T13:21:07.509479",
     "exception": false,
     "start_time": "2025-04-08T13:21:07.496365",
     "status": "completed"
    },
    "tags": []
   },
   "outputs": [],
   "source": [
    "generation_config = {\n",
    "  \"temperature\": 0.3,\n",
    "  \"top_p\": 0.95,\n",
    "  \"top_k\": 64,\n",
    "  \"max_output_tokens\": 8192,\n",
    "  \"response_mime_type\": \"text/plain\",\n",
    "}\n",
    "\n",
    "model = genai.GenerativeModel(\n",
    "  model_name=\"gemini-1.5-flash\",\n",
    "  generation_config=generation_config,\n",
    ")"
   ]
  },
  {
   "cell_type": "markdown",
   "id": "d5c15e87",
   "metadata": {
    "papermill": {
     "duration": 0.005854,
     "end_time": "2025-04-08T13:21:07.521600",
     "exception": false,
     "start_time": "2025-04-08T13:21:07.515746",
     "status": "completed"
    },
    "tags": []
   },
   "source": [
    "## Gemini’s large context window to analyze the Kenya Financial Performance Document 2023,"
   ]
  },
  {
   "cell_type": "code",
   "execution_count": 6,
   "id": "f2fefba4",
   "metadata": {
    "execution": {
     "iopub.execute_input": "2025-04-08T13:21:07.534821Z",
     "iopub.status.busy": "2025-04-08T13:21:07.534477Z",
     "iopub.status.idle": "2025-04-08T13:21:07.538581Z",
     "shell.execute_reply": "2025-04-08T13:21:07.537555Z"
    },
    "papermill": {
     "duration": 0.012646,
     "end_time": "2025-04-08T13:21:07.540250",
     "exception": false,
     "start_time": "2025-04-08T13:21:07.527604",
     "status": "completed"
    },
    "tags": []
   },
   "outputs": [],
   "source": [
    "pdf_file='/kaggle/input/economic/Facts-Figures-2024.pdf'"
   ]
  },
  {
   "cell_type": "code",
   "execution_count": 7,
   "id": "af647ece",
   "metadata": {
    "execution": {
     "iopub.execute_input": "2025-04-08T13:21:07.553761Z",
     "iopub.status.busy": "2025-04-08T13:21:07.553445Z",
     "iopub.status.idle": "2025-04-08T13:21:09.484863Z",
     "shell.execute_reply": "2025-04-08T13:21:09.483590Z"
    },
    "papermill": {
     "duration": 1.940064,
     "end_time": "2025-04-08T13:21:09.486605",
     "exception": false,
     "start_time": "2025-04-08T13:21:07.546541",
     "status": "completed"
    },
    "tags": []
   },
   "outputs": [
    {
     "name": "stdout",
     "output_type": "stream",
     "text": [
      "genai.File({\n",
      "    'name': 'files/ccshom5lw93f',\n",
      "    'display_name': 'Facts-Figures-2024.pdf',\n",
      "    'mime_type': 'application/pdf',\n",
      "    'sha256_hash': 'MmJhYjBjODdhNzBiM2U2YWY1MWNiNDU1YzAzYWNmOTU3YTk2Mjc1NWE4MzliM2NhN2I5NjJjMmRmNjFkY2JmYw==',\n",
      "    'size_bytes': '8257036',\n",
      "    'state': 'ACTIVE',\n",
      "    'uri': 'https://generativelanguage.googleapis.com/v1beta/files/ccshom5lw93f',\n",
      "    'create_time': '2025-04-08T13:21:08.947744Z',\n",
      "    'expiration_time': '2025-04-10T13:21:08.893386321Z',\n",
      "    'update_time': '2025-04-08T13:21:08.947744Z'})\n"
     ]
    }
   ],
   "source": [
    "my_file = genai.upload_file(pdf_file)\n",
    "file_name = my_file.name\n",
    "myfile = genai.get_file(file_name)\n",
    "\n",
    "print(myfile)"
   ]
  },
  {
   "cell_type": "markdown",
   "id": "af3dc60b",
   "metadata": {
    "papermill": {
     "duration": 0.006472,
     "end_time": "2025-04-08T13:21:09.499462",
     "exception": false,
     "start_time": "2025-04-08T13:21:09.492990",
     "status": "completed"
    },
    "tags": []
   },
   "source": [
    "> testing the model on the pdf file"
   ]
  },
  {
   "cell_type": "code",
   "execution_count": 8,
   "id": "d4b3b201",
   "metadata": {
    "execution": {
     "iopub.execute_input": "2025-04-08T13:21:09.513005Z",
     "iopub.status.busy": "2025-04-08T13:21:09.512675Z",
     "iopub.status.idle": "2025-04-08T13:21:30.503403Z",
     "shell.execute_reply": "2025-04-08T13:21:30.502319Z"
    },
    "papermill": {
     "duration": 20.999602,
     "end_time": "2025-04-08T13:21:30.505315",
     "exception": false,
     "start_time": "2025-04-08T13:21:09.505713",
     "status": "completed"
    },
    "tags": []
   },
   "outputs": [
    {
     "data": {
      "text/markdown": [
       "The document is the Kenya Facts and Figures 2024 publication from the Kenya National Bureau of Statistics (KNBS).  It provides a summary of selected economic and social indicators for the period 2019 to 2023, presented in charts and tables.  The publication covers a wide range of topics including:\n",
       "\n",
       "* **National Accounts:** GDP, income, savings, and economic activity by sector.\n",
       "* **Employment and Earnings:** Wage employment, wage payments, and inflation.\n",
       "* **Monetary and Financial Statistics:** Money supply, interest rates, and financial sector data.\n",
       "* **Government Finance:** Revenue, expenditure, and public debt.\n",
       "* **International Trade:** Exports, imports, and balance of trade.\n",
       "* **Agriculture Sector:** Production of key crops.\n",
       "* **Energy Sector:** Electricity generation and consumption, petroleum consumption.\n",
       "* **Manufacturing Sector:** Manufacturing output.\n",
       "* **Building and Construction Sector:** Road infrastructure.\n",
       "* **Tourism Sector:** Visitor arrivals.\n",
       "* **Transport Sector:** Passenger and cargo traffic.\n",
       "* **Communication Sector:** Telephone and internet subscriptions.\n",
       "* **Education Sector:** Student enrollment and budgets.\n",
       "* **Health Sector:** Healthcare personnel and facilities.\n",
       "* **Governance Sector:** Identity card applications, passports issued, and crime statistics.\n",
       "* **Social and Economic Inclusion:** Beneficiaries of affirmative action funds and social protection programs.\n",
       "\n",
       "\n",
       "Essentially, it's a statistical overview of key aspects of Kenya's economy and society during the specified period.  It's meant to be a concise reference, with more detailed information available in the full Economic Survey 2024 Report.\n"
      ],
      "text/plain": [
       "<IPython.core.display.Markdown object>"
      ]
     },
     "execution_count": 8,
     "metadata": {},
     "output_type": "execute_result"
    }
   ],
   "source": [
    "result = model.generate_content(\n",
    "    [myfile, \"\\n\\n\", \"what is the paper provided about?\"]\n",
    ")\n",
    "Markdown(result.text)"
   ]
  },
  {
   "cell_type": "markdown",
   "id": "79efded4",
   "metadata": {
    "papermill": {
     "duration": 0.006214,
     "end_time": "2025-04-08T13:21:30.518395",
     "exception": false,
     "start_time": "2025-04-08T13:21:30.512181",
     "status": "completed"
    },
    "tags": []
   },
   "source": [
    "## few-shot prompting"
   ]
  },
  {
   "cell_type": "code",
   "execution_count": 9,
   "id": "a76f7a51",
   "metadata": {
    "execution": {
     "iopub.execute_input": "2025-04-08T13:21:30.532527Z",
     "iopub.status.busy": "2025-04-08T13:21:30.532182Z",
     "iopub.status.idle": "2025-04-08T13:21:52.692401Z",
     "shell.execute_reply": "2025-04-08T13:21:52.691370Z"
    },
    "papermill": {
     "duration": 22.16943,
     "end_time": "2025-04-08T13:21:52.693995",
     "exception": false,
     "start_time": "2025-04-08T13:21:30.524565",
     "status": "completed"
    },
    "tags": []
   },
   "outputs": [
    {
     "data": {
      "text/markdown": [
       "With a monthly income of KES 60,000, you have more flexibility in loan amounts compared to someone with a KES 20,000 income.  However, responsible borrowing remains crucial.\n",
       "\n",
       "**Recommended Loan Amount Range:**\n",
       "\n",
       "Using the 30-40% rule of thumb for loan repayments relative to monthly income, your maximum monthly repayment should be between KES 18,000 and KES 24,000.  The exact loan amount you can afford will depend on the interest rate and loan term.  Use an online loan calculator to determine the maximum loan amount given different interest rates and repayment periods.\n",
       "\n",
       "**Investment Recommendations for Your Cattle Brokerage Business:**\n",
       "\n",
       "Since you have an established cattle brokerage business, a loan should be used to expand your operations and potentially increase your income. Here are some investment options:\n",
       "\n",
       "* **Improved Transportation:** Invest in reliable transportation (a vehicle or upgrading your current one) to efficiently move cattle and reduce transportation costs. This will allow you to handle more transactions and potentially increase your profit margins.\n",
       "\n",
       "* **Technology and Communication:** Invest in communication tools (a better phone, reliable internet access) and potentially software to manage your cattle listings, track transactions, and communicate with buyers and sellers more efficiently.\n",
       "\n",
       "* **Networking and Market Expansion:** Use some of the loan to attend livestock shows, trade fairs, or agricultural events to network with potential clients and expand your market reach.\n",
       "\n",
       "* **Improved Record Keeping:** Invest in better record-keeping systems (software or hiring an assistant) to track your transactions, inventory, and client information. This will improve your business's efficiency and professionalism.\n",
       "\n",
       "* **Training and Skill Enhancement:** Consider investing in training courses or workshops to improve your knowledge of cattle breeds, market trends, and negotiation skills.\n",
       "\n",
       "**Important Considerations:**\n",
       "\n",
       "* **Interest Rates:**  Compare loan offers from different lenders in Kenya to secure the lowest interest rate possible.\n",
       "\n",
       "* **Loan Fees:** Factor in any associated fees (processing fees, early repayment penalties, etc.) when calculating your affordability.\n",
       "\n",
       "* **Repayment Plan:** Create a realistic repayment plan that aligns with your cash flow.  Consider a shorter repayment period to minimize interest paid.\n",
       "\n",
       "* **Emergency Fund:** Maintain a healthy emergency fund to cover unexpected expenses.\n",
       "\n",
       "* **Business Plan:** Before applying, create a detailed business plan outlining how you'll use the loan and how it will generate a return on investment.  This will strengthen your loan application.\n",
       "\n",
       "\n",
       "Remember, the specific loan amount you should seek depends on your individual circumstances and risk tolerance.  The suggestions above provide a framework for making an informed decision.  Always consult with a financial advisor for personalized guidance.\n"
      ],
      "text/plain": [
       "<IPython.core.display.Markdown object>"
      ]
     },
     "execution_count": 9,
     "metadata": {},
     "output_type": "execute_result"
    }
   ],
   "source": [
    "few_shot_prompt=\"\"\"\n",
    "The provided document is a statistical report on Kenya, not a financial guide.use it when neccesary to provide tailored \n",
    "advice,for a particular request the advice should look like this :\n",
    "With a monthly income of KES 20,000 and a 12-month repayment period, it's crucial\n",
    "to apply for a loan amount that won't strain your finances. A general rule of thumb is\n",
    "to keep your loan repayments at no more than 30-40% of your monthly income. Let's\n",
    "analyze:\n",
    "Maximum Recommended Loan:\n",
    " Using the 40% rule, your maximum monthly repayment should be KES 8,000 (KES\n",
    "20,000\n",
    " 0.40). To determine the maximum loan amount, you'll need to know the interest rate\n",
    "offered by the lender. Let's assume an interest rate of 15% per annum (this is a\n",
    "common rate, but you should check with lenders for their current rates). You can use\n",
    "a loan calculator (many are available online) to determine the maximum loan amount\n",
    "that results in a monthly repayment of approximately KES 8,000 over 12 months. The\n",
    "actual amount will depend on the specific interest rate and any fees.\n",
    "Conservative Approach:\n",
    " A more conservative approach, especially given the inherent risks in business,\n",
    "would be to limit your monthly repayment to 30% of your income (KES 6,000). This\n",
    "leaves more room for unexpected expenses and ensures you can comfortably meet\n",
    "your obligations. Again, use a loan calculator to determine the corresponding loan\n",
    "amount.\n",
    "Investment Recommendations for Your Teaching Business:\n",
    "Since you're a teacher with an established business, the loan should be used to\n",
    "enhance your teaching capabilities and potentially increase your income. Here are\n",
    "some investment options:\n",
    "Improved Teaching Resources:\n",
    " Invest in high-quality teaching materials, technology (like a projector, interactive\n",
    "whiteboard, or educational software), or a comfortable and well-equipped learning\n",
    "space. This will improve the quality of your teaching and attract more students.\n",
    "Marketing and Advertising:\n",
    " Allocate funds to promote your teaching services. This could involve creating a\n",
    "professional website, running targeted online ads, distributing flyers in your\n",
    "community, or networking with schools and other institutions.\n",
    "Professional Development:\n",
    " Use some of the loan to attend workshops, conferences, or online courses to\n",
    "enhance your teaching skills and knowledge in your specific subject area. This will\n",
    "make you more competitive and attractive to potential students.\n",
    "Expansion of Services:\n",
    " If feasible, consider expanding your services. This could involve offering tutoring\n",
    "services, online courses, or workshops in addition to your regular teaching.\n",
    "Important Considerations:\n",
    "Interest Rates:\n",
    " Shop around and compare loan offers from different lenders in Kenya to find the\n",
    "best interest rate.\n",
    "Loan Fees:\n",
    " Be aware of any associated fees (processing fees, late payment penalties, etc.) and\n",
    "factor them into your calculations.\n",
    "Repayment Plan:\n",
    " Ensure you have a realistic repayment plan that aligns with your income and cash\n",
    "flow.\n",
    "Emergency Fund:\n",
    " Before taking out a loan, ensure you have an emergency fund to cover unexpected\n",
    "expenses. This will protect you if your business experiences a downturn.\n",
    "Before applying for any loan, create a detailed business plan outlining how you will\n",
    "use the loan and how it will generate a return on investment. This will help you secure\n",
    "the loan and ensure its successful utilization. \"\"\"\n",
    "\n",
    "borrowers_request = \"\"\"what amount of loan do you recomend for a person having a cattle brokerage bussiness with a monthly income \n",
    "of ksh.60000 and on an established bussiness\"\"\"\n",
    "\n",
    "\n",
    "result = model.generate_content(\n",
    "    [myfile,few_shot_prompt, \"\\n\\n\", borrowers_request]\n",
    ")\n",
    "Markdown(result.text)"
   ]
  },
  {
   "cell_type": "markdown",
   "id": "ca28f0b6",
   "metadata": {
    "papermill": {
     "duration": 0.006172,
     "end_time": "2025-04-08T13:21:52.706928",
     "exception": false,
     "start_time": "2025-04-08T13:21:52.700756",
     "status": "completed"
    },
    "tags": []
   },
   "source": [
    "## function calling"
   ]
  },
  {
   "cell_type": "code",
   "execution_count": 10,
   "id": "7d844ccb",
   "metadata": {
    "execution": {
     "iopub.execute_input": "2025-04-08T13:21:52.720864Z",
     "iopub.status.busy": "2025-04-08T13:21:52.720541Z",
     "iopub.status.idle": "2025-04-08T13:21:53.485257Z",
     "shell.execute_reply": "2025-04-08T13:21:53.484289Z"
    },
    "papermill": {
     "duration": 0.773886,
     "end_time": "2025-04-08T13:21:53.487202",
     "exception": false,
     "start_time": "2025-04-08T13:21:52.713316",
     "status": "completed"
    },
    "tags": []
   },
   "outputs": [],
   "source": [
    "%load_ext sql\n",
    "%sql sqlite:///pandas_to_sql.db"
   ]
  },
  {
   "cell_type": "code",
   "execution_count": 11,
   "id": "ff0487a8",
   "metadata": {
    "execution": {
     "iopub.execute_input": "2025-04-08T13:21:53.501678Z",
     "iopub.status.busy": "2025-04-08T13:21:53.501323Z",
     "iopub.status.idle": "2025-04-08T13:21:53.537391Z",
     "shell.execute_reply": "2025-04-08T13:21:53.536454Z"
    },
    "papermill": {
     "duration": 0.045268,
     "end_time": "2025-04-08T13:21:53.539220",
     "exception": false,
     "start_time": "2025-04-08T13:21:53.493952",
     "status": "completed"
    },
    "tags": []
   },
   "outputs": [],
   "source": [
    "df=pd.read_csv(\"/kaggle/input/statements/merged_mpesa.csv\")\n",
    "df1=pd.read_csv(\"/kaggle/input/statements/ml_ready_features.csv\")"
   ]
  },
  {
   "cell_type": "code",
   "execution_count": 12,
   "id": "81140d8b",
   "metadata": {
    "execution": {
     "iopub.execute_input": "2025-04-08T13:21:53.553366Z",
     "iopub.status.busy": "2025-04-08T13:21:53.553059Z",
     "iopub.status.idle": "2025-04-08T13:21:53.612194Z",
     "shell.execute_reply": "2025-04-08T13:21:53.611140Z"
    },
    "papermill": {
     "duration": 0.06809,
     "end_time": "2025-04-08T13:21:53.613941",
     "exception": false,
     "start_time": "2025-04-08T13:21:53.545851",
     "status": "completed"
    },
    "tags": []
   },
   "outputs": [
    {
     "data": {
      "text/plain": [
       "4"
      ]
     },
     "execution_count": 12,
     "metadata": {},
     "output_type": "execute_result"
    }
   ],
   "source": [
    "from io import StringIO\n",
    "\n",
    "# Convert DataFrame to SQLite\n",
    "db_file = \"pandas_to_sql.db\"\n",
    "conn = sqlite3.connect(db_file)\n",
    "df.to_sql(\"transuction\", conn, if_exists=\"replace\", index=False)\n",
    "df1.to_sql(\"summary\", conn, if_exists=\"replace\", index=False)"
   ]
  },
  {
   "cell_type": "code",
   "execution_count": 13,
   "id": "41b03351",
   "metadata": {
    "execution": {
     "iopub.execute_input": "2025-04-08T13:21:53.628611Z",
     "iopub.status.busy": "2025-04-08T13:21:53.628249Z",
     "iopub.status.idle": "2025-04-08T13:21:53.636107Z",
     "shell.execute_reply": "2025-04-08T13:21:53.635226Z"
    },
    "papermill": {
     "duration": 0.016788,
     "end_time": "2025-04-08T13:21:53.637742",
     "exception": false,
     "start_time": "2025-04-08T13:21:53.620954",
     "status": "completed"
    },
    "tags": []
   },
   "outputs": [
    {
     "name": "stdout",
     "output_type": "stream",
     "text": [
      " - DB CALL: list_tables()\n"
     ]
    },
    {
     "data": {
      "text/plain": [
       "['transuction', 'summary']"
      ]
     },
     "execution_count": 13,
     "metadata": {},
     "output_type": "execute_result"
    }
   ],
   "source": [
    "def list_tables() -> list[str]:\n",
    "    \"\"\"Retrieve the names of all tables in the database.\"\"\"\n",
    "    # Include print logging statements so you can see when functions are being called.\n",
    "    print(' - DB CALL: list_tables()')\n",
    "\n",
    "    cursor = conn.cursor()\n",
    "\n",
    "    # Fetch the table names.\n",
    "    cursor.execute(\"SELECT name FROM sqlite_master WHERE type='table';\")\n",
    "\n",
    "    tables = cursor.fetchall()\n",
    "    return [t[0] for t in tables]\n",
    "\n",
    "\n",
    "list_tables()"
   ]
  },
  {
   "cell_type": "code",
   "execution_count": 14,
   "id": "69c44844",
   "metadata": {
    "execution": {
     "iopub.execute_input": "2025-04-08T13:21:53.652552Z",
     "iopub.status.busy": "2025-04-08T13:21:53.652187Z",
     "iopub.status.idle": "2025-04-08T13:21:53.656848Z",
     "shell.execute_reply": "2025-04-08T13:21:53.655950Z"
    },
    "papermill": {
     "duration": 0.014016,
     "end_time": "2025-04-08T13:21:53.658510",
     "exception": false,
     "start_time": "2025-04-08T13:21:53.644494",
     "status": "completed"
    },
    "tags": []
   },
   "outputs": [],
   "source": [
    "def execute_query(sql: str) -> list[list[str]]:\n",
    "    \"\"\"Execute an SQL statement, returning the results.\"\"\"\n",
    "    print(f' - DB CALL: execute_query({sql})')\n",
    "\n",
    "    cursor = conn.cursor()\n",
    "\n",
    "    cursor.execute(sql)\n",
    "    return cursor.fetchall()\n"
   ]
  },
  {
   "cell_type": "code",
   "execution_count": 15,
   "id": "6f17c9d6",
   "metadata": {
    "execution": {
     "iopub.execute_input": "2025-04-08T13:21:53.673362Z",
     "iopub.status.busy": "2025-04-08T13:21:53.672963Z",
     "iopub.status.idle": "2025-04-08T13:21:53.681598Z",
     "shell.execute_reply": "2025-04-08T13:21:53.680728Z"
    },
    "papermill": {
     "duration": 0.017627,
     "end_time": "2025-04-08T13:21:53.683102",
     "exception": false,
     "start_time": "2025-04-08T13:21:53.665475",
     "status": "completed"
    },
    "tags": []
   },
   "outputs": [
    {
     "name": "stdout",
     "output_type": "stream",
     "text": [
      " - DB CALL: describe_table(transuction)\n"
     ]
    },
    {
     "data": {
      "text/plain": [
       "[('Receipt No.', 'TEXT'),\n",
       " ('Completion Time', 'TEXT'),\n",
       " ('Details', 'TEXT'),\n",
       " ('Transaction Status', 'TEXT'),\n",
       " ('Paid In', 'TEXT'),\n",
       " ('Withdrawn', 'TEXT'),\n",
       " ('Balance', 'TEXT'),\n",
       " ('Unnamed: 2', 'TEXT'),\n",
       " ('Unnamed: 3', 'TEXT'),\n",
       " ('Unnamed: 4', 'TEXT')]"
      ]
     },
     "execution_count": 15,
     "metadata": {},
     "output_type": "execute_result"
    }
   ],
   "source": [
    "def describe_table(table_name: str) -> list[tuple[str, str]]:\n",
    "    \"\"\"Look up the table schema.\n",
    "\n",
    "    Returns:\n",
    "      List of columns, where each entry is a tuple of (column, type).\n",
    "    \"\"\"\n",
    "    print(f' - DB CALL: describe_table({table_name})')\n",
    "\n",
    "    cursor = conn.cursor()\n",
    "\n",
    "    cursor.execute(f\"PRAGMA table_info({table_name});\")\n",
    "\n",
    "    schema = cursor.fetchall()\n",
    "    # [column index, column name, column type, ...]\n",
    "    return [(col[1], col[2]) for col in schema]\n",
    "\n",
    "\n",
    "describe_table(\"transuction\")"
   ]
  },
  {
   "cell_type": "code",
   "execution_count": 16,
   "id": "60dafd7a",
   "metadata": {
    "execution": {
     "iopub.execute_input": "2025-04-08T13:21:53.697968Z",
     "iopub.status.busy": "2025-04-08T13:21:53.697647Z",
     "iopub.status.idle": "2025-04-08T13:21:53.704811Z",
     "shell.execute_reply": "2025-04-08T13:21:53.703991Z"
    },
    "papermill": {
     "duration": 0.016534,
     "end_time": "2025-04-08T13:21:53.706485",
     "exception": false,
     "start_time": "2025-04-08T13:21:53.689951",
     "status": "completed"
    },
    "tags": []
   },
   "outputs": [
    {
     "name": "stdout",
     "output_type": "stream",
     "text": [
      " - DB CALL: describe_table(summary)\n"
     ]
    },
    {
     "data": {
      "text/plain": [
       "[('Month', 'TEXT'),\n",
       " ('Paid In', 'REAL'),\n",
       " ('Withdrawn', 'REAL'),\n",
       " ('Net Amount', 'REAL'),\n",
       " ('Transaction Count', 'INTEGER'),\n",
       " ('Bill Payment', 'INTEGER'),\n",
       " ('Gambling', 'INTEGER'),\n",
       " ('Income', 'INTEGER'),\n",
       " ('Loan Related', 'INTEGER'),\n",
       " ('Other', 'INTEGER'),\n",
       " ('Peer Transfer', 'INTEGER'),\n",
       " ('Utilities', 'INTEGER'),\n",
       " ('Loan Expense Ratio', 'REAL'),\n",
       " ('Bill Expense Ratio', 'REAL')]"
      ]
     },
     "execution_count": 16,
     "metadata": {},
     "output_type": "execute_result"
    }
   ],
   "source": [
    "describe_table(\"summary\")"
   ]
  },
  {
   "cell_type": "code",
   "execution_count": 17,
   "id": "b0b7389f",
   "metadata": {
    "execution": {
     "iopub.execute_input": "2025-04-08T13:21:53.722215Z",
     "iopub.status.busy": "2025-04-08T13:21:53.721837Z",
     "iopub.status.idle": "2025-04-08T13:21:53.889623Z",
     "shell.execute_reply": "2025-04-08T13:21:53.888646Z"
    },
    "papermill": {
     "duration": 0.177644,
     "end_time": "2025-04-08T13:21:53.891456",
     "exception": false,
     "start_time": "2025-04-08T13:21:53.713812",
     "status": "completed"
    },
    "tags": []
   },
   "outputs": [],
   "source": [
    "from google import genai\n",
    "from kaggle_secrets import UserSecretsClient\n",
    "\n",
    "\n",
    "GOOGLE_API_KEY = UserSecretsClient().get_secret(\"GOOGLE_API_KEY\")\n",
    "client = genai.Client(api_key=GOOGLE_API_KEY)\n",
    "# These are the Python functions defined above.\n",
    "db_tools = [list_tables, describe_table, execute_query]\n",
    "\n",
    "instruction = \"\"\"You are a helpful chatbot that can interact with an SQL database\n",
    "for a computer store. You will take the users questions and turn them into SQL\n",
    "queries using the tools available. Once you have the information you need, you will\n",
    "answer the user's question using the data returned.\n",
    "\n",
    "Use list_tables to see what tables are present, describe_table to understand the\n",
    "schema, and execute_query to issue an SQL SELECT query.\"\"\"\n",
    "\n",
    "client = genai.Client(api_key=GOOGLE_API_KEY)\n",
    "\n",
    "# Start a chat with automatic function calling enabled.\n",
    "chat = client.chats.create(\n",
    "    model=\"gemini-2.0-flash\",\n",
    "    config=types.GenerateContentConfig(\n",
    "        system_instruction=instruction,\n",
    "        tools=db_tools,\n",
    "    ),\n",
    ")"
   ]
  },
  {
   "cell_type": "code",
   "execution_count": 18,
   "id": "70e797f8",
   "metadata": {
    "execution": {
     "iopub.execute_input": "2025-04-08T13:21:53.906899Z",
     "iopub.status.busy": "2025-04-08T13:21:53.906582Z",
     "iopub.status.idle": "2025-04-08T13:21:55.679995Z",
     "shell.execute_reply": "2025-04-08T13:21:55.678968Z"
    },
    "papermill": {
     "duration": 1.78296,
     "end_time": "2025-04-08T13:21:55.681604",
     "exception": false,
     "start_time": "2025-04-08T13:21:53.898644",
     "status": "completed"
    },
    "tags": []
   },
   "outputs": [
    {
     "name": "stdout",
     "output_type": "stream",
     "text": [
      " - DB CALL: execute_query(SELECT count(*) FROM transuction WHERE Details LIKE '%moureen%';)\n",
      "\n",
      "There are 48 transactions that involved \"moureen\" in the Details column of the transuction table.\n",
      "\n"
     ]
    }
   ],
   "source": [
    "resp = chat.send_message(\"how many transuctions involved moureen on the Details column of transuction table?\")\n",
    "print(f\"\\n{resp.text}\")"
   ]
  },
  {
   "cell_type": "code",
   "execution_count": 19,
   "id": "f73c1edc",
   "metadata": {
    "execution": {
     "iopub.execute_input": "2025-04-08T13:21:55.697612Z",
     "iopub.status.busy": "2025-04-08T13:21:55.697283Z",
     "iopub.status.idle": "2025-04-08T13:22:11.929247Z",
     "shell.execute_reply": "2025-04-08T13:22:11.928257Z"
    },
    "papermill": {
     "duration": 16.241732,
     "end_time": "2025-04-08T13:22:11.930913",
     "exception": false,
     "start_time": "2025-04-08T13:21:55.689181",
     "status": "completed"
    },
    "tags": []
   },
   "outputs": [
    {
     "name": "stdout",
     "output_type": "stream",
     "text": [
      " - DB CALL: execute_query(SELECT * FROM transuction WHERE Details LIKE '%moureen%';)\n"
     ]
    },
    {
     "data": {
      "text/markdown": [
       "\n",
       "Here are the 48 transactions that involved \"Moureen Wanga\" in the details:\n",
       "\n",
       "TA32TLYC5G, 2025-01-03 15:43:00, Funds received from - 07******134 Moureen Wanga, Completed, 100.0, None, 100.0, None, None, None\n",
       "TA34TM3HGW, 2025-01-03 15:44:00, Funds received from - 07******134 Moureen Wanga, Completed, 100.0, None, 100.0, None, None, None\n",
       "TAE27N8QI0, 2025-01-14 20:42:00, Funds received from - 07******134 Moureen Wanga, Completed, 100.00, None, 100.00, None, None, None\n",
       "TAE47NZ0FY, 2025-01-14 20:46:00, Funds received from - 07******134 Moureen Wanga, Completed, 40.00, None, 110.11, None, None, None\n",
       "TAF0AKZBX6, 2025-01-15 17:01:00, Funds received from - 07******134 Moureen Wanga, Completed, 2,000.00, None, 2,000.00, None, None, None\n",
       "TAF8ALMOD8, 2025-01-15 17:05:00, Funds received from - 07******134 Moureen Wanga, Completed, 40.00, None, 1,969.91, None, None, None\n",
       "TAG9FQX7QH, 2025-01-16 19:50:00, Funds received from - 07******134 Moureen Wanga, Completed, 100.00, None, 1,209.91, None, None, None\n",
       "TAG6FRID5S, 2025-01-16 19:52:00, Funds received from - 07******134 Moureen Wanga, Completed, 40.00, None, 1,249.91, None, None, None\n",
       "TBN76LM6AH, 2025-02-23 17:34:00, Funds received from - 07******134 Moureen Wanga, Completed, 100.00, None, 1,289.67, None, None, None\n",
       "TBN56LZ37D, 2025-02-23 17:36:00, Funds received from - 07******134 Moureen Wanga, Completed, 50.00, None, 1,339.67, None, None, None\n",
       "TBO5C9P2DJ, 2025-02-24 20:59:00, Funds received from - 07******134 Moureen Wanga, Completed, 100.00, None, 1,332.67, None, None, None\n",
       "TBO5CA6IV3, 2025-02-24 21:01:00, Funds received from - 07******134 Moureen Wanga, Completed, 50.00, None, 1,382.67, None, None, None\n",
       "TBR5OSAI91, 2025-02-27 18:04:00, Customer Transfer to - 07******134 Moureen Wanga, Completed, None, -500.0, 4,967.67, None, None, None\n",
       "TC214J0S4B, 2025-03-02 19:28:00, Funds received from - 07******134 Moureen Wanga, Completed, 100.0, None, 1,193.67, None, None, None\n",
       "TC224KEJ5A, 2025-03-02 19:33:00, Funds received from - 07******134 Moureen Wanga, Completed, 50.0, None, 1,243.67, None, None, None\n",
       "TC329OUB30, 2025-03-03 20:24:00, Funds received from - 07******134 Moureen Wanga, Completed, 100.0, None, 948.67, None, None, None\n",
       "TC319P3K77, 2025-03-03 20:25:00, Funds received from - 07******134 Moureen Wanga, Completed, 50.0, None, 998.67, None, None, None\n",
       "TC60NME4IE, 2025-03-06 19:41:00, Funds received from - 07******134 Moureen Wanga, Completed, 100.0, None, 843.67, None, None, None\n",
       "TC62NNASOY, 2025-03-06 19:44:00, Funds received from - 07******134 Moureen Wanga, Completed, 50.0, None, 893.67, None, None, None\n",
       "TC76SQN50O, 2025-03-07 20:33:00, Funds received from - 07******134 Moureen Wanga, Completed, 100.00, None, 863.67, None, None, None\n",
       "TC78SR7QIC, 2025-03-07 20:35:00, Funds received from - 07******134 Moureen Wanga, Completed, 50.00, None, 913.67, None, None, None\n",
       "TC83WVQFGD, 2025-03-08 19:07:00, Funds received from - 07******134 Moureen Wanga, Completed, 150.00, None, 913.67, None, None, None\n",
       "TC80XQ43KE, 2025-03-08 21:16:00, Funds received from - 07******134 Moureen Wanga, Completed, 3,000.00, None, 3,913.67, None, None, None\n",
       "TC932IASAP, 2025-03-09 19:26:00, Funds received from - 07******134 Moureen Wanga, Completed, 150.00, None, 3,953.67, None, None, None\n",
       "TCB6BR8Q22, 2025-03-11 20:15:00, Funds received from - 07******134 Moureen Wanga, Completed, 150.00, None, 1,354.67, None, None, None\n",
       "TCC6G16DT6, 2025-03-12 19:32:00, Funds received from - 07******134 Moureen Wanga, Completed, 150.00, None, 1,384.67, None, None, None\n",
       "TCE2MLUUFO, 2025-03-14 10:38:00, Funds received from - 07******134 Moureen Wanga, Completed, 150.00, None, 1,257.67, None, None, None\n",
       "TCH342UM7D, 2025-03-17 20:57:00, Funds received from - 07******134 Moureen Wanga, Completed, 100.00, None, 1,342.67, None, None, None\n",
       "TCI68C1DO8, 2025-03-18 20:29:00, Funds received from - 07******134 Moureen Wanga, Completed, 100.00, None, 1,302.67, None, None, None\n",
       "TCI68CUUFG, 2025-03-18 20:33:00, Funds received from - 07******134 Moureen Wanga, Completed, 40.00, None, 1,342.67, None, None, None\n",
       "TCJ3CCM46R, 2025-03-19 19:37:00, Funds received from - 07******134 Moureen Wanga, Completed, 100.00, None, 1,222.67, None, None, None\n",
       "TCJ5CCVH9T, 2025-03-19 19:38:00, Funds received from - 07******134 Moureen Wanga, Completed, 50.00, None, 1,272.67, None, None, None\n",
       "TCK9G9EDNT, 2025-03-20 18:29:00, Funds received from - 07******134 Moureen Wanga, Completed, 100.00, None, 7,085.67, None, None, None\n",
       "TCO3Y771W7, 2025-03-24 19:28:00, Funds received from - 07******134 Moureen Wanga, Completed, 47.00, None, 47.00, None, None, None\n",
       "TCP83QOK9Q, 2025-03-25 19:50:00, Funds received from - 07******134 Moureen Wanga, Completed, 100.00, None, 141.65, None, None, None\n",
       "TCP63R39FY, 2025-03-25 19:52:00, Funds received from - 07******134 Moureen Wanga, Completed, 50.00, None, 191.65, None, None, None\n",
       "TCQ08957L0, 2025-03-26 20:03:00, Funds received from - 07******134 Moureen Wanga, Completed, 100.00, None, 819.65, None, None, None\n",
       "TCQ589E8MJ, 2025-03-26 20:04:00, Funds received from - 07******134 Moureen Wanga, Completed, 50.00, None, 869.65, None, None, None\n",
       "TCU1OB0DO9, 2025-03-30 11:40:00, Funds received from - 07******134 Moureen Wanga, Completed, 100.0, None, 922.65, None, None, None\n",
       "TCU6OB9K3E, 2025-03-30 11:42:00, Funds received from - 07******134 Moureen Wanga, Completed, 50.0, None, 972.65, None, None, None\n",
       "TCV3V1XBO3, 2025-03-31 19:40:00, Funds received from - 07******134 Moureen Wanga, Completed, 100.0, None, 752.65, None, None, None\n",
       "TCV9V2FLVT, 2025-03-31 19:42:00, Funds received from - 07******134 Moureen Wanga, Completed, 20.0, None, 772.65, None, None, None\n",
       "TD15ZFVUAJ, 2025-04-01 18:57:00, Funds received from - 07******134 Moureen Wanga, Completed, 100.0, None, 722.65, None, None, None\n",
       "TD15ZG8PWJ, 2025-04-01 18:58:00, Funds received from - 07******134 Moureen Wanga, Completed, 50.0, None, 772.65, None, None, None\n",
       "TD295PBX8R, 2025-04-02 19:53:00, Funds received from - 07******134 Moureen Wanga, Completed, 100.0, None, 487.65, None, None, None\n",
       "TD329WDUGC, 2025-04-03 18:22:00, Funds received from - 07******134 Moureen Wanga, Completed, 150.0, None, 437.65, None, None, None\n",
       "TD43F5H5XN, 2025-04-04 19:10:00, Funds received from - 07******134 Moureen Wanga, Completed, 100.0, None, 447.65, None, None, None\n",
       "TD48F5Z54Y, 2025-04-04 19:12:00, Funds received from - 07******134 Moureen Wanga, Completed, 50.0, None, 497.65, None, None, None"
      ],
      "text/plain": [
       "<IPython.core.display.Markdown object>"
      ]
     },
     "execution_count": 19,
     "metadata": {},
     "output_type": "execute_result"
    }
   ],
   "source": [
    "resp = chat.send_message(\"can i see them\")\n",
    "Markdown(f\"\\n{resp.text}\")"
   ]
  },
  {
   "cell_type": "markdown",
   "id": "97cbc33b",
   "metadata": {
    "papermill": {
     "duration": 0.00708,
     "end_time": "2025-04-08T13:22:11.945737",
     "exception": false,
     "start_time": "2025-04-08T13:22:11.938657",
     "status": "completed"
    },
    "tags": []
   },
   "source": [
    "## conclution\n",
    "\n",
    "Wow!this is great and huge thank you to the google team for the wonderfull course."
   ]
  },
  {
   "cell_type": "code",
   "execution_count": null,
   "id": "117a2887",
   "metadata": {
    "papermill": {
     "duration": 0.007027,
     "end_time": "2025-04-08T13:22:11.960140",
     "exception": false,
     "start_time": "2025-04-08T13:22:11.953113",
     "status": "completed"
    },
    "tags": []
   },
   "outputs": [],
   "source": []
  }
 ],
 "metadata": {
  "kaggle": {
   "accelerator": "none",
   "dataSources": [
    {
     "sourceId": 97258,
     "sourceType": "competition"
    },
    {
     "datasetId": 7055229,
     "sourceId": 11284218,
     "sourceType": "datasetVersion"
    },
    {
     "datasetId": 7055301,
     "sourceId": 11284316,
     "sourceType": "datasetVersion"
    }
   ],
   "dockerImageVersionId": 30918,
   "isGpuEnabled": false,
   "isInternetEnabled": true,
   "language": "python",
   "sourceType": "notebook"
  },
  "kernelspec": {
   "display_name": "Python 3",
   "language": "python",
   "name": "python3"
  },
  "language_info": {
   "codemirror_mode": {
    "name": "ipython",
    "version": 3
   },
   "file_extension": ".py",
   "mimetype": "text/x-python",
   "name": "python",
   "nbconvert_exporter": "python",
   "pygments_lexer": "ipython3",
   "version": "3.10.12"
  },
  "papermill": {
   "default_parameters": {},
   "duration": 87.6469,
   "end_time": "2025-04-08T13:22:15.266142",
   "environment_variables": {},
   "exception": null,
   "input_path": "__notebook__.ipynb",
   "output_path": "__notebook__.ipynb",
   "parameters": {},
   "start_time": "2025-04-08T13:20:47.619242",
   "version": "2.6.0"
  }
 },
 "nbformat": 4,
 "nbformat_minor": 5
}
