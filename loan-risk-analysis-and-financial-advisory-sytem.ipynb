{
 "cells": [
  {
   "cell_type": "markdown",
   "id": "bbfc82d7",
   "metadata": {
    "papermill": {
     "duration": 0.006035,
     "end_time": "2025-04-08T13:11:27.507641",
     "exception": false,
     "start_time": "2025-04-08T13:11:27.501606",
     "status": "completed"
    },
    "tags": []
   },
   "source": [
    "### **Introduction**\n",
    "\n",
    "In this project, I utilized Google’s Gemini model to develop an intelligent system for financial document analysis and personalized loan advisory, addressing a pressing issue in Kenya’s financial landscape as reported by a kenyan bank analysis report,I know this is not an issue facing this country only its world wide: the **rising rate of non-performing loans**. With more individuals and businesses struggling to repay loans—partly due to economic uncertainty and poor financial planning—there is an urgent need for smarter, data-driven tools that can both inform lending decisions and guide borrowers toward better financial health.\n",
    "\n",
    "To begin, I took advantage of **Gemini’s large context window** to analyze the Kenya Financial Performance Document 2023, published by the Kenya Bureau of Standards (KEBS). This detailed national report contains extensive economic data, including trends that influence lending performance, credit access, and default risk. Processing such a large document in its entirety allowed the model to extract contextually relevant insights—such as sector-specific risks and macroeconomic trends—that are crucial for financial institutions trying to assess lending environments more accurately.\n",
    "\n",
    "To make the system responsive to practical loan advisory needs, I applied **few-shot prompting**. By showing the model a handful of curated examples—such as how to evaluate a borrower’s spending behavior, savings discipline, or debt-to-income ratio:\n",
    "—I was able to shape its outputs to give advice that aligns with real-world lending criteria. This approach helps borrowers receive tailored financial feedback, improving their preparedness and reducing the chances of default.\n",
    "\n",
    "Furthermore, I enhanced user interaction by integrating **function calling**, enabling the model to work with real-world financial data from my M-Pesa statement. For context, M-Pesa is a widely used mobile money service in Kenya that allows people to send money, pay bills, and make purchases directly from their phones. I downloaded my M-Pesa statement, converted it into a CSV, and then imported it into a SQL table. This allowed the model to run natural language queries like “How much did I spend on recurring expenses last month?” or “What is my average transaction amount?”, turning complex financial behavior into digestible insights.\n",
    "\n",
    "By combining these techniques—large-context analysis, few-shot learning, and functional calling —this project contributes a practical solution to the growing challenge of non performning loans. It empowers individuals with AI-driven financial literacy while giving lenders smarter tools to assess creditworthiness and manage risk more proactively."
   ]
  },
  {
   "cell_type": "code",
   "execution_count": 1,
   "id": "30b7e141",
   "metadata": {
    "execution": {
     "iopub.execute_input": "2025-04-08T13:11:27.520194Z",
     "iopub.status.busy": "2025-04-08T13:11:27.519799Z",
     "iopub.status.idle": "2025-04-08T13:11:28.396176Z",
     "shell.execute_reply": "2025-04-08T13:11:28.395067Z"
    },
    "papermill": {
     "duration": 0.884507,
     "end_time": "2025-04-08T13:11:28.397757",
     "exception": false,
     "start_time": "2025-04-08T13:11:27.513250",
     "status": "completed"
    },
    "tags": []
   },
   "outputs": [
    {
     "name": "stdout",
     "output_type": "stream",
     "text": [
      "/kaggle/input/statements/ml_ready_features.csv\n",
      "/kaggle/input/statements/merged_mpesa.csv\n",
      "/kaggle/input/economic/Facts-Figures-2024.pdf\n"
     ]
    }
   ],
   "source": [
    "# This Python 3 environment comes with many helpful analytics libraries installed\n",
    "# It is defined by the kaggle/python Docker image: https://github.com/kaggle/docker-python\n",
    "# For example, here's several helpful packages to load\n",
    "\n",
    "import numpy as np # linear algebra\n",
    "import pandas as pd # data processing, CSV file I/O (e.g. pd.read_csv)\n",
    "\n",
    "# Input data files are available in the read-only \"../input/\" directory\n",
    "# For example, running this (by clicking run or pressing Shift+Enter) will list all files under the input directory\n",
    "\n",
    "import os\n",
    "for dirname, _, filenames in os.walk('/kaggle/input'):\n",
    "    for filename in filenames:\n",
    "        print(os.path.join(dirname, filename))\n",
    "\n",
    "# You can write up to 20GB to the current directory (/kaggle/working/) that gets preserved as output when you create a version using \"Save & Run All\" \n",
    "# You can also write temporary files to /kaggle/temp/, but they won't be saved outside of the current session"
   ]
  },
  {
   "cell_type": "code",
   "execution_count": 2,
   "id": "cf4d1f04",
   "metadata": {
    "execution": {
     "iopub.execute_input": "2025-04-08T13:11:28.410075Z",
     "iopub.status.busy": "2025-04-08T13:11:28.409573Z",
     "iopub.status.idle": "2025-04-08T13:11:40.967474Z",
     "shell.execute_reply": "2025-04-08T13:11:40.966384Z"
    },
    "papermill": {
     "duration": 12.565964,
     "end_time": "2025-04-08T13:11:40.969279",
     "exception": false,
     "start_time": "2025-04-08T13:11:28.403315",
     "status": "completed"
    },
    "tags": []
   },
   "outputs": [
    {
     "name": "stdout",
     "output_type": "stream",
     "text": [
      "\u001b[2K   \u001b[90m━━━━━━━━━━━━━━━━━━━━━━━━━━━━━━━━━━━━━━━━\u001b[0m \u001b[32m232.6/232.6 kB\u001b[0m \u001b[31m5.0 MB/s\u001b[0m eta \u001b[36m0:00:00\u001b[0m\r\n",
      "\u001b[?25h  Preparing metadata (setup.py) ... \u001b[?25l\u001b[?25hdone\r\n",
      "  Building wheel for srt (setup.py) ... \u001b[?25l\u001b[?25hdone\r\n"
     ]
    }
   ],
   "source": [
    "!pip install -qqqU PyPDF2\n",
    "!pip install -qqqU edge-tts"
   ]
  },
  {
   "cell_type": "code",
   "execution_count": 3,
   "id": "2b7d67f7",
   "metadata": {
    "execution": {
     "iopub.execute_input": "2025-04-08T13:11:40.982362Z",
     "iopub.status.busy": "2025-04-08T13:11:40.982008Z",
     "iopub.status.idle": "2025-04-08T13:11:43.843421Z",
     "shell.execute_reply": "2025-04-08T13:11:43.842489Z"
    },
    "papermill": {
     "duration": 2.870187,
     "end_time": "2025-04-08T13:11:43.845370",
     "exception": false,
     "start_time": "2025-04-08T13:11:40.975183",
     "status": "completed"
    },
    "tags": []
   },
   "outputs": [],
   "source": [
    "import google.generativeai as genai\n",
    "from google.genai import types\n",
    "import sqlite3\n",
    "import PyPDF2\n",
    "from IPython.display import HTML, Markdown, display"
   ]
  },
  {
   "cell_type": "code",
   "execution_count": 4,
   "id": "807b78d6",
   "metadata": {
    "execution": {
     "iopub.execute_input": "2025-04-08T13:11:43.858806Z",
     "iopub.status.busy": "2025-04-08T13:11:43.858252Z",
     "iopub.status.idle": "2025-04-08T13:11:44.165427Z",
     "shell.execute_reply": "2025-04-08T13:11:44.164609Z"
    },
    "papermill": {
     "duration": 0.315945,
     "end_time": "2025-04-08T13:11:44.167366",
     "exception": false,
     "start_time": "2025-04-08T13:11:43.851421",
     "status": "completed"
    },
    "tags": []
   },
   "outputs": [],
   "source": [
    "from kaggle_secrets import UserSecretsClient\n",
    "user_secrets = UserSecretsClient()\n",
    "secret_value = user_secrets.get_secret(\"gemini_key\")\n",
    "genai.configure(api_key=secret_value)"
   ]
  },
  {
   "cell_type": "code",
   "execution_count": 5,
   "id": "2ae4d27a",
   "metadata": {
    "execution": {
     "iopub.execute_input": "2025-04-08T13:11:44.180308Z",
     "iopub.status.busy": "2025-04-08T13:11:44.179982Z",
     "iopub.status.idle": "2025-04-08T13:11:44.184208Z",
     "shell.execute_reply": "2025-04-08T13:11:44.183293Z"
    },
    "papermill": {
     "duration": 0.01248,
     "end_time": "2025-04-08T13:11:44.185835",
     "exception": false,
     "start_time": "2025-04-08T13:11:44.173355",
     "status": "completed"
    },
    "tags": []
   },
   "outputs": [],
   "source": [
    "generation_config = {\n",
    "  \"temperature\": 0.3,\n",
    "  \"top_p\": 0.95,\n",
    "  \"top_k\": 64,\n",
    "  \"max_output_tokens\": 8192,\n",
    "  \"response_mime_type\": \"text/plain\",\n",
    "}\n",
    "\n",
    "model = genai.GenerativeModel(\n",
    "  model_name=\"gemini-1.5-flash\",\n",
    "  generation_config=generation_config,\n",
    ")"
   ]
  },
  {
   "cell_type": "markdown",
   "id": "95813cbb",
   "metadata": {
    "papermill": {
     "duration": 0.005554,
     "end_time": "2025-04-08T13:11:44.197448",
     "exception": false,
     "start_time": "2025-04-08T13:11:44.191894",
     "status": "completed"
    },
    "tags": []
   },
   "source": [
    "## Gemini’s large context window to analyze the Kenya Financial Performance Document 2023,"
   ]
  },
  {
   "cell_type": "code",
   "execution_count": 6,
   "id": "c86c0982",
   "metadata": {
    "execution": {
     "iopub.execute_input": "2025-04-08T13:11:44.210161Z",
     "iopub.status.busy": "2025-04-08T13:11:44.209803Z",
     "iopub.status.idle": "2025-04-08T13:11:44.213734Z",
     "shell.execute_reply": "2025-04-08T13:11:44.212902Z"
    },
    "papermill": {
     "duration": 0.012236,
     "end_time": "2025-04-08T13:11:44.215365",
     "exception": false,
     "start_time": "2025-04-08T13:11:44.203129",
     "status": "completed"
    },
    "tags": []
   },
   "outputs": [],
   "source": [
    "pdf_file='/kaggle/input/economic/Facts-Figures-2024.pdf'"
   ]
  },
  {
   "cell_type": "code",
   "execution_count": 7,
   "id": "d3b71703",
   "metadata": {
    "execution": {
     "iopub.execute_input": "2025-04-08T13:11:44.227742Z",
     "iopub.status.busy": "2025-04-08T13:11:44.227422Z",
     "iopub.status.idle": "2025-04-08T13:11:49.525415Z",
     "shell.execute_reply": "2025-04-08T13:11:49.524169Z"
    },
    "papermill": {
     "duration": 5.306345,
     "end_time": "2025-04-08T13:11:49.527402",
     "exception": false,
     "start_time": "2025-04-08T13:11:44.221057",
     "status": "completed"
    },
    "tags": []
   },
   "outputs": [
    {
     "name": "stdout",
     "output_type": "stream",
     "text": [
      "genai.File({\n",
      "    'name': 'files/1xedh8knw9x7',\n",
      "    'display_name': 'Facts-Figures-2024.pdf',\n",
      "    'mime_type': 'application/pdf',\n",
      "    'sha256_hash': 'MmJhYjBjODdhNzBiM2U2YWY1MWNiNDU1YzAzYWNmOTU3YTk2Mjc1NWE4MzliM2NhN2I5NjJjMmRmNjFkY2JmYw==',\n",
      "    'size_bytes': '8257036',\n",
      "    'state': 'ACTIVE',\n",
      "    'uri': 'https://generativelanguage.googleapis.com/v1beta/files/1xedh8knw9x7',\n",
      "    'create_time': '2025-04-08T13:11:47.479698Z',\n",
      "    'expiration_time': '2025-04-10T13:11:47.451972429Z',\n",
      "    'update_time': '2025-04-08T13:11:47.479698Z'})\n"
     ]
    }
   ],
   "source": [
    "my_file = genai.upload_file(pdf_file)\n",
    "file_name = my_file.name\n",
    "myfile = genai.get_file(file_name)\n",
    "\n",
    "print(myfile)"
   ]
  },
  {
   "cell_type": "markdown",
   "id": "65df95f7",
   "metadata": {
    "papermill": {
     "duration": 0.006066,
     "end_time": "2025-04-08T13:11:49.543677",
     "exception": false,
     "start_time": "2025-04-08T13:11:49.537611",
     "status": "completed"
    },
    "tags": []
   },
   "source": [
    "> testing the model on the pdf file"
   ]
  },
  {
   "cell_type": "code",
   "execution_count": 8,
   "id": "f8ae9482",
   "metadata": {
    "execution": {
     "iopub.execute_input": "2025-04-08T13:11:49.556369Z",
     "iopub.status.busy": "2025-04-08T13:11:49.556012Z",
     "iopub.status.idle": "2025-04-08T13:12:09.943646Z",
     "shell.execute_reply": "2025-04-08T13:12:09.942667Z"
    },
    "papermill": {
     "duration": 20.396003,
     "end_time": "2025-04-08T13:12:09.945373",
     "exception": false,
     "start_time": "2025-04-08T13:11:49.549370",
     "status": "completed"
    },
    "tags": []
   },
   "outputs": [
    {
     "data": {
      "text/markdown": [
       "The document is the Kenya Facts and Figures 2024 publication by the Kenya National Bureau of Statistics (KNBS).  It provides a summary of selected economic and social indicators for the period 2019 to 2023, presented in charts and tables.  The data covers a wide range of topics including:\n",
       "\n",
       "* **National Accounts:** GDP, income, savings, etc.\n",
       "* **Employment and Earnings:** Wage employment, wage payments, inflation.\n",
       "* **Government Finance:** Revenue, expenditure, public debt.\n",
       "* **International Trade:** Exports, imports, balance of trade.\n",
       "* **Monetary and Financial Statistics:** Money supply, interest rates.\n",
       "* **Agriculture Sector:** Crop production, prices.\n",
       "* **Energy Sector:** Electricity generation and consumption, petroleum consumption.\n",
       "* **Manufacturing Sector:** Production indices.\n",
       "* **Building and Construction Sector:** Road infrastructure.\n",
       "* **Tourism Sector:** Visitor arrivals, bed occupancy.\n",
       "* **Transport Sector:** Passenger and cargo traffic.\n",
       "* **Communication Sector:** Telephone and internet subscriptions.\n",
       "* **Education Sector:** Student enrollment, HELB statistics.\n",
       "* **Health Sector:** Healthcare personnel, health facilities.\n",
       "* **Governance Sector:** Identity card applications, passports issued, crime statistics.\n",
       "* **Social and Economic Inclusion:** Beneficiaries and funds disbursed for social protection.\n",
       "\n",
       "\n",
       "Essentially, it's a statistical overview of key aspects of the Kenyan economy and society.  The preface notes that more detailed information can be found in the Economic Survey 2024 Report.\n"
      ],
      "text/plain": [
       "<IPython.core.display.Markdown object>"
      ]
     },
     "execution_count": 8,
     "metadata": {},
     "output_type": "execute_result"
    }
   ],
   "source": [
    "result = model.generate_content(\n",
    "    [myfile, \"\\n\\n\", \"what is the paper provided about?\"]\n",
    ")\n",
    "Markdown(result.text)"
   ]
  },
  {
   "cell_type": "markdown",
   "id": "8e691cd2",
   "metadata": {
    "papermill": {
     "duration": 0.005545,
     "end_time": "2025-04-08T13:12:09.957112",
     "exception": false,
     "start_time": "2025-04-08T13:12:09.951567",
     "status": "completed"
    },
    "tags": []
   },
   "source": [
    "## few-shot prompting"
   ]
  },
  {
   "cell_type": "code",
   "execution_count": 9,
   "id": "d22f9cbd",
   "metadata": {
    "execution": {
     "iopub.execute_input": "2025-04-08T13:12:09.969921Z",
     "iopub.status.busy": "2025-04-08T13:12:09.969430Z",
     "iopub.status.idle": "2025-04-08T13:12:34.808351Z",
     "shell.execute_reply": "2025-04-08T13:12:34.807337Z"
    },
    "papermill": {
     "duration": 24.847371,
     "end_time": "2025-04-08T13:12:34.810167",
     "exception": false,
     "start_time": "2025-04-08T13:12:09.962796",
     "status": "completed"
    },
    "tags": []
   },
   "outputs": [
    {
     "data": {
      "text/markdown": [
       "With a monthly income of KES 60,000, you have more flexibility in loan amounts for your established cattle brokerage business.  However, responsible borrowing remains crucial.\n",
       "\n",
       "**Recommended Loan Amount Range:**\n",
       "\n",
       "To avoid financial strain, aim for loan repayments that don't exceed 30-40% of your monthly income.\n",
       "\n",
       "* **40% Rule (Maximum):**  KES 24,000 (KES 60,000 * 0.40) maximum monthly repayment.\n",
       "* **30% Rule (Conservative):** KES 18,000 (KES 60,000 * 0.30) maximum monthly repayment.\n",
       "\n",
       "**Determining the Actual Loan Amount:**\n",
       "\n",
       "To find the maximum loan amount you can afford, you need to know the interest rate and loan term offered by lenders.  Use an online loan calculator (many are available) and input:\n",
       "\n",
       "* **Desired Monthly Repayment:** KES 18,000 - 24,000 (choose based on your risk tolerance)\n",
       "* **Interest Rate:** Research interest rates from various Kenyan lenders.  (Note:  Rates vary considerably).\n",
       "* **Loan Term:** Decide on a repayment period that suits your cash flow.\n",
       "\n",
       "The calculator will provide the maximum loan amount you can borrow while staying within your chosen repayment limit.\n",
       "\n",
       "**Investment Recommendations for Your Cattle Brokerage Business:**\n",
       "\n",
       "Use the loan to strategically expand or improve your business.  Here are some options:\n",
       "\n",
       "* **Improved Transportation:** Invest in a reliable vehicle for transporting cattle, potentially reducing transportation costs and improving efficiency.\n",
       "* **Technology and Communication:** Upgrade your communication tools (phones, internet) to improve networking and market reach. Consider using online platforms to expand your client base.\n",
       "* **Market Research and Analysis:** Invest in market research to better understand price trends and demand for specific breeds. This will help you make informed purchasing and selling decisions.\n",
       "* **Networking and Relationships:** Use funds to attend industry events, strengthen relationships with farmers and buyers, and build your reputation.\n",
       "* **Expansion of Services:** Consider offering additional services like cattle health checks, vaccination assistance, or feed sourcing.\n",
       "\n",
       "**Important Considerations:**\n",
       "\n",
       "* **Interest Rates:** Compare loan offers from multiple lenders to secure the best interest rate.\n",
       "* **Loan Fees:** Factor in all loan fees (processing, late payment penalties, etc.) into your calculations.\n",
       "* **Repayment Plan:** Create a detailed repayment plan that aligns with your business's cash flow.\n",
       "* **Emergency Fund:** Maintain an emergency fund to handle unexpected expenses.\n",
       "* **Business Plan:** Before applying, develop a comprehensive business plan outlining your loan usage and projected return on investment.  This will strengthen your loan application.\n",
       "\n",
       "\n",
       "Remember, this advice is general.  Consult with a financial advisor in Kenya for personalized guidance based on your specific circumstances and risk profile.\n"
      ],
      "text/plain": [
       "<IPython.core.display.Markdown object>"
      ]
     },
     "execution_count": 9,
     "metadata": {},
     "output_type": "execute_result"
    }
   ],
   "source": [
    "few_shot_prompt=\"\"\"\n",
    "The provided document is a statistical report on Kenya, not a financial guide.use it when neccesary to provide tailored \n",
    "advice,for a particular request the advice should look like this :\n",
    "With a monthly income of KES 20,000 and a 12-month repayment period, it's crucial\n",
    "to apply for a loan amount that won't strain your finances. A general rule of thumb is\n",
    "to keep your loan repayments at no more than 30-40% of your monthly income. Let's\n",
    "analyze:\n",
    "Maximum Recommended Loan:\n",
    " Using the 40% rule, your maximum monthly repayment should be KES 8,000 (KES\n",
    "20,000\n",
    " 0.40). To determine the maximum loan amount, you'll need to know the interest rate\n",
    "offered by the lender. Let's assume an interest rate of 15% per annum (this is a\n",
    "common rate, but you should check with lenders for their current rates). You can use\n",
    "a loan calculator (many are available online) to determine the maximum loan amount\n",
    "that results in a monthly repayment of approximately KES 8,000 over 12 months. The\n",
    "actual amount will depend on the specific interest rate and any fees.\n",
    "Conservative Approach:\n",
    " A more conservative approach, especially given the inherent risks in business,\n",
    "would be to limit your monthly repayment to 30% of your income (KES 6,000). This\n",
    "leaves more room for unexpected expenses and ensures you can comfortably meet\n",
    "your obligations. Again, use a loan calculator to determine the corresponding loan\n",
    "amount.\n",
    "Investment Recommendations for Your Teaching Business:\n",
    "Since you're a teacher with an established business, the loan should be used to\n",
    "enhance your teaching capabilities and potentially increase your income. Here are\n",
    "some investment options:\n",
    "Improved Teaching Resources:\n",
    " Invest in high-quality teaching materials, technology (like a projector, interactive\n",
    "whiteboard, or educational software), or a comfortable and well-equipped learning\n",
    "space. This will improve the quality of your teaching and attract more students.\n",
    "Marketing and Advertising:\n",
    " Allocate funds to promote your teaching services. This could involve creating a\n",
    "professional website, running targeted online ads, distributing flyers in your\n",
    "community, or networking with schools and other institutions.\n",
    "Professional Development:\n",
    " Use some of the loan to attend workshops, conferences, or online courses to\n",
    "enhance your teaching skills and knowledge in your specific subject area. This will\n",
    "make you more competitive and attractive to potential students.\n",
    "Expansion of Services:\n",
    " If feasible, consider expanding your services. This could involve offering tutoring\n",
    "services, online courses, or workshops in addition to your regular teaching.\n",
    "Important Considerations:\n",
    "Interest Rates:\n",
    " Shop around and compare loan offers from different lenders in Kenya to find the\n",
    "best interest rate.\n",
    "Loan Fees:\n",
    " Be aware of any associated fees (processing fees, late payment penalties, etc.) and\n",
    "factor them into your calculations.\n",
    "Repayment Plan:\n",
    " Ensure you have a realistic repayment plan that aligns with your income and cash\n",
    "flow.\n",
    "Emergency Fund:\n",
    " Before taking out a loan, ensure you have an emergency fund to cover unexpected\n",
    "expenses. This will protect you if your business experiences a downturn.\n",
    "Before applying for any loan, create a detailed business plan outlining how you will\n",
    "use the loan and how it will generate a return on investment. This will help you secure\n",
    "the loan and ensure its successful utilization. \"\"\"\n",
    "\n",
    "borrowers_request = \"\"\"what amount of loan do you recomend for a person having a cattle brokerage bussiness with a monthly income \n",
    "of ksh.60000 and on an established bussiness\"\"\"\n",
    "\n",
    "\n",
    "result = model.generate_content(\n",
    "    [myfile,few_shot_prompt, \"\\n\\n\", borrowers_request]\n",
    ")\n",
    "Markdown(result.text)"
   ]
  },
  {
   "cell_type": "markdown",
   "id": "b5f95ca9",
   "metadata": {
    "papermill": {
     "duration": 0.005821,
     "end_time": "2025-04-08T13:12:34.822570",
     "exception": false,
     "start_time": "2025-04-08T13:12:34.816749",
     "status": "completed"
    },
    "tags": []
   },
   "source": [
    "## function calling"
   ]
  },
  {
   "cell_type": "code",
   "execution_count": 10,
   "id": "bccb6efd",
   "metadata": {
    "execution": {
     "iopub.execute_input": "2025-04-08T13:12:34.835870Z",
     "iopub.status.busy": "2025-04-08T13:12:34.835509Z",
     "iopub.status.idle": "2025-04-08T13:12:35.567650Z",
     "shell.execute_reply": "2025-04-08T13:12:35.566842Z"
    },
    "papermill": {
     "duration": 0.740897,
     "end_time": "2025-04-08T13:12:35.569528",
     "exception": false,
     "start_time": "2025-04-08T13:12:34.828631",
     "status": "completed"
    },
    "tags": []
   },
   "outputs": [],
   "source": [
    "%load_ext sql\n",
    "%sql sqlite:///pandas_to_sql.db"
   ]
  },
  {
   "cell_type": "code",
   "execution_count": 11,
   "id": "b737cc8e",
   "metadata": {
    "execution": {
     "iopub.execute_input": "2025-04-08T13:12:35.583099Z",
     "iopub.status.busy": "2025-04-08T13:12:35.582740Z",
     "iopub.status.idle": "2025-04-08T13:12:35.609837Z",
     "shell.execute_reply": "2025-04-08T13:12:35.608761Z"
    },
    "papermill": {
     "duration": 0.035646,
     "end_time": "2025-04-08T13:12:35.611541",
     "exception": false,
     "start_time": "2025-04-08T13:12:35.575895",
     "status": "completed"
    },
    "tags": []
   },
   "outputs": [],
   "source": [
    "df=pd.read_csv(\"/kaggle/input/statements/merged_mpesa.csv\")\n",
    "df1=pd.read_csv(\"/kaggle/input/statements/ml_ready_features.csv\")"
   ]
  },
  {
   "cell_type": "code",
   "execution_count": 12,
   "id": "9620aebf",
   "metadata": {
    "execution": {
     "iopub.execute_input": "2025-04-08T13:12:35.624865Z",
     "iopub.status.busy": "2025-04-08T13:12:35.624500Z",
     "iopub.status.idle": "2025-04-08T13:12:35.687373Z",
     "shell.execute_reply": "2025-04-08T13:12:35.686382Z"
    },
    "papermill": {
     "duration": 0.071214,
     "end_time": "2025-04-08T13:12:35.689047",
     "exception": false,
     "start_time": "2025-04-08T13:12:35.617833",
     "status": "completed"
    },
    "tags": []
   },
   "outputs": [
    {
     "data": {
      "text/plain": [
       "4"
      ]
     },
     "execution_count": 12,
     "metadata": {},
     "output_type": "execute_result"
    }
   ],
   "source": [
    "from io import StringIO\n",
    "\n",
    "# Convert DataFrame to SQLite\n",
    "db_file = \"pandas_to_sql.db\"\n",
    "conn = sqlite3.connect(db_file)\n",
    "df.to_sql(\"transuction\", conn, if_exists=\"replace\", index=False)\n",
    "df1.to_sql(\"summary\", conn, if_exists=\"replace\", index=False)"
   ]
  },
  {
   "cell_type": "code",
   "execution_count": 13,
   "id": "c9c4f0d2",
   "metadata": {
    "execution": {
     "iopub.execute_input": "2025-04-08T13:12:35.702600Z",
     "iopub.status.busy": "2025-04-08T13:12:35.702217Z",
     "iopub.status.idle": "2025-04-08T13:12:35.709694Z",
     "shell.execute_reply": "2025-04-08T13:12:35.708872Z"
    },
    "papermill": {
     "duration": 0.015704,
     "end_time": "2025-04-08T13:12:35.711152",
     "exception": false,
     "start_time": "2025-04-08T13:12:35.695448",
     "status": "completed"
    },
    "tags": []
   },
   "outputs": [
    {
     "name": "stdout",
     "output_type": "stream",
     "text": [
      " - DB CALL: list_tables()\n"
     ]
    },
    {
     "data": {
      "text/plain": [
       "['transuction', 'summary']"
      ]
     },
     "execution_count": 13,
     "metadata": {},
     "output_type": "execute_result"
    }
   ],
   "source": [
    "def list_tables() -> list[str]:\n",
    "    \"\"\"Retrieve the names of all tables in the database.\"\"\"\n",
    "    # Include print logging statements so you can see when functions are being called.\n",
    "    print(' - DB CALL: list_tables()')\n",
    "\n",
    "    cursor = conn.cursor()\n",
    "\n",
    "    # Fetch the table names.\n",
    "    cursor.execute(\"SELECT name FROM sqlite_master WHERE type='table';\")\n",
    "\n",
    "    tables = cursor.fetchall()\n",
    "    return [t[0] for t in tables]\n",
    "\n",
    "\n",
    "list_tables()"
   ]
  },
  {
   "cell_type": "code",
   "execution_count": 14,
   "id": "c25613f0",
   "metadata": {
    "execution": {
     "iopub.execute_input": "2025-04-08T13:12:35.724757Z",
     "iopub.status.busy": "2025-04-08T13:12:35.724441Z",
     "iopub.status.idle": "2025-04-08T13:12:35.728638Z",
     "shell.execute_reply": "2025-04-08T13:12:35.727861Z"
    },
    "papermill": {
     "duration": 0.012607,
     "end_time": "2025-04-08T13:12:35.730033",
     "exception": false,
     "start_time": "2025-04-08T13:12:35.717426",
     "status": "completed"
    },
    "tags": []
   },
   "outputs": [],
   "source": [
    "def execute_query(sql: str) -> list[list[str]]:\n",
    "    \"\"\"Execute an SQL statement, returning the results.\"\"\"\n",
    "    print(f' - DB CALL: execute_query({sql})')\n",
    "\n",
    "    cursor = conn.cursor()\n",
    "\n",
    "    cursor.execute(sql)\n",
    "    return cursor.fetchall()\n"
   ]
  },
  {
   "cell_type": "code",
   "execution_count": 15,
   "id": "f6c65abf",
   "metadata": {
    "execution": {
     "iopub.execute_input": "2025-04-08T13:12:35.743628Z",
     "iopub.status.busy": "2025-04-08T13:12:35.743259Z",
     "iopub.status.idle": "2025-04-08T13:12:35.751407Z",
     "shell.execute_reply": "2025-04-08T13:12:35.750611Z"
    },
    "papermill": {
     "duration": 0.016534,
     "end_time": "2025-04-08T13:12:35.752856",
     "exception": false,
     "start_time": "2025-04-08T13:12:35.736322",
     "status": "completed"
    },
    "tags": []
   },
   "outputs": [
    {
     "name": "stdout",
     "output_type": "stream",
     "text": [
      " - DB CALL: describe_table(transuction)\n"
     ]
    },
    {
     "data": {
      "text/plain": [
       "[('Receipt No.', 'TEXT'),\n",
       " ('Completion Time', 'TEXT'),\n",
       " ('Details', 'TEXT'),\n",
       " ('Transaction Status', 'TEXT'),\n",
       " ('Paid In', 'TEXT'),\n",
       " ('Withdrawn', 'TEXT'),\n",
       " ('Balance', 'TEXT'),\n",
       " ('Unnamed: 2', 'TEXT'),\n",
       " ('Unnamed: 3', 'TEXT'),\n",
       " ('Unnamed: 4', 'TEXT')]"
      ]
     },
     "execution_count": 15,
     "metadata": {},
     "output_type": "execute_result"
    }
   ],
   "source": [
    "def describe_table(table_name: str) -> list[tuple[str, str]]:\n",
    "    \"\"\"Look up the table schema.\n",
    "\n",
    "    Returns:\n",
    "      List of columns, where each entry is a tuple of (column, type).\n",
    "    \"\"\"\n",
    "    print(f' - DB CALL: describe_table({table_name})')\n",
    "\n",
    "    cursor = conn.cursor()\n",
    "\n",
    "    cursor.execute(f\"PRAGMA table_info({table_name});\")\n",
    "\n",
    "    schema = cursor.fetchall()\n",
    "    # [column index, column name, column type, ...]\n",
    "    return [(col[1], col[2]) for col in schema]\n",
    "\n",
    "\n",
    "describe_table(\"transuction\")"
   ]
  },
  {
   "cell_type": "code",
   "execution_count": 16,
   "id": "5e8c91b1",
   "metadata": {
    "execution": {
     "iopub.execute_input": "2025-04-08T13:12:35.766874Z",
     "iopub.status.busy": "2025-04-08T13:12:35.766515Z",
     "iopub.status.idle": "2025-04-08T13:12:35.773674Z",
     "shell.execute_reply": "2025-04-08T13:12:35.772498Z"
    },
    "papermill": {
     "duration": 0.016286,
     "end_time": "2025-04-08T13:12:35.775501",
     "exception": false,
     "start_time": "2025-04-08T13:12:35.759215",
     "status": "completed"
    },
    "tags": []
   },
   "outputs": [
    {
     "name": "stdout",
     "output_type": "stream",
     "text": [
      " - DB CALL: describe_table(summary)\n"
     ]
    },
    {
     "data": {
      "text/plain": [
       "[('Month', 'TEXT'),\n",
       " ('Paid In', 'REAL'),\n",
       " ('Withdrawn', 'REAL'),\n",
       " ('Net Amount', 'REAL'),\n",
       " ('Transaction Count', 'INTEGER'),\n",
       " ('Bill Payment', 'INTEGER'),\n",
       " ('Gambling', 'INTEGER'),\n",
       " ('Income', 'INTEGER'),\n",
       " ('Loan Related', 'INTEGER'),\n",
       " ('Other', 'INTEGER'),\n",
       " ('Peer Transfer', 'INTEGER'),\n",
       " ('Utilities', 'INTEGER'),\n",
       " ('Loan Expense Ratio', 'REAL'),\n",
       " ('Bill Expense Ratio', 'REAL')]"
      ]
     },
     "execution_count": 16,
     "metadata": {},
     "output_type": "execute_result"
    }
   ],
   "source": [
    "describe_table(\"summary\")"
   ]
  },
  {
   "cell_type": "code",
   "execution_count": 17,
   "id": "8023f6a1",
   "metadata": {
    "execution": {
     "iopub.execute_input": "2025-04-08T13:12:35.789843Z",
     "iopub.status.busy": "2025-04-08T13:12:35.789487Z",
     "iopub.status.idle": "2025-04-08T13:12:36.077224Z",
     "shell.execute_reply": "2025-04-08T13:12:36.076203Z"
    },
    "papermill": {
     "duration": 0.296973,
     "end_time": "2025-04-08T13:12:36.079183",
     "exception": false,
     "start_time": "2025-04-08T13:12:35.782210",
     "status": "completed"
    },
    "tags": []
   },
   "outputs": [],
   "source": [
    "from google import genai\n",
    "from kaggle_secrets import UserSecretsClient\n",
    "\n",
    "\n",
    "GOOGLE_API_KEY = UserSecretsClient().get_secret(\"GOOGLE_API_KEY\")\n",
    "client = genai.Client(api_key=GOOGLE_API_KEY)\n",
    "# These are the Python functions defined above.\n",
    "db_tools = [list_tables, describe_table, execute_query]\n",
    "\n",
    "instruction = \"\"\"You are a helpful chatbot that can interact with an SQL database\n",
    "for a computer store. You will take the users questions and turn them into SQL\n",
    "queries using the tools available. Once you have the information you need, you will\n",
    "answer the user's question using the data returned.\n",
    "\n",
    "Use list_tables to see what tables are present, describe_table to understand the\n",
    "schema, and execute_query to issue an SQL SELECT query.\"\"\"\n",
    "\n",
    "client = genai.Client(api_key=GOOGLE_API_KEY)\n",
    "\n",
    "# Start a chat with automatic function calling enabled.\n",
    "chat = client.chats.create(\n",
    "    model=\"gemini-2.0-flash\",\n",
    "    config=types.GenerateContentConfig(\n",
    "        system_instruction=instruction,\n",
    "        tools=db_tools,\n",
    "    ),\n",
    ")"
   ]
  },
  {
   "cell_type": "code",
   "execution_count": 18,
   "id": "4e31546a",
   "metadata": {
    "execution": {
     "iopub.execute_input": "2025-04-08T13:12:36.093922Z",
     "iopub.status.busy": "2025-04-08T13:12:36.093542Z",
     "iopub.status.idle": "2025-04-08T13:12:41.159198Z",
     "shell.execute_reply": "2025-04-08T13:12:41.158152Z"
    },
    "papermill": {
     "duration": 5.074627,
     "end_time": "2025-04-08T13:12:41.160672",
     "exception": false,
     "start_time": "2025-04-08T13:12:36.086045",
     "status": "completed"
    },
    "tags": []
   },
   "outputs": [
    {
     "name": "stdout",
     "output_type": "stream",
     "text": [
      " - DB CALL: execute_query(SELECT count(*) FROM transaction WHERE Details LIKE '%Moureen%';)\n",
      " - DB CALL: execute_query(SELECT count(*) FROM Transactions WHERE Details LIKE '%Moureen%';)\n",
      " - DB CALL: list_tables()\n",
      " - DB CALL: execute_query(SELECT count(*) FROM transuction WHERE Details LIKE '%Moureen%';)\n",
      "\n",
      "There are 48 transactions involving Moureen in the Details column of the transuction table.\n",
      "\n"
     ]
    }
   ],
   "source": [
    "resp = chat.send_message(\"how many transuctions involved moureen on the Details column of transuction table?\")\n",
    "print(f\"\\n{resp.text}\")"
   ]
  },
  {
   "cell_type": "code",
   "execution_count": 19,
   "id": "dd8620d2",
   "metadata": {
    "execution": {
     "iopub.execute_input": "2025-04-08T13:12:41.176279Z",
     "iopub.status.busy": "2025-04-08T13:12:41.175964Z",
     "iopub.status.idle": "2025-04-08T13:12:58.133176Z",
     "shell.execute_reply": "2025-04-08T13:12:58.132114Z"
    },
    "papermill": {
     "duration": 16.966875,
     "end_time": "2025-04-08T13:12:58.134891",
     "exception": false,
     "start_time": "2025-04-08T13:12:41.168016",
     "status": "completed"
    },
    "tags": []
   },
   "outputs": [
    {
     "name": "stdout",
     "output_type": "stream",
     "text": [
      " - DB CALL: execute_query(SELECT * FROM transuction WHERE Details LIKE '%Moureen%';)\n"
     ]
    },
    {
     "data": {
      "text/markdown": [
       "\n",
       "Here are the details of the 48 transactions involving Moureen:\n",
       "\n",
       "[\n",
       "  [\"TA32TLYC5G\", \"2025-01-03 15:43:00\", \"Funds received from - 07******134 Moureen Wanga\", \"Completed\", \"100.0\", null, \"100.0\", null, null, null],\n",
       "  [\"TA34TM3HGW\", \"2025-01-03 15:44:00\", \"Funds received from - 07******134 Moureen Wanga\", \"Completed\", \"100.0\", null, \"100.0\", null, null, null],\n",
       "  [\"TAE27N8QI0\", \"2025-01-14 20:42:00\", \"Funds received from - 07******134 Moureen Wanga\", \"Completed\", \"100.00\", null, \"100.00\", null, null, null],\n",
       "  [\"TAE47NZ0FY\", \"2025-01-14 20:46:00\", \"Funds received from - 07******134 Moureen Wanga\", \"Completed\", \"40.00\", null, \"110.11\", null, null, null],\n",
       "  [\"TAF0AKZBX6\", \"2025-01-15 17:01:00\", \"Funds received from - 07******134 Moureen Wanga\", \"Completed\", \"2,000.00\", null, \"2,000.00\", null, null, null],\n",
       "  [\"TAF8ALMOD8\", \"2025-01-15 17:05:00\", \"Funds received from - 07******134 Moureen Wanga\", \"Completed\", \"40.00\", null, \"1,969.91\", null, null, null],\n",
       "  [\"TAG9FQX7QH\", \"2025-01-16 19:50:00\", \"Funds received from - 07******134 Moureen Wanga\", \"Completed\", \"100.00\", null, \"1,209.91\", null, null, null],\n",
       "  [\"TAG6FRID5S\", \"2025-01-16 19:52:00\", \"Funds received from - 07******134 Moureen Wanga\", \"Completed\", \"40.00\", null, \"1,249.91\", null, null, null],\n",
       "  [\"TBN76LM6AH\", \"2025-02-23 17:34:00\", \"Funds received from - 07******134 Moureen Wanga\", \"Completed\", \"100.00\", null, \"1,289.67\", null, null, null],\n",
       "  [\"TBN56LZ37D\", \"2025-02-23 17:36:00\", \"Funds received from - 07******134 Moureen Wanga\", \"Completed\", \"50.00\", null, \"1,339.67\", null, null, null],\n",
       "  [\"TBO5C9P2DJ\", \"2025-02-24 20:59:00\", \"Funds received from - 07******134 Moureen Wanga\", \"Completed\", \"100.00\", null, \"1,332.67\", null, null, null],\n",
       "  [\"TBO5CA6IV3\", \"2025-02-24 21:01:00\", \"Funds received from - 07******134 Moureen Wanga\", \"Completed\", \"50.00\", null, \"1,382.67\", null, null, null],\n",
       "  [\"TBR5OSAI91\", \"2025-02-27 18:04:00\", \"Customer Transfer to - 07******134 Moureen Wanga\", \"Completed\", null, \"-500.0\", \"4,967.67\", null, null, null],\n",
       "  [\"TC214J0S4B\", \"2025-03-02 19:28:00\", \"Funds received from - 07******134 Moureen Wanga\", \"Completed\", \"100.0\", null, \"1,193.67\", null, null, null],\n",
       "  [\"TC224KEJ5A\", \"2025-03-02 19:33:00\", \"Funds received from - 07******134 Moureen Wanga\", \"Completed\", \"50.0\", null, \"1,243.67\", null, null, null],\n",
       "  [\"TC329OUB30\", \"2025-03-03 20:24:00\", \"Funds received from - 07******134 Moureen Wanga\", \"Completed\", \"100.0\", null, \"948.67\", null, null, null],\n",
       "  [\"TC319P3K77\", \"2025-03-03 20:25:00\", \"Funds received from - 07******134 Moureen Wanga\", \"Completed\", \"50.0\", null, \"998.67\", null, null, null],\n",
       "  [\"TC60NME4IE\", \"2025-03-06 19:41:00\", \"Funds received from - 07******134 Moureen Wanga\", \"Completed\", \"100.0\", null, \"843.67\", null, null, null],\n",
       "  [\"TC62NNASOY\", \"2025-03-06 19:44:00\", \"Funds received from - 07******134 Moureen Wanga\", \"Completed\", \"50.0\", null, \"893.67\", null, null, null],\n",
       "  [\"TC76SQN50O\", \"2025-03-07 20:33:00\", \"Funds received from - 07******134 Moureen Wanga\", \"Completed\", \"100.00\", null, \"863.67\", null, null, null],\n",
       "  [\"TC78SR7QIC\", \"2025-03-07 20:35:00\", \"Funds received from - 07******134 Moureen Wanga\", \"Completed\", \"50.00\", null, \"913.67\", null, null, null],\n",
       "  [\"TC83WVQFGD\", \"2025-03-08 19:07:00\", \"Funds received from - 07******134 Moureen Wanga\", \"Completed\", \"150.00\", null, \"913.67\", null, null, null],\n",
       "  [\"TC80XQ43KE\", \"2025-03-08 21:16:00\", \"Funds received from - 07******134 Moureen Wanga\", \"Completed\", \"3,000.00\", null, \"3,913.67\", null, null, null],\n",
       "  [\"TC932IASAP\", \"2025-03-09 19:26:00\", \"Funds received from - 07******134 Moureen Wanga\", \"Completed\", \"150.00\", null, \"3,953.67\", null, null, null],\n",
       "  [\"TCB6BR8Q22\", \"2025-03-11 20:15:00\", \"Funds received from - 07******134 Moureen Wanga\", \"Completed\", \"150.00\", null, \"1,354.67\", null, null, null],\n",
       "  [\"TCC6G16DT6\", \"2025-03-12 19:32:00\", \"Funds received from - 07******134 Moureen Wanga\", \"Completed\", \"150.00\", null, \"1,384.67\", null, null, null],\n",
       "  [\"TCE2MLUUFO\", \"2025-03-14 10:38:00\", \"Funds received from - 07******134 Moureen Wanga\", \"Completed\", \"150.00\", null, \"1,257.67\", null, null, null],\n",
       "  [\"TCH342UM7D\", \"2025-03-17 20:57:00\", \"Funds received from - 07******134 Moureen Wanga\", \"Completed\", \"100.00\", null, \"1,342.67\", null, null, null],\n",
       "  [\"TCI68C1DO8\", \"2025-03-18 20:29:00\", \"Funds received from - 07******134 Moureen Wanga\", \"Completed\", \"100.00\", null, \"1,302.67\", null, null, null],\n",
       "  [\"TCI68CUUFG\", \"2025-03-18 20:33:00\", \"Funds received from - 07******134 Moureen Wanga\", \"Completed\", \"40.00\", null, \"1,342.67\", null, null, null],\n",
       "  [\"TCJ3CCM46R\", \"2025-03-19 19:37:00\", \"Funds received from - 07******134 Moureen Wanga\", \"Completed\", \"100.00\", null, \"1,222.67\", null, null, null],\n",
       "  [\"TCJ5CCVH9T\", \"2025-03-19 19:38:00\", \"Funds received from - 07******134 Moureen Wanga\", \"Completed\", \"50.00\", null, \"1,272.67\", null, null, null],\n",
       "  [\"TCK9G9EDNT\", \"2025-03-20 18:29:00\", \"Funds received from - 07******134 Moureen Wanga\", \"Completed\", \"100.00\", null, \"7,085.67\", null, null, null],\n",
       "  [\"TCO3Y771W7\", \"2025-03-24 19:28:00\", \"Funds received from - 07******134 Moureen Wanga\", \"Completed\", \"47.00\", null, \"47.00\", null, null, null],\n",
       "  [\"TCP83QOK9Q\", \"2025-03-25 19:50:00\", \"Funds received from - 07******134 Moureen Wanga\", \"Completed\", \"100.00\", null, \"141.65\", null, null, null],\n",
       "  [\"TCP63R39FY\", \"2025-03-25 19:52:00\", \"Funds received from - 07******134 Moureen Wanga\", \"Completed\", \"50.00\", null, \"191.65\", null, null, null],\n",
       "  [\"TCQ08957L0\", \"2025-03-26 20:03:00\", \"Funds received from - 07******134 Moureen Wanga\", \"Completed\", \"100.00\", null, \"819.65\", null, null, null],\n",
       "  [\"TCQ589E8MJ\", \"2025-03-26 20:04:00\", \"Funds received from - 07******134 Moureen Wanga\", \"Completed\", \"50.00\", null, \"869.65\", null, null, null],\n",
       "  [\"TCU1OB0DO9\", \"2025-03-30 11:40:00\", \"Funds received from - 07******134 Moureen Wanga\", \"Completed\", \"100.0\", null, \"922.65\", null, null, null],\n",
       "  [\"TCU6OB9K3E\", \"2025-03-30 11:42:00\", \"Funds received from - 07******134 Moureen Wanga\", \"Completed\", \"50.0\", null, \"972.65\", null, null, null],\n",
       "  [\"TCV3V1XBO3\", \"2025-03-31 19:40:00\", \"Funds received from - 07******134 Moureen Wanga\", \"Completed\", \"100.0\", null, \"752.65\", null, null, null],\n",
       "  [\"TCV9V2FLVT\", \"2025-03-31 19:42:00\", \"Funds received from - 07******134 Moureen Wanga\", \"Completed\", \"20.0\", null, \"772.65\", null, null, null],\n",
       "  [\"TD15ZFVUAJ\", \"2025-04-01 18:57:00\", \"Funds received from - 07******134 Moureen Wanga\", \"Completed\", \"100.0\", null, \"722.65\", null, null, null],\n",
       "  [\"TD15ZG8PWJ\", \"2025-04-01 18:58:00\", \"Funds received from - 07******134 Moureen Wanga\", \"Completed\", \"50.0\", null, \"772.65\", null, null, null],\n",
       "  [\"TD295PBX8R\", \"2025-04-02 19:53:00\", \"Funds received from - 07******134 Moureen Wanga\", \"Completed\", \"100.0\", null, \"487.65\", null, null, null],\n",
       "  [\"TD329WDUGC\", \"2025-04-03 18:22:00\", \"Funds received from - 07******134 Moureen Wanga\", \"Completed\", \"150.0\", null, \"437.65\", null, null, null],\n",
       "  [\"TD43F5H5XN\", \"2025-04-04 19:10:00\", \"Funds received from - 07******134 Moureen Wanga\", \"Completed\", \"100.0\", null, \"447.65\", null, null, null],\n",
       "  [\"TD48F5Z54Y\", \"2025-04-04 19:12:00\", \"Funds received from - 07******134 Moureen Wanga\", \"Completed\", \"50.0\", null, \"497.65\", null, null, null]\n",
       "]\n"
      ],
      "text/plain": [
       "<IPython.core.display.Markdown object>"
      ]
     },
     "execution_count": 19,
     "metadata": {},
     "output_type": "execute_result"
    }
   ],
   "source": [
    "resp = chat.send_message(\"can i see them\")\n",
    "Markdown(f\"\\n{resp.text}\")"
   ]
  },
  {
   "cell_type": "code",
   "execution_count": 20,
   "id": "8a524194",
   "metadata": {
    "execution": {
     "iopub.execute_input": "2025-04-08T13:12:58.150283Z",
     "iopub.status.busy": "2025-04-08T13:12:58.149961Z",
     "iopub.status.idle": "2025-04-08T13:13:00.793950Z",
     "shell.execute_reply": "2025-04-08T13:13:00.792979Z"
    },
    "papermill": {
     "duration": 2.653278,
     "end_time": "2025-04-08T13:13:00.795432",
     "exception": false,
     "start_time": "2025-04-08T13:12:58.142154",
     "status": "completed"
    },
    "tags": []
   },
   "outputs": [
    {
     "name": "stdout",
     "output_type": "stream",
     "text": [
      " - DB CALL: describe_table(summary)\n"
     ]
    },
    {
     "data": {
      "text/markdown": [
       "\n",
       "I cannot calculate your total monthly spending because the summary table does not distinguish individual spending. The 'Withdrawn' column represents the total amount withdrawn per month, but it doesn't specify what that money was spent on. To determine your total monthly spending, I would need more detailed information about each transaction, categorizing them as spending.\n"
      ],
      "text/plain": [
       "<IPython.core.display.Markdown object>"
      ]
     },
     "execution_count": 20,
     "metadata": {},
     "output_type": "execute_result"
    }
   ],
   "source": [
    "resp = chat.send_message(\"What is my total spending monthly? as per summary table based on 'Transaction Count'\")\n",
    "Markdown(f\"\\n{resp.text}\")\n"
   ]
  },
  {
   "cell_type": "markdown",
   "id": "0dea3299",
   "metadata": {
    "papermill": {
     "duration": 0.007024,
     "end_time": "2025-04-08T13:13:00.809886",
     "exception": false,
     "start_time": "2025-04-08T13:13:00.802862",
     "status": "completed"
    },
    "tags": []
   },
   "source": [
    "## conclution\n",
    "\n",
    "Wow!this is great and huge thank you to the google team for the wonderfull course."
   ]
  },
  {
   "cell_type": "code",
   "execution_count": null,
   "id": "99f89fef",
   "metadata": {
    "papermill": {
     "duration": 0.006929,
     "end_time": "2025-04-08T13:13:00.823960",
     "exception": false,
     "start_time": "2025-04-08T13:13:00.817031",
     "status": "completed"
    },
    "tags": []
   },
   "outputs": [],
   "source": []
  }
 ],
 "metadata": {
  "kaggle": {
   "accelerator": "none",
   "dataSources": [
    {
     "sourceId": 97258,
     "sourceType": "competition"
    },
    {
     "datasetId": 7055229,
     "sourceId": 11284218,
     "sourceType": "datasetVersion"
    },
    {
     "datasetId": 7055301,
     "sourceId": 11284316,
     "sourceType": "datasetVersion"
    }
   ],
   "dockerImageVersionId": 30918,
   "isGpuEnabled": false,
   "isInternetEnabled": true,
   "language": "python",
   "sourceType": "notebook"
  },
  "kernelspec": {
   "display_name": "Python 3",
   "language": "python",
   "name": "python3"
  },
  "language_info": {
   "codemirror_mode": {
    "name": "ipython",
    "version": 3
   },
   "file_extension": ".py",
   "mimetype": "text/x-python",
   "name": "python",
   "nbconvert_exporter": "python",
   "pygments_lexer": "ipython3",
   "version": "3.10.12"
  },
  "papermill": {
   "default_parameters": {},
   "duration": 99.622169,
   "end_time": "2025-04-08T13:13:04.398736",
   "environment_variables": {},
   "exception": null,
   "input_path": "__notebook__.ipynb",
   "output_path": "__notebook__.ipynb",
   "parameters": {},
   "start_time": "2025-04-08T13:11:24.776567",
   "version": "2.6.0"
  }
 },
 "nbformat": 4,
 "nbformat_minor": 5
}
