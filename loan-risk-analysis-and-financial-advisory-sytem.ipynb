{
 "cells": [
  {
   "cell_type": "markdown",
   "id": "51148ff0",
   "metadata": {
    "papermill": {
     "duration": 0.006056,
     "end_time": "2025-04-08T13:14:06.472141",
     "exception": false,
     "start_time": "2025-04-08T13:14:06.466085",
     "status": "completed"
    },
    "tags": []
   },
   "source": [
    "### **Introduction**\n",
    "\n",
    "In this project, I utilized Google’s Gemini model to develop an intelligent system for financial document analysis and personalized loan advisory, addressing a pressing issue in Kenya’s financial landscape as reported by a kenyan bank analysis report,I know this is not an issue facing this country only its world wide: the **rising rate of non-performing loans**. With more individuals and businesses struggling to repay loans—partly due to economic uncertainty and poor financial planning—there is an urgent need for smarter, data-driven tools that can both inform lending decisions and guide borrowers toward better financial health.\n",
    "\n",
    "To begin, I took advantage of **Gemini’s large context window** to analyze the Kenya Financial Performance Document 2023, published by the Kenya Bureau of Standards (KEBS). This detailed national report contains extensive economic data, including trends that influence lending performance, credit access, and default risk. Processing such a large document in its entirety allowed the model to extract contextually relevant insights—such as sector-specific risks and macroeconomic trends—that are crucial for financial institutions trying to assess lending environments more accurately.\n",
    "\n",
    "To make the system responsive to practical loan advisory needs, I applied **few-shot prompting**. By showing the model a handful of curated examples—such as how to evaluate a borrower’s spending behavior, savings discipline, or debt-to-income ratio:\n",
    "—I was able to shape its outputs to give advice that aligns with real-world lending criteria. This approach helps borrowers receive tailored financial feedback, improving their preparedness and reducing the chances of default.\n",
    "\n",
    "Furthermore, I enhanced user interaction by integrating **function calling**, enabling the model to work with real-world financial data from my M-Pesa statement. For context, M-Pesa is a widely used mobile money service in Kenya that allows people to send money, pay bills, and make purchases directly from their phones. I downloaded my M-Pesa statement, converted it into a CSV, and then imported it into a SQL table. This allowed the model to run natural language queries like “How much did I spend on recurring expenses last month?” or “What is my average transaction amount?”, turning complex financial behavior into digestible insights.\n",
    "\n",
    "By combining these techniques—large-context analysis, few-shot learning, and functional calling —this project contributes a practical solution to the growing challenge of non performning loans. It empowers individuals with AI-driven financial literacy while giving lenders smarter tools to assess creditworthiness and manage risk more proactively."
   ]
  },
  {
   "cell_type": "code",
   "execution_count": 1,
   "id": "7be03ff9",
   "metadata": {
    "execution": {
     "iopub.execute_input": "2025-04-08T13:14:06.484293Z",
     "iopub.status.busy": "2025-04-08T13:14:06.483828Z",
     "iopub.status.idle": "2025-04-08T13:14:07.860948Z",
     "shell.execute_reply": "2025-04-08T13:14:07.859618Z"
    },
    "papermill": {
     "duration": 1.385293,
     "end_time": "2025-04-08T13:14:07.862770",
     "exception": false,
     "start_time": "2025-04-08T13:14:06.477477",
     "status": "completed"
    },
    "tags": []
   },
   "outputs": [
    {
     "name": "stdout",
     "output_type": "stream",
     "text": [
      "/kaggle/input/statements/ml_ready_features.csv\n",
      "/kaggle/input/statements/merged_mpesa.csv\n",
      "/kaggle/input/economic/Facts-Figures-2024.pdf\n"
     ]
    }
   ],
   "source": [
    "# This Python 3 environment comes with many helpful analytics libraries installed\n",
    "# It is defined by the kaggle/python Docker image: https://github.com/kaggle/docker-python\n",
    "# For example, here's several helpful packages to load\n",
    "\n",
    "import numpy as np # linear algebra\n",
    "import pandas as pd # data processing, CSV file I/O (e.g. pd.read_csv)\n",
    "\n",
    "# Input data files are available in the read-only \"../input/\" directory\n",
    "# For example, running this (by clicking run or pressing Shift+Enter) will list all files under the input directory\n",
    "\n",
    "import os\n",
    "for dirname, _, filenames in os.walk('/kaggle/input'):\n",
    "    for filename in filenames:\n",
    "        print(os.path.join(dirname, filename))\n",
    "\n",
    "# You can write up to 20GB to the current directory (/kaggle/working/) that gets preserved as output when you create a version using \"Save & Run All\" \n",
    "# You can also write temporary files to /kaggle/temp/, but they won't be saved outside of the current session"
   ]
  },
  {
   "cell_type": "code",
   "execution_count": 2,
   "id": "b9abef41",
   "metadata": {
    "execution": {
     "iopub.execute_input": "2025-04-08T13:14:07.875815Z",
     "iopub.status.busy": "2025-04-08T13:14:07.875315Z",
     "iopub.status.idle": "2025-04-08T13:14:22.605486Z",
     "shell.execute_reply": "2025-04-08T13:14:22.604127Z"
    },
    "papermill": {
     "duration": 14.739593,
     "end_time": "2025-04-08T13:14:22.607910",
     "exception": false,
     "start_time": "2025-04-08T13:14:07.868317",
     "status": "completed"
    },
    "tags": []
   },
   "outputs": [
    {
     "name": "stdout",
     "output_type": "stream",
     "text": [
      "\u001b[2K   \u001b[90m━━━━━━━━━━━━━━━━━━━━━━━━━━━━━━━━━━━━━━━━\u001b[0m \u001b[32m232.6/232.6 kB\u001b[0m \u001b[31m4.4 MB/s\u001b[0m eta \u001b[36m0:00:00\u001b[0m\r\n",
      "\u001b[?25h  Preparing metadata (setup.py) ... \u001b[?25l\u001b[?25hdone\r\n",
      "  Building wheel for srt (setup.py) ... \u001b[?25l\u001b[?25hdone\r\n"
     ]
    }
   ],
   "source": [
    "!pip install -qqqU PyPDF2\n",
    "!pip install -qqqU edge-tts"
   ]
  },
  {
   "cell_type": "code",
   "execution_count": 3,
   "id": "54731902",
   "metadata": {
    "execution": {
     "iopub.execute_input": "2025-04-08T13:14:22.620677Z",
     "iopub.status.busy": "2025-04-08T13:14:22.620306Z",
     "iopub.status.idle": "2025-04-08T13:14:25.982568Z",
     "shell.execute_reply": "2025-04-08T13:14:25.981572Z"
    },
    "papermill": {
     "duration": 3.370712,
     "end_time": "2025-04-08T13:14:25.984338",
     "exception": false,
     "start_time": "2025-04-08T13:14:22.613626",
     "status": "completed"
    },
    "tags": []
   },
   "outputs": [],
   "source": [
    "import google.generativeai as genai\n",
    "from google.genai import types\n",
    "import sqlite3\n",
    "import PyPDF2\n",
    "from IPython.display import HTML, Markdown, display"
   ]
  },
  {
   "cell_type": "code",
   "execution_count": 4,
   "id": "d0eeca29",
   "metadata": {
    "execution": {
     "iopub.execute_input": "2025-04-08T13:14:25.997514Z",
     "iopub.status.busy": "2025-04-08T13:14:25.996946Z",
     "iopub.status.idle": "2025-04-08T13:14:26.289008Z",
     "shell.execute_reply": "2025-04-08T13:14:26.287784Z"
    },
    "papermill": {
     "duration": 0.300724,
     "end_time": "2025-04-08T13:14:26.290873",
     "exception": false,
     "start_time": "2025-04-08T13:14:25.990149",
     "status": "completed"
    },
    "tags": []
   },
   "outputs": [],
   "source": [
    "from kaggle_secrets import UserSecretsClient\n",
    "user_secrets = UserSecretsClient()\n",
    "secret_value = user_secrets.get_secret(\"gemini_key\")\n",
    "genai.configure(api_key=secret_value)"
   ]
  },
  {
   "cell_type": "code",
   "execution_count": 5,
   "id": "46d10d87",
   "metadata": {
    "execution": {
     "iopub.execute_input": "2025-04-08T13:14:26.303588Z",
     "iopub.status.busy": "2025-04-08T13:14:26.303269Z",
     "iopub.status.idle": "2025-04-08T13:14:26.307707Z",
     "shell.execute_reply": "2025-04-08T13:14:26.306722Z"
    },
    "papermill": {
     "duration": 0.012402,
     "end_time": "2025-04-08T13:14:26.309276",
     "exception": false,
     "start_time": "2025-04-08T13:14:26.296874",
     "status": "completed"
    },
    "tags": []
   },
   "outputs": [],
   "source": [
    "generation_config = {\n",
    "  \"temperature\": 0.3,\n",
    "  \"top_p\": 0.95,\n",
    "  \"top_k\": 64,\n",
    "  \"max_output_tokens\": 8192,\n",
    "  \"response_mime_type\": \"text/plain\",\n",
    "}\n",
    "\n",
    "model = genai.GenerativeModel(\n",
    "  model_name=\"gemini-1.5-flash\",\n",
    "  generation_config=generation_config,\n",
    ")"
   ]
  },
  {
   "cell_type": "markdown",
   "id": "322a3bc9",
   "metadata": {
    "papermill": {
     "duration": 0.005371,
     "end_time": "2025-04-08T13:14:26.320284",
     "exception": false,
     "start_time": "2025-04-08T13:14:26.314913",
     "status": "completed"
    },
    "tags": []
   },
   "source": [
    "## Gemini’s large context window to analyze the Kenya Financial Performance Document 2023,"
   ]
  },
  {
   "cell_type": "code",
   "execution_count": 6,
   "id": "597989e4",
   "metadata": {
    "execution": {
     "iopub.execute_input": "2025-04-08T13:14:26.332443Z",
     "iopub.status.busy": "2025-04-08T13:14:26.332111Z",
     "iopub.status.idle": "2025-04-08T13:14:26.336028Z",
     "shell.execute_reply": "2025-04-08T13:14:26.335178Z"
    },
    "papermill": {
     "duration": 0.011654,
     "end_time": "2025-04-08T13:14:26.337539",
     "exception": false,
     "start_time": "2025-04-08T13:14:26.325885",
     "status": "completed"
    },
    "tags": []
   },
   "outputs": [],
   "source": [
    "pdf_file='/kaggle/input/economic/Facts-Figures-2024.pdf'"
   ]
  },
  {
   "cell_type": "code",
   "execution_count": 7,
   "id": "747a6b43",
   "metadata": {
    "execution": {
     "iopub.execute_input": "2025-04-08T13:14:26.349887Z",
     "iopub.status.busy": "2025-04-08T13:14:26.349524Z",
     "iopub.status.idle": "2025-04-08T13:14:30.283445Z",
     "shell.execute_reply": "2025-04-08T13:14:30.282198Z"
    },
    "papermill": {
     "duration": 3.942102,
     "end_time": "2025-04-08T13:14:30.285398",
     "exception": false,
     "start_time": "2025-04-08T13:14:26.343296",
     "status": "completed"
    },
    "tags": []
   },
   "outputs": [
    {
     "name": "stdout",
     "output_type": "stream",
     "text": [
      "genai.File({\n",
      "    'name': 'files/a0u8s2kldx8a',\n",
      "    'display_name': 'Facts-Figures-2024.pdf',\n",
      "    'mime_type': 'application/pdf',\n",
      "    'sha256_hash': 'MmJhYjBjODdhNzBiM2U2YWY1MWNiNDU1YzAzYWNmOTU3YTk2Mjc1NWE4MzliM2NhN2I5NjJjMmRmNjFkY2JmYw==',\n",
      "    'size_bytes': '8257036',\n",
      "    'state': 'ACTIVE',\n",
      "    'uri': 'https://generativelanguage.googleapis.com/v1beta/files/a0u8s2kldx8a',\n",
      "    'create_time': '2025-04-08T13:14:29.547271Z',\n",
      "    'expiration_time': '2025-04-10T13:14:29.519654243Z',\n",
      "    'update_time': '2025-04-08T13:14:29.547271Z'})\n"
     ]
    }
   ],
   "source": [
    "my_file = genai.upload_file(pdf_file)\n",
    "file_name = my_file.name\n",
    "myfile = genai.get_file(file_name)\n",
    "\n",
    "print(myfile)"
   ]
  },
  {
   "cell_type": "markdown",
   "id": "4554c9d1",
   "metadata": {
    "papermill": {
     "duration": 0.005587,
     "end_time": "2025-04-08T13:14:30.297208",
     "exception": false,
     "start_time": "2025-04-08T13:14:30.291621",
     "status": "completed"
    },
    "tags": []
   },
   "source": [
    "> testing the model on the pdf file"
   ]
  },
  {
   "cell_type": "code",
   "execution_count": 8,
   "id": "0af94a1c",
   "metadata": {
    "execution": {
     "iopub.execute_input": "2025-04-08T13:14:30.309851Z",
     "iopub.status.busy": "2025-04-08T13:14:30.309489Z",
     "iopub.status.idle": "2025-04-08T13:14:49.922580Z",
     "shell.execute_reply": "2025-04-08T13:14:49.921393Z"
    },
    "papermill": {
     "duration": 19.621432,
     "end_time": "2025-04-08T13:14:49.924392",
     "exception": false,
     "start_time": "2025-04-08T13:14:30.302960",
     "status": "completed"
    },
    "tags": []
   },
   "outputs": [
    {
     "data": {
      "text/markdown": [
       "This is the Kenya Facts and Figures 2024 publication from the Kenya National Bureau of Statistics (KNBS).  The document provides a summary of key economic and social indicators for Kenya from 2019 to 2023.  The data is presented in charts and tables covering various sectors, including:\n",
       "\n",
       "* **National Accounts:** GDP, income, savings, etc.\n",
       "* **Employment and Earnings:** Wage employment, wages, inflation.\n",
       "* **Government Finance:** Revenue, expenditure, public debt.\n",
       "* **International Trade:** Exports, imports, balance of trade.\n",
       "* **Agriculture Sector:** Crop production, livestock.\n",
       "* **Energy Sector:** Electricity generation and consumption, petroleum.\n",
       "* **Manufacturing Sector:** Production indices.\n",
       "* **Building and Construction Sector:** Road infrastructure.\n",
       "* **Tourism Sector:** Visitor arrivals.\n",
       "* **Transport Sector:** Passenger and cargo traffic.\n",
       "* **Communication Sector:** Telephone and internet subscriptions.\n",
       "* **Education Sector:** Student enrollment, HELB statistics.\n",
       "* **Health Sector:** Healthcare personnel, facilities.\n",
       "* **Governance Sector:** Identity cards, passports, crime statistics.\n",
       "* **Social and Economic Inclusion:** Affirmative action funds, social protection.\n",
       "\n",
       "\n",
       "Essentially, it's a statistical overview of Kenya's performance across key sectors during the specified period.\n"
      ],
      "text/plain": [
       "<IPython.core.display.Markdown object>"
      ]
     },
     "execution_count": 8,
     "metadata": {},
     "output_type": "execute_result"
    }
   ],
   "source": [
    "result = model.generate_content(\n",
    "    [myfile, \"\\n\\n\", \"what is the paper provided about?\"]\n",
    ")\n",
    "Markdown(result.text)"
   ]
  },
  {
   "cell_type": "markdown",
   "id": "aacaeacf",
   "metadata": {
    "papermill": {
     "duration": 0.00546,
     "end_time": "2025-04-08T13:14:49.935841",
     "exception": false,
     "start_time": "2025-04-08T13:14:49.930381",
     "status": "completed"
    },
    "tags": []
   },
   "source": [
    "## few-shot prompting"
   ]
  },
  {
   "cell_type": "code",
   "execution_count": 9,
   "id": "abb7ba98",
   "metadata": {
    "execution": {
     "iopub.execute_input": "2025-04-08T13:14:49.948824Z",
     "iopub.status.busy": "2025-04-08T13:14:49.948445Z",
     "iopub.status.idle": "2025-04-08T13:15:14.628691Z",
     "shell.execute_reply": "2025-04-08T13:15:14.627690Z"
    },
    "papermill": {
     "duration": 24.688967,
     "end_time": "2025-04-08T13:15:14.630585",
     "exception": false,
     "start_time": "2025-04-08T13:14:49.941618",
     "status": "completed"
    },
    "tags": []
   },
   "outputs": [
    {
     "data": {
      "text/markdown": [
       "With a monthly income of KES 60,000, you have more flexibility in loan amounts compared to someone with a KES 20,000 income.  However, responsible borrowing remains crucial.  Let's analyze loan options for your cattle brokerage business, assuming a 12-month repayment period:\n",
       "\n",
       "**Loan Amount Recommendations:**\n",
       "\n",
       "* **Conservative Approach (30% of income):**  A conservative approach would allocate a maximum of 30% of your monthly income to loan repayments, which is KES 18,000 (KES 60,000 * 0.30).  Use a loan calculator (many are available online) with the interest rate offered by your lender to determine the maximum loan amount that fits this repayment. This leaves a significant buffer for unexpected expenses.\n",
       "\n",
       "* **Moderate Approach (40% of income):** A moderate approach would allow for loan repayments up to 40% of your income, or KES 24,000 (KES 60,000 * 0.40). Again, use a loan calculator with your lender's interest rate to find the corresponding maximum loan amount.\n",
       "\n",
       "* **Aggressive Approach (50% of income):**  While generally not recommended, an aggressive approach would use 50% of your income for repayments (KES 30,000).  This leaves less room for error and should only be considered if you have a very strong and predictable cash flow.  Use a loan calculator to determine the maximum loan amount.\n",
       "\n",
       "\n",
       "**Investment Recommendations for Your Cattle Brokerage Business:**\n",
       "\n",
       "Since you have an established business, the loan should be used strategically to expand your operations and increase profitability.  Here are some options:\n",
       "\n",
       "* **Improved Transportation:** Invest in reliable transportation (a vehicle or upgrading your current one) to efficiently move cattle between locations. This will reduce transportation costs and allow you to handle more transactions.\n",
       "\n",
       "* **Technology and Communication:** Invest in communication tools (better mobile phones, reliable internet access) and software to streamline your operations, manage client information, and improve communication with buyers and sellers.\n",
       "\n",
       "* **Networking and Market Expansion:**  Use some of the loan to attend livestock auctions, trade shows, or agricultural events to network with potential clients and expand your market reach.\n",
       "\n",
       "* **Improved Record Keeping:** Invest in accounting software or hire a bookkeeper to maintain accurate financial records. This will help you track your income and expenses, manage your finances effectively, and demonstrate your business's financial health to lenders.\n",
       "\n",
       "* **Training and Skill Enhancement:**  Consider investing in training to improve your negotiation skills, knowledge of cattle breeds and market trends, or animal health management.\n",
       "\n",
       "**Important Considerations:**\n",
       "\n",
       "* **Interest Rates:**  Compare interest rates from multiple lenders in Kenya to secure the most favorable terms.\n",
       "* **Loan Fees:** Factor in all associated fees (processing fees, early repayment penalties, etc.) into your calculations.\n",
       "* **Repayment Plan:** Create a detailed repayment plan that aligns with your business's cash flow.\n",
       "* **Emergency Fund:**  Maintain an emergency fund to handle unexpected expenses.\n",
       "* **Business Plan:**  A comprehensive business plan outlining your investment strategy and projected return on investment will strengthen your loan application.\n",
       "\n",
       "\n",
       "Remember, the best loan amount depends on your specific circumstances, risk tolerance, and the interest rate offered by lenders.  Always prioritize responsible borrowing and ensure that your loan investments align with your business goals and financial capacity.\n"
      ],
      "text/plain": [
       "<IPython.core.display.Markdown object>"
      ]
     },
     "execution_count": 9,
     "metadata": {},
     "output_type": "execute_result"
    }
   ],
   "source": [
    "few_shot_prompt=\"\"\"\n",
    "The provided document is a statistical report on Kenya, not a financial guide.use it when neccesary to provide tailored \n",
    "advice,for a particular request the advice should look like this :\n",
    "With a monthly income of KES 20,000 and a 12-month repayment period, it's crucial\n",
    "to apply for a loan amount that won't strain your finances. A general rule of thumb is\n",
    "to keep your loan repayments at no more than 30-40% of your monthly income. Let's\n",
    "analyze:\n",
    "Maximum Recommended Loan:\n",
    " Using the 40% rule, your maximum monthly repayment should be KES 8,000 (KES\n",
    "20,000\n",
    " 0.40). To determine the maximum loan amount, you'll need to know the interest rate\n",
    "offered by the lender. Let's assume an interest rate of 15% per annum (this is a\n",
    "common rate, but you should check with lenders for their current rates). You can use\n",
    "a loan calculator (many are available online) to determine the maximum loan amount\n",
    "that results in a monthly repayment of approximately KES 8,000 over 12 months. The\n",
    "actual amount will depend on the specific interest rate and any fees.\n",
    "Conservative Approach:\n",
    " A more conservative approach, especially given the inherent risks in business,\n",
    "would be to limit your monthly repayment to 30% of your income (KES 6,000). This\n",
    "leaves more room for unexpected expenses and ensures you can comfortably meet\n",
    "your obligations. Again, use a loan calculator to determine the corresponding loan\n",
    "amount.\n",
    "Investment Recommendations for Your Teaching Business:\n",
    "Since you're a teacher with an established business, the loan should be used to\n",
    "enhance your teaching capabilities and potentially increase your income. Here are\n",
    "some investment options:\n",
    "Improved Teaching Resources:\n",
    " Invest in high-quality teaching materials, technology (like a projector, interactive\n",
    "whiteboard, or educational software), or a comfortable and well-equipped learning\n",
    "space. This will improve the quality of your teaching and attract more students.\n",
    "Marketing and Advertising:\n",
    " Allocate funds to promote your teaching services. This could involve creating a\n",
    "professional website, running targeted online ads, distributing flyers in your\n",
    "community, or networking with schools and other institutions.\n",
    "Professional Development:\n",
    " Use some of the loan to attend workshops, conferences, or online courses to\n",
    "enhance your teaching skills and knowledge in your specific subject area. This will\n",
    "make you more competitive and attractive to potential students.\n",
    "Expansion of Services:\n",
    " If feasible, consider expanding your services. This could involve offering tutoring\n",
    "services, online courses, or workshops in addition to your regular teaching.\n",
    "Important Considerations:\n",
    "Interest Rates:\n",
    " Shop around and compare loan offers from different lenders in Kenya to find the\n",
    "best interest rate.\n",
    "Loan Fees:\n",
    " Be aware of any associated fees (processing fees, late payment penalties, etc.) and\n",
    "factor them into your calculations.\n",
    "Repayment Plan:\n",
    " Ensure you have a realistic repayment plan that aligns with your income and cash\n",
    "flow.\n",
    "Emergency Fund:\n",
    " Before taking out a loan, ensure you have an emergency fund to cover unexpected\n",
    "expenses. This will protect you if your business experiences a downturn.\n",
    "Before applying for any loan, create a detailed business plan outlining how you will\n",
    "use the loan and how it will generate a return on investment. This will help you secure\n",
    "the loan and ensure its successful utilization. \"\"\"\n",
    "\n",
    "borrowers_request = \"\"\"what amount of loan do you recomend for a person having a cattle brokerage bussiness with a monthly income \n",
    "of ksh.60000 and on an established bussiness\"\"\"\n",
    "\n",
    "\n",
    "result = model.generate_content(\n",
    "    [myfile,few_shot_prompt, \"\\n\\n\", borrowers_request]\n",
    ")\n",
    "Markdown(result.text)"
   ]
  },
  {
   "cell_type": "markdown",
   "id": "800ff4c2",
   "metadata": {
    "papermill": {
     "duration": 0.005534,
     "end_time": "2025-04-08T13:15:14.642417",
     "exception": false,
     "start_time": "2025-04-08T13:15:14.636883",
     "status": "completed"
    },
    "tags": []
   },
   "source": [
    "## function calling"
   ]
  },
  {
   "cell_type": "code",
   "execution_count": 10,
   "id": "58d90af8",
   "metadata": {
    "execution": {
     "iopub.execute_input": "2025-04-08T13:15:14.656025Z",
     "iopub.status.busy": "2025-04-08T13:15:14.655610Z",
     "iopub.status.idle": "2025-04-08T13:15:15.555902Z",
     "shell.execute_reply": "2025-04-08T13:15:15.554746Z"
    },
    "papermill": {
     "duration": 0.909104,
     "end_time": "2025-04-08T13:15:15.557814",
     "exception": false,
     "start_time": "2025-04-08T13:15:14.648710",
     "status": "completed"
    },
    "tags": []
   },
   "outputs": [],
   "source": [
    "%load_ext sql\n",
    "%sql sqlite:///pandas_to_sql.db"
   ]
  },
  {
   "cell_type": "code",
   "execution_count": 11,
   "id": "0e6232d3",
   "metadata": {
    "execution": {
     "iopub.execute_input": "2025-04-08T13:15:15.571451Z",
     "iopub.status.busy": "2025-04-08T13:15:15.571078Z",
     "iopub.status.idle": "2025-04-08T13:15:15.602083Z",
     "shell.execute_reply": "2025-04-08T13:15:15.600933Z"
    },
    "papermill": {
     "duration": 0.03986,
     "end_time": "2025-04-08T13:15:15.603966",
     "exception": false,
     "start_time": "2025-04-08T13:15:15.564106",
     "status": "completed"
    },
    "tags": []
   },
   "outputs": [],
   "source": [
    "df=pd.read_csv(\"/kaggle/input/statements/merged_mpesa.csv\")\n",
    "df1=pd.read_csv(\"/kaggle/input/statements/ml_ready_features.csv\")"
   ]
  },
  {
   "cell_type": "code",
   "execution_count": 12,
   "id": "fd31460a",
   "metadata": {
    "execution": {
     "iopub.execute_input": "2025-04-08T13:15:15.617458Z",
     "iopub.status.busy": "2025-04-08T13:15:15.617085Z",
     "iopub.status.idle": "2025-04-08T13:15:15.687484Z",
     "shell.execute_reply": "2025-04-08T13:15:15.686249Z"
    },
    "papermill": {
     "duration": 0.079145,
     "end_time": "2025-04-08T13:15:15.689263",
     "exception": false,
     "start_time": "2025-04-08T13:15:15.610118",
     "status": "completed"
    },
    "tags": []
   },
   "outputs": [
    {
     "data": {
      "text/plain": [
       "4"
      ]
     },
     "execution_count": 12,
     "metadata": {},
     "output_type": "execute_result"
    }
   ],
   "source": [
    "from io import StringIO\n",
    "\n",
    "# Convert DataFrame to SQLite\n",
    "db_file = \"pandas_to_sql.db\"\n",
    "conn = sqlite3.connect(db_file)\n",
    "df.to_sql(\"transuction\", conn, if_exists=\"replace\", index=False)\n",
    "df1.to_sql(\"summary\", conn, if_exists=\"replace\", index=False)"
   ]
  },
  {
   "cell_type": "code",
   "execution_count": 13,
   "id": "112b761c",
   "metadata": {
    "execution": {
     "iopub.execute_input": "2025-04-08T13:15:15.703166Z",
     "iopub.status.busy": "2025-04-08T13:15:15.702761Z",
     "iopub.status.idle": "2025-04-08T13:15:15.711328Z",
     "shell.execute_reply": "2025-04-08T13:15:15.710233Z"
    },
    "papermill": {
     "duration": 0.017258,
     "end_time": "2025-04-08T13:15:15.713028",
     "exception": false,
     "start_time": "2025-04-08T13:15:15.695770",
     "status": "completed"
    },
    "tags": []
   },
   "outputs": [
    {
     "name": "stdout",
     "output_type": "stream",
     "text": [
      " - DB CALL: list_tables()\n"
     ]
    },
    {
     "data": {
      "text/plain": [
       "['transuction', 'summary']"
      ]
     },
     "execution_count": 13,
     "metadata": {},
     "output_type": "execute_result"
    }
   ],
   "source": [
    "def list_tables() -> list[str]:\n",
    "    \"\"\"Retrieve the names of all tables in the database.\"\"\"\n",
    "    # Include print logging statements so you can see when functions are being called.\n",
    "    print(' - DB CALL: list_tables()')\n",
    "\n",
    "    cursor = conn.cursor()\n",
    "\n",
    "    # Fetch the table names.\n",
    "    cursor.execute(\"SELECT name FROM sqlite_master WHERE type='table';\")\n",
    "\n",
    "    tables = cursor.fetchall()\n",
    "    return [t[0] for t in tables]\n",
    "\n",
    "\n",
    "list_tables()"
   ]
  },
  {
   "cell_type": "code",
   "execution_count": 14,
   "id": "0083c4d5",
   "metadata": {
    "execution": {
     "iopub.execute_input": "2025-04-08T13:15:15.726908Z",
     "iopub.status.busy": "2025-04-08T13:15:15.726490Z",
     "iopub.status.idle": "2025-04-08T13:15:15.731226Z",
     "shell.execute_reply": "2025-04-08T13:15:15.730186Z"
    },
    "papermill": {
     "duration": 0.013589,
     "end_time": "2025-04-08T13:15:15.732934",
     "exception": false,
     "start_time": "2025-04-08T13:15:15.719345",
     "status": "completed"
    },
    "tags": []
   },
   "outputs": [],
   "source": [
    "def execute_query(sql: str) -> list[list[str]]:\n",
    "    \"\"\"Execute an SQL statement, returning the results.\"\"\"\n",
    "    print(f' - DB CALL: execute_query({sql})')\n",
    "\n",
    "    cursor = conn.cursor()\n",
    "\n",
    "    cursor.execute(sql)\n",
    "    return cursor.fetchall()\n"
   ]
  },
  {
   "cell_type": "code",
   "execution_count": 15,
   "id": "1beadb50",
   "metadata": {
    "execution": {
     "iopub.execute_input": "2025-04-08T13:15:15.746772Z",
     "iopub.status.busy": "2025-04-08T13:15:15.746390Z",
     "iopub.status.idle": "2025-04-08T13:15:15.754896Z",
     "shell.execute_reply": "2025-04-08T13:15:15.753826Z"
    },
    "papermill": {
     "duration": 0.017129,
     "end_time": "2025-04-08T13:15:15.756469",
     "exception": false,
     "start_time": "2025-04-08T13:15:15.739340",
     "status": "completed"
    },
    "tags": []
   },
   "outputs": [
    {
     "name": "stdout",
     "output_type": "stream",
     "text": [
      " - DB CALL: describe_table(transuction)\n"
     ]
    },
    {
     "data": {
      "text/plain": [
       "[('Receipt No.', 'TEXT'),\n",
       " ('Completion Time', 'TEXT'),\n",
       " ('Details', 'TEXT'),\n",
       " ('Transaction Status', 'TEXT'),\n",
       " ('Paid In', 'TEXT'),\n",
       " ('Withdrawn', 'TEXT'),\n",
       " ('Balance', 'TEXT'),\n",
       " ('Unnamed: 2', 'TEXT'),\n",
       " ('Unnamed: 3', 'TEXT'),\n",
       " ('Unnamed: 4', 'TEXT')]"
      ]
     },
     "execution_count": 15,
     "metadata": {},
     "output_type": "execute_result"
    }
   ],
   "source": [
    "def describe_table(table_name: str) -> list[tuple[str, str]]:\n",
    "    \"\"\"Look up the table schema.\n",
    "\n",
    "    Returns:\n",
    "      List of columns, where each entry is a tuple of (column, type).\n",
    "    \"\"\"\n",
    "    print(f' - DB CALL: describe_table({table_name})')\n",
    "\n",
    "    cursor = conn.cursor()\n",
    "\n",
    "    cursor.execute(f\"PRAGMA table_info({table_name});\")\n",
    "\n",
    "    schema = cursor.fetchall()\n",
    "    # [column index, column name, column type, ...]\n",
    "    return [(col[1], col[2]) for col in schema]\n",
    "\n",
    "\n",
    "describe_table(\"transuction\")"
   ]
  },
  {
   "cell_type": "code",
   "execution_count": 16,
   "id": "81b15641",
   "metadata": {
    "execution": {
     "iopub.execute_input": "2025-04-08T13:15:15.770474Z",
     "iopub.status.busy": "2025-04-08T13:15:15.770057Z",
     "iopub.status.idle": "2025-04-08T13:15:15.778571Z",
     "shell.execute_reply": "2025-04-08T13:15:15.777397Z"
    },
    "papermill": {
     "duration": 0.017503,
     "end_time": "2025-04-08T13:15:15.780282",
     "exception": false,
     "start_time": "2025-04-08T13:15:15.762779",
     "status": "completed"
    },
    "tags": []
   },
   "outputs": [
    {
     "name": "stdout",
     "output_type": "stream",
     "text": [
      " - DB CALL: describe_table(summary)\n"
     ]
    },
    {
     "data": {
      "text/plain": [
       "[('Month', 'TEXT'),\n",
       " ('Paid In', 'REAL'),\n",
       " ('Withdrawn', 'REAL'),\n",
       " ('Net Amount', 'REAL'),\n",
       " ('Transaction Count', 'INTEGER'),\n",
       " ('Bill Payment', 'INTEGER'),\n",
       " ('Gambling', 'INTEGER'),\n",
       " ('Income', 'INTEGER'),\n",
       " ('Loan Related', 'INTEGER'),\n",
       " ('Other', 'INTEGER'),\n",
       " ('Peer Transfer', 'INTEGER'),\n",
       " ('Utilities', 'INTEGER'),\n",
       " ('Loan Expense Ratio', 'REAL'),\n",
       " ('Bill Expense Ratio', 'REAL')]"
      ]
     },
     "execution_count": 16,
     "metadata": {},
     "output_type": "execute_result"
    }
   ],
   "source": [
    "describe_table(\"summary\")"
   ]
  },
  {
   "cell_type": "code",
   "execution_count": 17,
   "id": "959ddcc9",
   "metadata": {
    "execution": {
     "iopub.execute_input": "2025-04-08T13:15:15.795340Z",
     "iopub.status.busy": "2025-04-08T13:15:15.794925Z",
     "iopub.status.idle": "2025-04-08T13:15:16.078665Z",
     "shell.execute_reply": "2025-04-08T13:15:16.077692Z"
    },
    "papermill": {
     "duration": 0.293421,
     "end_time": "2025-04-08T13:15:16.080432",
     "exception": false,
     "start_time": "2025-04-08T13:15:15.787011",
     "status": "completed"
    },
    "tags": []
   },
   "outputs": [],
   "source": [
    "from google import genai\n",
    "from kaggle_secrets import UserSecretsClient\n",
    "\n",
    "\n",
    "GOOGLE_API_KEY = UserSecretsClient().get_secret(\"GOOGLE_API_KEY\")\n",
    "client = genai.Client(api_key=GOOGLE_API_KEY)\n",
    "# These are the Python functions defined above.\n",
    "db_tools = [list_tables, describe_table, execute_query]\n",
    "\n",
    "instruction = \"\"\"You are a helpful chatbot that can interact with an SQL database\n",
    "for a computer store. You will take the users questions and turn them into SQL\n",
    "queries using the tools available. Once you have the information you need, you will\n",
    "answer the user's question using the data returned.\n",
    "\n",
    "Use list_tables to see what tables are present, describe_table to understand the\n",
    "schema, and execute_query to issue an SQL SELECT query.\"\"\"\n",
    "\n",
    "client = genai.Client(api_key=GOOGLE_API_KEY)\n",
    "\n",
    "# Start a chat with automatic function calling enabled.\n",
    "chat = client.chats.create(\n",
    "    model=\"gemini-2.0-flash\",\n",
    "    config=types.GenerateContentConfig(\n",
    "        system_instruction=instruction,\n",
    "        tools=db_tools,\n",
    "    ),\n",
    ")"
   ]
  },
  {
   "cell_type": "code",
   "execution_count": 18,
   "id": "d72f6a07",
   "metadata": {
    "execution": {
     "iopub.execute_input": "2025-04-08T13:15:16.094674Z",
     "iopub.status.busy": "2025-04-08T13:15:16.094313Z",
     "iopub.status.idle": "2025-04-08T13:15:17.657753Z",
     "shell.execute_reply": "2025-04-08T13:15:17.656621Z"
    },
    "papermill": {
     "duration": 1.572456,
     "end_time": "2025-04-08T13:15:17.659447",
     "exception": false,
     "start_time": "2025-04-08T13:15:16.086991",
     "status": "completed"
    },
    "tags": []
   },
   "outputs": [
    {
     "name": "stdout",
     "output_type": "stream",
     "text": [
      " - DB CALL: execute_query(SELECT count(*) FROM transuction WHERE Details LIKE '%moureen%')\n",
      "\n",
      "There are 48 transactions that involved moureen in the Details column of the transuction table.\n"
     ]
    }
   ],
   "source": [
    "resp = chat.send_message(\"how many transuctions involved moureen on the Details column of transuction table?\")\n",
    "print(f\"\\n{resp.text}\")"
   ]
  },
  {
   "cell_type": "code",
   "execution_count": 19,
   "id": "43760ad7",
   "metadata": {
    "execution": {
     "iopub.execute_input": "2025-04-08T13:15:17.674261Z",
     "iopub.status.busy": "2025-04-08T13:15:17.673833Z",
     "iopub.status.idle": "2025-04-08T13:15:19.957667Z",
     "shell.execute_reply": "2025-04-08T13:15:19.956545Z"
    },
    "papermill": {
     "duration": 2.293173,
     "end_time": "2025-04-08T13:15:19.959431",
     "exception": false,
     "start_time": "2025-04-08T13:15:17.666258",
     "status": "completed"
    },
    "tags": []
   },
   "outputs": [
    {
     "name": "stdout",
     "output_type": "stream",
     "text": [
      " - DB CALL: execute_query(SELECT * FROM transuction WHERE Details LIKE '%moureen%')\n"
     ]
    },
    {
     "data": {
      "text/markdown": [
       "\n",
       "Here are the 48 transactions that involved Moureen Wanga in the details. The details include the transaction ID, date, details, status, amount, and balance.\n"
      ],
      "text/plain": [
       "<IPython.core.display.Markdown object>"
      ]
     },
     "execution_count": 19,
     "metadata": {},
     "output_type": "execute_result"
    }
   ],
   "source": [
    "resp = chat.send_message(\"can i see them\")\n",
    "Markdown(f\"\\n{resp.text}\")"
   ]
  },
  {
   "cell_type": "markdown",
   "id": "5a55f2df",
   "metadata": {
    "papermill": {
     "duration": 0.006874,
     "end_time": "2025-04-08T13:15:19.976863",
     "exception": false,
     "start_time": "2025-04-08T13:15:19.969989",
     "status": "completed"
    },
    "tags": []
   },
   "source": [
    "## conclution\n",
    "\n",
    "Wow!this is great and huge thank you to the google team for the wonderfull course."
   ]
  },
  {
   "cell_type": "code",
   "execution_count": null,
   "id": "e8f69b48",
   "metadata": {
    "papermill": {
     "duration": 0.006449,
     "end_time": "2025-04-08T13:15:19.991884",
     "exception": false,
     "start_time": "2025-04-08T13:15:19.985435",
     "status": "completed"
    },
    "tags": []
   },
   "outputs": [],
   "source": []
  }
 ],
 "metadata": {
  "kaggle": {
   "accelerator": "none",
   "dataSources": [
    {
     "sourceId": 97258,
     "sourceType": "competition"
    },
    {
     "datasetId": 7055229,
     "sourceId": 11284218,
     "sourceType": "datasetVersion"
    },
    {
     "datasetId": 7055301,
     "sourceId": 11284316,
     "sourceType": "datasetVersion"
    }
   ],
   "dockerImageVersionId": 30918,
   "isGpuEnabled": false,
   "isInternetEnabled": true,
   "language": "python",
   "sourceType": "notebook"
  },
  "kernelspec": {
   "display_name": "Python 3",
   "language": "python",
   "name": "python3"
  },
  "language_info": {
   "codemirror_mode": {
    "name": "ipython",
    "version": 3
   },
   "file_extension": ".py",
   "mimetype": "text/x-python",
   "name": "python",
   "nbconvert_exporter": "python",
   "pygments_lexer": "ipython3",
   "version": "3.10.12"
  },
  "papermill": {
   "default_parameters": {},
   "duration": 79.675489,
   "end_time": "2025-04-08T13:15:22.987295",
   "environment_variables": {},
   "exception": null,
   "input_path": "__notebook__.ipynb",
   "output_path": "__notebook__.ipynb",
   "parameters": {},
   "start_time": "2025-04-08T13:14:03.311806",
   "version": "2.6.0"
  }
 },
 "nbformat": 4,
 "nbformat_minor": 5
}
