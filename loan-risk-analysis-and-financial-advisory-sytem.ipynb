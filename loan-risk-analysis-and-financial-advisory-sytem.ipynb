{
 "cells": [
  {
   "cell_type": "markdown",
   "id": "142f87b8",
   "metadata": {
    "papermill": {
     "duration": 0.005875,
     "end_time": "2025-04-08T12:58:21.493883",
     "exception": false,
     "start_time": "2025-04-08T12:58:21.488008",
     "status": "completed"
    },
    "tags": []
   },
   "source": [
    "### **Introduction**\n",
    "\n",
    "In this project, I utilized Google’s Gemini model to develop an intelligent system for financial document analysis and personalized loan advisory, addressing a pressing issue in Kenya’s financial landscape as reported by a kenyan bank analysis report,I know this is not an issue facing this country only its world wide: the **rising rate of non-performing loans**. With more individuals and businesses struggling to repay loans—partly due to economic uncertainty and poor financial planning—there is an urgent need for smarter, data-driven tools that can both inform lending decisions and guide borrowers toward better financial health.\n",
    "\n",
    "To begin, I took advantage of **Gemini’s large context window** to analyze the Kenya Financial Performance Document 2023, published by the Kenya Bureau of Standards (KEBS). This detailed national report contains extensive economic data, including trends that influence lending performance, credit access, and default risk. Processing such a large document in its entirety allowed the model to extract contextually relevant insights—such as sector-specific risks and macroeconomic trends—that are crucial for financial institutions trying to assess lending environments more accurately.\n",
    "\n",
    "To make the system responsive to practical loan advisory needs, I applied **few-shot prompting**. By showing the model a handful of curated examples—such as how to evaluate a borrower’s spending behavior, savings discipline, or debt-to-income ratio:\n",
    "—I was able to shape its outputs to give advice that aligns with real-world lending criteria. This approach helps borrowers receive tailored financial feedback, improving their preparedness and reducing the chances of default.\n",
    "\n",
    "Furthermore, I enhanced user interaction by integrating **function calling**, enabling the model to work with real-world financial data from my M-Pesa statement. For context, M-Pesa is a widely used mobile money service in Kenya that allows people to send money, pay bills, and make purchases directly from their phones. I downloaded my M-Pesa statement, converted it into a CSV, and then imported it into a SQL table. This allowed the model to run natural language queries like “How much did I spend on recurring expenses last month?” or “What is my average transaction amount?”, turning complex financial behavior into digestible insights.\n",
    "\n",
    "By combining these techniques—large-context analysis, few-shot learning, and functional calling —this project contributes a practical solution to the growing challenge of non performning loans. It empowers individuals with AI-driven financial literacy while giving lenders smarter tools to assess creditworthiness and manage risk more proactively."
   ]
  },
  {
   "cell_type": "code",
   "execution_count": 1,
   "id": "c663481e",
   "metadata": {
    "execution": {
     "iopub.execute_input": "2025-04-08T12:58:21.505903Z",
     "iopub.status.busy": "2025-04-08T12:58:21.505483Z",
     "iopub.status.idle": "2025-04-08T12:58:22.343778Z",
     "shell.execute_reply": "2025-04-08T12:58:22.342608Z"
    },
    "papermill": {
     "duration": 0.846696,
     "end_time": "2025-04-08T12:58:22.345892",
     "exception": false,
     "start_time": "2025-04-08T12:58:21.499196",
     "status": "completed"
    },
    "tags": []
   },
   "outputs": [
    {
     "name": "stdout",
     "output_type": "stream",
     "text": [
      "/kaggle/input/economic/Facts-Figures-2024.pdf\n",
      "/kaggle/input/statements/ml_ready_features.csv\n",
      "/kaggle/input/statements/merged_mpesa.csv\n"
     ]
    }
   ],
   "source": [
    "# This Python 3 environment comes with many helpful analytics libraries installed\n",
    "# It is defined by the kaggle/python Docker image: https://github.com/kaggle/docker-python\n",
    "# For example, here's several helpful packages to load\n",
    "\n",
    "import numpy as np # linear algebra\n",
    "import pandas as pd # data processing, CSV file I/O (e.g. pd.read_csv)\n",
    "\n",
    "# Input data files are available in the read-only \"../input/\" directory\n",
    "# For example, running this (by clicking run or pressing Shift+Enter) will list all files under the input directory\n",
    "\n",
    "import os\n",
    "for dirname, _, filenames in os.walk('/kaggle/input'):\n",
    "    for filename in filenames:\n",
    "        print(os.path.join(dirname, filename))\n",
    "\n",
    "# You can write up to 20GB to the current directory (/kaggle/working/) that gets preserved as output when you create a version using \"Save & Run All\" \n",
    "# You can also write temporary files to /kaggle/temp/, but they won't be saved outside of the current session"
   ]
  },
  {
   "cell_type": "code",
   "execution_count": 2,
   "id": "849a2051",
   "metadata": {
    "execution": {
     "iopub.execute_input": "2025-04-08T12:58:22.359919Z",
     "iopub.status.busy": "2025-04-08T12:58:22.359256Z",
     "iopub.status.idle": "2025-04-08T12:58:34.601040Z",
     "shell.execute_reply": "2025-04-08T12:58:34.599781Z"
    },
    "papermill": {
     "duration": 12.251552,
     "end_time": "2025-04-08T12:58:34.602966",
     "exception": false,
     "start_time": "2025-04-08T12:58:22.351414",
     "status": "completed"
    },
    "tags": []
   },
   "outputs": [
    {
     "name": "stdout",
     "output_type": "stream",
     "text": [
      "\u001b[2K   \u001b[90m━━━━━━━━━━━━━━━━━━━━━━━━━━━━━━━━━━━━━━━━\u001b[0m \u001b[32m232.6/232.6 kB\u001b[0m \u001b[31m8.9 MB/s\u001b[0m eta \u001b[36m0:00:00\u001b[0m\r\n",
      "\u001b[?25h  Preparing metadata (setup.py) ... \u001b[?25l\u001b[?25hdone\r\n",
      "  Building wheel for srt (setup.py) ... \u001b[?25l\u001b[?25hdone\r\n"
     ]
    }
   ],
   "source": [
    "!pip install -qqqU PyPDF2\n",
    "!pip install -qqqU edge-tts"
   ]
  },
  {
   "cell_type": "code",
   "execution_count": 3,
   "id": "54559e3a",
   "metadata": {
    "execution": {
     "iopub.execute_input": "2025-04-08T12:58:34.615952Z",
     "iopub.status.busy": "2025-04-08T12:58:34.615572Z",
     "iopub.status.idle": "2025-04-08T12:58:37.565685Z",
     "shell.execute_reply": "2025-04-08T12:58:37.564610Z"
    },
    "papermill": {
     "duration": 2.959096,
     "end_time": "2025-04-08T12:58:37.568021",
     "exception": false,
     "start_time": "2025-04-08T12:58:34.608925",
     "status": "completed"
    },
    "tags": []
   },
   "outputs": [],
   "source": [
    "import google.generativeai as genai\n",
    "from google.genai import types\n",
    "import sqlite3\n",
    "import PyPDF2\n",
    "from IPython.display import HTML, Markdown, display"
   ]
  },
  {
   "cell_type": "code",
   "execution_count": 4,
   "id": "b011e300",
   "metadata": {
    "execution": {
     "iopub.execute_input": "2025-04-08T12:58:37.588137Z",
     "iopub.status.busy": "2025-04-08T12:58:37.587370Z",
     "iopub.status.idle": "2025-04-08T12:58:37.794820Z",
     "shell.execute_reply": "2025-04-08T12:58:37.793681Z"
    },
    "papermill": {
     "duration": 0.218263,
     "end_time": "2025-04-08T12:58:37.796854",
     "exception": false,
     "start_time": "2025-04-08T12:58:37.578591",
     "status": "completed"
    },
    "tags": []
   },
   "outputs": [],
   "source": [
    "from kaggle_secrets import UserSecretsClient\n",
    "user_secrets = UserSecretsClient()\n",
    "secret_value = user_secrets.get_secret(\"gemini_key\")\n",
    "genai.configure(api_key=secret_value)"
   ]
  },
  {
   "cell_type": "code",
   "execution_count": 5,
   "id": "ad7b3574",
   "metadata": {
    "execution": {
     "iopub.execute_input": "2025-04-08T12:58:37.809976Z",
     "iopub.status.busy": "2025-04-08T12:58:37.809522Z",
     "iopub.status.idle": "2025-04-08T12:58:37.815139Z",
     "shell.execute_reply": "2025-04-08T12:58:37.814130Z"
    },
    "papermill": {
     "duration": 0.014111,
     "end_time": "2025-04-08T12:58:37.816863",
     "exception": false,
     "start_time": "2025-04-08T12:58:37.802752",
     "status": "completed"
    },
    "tags": []
   },
   "outputs": [],
   "source": [
    "generation_config = {\n",
    "  \"temperature\": 0.3,\n",
    "  \"top_p\": 0.95,\n",
    "  \"top_k\": 64,\n",
    "  \"max_output_tokens\": 8192,\n",
    "  \"response_mime_type\": \"text/plain\",\n",
    "}\n",
    "\n",
    "model = genai.GenerativeModel(\n",
    "  model_name=\"gemini-1.5-flash\",\n",
    "  generation_config=generation_config,\n",
    ")"
   ]
  },
  {
   "cell_type": "markdown",
   "id": "5d43f51f",
   "metadata": {
    "papermill": {
     "duration": 0.005693,
     "end_time": "2025-04-08T12:58:37.828348",
     "exception": false,
     "start_time": "2025-04-08T12:58:37.822655",
     "status": "completed"
    },
    "tags": []
   },
   "source": [
    "## Gemini’s large context window to analyze the Kenya Financial Performance Document 2023,"
   ]
  },
  {
   "cell_type": "code",
   "execution_count": 6,
   "id": "3a20a536",
   "metadata": {
    "execution": {
     "iopub.execute_input": "2025-04-08T12:58:37.840720Z",
     "iopub.status.busy": "2025-04-08T12:58:37.840403Z",
     "iopub.status.idle": "2025-04-08T12:58:37.844544Z",
     "shell.execute_reply": "2025-04-08T12:58:37.843546Z"
    },
    "papermill": {
     "duration": 0.012244,
     "end_time": "2025-04-08T12:58:37.846206",
     "exception": false,
     "start_time": "2025-04-08T12:58:37.833962",
     "status": "completed"
    },
    "tags": []
   },
   "outputs": [],
   "source": [
    "pdf_file='/kaggle/input/economic/Facts-Figures-2024.pdf'"
   ]
  },
  {
   "cell_type": "code",
   "execution_count": 7,
   "id": "8b3b9511",
   "metadata": {
    "execution": {
     "iopub.execute_input": "2025-04-08T12:58:37.859014Z",
     "iopub.status.busy": "2025-04-08T12:58:37.858646Z",
     "iopub.status.idle": "2025-04-08T12:58:39.834442Z",
     "shell.execute_reply": "2025-04-08T12:58:39.833146Z"
    },
    "papermill": {
     "duration": 1.984075,
     "end_time": "2025-04-08T12:58:39.836223",
     "exception": false,
     "start_time": "2025-04-08T12:58:37.852148",
     "status": "completed"
    },
    "tags": []
   },
   "outputs": [
    {
     "name": "stdout",
     "output_type": "stream",
     "text": [
      "genai.File({\n",
      "    'name': 'files/ulik86285khw',\n",
      "    'display_name': 'Facts-Figures-2024.pdf',\n",
      "    'mime_type': 'application/pdf',\n",
      "    'sha256_hash': 'MmJhYjBjODdhNzBiM2U2YWY1MWNiNDU1YzAzYWNmOTU3YTk2Mjc1NWE4MzliM2NhN2I5NjJjMmRmNjFkY2JmYw==',\n",
      "    'size_bytes': '8257036',\n",
      "    'state': 'ACTIVE',\n",
      "    'uri': 'https://generativelanguage.googleapis.com/v1beta/files/ulik86285khw',\n",
      "    'create_time': '2025-04-08T12:58:39.323325Z',\n",
      "    'expiration_time': '2025-04-10T12:58:39.273605088Z',\n",
      "    'update_time': '2025-04-08T12:58:39.323325Z'})\n"
     ]
    }
   ],
   "source": [
    "my_file = genai.upload_file(pdf_file)\n",
    "file_name = my_file.name\n",
    "myfile = genai.get_file(file_name)\n",
    "\n",
    "print(myfile)"
   ]
  },
  {
   "cell_type": "markdown",
   "id": "8dab957d",
   "metadata": {
    "papermill": {
     "duration": 0.006042,
     "end_time": "2025-04-08T12:58:39.848293",
     "exception": false,
     "start_time": "2025-04-08T12:58:39.842251",
     "status": "completed"
    },
    "tags": []
   },
   "source": [
    "> testing the model on the pdf file"
   ]
  },
  {
   "cell_type": "code",
   "execution_count": 8,
   "id": "2219ba08",
   "metadata": {
    "execution": {
     "iopub.execute_input": "2025-04-08T12:58:39.864542Z",
     "iopub.status.busy": "2025-04-08T12:58:39.864186Z",
     "iopub.status.idle": "2025-04-08T12:59:00.073663Z",
     "shell.execute_reply": "2025-04-08T12:59:00.072634Z"
    },
    "papermill": {
     "duration": 20.21957,
     "end_time": "2025-04-08T12:59:00.075171",
     "exception": false,
     "start_time": "2025-04-08T12:58:39.855601",
     "status": "completed"
    },
    "tags": []
   },
   "outputs": [
    {
     "data": {
      "text/markdown": [
       "This is the Kenya Facts and Figures 2024 publication from the Kenya National Bureau of Statistics (KNBS).  The document provides a summary of key economic and social indicators for Kenya from 2019 to 2023.  It covers a wide range of topics including:\n",
       "\n",
       "* **National Accounts:** GDP, income, savings, and expenditure.\n",
       "* **Employment and Earnings:** Wage employment, wages, and inflation.\n",
       "* **Government Finance:** Revenue, expenditure, and public debt.\n",
       "* **International Trade:** Exports, imports, and the balance of trade.\n",
       "* **Monetary and Financial Statistics:** Money supply and interest rates.\n",
       "* **Agriculture Sector:** Production of key crops.\n",
       "* **Energy Sector:** Electricity generation and consumption, petroleum consumption.\n",
       "* **Manufacturing Sector:** Production indices.\n",
       "* **Building and Construction Sector:** Road infrastructure.\n",
       "* **Tourism Sector:** Visitor arrivals.\n",
       "* **Transport Sector:** Passenger and cargo traffic.\n",
       "* **Communication Sector:** Telephone and internet subscriptions.\n",
       "* **Education Sector:** Student enrollment and budgets.\n",
       "* **Health Sector:** Healthcare personnel and facilities.\n",
       "* **Governance Sector:** Identity card applications, passports, and crime statistics.\n",
       "* **Social and Economic Inclusion:** Beneficiaries of affirmative action funds and social protection programs.\n",
       "\n",
       "\n",
       "The publication uses charts and tables to present the data concisely.  It also includes a preface, mandate, organizational information, abbreviations, and a list of other KNBS publications.\n"
      ],
      "text/plain": [
       "<IPython.core.display.Markdown object>"
      ]
     },
     "execution_count": 8,
     "metadata": {},
     "output_type": "execute_result"
    }
   ],
   "source": [
    "result = model.generate_content(\n",
    "    [myfile, \"\\n\\n\", \"what is the paper provided about?\"]\n",
    ")\n",
    "Markdown(result.text)"
   ]
  },
  {
   "cell_type": "markdown",
   "id": "2f7b9b11",
   "metadata": {
    "papermill": {
     "duration": 0.005515,
     "end_time": "2025-04-08T12:59:00.086996",
     "exception": false,
     "start_time": "2025-04-08T12:59:00.081481",
     "status": "completed"
    },
    "tags": []
   },
   "source": [
    "## few-shot prompting"
   ]
  },
  {
   "cell_type": "code",
   "execution_count": 9,
   "id": "3a92f062",
   "metadata": {
    "execution": {
     "iopub.execute_input": "2025-04-08T12:59:00.099492Z",
     "iopub.status.busy": "2025-04-08T12:59:00.099174Z",
     "iopub.status.idle": "2025-04-08T12:59:22.520478Z",
     "shell.execute_reply": "2025-04-08T12:59:22.519420Z"
    },
    "papermill": {
     "duration": 22.42955,
     "end_time": "2025-04-08T12:59:22.522009",
     "exception": false,
     "start_time": "2025-04-08T12:59:00.092459",
     "status": "completed"
    },
    "tags": []
   },
   "outputs": [
    {
     "data": {
      "text/markdown": [
       "With a monthly income of KES 60,000, you have more flexibility in loan amounts compared to someone with a KES 20,000 income.  However, responsible borrowing remains crucial for your cattle brokerage business.\n",
       "\n",
       "**Recommended Loan Amount Range:**\n",
       "\n",
       "Using the 30-40% rule of thumb for loan repayments relative to monthly income, your maximum monthly repayment should be between KES 18,000 (KES 60,000 * 0.30) and KES 24,000 (KES 60,000 * 0.40).\n",
       "\n",
       "To determine the precise loan amount, you need to know the interest rate and loan term offered by lenders.  Use an online loan calculator, inputting the interest rate (check with Kenyan lenders for current rates), your desired monthly payment (between KES 18,000 and KES 24,000), and the loan term (e.g., 12, 24, or 36 months) to find the maximum loan amount you can comfortably afford.\n",
       "\n",
       "**Investment Recommendations for Your Cattle Brokerage Business:**\n",
       "\n",
       "Since you have an established business, focus your loan on strategic investments that will enhance your operations and potentially increase your income.  Here are some options:\n",
       "\n",
       "* **Improved Transportation:** Invest in reliable transportation (e.g., a vehicle or upgrading your current one) to efficiently move cattle between locations. This will improve your service delivery and potentially allow you to handle more transactions.\n",
       "\n",
       "* **Technology and Communication:**  Invest in communication tools (e.g., a better phone, reliable internet access) and potentially software to manage your client database, track transactions, and communicate more effectively with buyers and sellers.\n",
       "\n",
       "* **Networking and Market Expansion:** Allocate funds to expand your network of contacts within the cattle industry. This could involve attending industry events, advertising in relevant publications, or building relationships with key players in the market.\n",
       "\n",
       "* **Improved Cattle Handling Facilities:** If you have your own holding facilities, invest in improvements to enhance the safety and well-being of the cattle, potentially attracting more clients.\n",
       "\n",
       "* **Professional Development:** Invest in training or workshops to improve your knowledge of cattle breeds, market trends, and best practices in cattle handling and brokerage.\n",
       "\n",
       "**Important Considerations:**\n",
       "\n",
       "* **Interest Rates:** Compare loan offers from multiple lenders in Kenya to secure the best interest rate.\n",
       "* **Loan Fees:**  Factor in all associated fees (processing fees, late payment penalties, etc.) when calculating affordability.\n",
       "* **Repayment Plan:** Create a realistic repayment plan that aligns with your cash flow.\n",
       "* **Emergency Fund:**  Maintain an emergency fund to handle unexpected expenses.\n",
       "* **Business Plan:**  Develop a comprehensive business plan outlining how you'll use the loan and how it will generate a return on investment. This will strengthen your loan application and demonstrate responsible financial management.\n",
       "\n",
       "\n",
       "Remember, the specific loan amount will depend on your individual circumstances and the terms offered by lenders.  Always prioritize responsible borrowing and ensure the loan aligns with your business goals and financial capacity.\n"
      ],
      "text/plain": [
       "<IPython.core.display.Markdown object>"
      ]
     },
     "execution_count": 9,
     "metadata": {},
     "output_type": "execute_result"
    }
   ],
   "source": [
    "few_shot_prompt=\"\"\"\n",
    "The provided document is a statistical report on Kenya, not a financial guide.use it when neccesary to provide tailored \n",
    "advice,for a particular request the advice should look like this :\n",
    "With a monthly income of KES 20,000 and a 12-month repayment period, it's crucial\n",
    "to apply for a loan amount that won't strain your finances. A general rule of thumb is\n",
    "to keep your loan repayments at no more than 30-40% of your monthly income. Let's\n",
    "analyze:\n",
    "Maximum Recommended Loan:\n",
    " Using the 40% rule, your maximum monthly repayment should be KES 8,000 (KES\n",
    "20,000\n",
    " 0.40). To determine the maximum loan amount, you'll need to know the interest rate\n",
    "offered by the lender. Let's assume an interest rate of 15% per annum (this is a\n",
    "common rate, but you should check with lenders for their current rates). You can use\n",
    "a loan calculator (many are available online) to determine the maximum loan amount\n",
    "that results in a monthly repayment of approximately KES 8,000 over 12 months. The\n",
    "actual amount will depend on the specific interest rate and any fees.\n",
    "Conservative Approach:\n",
    " A more conservative approach, especially given the inherent risks in business,\n",
    "would be to limit your monthly repayment to 30% of your income (KES 6,000). This\n",
    "leaves more room for unexpected expenses and ensures you can comfortably meet\n",
    "your obligations. Again, use a loan calculator to determine the corresponding loan\n",
    "amount.\n",
    "Investment Recommendations for Your Teaching Business:\n",
    "Since you're a teacher with an established business, the loan should be used to\n",
    "enhance your teaching capabilities and potentially increase your income. Here are\n",
    "some investment options:\n",
    "Improved Teaching Resources:\n",
    " Invest in high-quality teaching materials, technology (like a projector, interactive\n",
    "whiteboard, or educational software), or a comfortable and well-equipped learning\n",
    "space. This will improve the quality of your teaching and attract more students.\n",
    "Marketing and Advertising:\n",
    " Allocate funds to promote your teaching services. This could involve creating a\n",
    "professional website, running targeted online ads, distributing flyers in your\n",
    "community, or networking with schools and other institutions.\n",
    "Professional Development:\n",
    " Use some of the loan to attend workshops, conferences, or online courses to\n",
    "enhance your teaching skills and knowledge in your specific subject area. This will\n",
    "make you more competitive and attractive to potential students.\n",
    "Expansion of Services:\n",
    " If feasible, consider expanding your services. This could involve offering tutoring\n",
    "services, online courses, or workshops in addition to your regular teaching.\n",
    "Important Considerations:\n",
    "Interest Rates:\n",
    " Shop around and compare loan offers from different lenders in Kenya to find the\n",
    "best interest rate.\n",
    "Loan Fees:\n",
    " Be aware of any associated fees (processing fees, late payment penalties, etc.) and\n",
    "factor them into your calculations.\n",
    "Repayment Plan:\n",
    " Ensure you have a realistic repayment plan that aligns with your income and cash\n",
    "flow.\n",
    "Emergency Fund:\n",
    " Before taking out a loan, ensure you have an emergency fund to cover unexpected\n",
    "expenses. This will protect you if your business experiences a downturn.\n",
    "Before applying for any loan, create a detailed business plan outlining how you will\n",
    "use the loan and how it will generate a return on investment. This will help you secure\n",
    "the loan and ensure its successful utilization. \"\"\"\n",
    "\n",
    "borrowers_request = \"\"\"what amount of loan do you recomend for a person having a cattle brokerage bussiness with a monthly income \n",
    "of ksh.60000 and on an established bussiness\"\"\"\n",
    "\n",
    "\n",
    "result = model.generate_content(\n",
    "    [myfile,few_shot_prompt, \"\\n\\n\", borrowers_request]\n",
    ")\n",
    "Markdown(result.text)"
   ]
  },
  {
   "cell_type": "markdown",
   "id": "e22a4f77",
   "metadata": {
    "papermill": {
     "duration": 0.005697,
     "end_time": "2025-04-08T12:59:22.533867",
     "exception": false,
     "start_time": "2025-04-08T12:59:22.528170",
     "status": "completed"
    },
    "tags": []
   },
   "source": [
    "## function calling"
   ]
  },
  {
   "cell_type": "code",
   "execution_count": 10,
   "id": "b2ca98ff",
   "metadata": {
    "execution": {
     "iopub.execute_input": "2025-04-08T12:59:22.546636Z",
     "iopub.status.busy": "2025-04-08T12:59:22.546316Z",
     "iopub.status.idle": "2025-04-08T12:59:22.575383Z",
     "shell.execute_reply": "2025-04-08T12:59:22.574182Z"
    },
    "papermill": {
     "duration": 0.037701,
     "end_time": "2025-04-08T12:59:22.577318",
     "exception": false,
     "start_time": "2025-04-08T12:59:22.539617",
     "status": "completed"
    },
    "tags": []
   },
   "outputs": [],
   "source": [
    "df=pd.read_csv(\"/kaggle/input/statements/merged_mpesa.csv\")\n",
    "df1=pd.read_csv(\"/kaggle/input/statements/ml_ready_features.csv\")"
   ]
  },
  {
   "cell_type": "code",
   "execution_count": 11,
   "id": "c66ee139",
   "metadata": {
    "execution": {
     "iopub.execute_input": "2025-04-08T12:59:22.590964Z",
     "iopub.status.busy": "2025-04-08T12:59:22.590624Z",
     "iopub.status.idle": "2025-04-08T12:59:22.662263Z",
     "shell.execute_reply": "2025-04-08T12:59:22.661308Z"
    },
    "papermill": {
     "duration": 0.080135,
     "end_time": "2025-04-08T12:59:22.663742",
     "exception": false,
     "start_time": "2025-04-08T12:59:22.583607",
     "status": "completed"
    },
    "tags": []
   },
   "outputs": [
    {
     "data": {
      "text/plain": [
       "4"
      ]
     },
     "execution_count": 11,
     "metadata": {},
     "output_type": "execute_result"
    }
   ],
   "source": [
    "from io import StringIO\n",
    "\n",
    "# Convert DataFrame to SQLite\n",
    "db_file = \"pandas_to_sql.db\"\n",
    "conn = sqlite3.connect(db_file)\n",
    "df.to_sql(\"transuction\", conn, if_exists=\"replace\", index=False)\n",
    "df1.to_sql(\"summary\", conn, if_exists=\"replace\", index=False)"
   ]
  },
  {
   "cell_type": "code",
   "execution_count": 12,
   "id": "2b8b969e",
   "metadata": {
    "execution": {
     "iopub.execute_input": "2025-04-08T12:59:22.677449Z",
     "iopub.status.busy": "2025-04-08T12:59:22.677128Z",
     "iopub.status.idle": "2025-04-08T12:59:22.684554Z",
     "shell.execute_reply": "2025-04-08T12:59:22.683702Z"
    },
    "papermill": {
     "duration": 0.016193,
     "end_time": "2025-04-08T12:59:22.686095",
     "exception": false,
     "start_time": "2025-04-08T12:59:22.669902",
     "status": "completed"
    },
    "tags": []
   },
   "outputs": [
    {
     "name": "stdout",
     "output_type": "stream",
     "text": [
      " - DB CALL: list_tables()\n"
     ]
    },
    {
     "data": {
      "text/plain": [
       "['transuction', 'summary']"
      ]
     },
     "execution_count": 12,
     "metadata": {},
     "output_type": "execute_result"
    }
   ],
   "source": [
    "def list_tables() -> list[str]:\n",
    "    \"\"\"Retrieve the names of all tables in the database.\"\"\"\n",
    "    # Include print logging statements so you can see when functions are being called.\n",
    "    print(' - DB CALL: list_tables()')\n",
    "\n",
    "    cursor = conn.cursor()\n",
    "\n",
    "    # Fetch the table names.\n",
    "    cursor.execute(\"SELECT name FROM sqlite_master WHERE type='table';\")\n",
    "\n",
    "    tables = cursor.fetchall()\n",
    "    return [t[0] for t in tables]\n",
    "\n",
    "\n",
    "list_tables()"
   ]
  },
  {
   "cell_type": "code",
   "execution_count": 13,
   "id": "aa33f1d9",
   "metadata": {
    "execution": {
     "iopub.execute_input": "2025-04-08T12:59:22.699511Z",
     "iopub.status.busy": "2025-04-08T12:59:22.699207Z",
     "iopub.status.idle": "2025-04-08T12:59:22.703475Z",
     "shell.execute_reply": "2025-04-08T12:59:22.702647Z"
    },
    "papermill": {
     "duration": 0.01257,
     "end_time": "2025-04-08T12:59:22.704956",
     "exception": false,
     "start_time": "2025-04-08T12:59:22.692386",
     "status": "completed"
    },
    "tags": []
   },
   "outputs": [],
   "source": [
    "def execute_query(sql: str) -> list[list[str]]:\n",
    "    \"\"\"Execute an SQL statement, returning the results.\"\"\"\n",
    "    print(f' - DB CALL: execute_query({sql})')\n",
    "\n",
    "    cursor = conn.cursor()\n",
    "\n",
    "    cursor.execute(sql)\n",
    "    return cursor.fetchall()\n"
   ]
  },
  {
   "cell_type": "code",
   "execution_count": 14,
   "id": "f788580b",
   "metadata": {
    "execution": {
     "iopub.execute_input": "2025-04-08T12:59:22.718340Z",
     "iopub.status.busy": "2025-04-08T12:59:22.718011Z",
     "iopub.status.idle": "2025-04-08T12:59:22.726580Z",
     "shell.execute_reply": "2025-04-08T12:59:22.725560Z"
    },
    "papermill": {
     "duration": 0.016981,
     "end_time": "2025-04-08T12:59:22.728106",
     "exception": false,
     "start_time": "2025-04-08T12:59:22.711125",
     "status": "completed"
    },
    "tags": []
   },
   "outputs": [
    {
     "name": "stdout",
     "output_type": "stream",
     "text": [
      " - DB CALL: describe_table(transuction)\n"
     ]
    },
    {
     "data": {
      "text/plain": [
       "[('Receipt No.', 'TEXT'),\n",
       " ('Completion Time', 'TEXT'),\n",
       " ('Details', 'TEXT'),\n",
       " ('Transaction Status', 'TEXT'),\n",
       " ('Paid In', 'TEXT'),\n",
       " ('Withdrawn', 'TEXT'),\n",
       " ('Balance', 'TEXT'),\n",
       " ('Unnamed: 2', 'TEXT'),\n",
       " ('Unnamed: 3', 'TEXT'),\n",
       " ('Unnamed: 4', 'TEXT')]"
      ]
     },
     "execution_count": 14,
     "metadata": {},
     "output_type": "execute_result"
    }
   ],
   "source": [
    "def describe_table(table_name: str) -> list[tuple[str, str]]:\n",
    "    \"\"\"Look up the table schema.\n",
    "\n",
    "    Returns:\n",
    "      List of columns, where each entry is a tuple of (column, type).\n",
    "    \"\"\"\n",
    "    print(f' - DB CALL: describe_table({table_name})')\n",
    "\n",
    "    cursor = conn.cursor()\n",
    "\n",
    "    cursor.execute(f\"PRAGMA table_info({table_name});\")\n",
    "\n",
    "    schema = cursor.fetchall()\n",
    "    # [column index, column name, column type, ...]\n",
    "    return [(col[1], col[2]) for col in schema]\n",
    "\n",
    "\n",
    "describe_table(\"transuction\")"
   ]
  },
  {
   "cell_type": "code",
   "execution_count": 15,
   "id": "e4f68aad",
   "metadata": {
    "execution": {
     "iopub.execute_input": "2025-04-08T12:59:22.742149Z",
     "iopub.status.busy": "2025-04-08T12:59:22.741778Z",
     "iopub.status.idle": "2025-04-08T12:59:22.749009Z",
     "shell.execute_reply": "2025-04-08T12:59:22.748162Z"
    },
    "papermill": {
     "duration": 0.015839,
     "end_time": "2025-04-08T12:59:22.750485",
     "exception": false,
     "start_time": "2025-04-08T12:59:22.734646",
     "status": "completed"
    },
    "tags": []
   },
   "outputs": [
    {
     "name": "stdout",
     "output_type": "stream",
     "text": [
      " - DB CALL: describe_table(summary)\n"
     ]
    },
    {
     "data": {
      "text/plain": [
       "[('Month', 'TEXT'),\n",
       " ('Paid In', 'REAL'),\n",
       " ('Withdrawn', 'REAL'),\n",
       " ('Net Amount', 'REAL'),\n",
       " ('Transaction Count', 'INTEGER'),\n",
       " ('Bill Payment', 'INTEGER'),\n",
       " ('Gambling', 'INTEGER'),\n",
       " ('Income', 'INTEGER'),\n",
       " ('Loan Related', 'INTEGER'),\n",
       " ('Other', 'INTEGER'),\n",
       " ('Peer Transfer', 'INTEGER'),\n",
       " ('Utilities', 'INTEGER'),\n",
       " ('Loan Expense Ratio', 'REAL'),\n",
       " ('Bill Expense Ratio', 'REAL')]"
      ]
     },
     "execution_count": 15,
     "metadata": {},
     "output_type": "execute_result"
    }
   ],
   "source": [
    "describe_table(\"summary\")"
   ]
  },
  {
   "cell_type": "code",
   "execution_count": 16,
   "id": "88e1efa7",
   "metadata": {
    "execution": {
     "iopub.execute_input": "2025-04-08T12:59:22.764769Z",
     "iopub.status.busy": "2025-04-08T12:59:22.764464Z",
     "iopub.status.idle": "2025-04-08T12:59:22.947504Z",
     "shell.execute_reply": "2025-04-08T12:59:22.946652Z"
    },
    "papermill": {
     "duration": 0.19227,
     "end_time": "2025-04-08T12:59:22.949417",
     "exception": false,
     "start_time": "2025-04-08T12:59:22.757147",
     "status": "completed"
    },
    "tags": []
   },
   "outputs": [],
   "source": [
    "from google import genai\n",
    "from kaggle_secrets import UserSecretsClient\n",
    "\n",
    "\n",
    "GOOGLE_API_KEY = UserSecretsClient().get_secret(\"GOOGLE_API_KEY\")\n",
    "client = genai.Client(api_key=GOOGLE_API_KEY)\n",
    "# These are the Python functions defined above.\n",
    "db_tools = [list_tables, describe_table, execute_query]\n",
    "\n",
    "instruction = \"\"\"You are a helpful chatbot that can interact with an SQL database\n",
    "for a computer store. You will take the users questions and turn them into SQL\n",
    "queries using the tools available. Once you have the information you need, you will\n",
    "answer the user's question using the data returned.\n",
    "\n",
    "Use list_tables to see what tables are present, describe_table to understand the\n",
    "schema, and execute_query to issue an SQL SELECT query.\"\"\"\n",
    "\n",
    "client = genai.Client(api_key=GOOGLE_API_KEY)\n",
    "\n",
    "# Start a chat with automatic function calling enabled.\n",
    "chat = client.chats.create(\n",
    "    model=\"gemini-2.0-flash\",\n",
    "    config=types.GenerateContentConfig(\n",
    "        system_instruction=instruction,\n",
    "        tools=db_tools,\n",
    "    ),\n",
    ")"
   ]
  },
  {
   "cell_type": "code",
   "execution_count": 17,
   "id": "9b27b077",
   "metadata": {
    "execution": {
     "iopub.execute_input": "2025-04-08T12:59:22.964065Z",
     "iopub.status.busy": "2025-04-08T12:59:22.963706Z",
     "iopub.status.idle": "2025-04-08T12:59:23.661090Z",
     "shell.execute_reply": "2025-04-08T12:59:23.659896Z"
    },
    "papermill": {
     "duration": 0.706361,
     "end_time": "2025-04-08T12:59:23.662721",
     "exception": false,
     "start_time": "2025-04-08T12:59:22.956360",
     "status": "completed"
    },
    "tags": []
   },
   "outputs": [
    {
     "name": "stdout",
     "output_type": "stream",
     "text": [
      "\n",
      "Could you please spell out \"transuction\"? I need the correct table name to proceed.\n",
      "\n"
     ]
    }
   ],
   "source": [
    "resp = chat.send_message(\"how many transuctions involved moureen on the Details column of transuction table?\")\n",
    "print(f\"\\n{resp.text}\")"
   ]
  },
  {
   "cell_type": "code",
   "execution_count": 18,
   "id": "9e77530f",
   "metadata": {
    "execution": {
     "iopub.execute_input": "2025-04-08T12:59:23.677250Z",
     "iopub.status.busy": "2025-04-08T12:59:23.676893Z",
     "iopub.status.idle": "2025-04-08T12:59:24.269177Z",
     "shell.execute_reply": "2025-04-08T12:59:24.268149Z"
    },
    "papermill": {
     "duration": 0.601501,
     "end_time": "2025-04-08T12:59:24.270907",
     "exception": false,
     "start_time": "2025-04-08T12:59:23.669406",
     "status": "completed"
    },
    "tags": []
   },
   "outputs": [
    {
     "data": {
      "text/markdown": [
       "\n",
       "Could you please specify which table you would like to view?\n"
      ],
      "text/plain": [
       "<IPython.core.display.Markdown object>"
      ]
     },
     "execution_count": 18,
     "metadata": {},
     "output_type": "execute_result"
    }
   ],
   "source": [
    "resp = chat.send_message(\"can i see them\")\n",
    "Markdown(f\"\\n{resp.text}\")"
   ]
  },
  {
   "cell_type": "code",
   "execution_count": 19,
   "id": "afa334f6",
   "metadata": {
    "execution": {
     "iopub.execute_input": "2025-04-08T12:59:24.285746Z",
     "iopub.status.busy": "2025-04-08T12:59:24.285431Z",
     "iopub.status.idle": "2025-04-08T12:59:25.049339Z",
     "shell.execute_reply": "2025-04-08T12:59:25.048331Z"
    },
    "papermill": {
     "duration": 0.773058,
     "end_time": "2025-04-08T12:59:25.051032",
     "exception": false,
     "start_time": "2025-04-08T12:59:24.277974",
     "status": "completed"
    },
    "tags": []
   },
   "outputs": [
    {
     "data": {
      "text/markdown": [
       "\n",
       "I cannot calculate your total spending from the 'Transaction Count' column. I need a column with monetary values to calculate spending. Could you specify which column contains the spending information? Also, could you specify the table name?\n"
      ],
      "text/plain": [
       "<IPython.core.display.Markdown object>"
      ]
     },
     "execution_count": 19,
     "metadata": {},
     "output_type": "execute_result"
    }
   ],
   "source": [
    "resp = chat.send_message(\"What is my total spending monthly? as per summary table based on 'Transaction Count'\")\n",
    "Markdown(f\"\\n{resp.text}\")\n"
   ]
  },
  {
   "cell_type": "markdown",
   "id": "0629c623",
   "metadata": {
    "papermill": {
     "duration": 0.006905,
     "end_time": "2025-04-08T12:59:25.064928",
     "exception": false,
     "start_time": "2025-04-08T12:59:25.058023",
     "status": "completed"
    },
    "tags": []
   },
   "source": [
    "## conclution\n",
    "\n",
    "Wow!this is great and huge thank you to the google team for the wonderfull course."
   ]
  },
  {
   "cell_type": "code",
   "execution_count": null,
   "id": "cbe23743",
   "metadata": {
    "papermill": {
     "duration": 0.006288,
     "end_time": "2025-04-08T12:59:25.078316",
     "exception": false,
     "start_time": "2025-04-08T12:59:25.072028",
     "status": "completed"
    },
    "tags": []
   },
   "outputs": [],
   "source": []
  }
 ],
 "metadata": {
  "kaggle": {
   "accelerator": "none",
   "dataSources": [
    {
     "sourceId": 97258,
     "sourceType": "competition"
    },
    {
     "datasetId": 7055229,
     "sourceId": 11284218,
     "sourceType": "datasetVersion"
    },
    {
     "datasetId": 7055301,
     "sourceId": 11284316,
     "sourceType": "datasetVersion"
    }
   ],
   "dockerImageVersionId": 30918,
   "isGpuEnabled": false,
   "isInternetEnabled": true,
   "language": "python",
   "sourceType": "notebook"
  },
  "kernelspec": {
   "display_name": "Python 3",
   "language": "python",
   "name": "python3"
  },
  "language_info": {
   "codemirror_mode": {
    "name": "ipython",
    "version": 3
   },
   "file_extension": ".py",
   "mimetype": "text/x-python",
   "name": "python",
   "nbconvert_exporter": "python",
   "pygments_lexer": "ipython3",
   "version": "3.10.12"
  },
  "papermill": {
   "default_parameters": {},
   "duration": 69.595772,
   "end_time": "2025-04-08T12:59:28.424442",
   "environment_variables": {},
   "exception": null,
   "input_path": "__notebook__.ipynb",
   "output_path": "__notebook__.ipynb",
   "parameters": {},
   "start_time": "2025-04-08T12:58:18.828670",
   "version": "2.6.0"
  }
 },
 "nbformat": 4,
 "nbformat_minor": 5
}
