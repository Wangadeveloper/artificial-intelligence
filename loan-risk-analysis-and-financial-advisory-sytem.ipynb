{
 "cells": [
  {
   "cell_type": "markdown",
   "id": "fe5975b8",
   "metadata": {
    "papermill": {
     "duration": 0.00592,
     "end_time": "2025-04-08T07:44:34.646052",
     "exception": false,
     "start_time": "2025-04-08T07:44:34.640132",
     "status": "completed"
    },
    "tags": []
   },
   "source": [
    "### **Introduction**\n",
    "\n",
    "In this project, I utilized Google’s Gemini model to develop an intelligent system for financial document analysis and personalized loan advisory, addressing a pressing issue in Kenya’s financial landscape as reported by a kenyan bank analysis report,I know this is not an issue facing this country only its world wide: the **rising rate of non-performing loans**. With more individuals and businesses struggling to repay loans—partly due to economic uncertainty and poor financial planning—there is an urgent need for smarter, data-driven tools that can both inform lending decisions and guide borrowers toward better financial health.\n",
    "\n",
    "To begin, I took advantage of **Gemini’s large context window** to analyze the Kenya Financial Performance Document 2023, published by the Kenya Bureau of Standards (KEBS). This detailed national report contains extensive economic data, including trends that influence lending performance, credit access, and default risk. Processing such a large document in its entirety allowed the model to extract contextually relevant insights—such as sector-specific risks and macroeconomic trends—that are crucial for financial institutions trying to assess lending environments more accurately.\n",
    "\n",
    "To make the system responsive to practical loan advisory needs, I applied **few-shot prompting**. By showing the model a handful of curated examples—such as how to evaluate a borrower’s spending behavior, savings discipline, or debt-to-income ratio:\n",
    "—I was able to shape its outputs to give advice that aligns with real-world lending criteria. This approach helps borrowers receive tailored financial feedback, improving their preparedness and reducing the chances of default.\n",
    "\n",
    "Furthermore, I enhanced user interaction by integrating **function calling**, enabling the model to work with real-world financial data from my M-Pesa statement. For context, M-Pesa is a widely used mobile money service in Kenya that allows people to send money, pay bills, and make purchases directly from their phones. I downloaded my M-Pesa statement, converted it into a CSV, and then imported it into a SQL table. This allowed the model to run natural language queries like “How much did I spend on recurring expenses last month?” or “What is my average transaction amount?”, turning complex financial behavior into digestible insights.\n",
    "\n",
    "By combining these techniques—large-context analysis, few-shot learning, and functional calling —this project contributes a practical solution to the growing challenge of non performning loans. It empowers individuals with AI-driven financial literacy while giving lenders smarter tools to assess creditworthiness and manage risk more proactively."
   ]
  },
  {
   "cell_type": "code",
   "execution_count": 1,
   "id": "e44d675f",
   "metadata": {
    "execution": {
     "iopub.execute_input": "2025-04-08T07:44:34.658000Z",
     "iopub.status.busy": "2025-04-08T07:44:34.657532Z",
     "iopub.status.idle": "2025-04-08T07:44:35.706495Z",
     "shell.execute_reply": "2025-04-08T07:44:35.705302Z"
    },
    "papermill": {
     "duration": 1.056591,
     "end_time": "2025-04-08T07:44:35.708029",
     "exception": false,
     "start_time": "2025-04-08T07:44:34.651438",
     "status": "completed"
    },
    "tags": []
   },
   "outputs": [
    {
     "name": "stdout",
     "output_type": "stream",
     "text": [
      "/kaggle/input/statements/ml_ready_features.csv\n",
      "/kaggle/input/statements/merged_mpesa.csv\n",
      "/kaggle/input/economic/Facts-Figures-2024.pdf\n"
     ]
    }
   ],
   "source": [
    "# This Python 3 environment comes with many helpful analytics libraries installed\n",
    "# It is defined by the kaggle/python Docker image: https://github.com/kaggle/docker-python\n",
    "# For example, here's several helpful packages to load\n",
    "\n",
    "import numpy as np # linear algebra\n",
    "import pandas as pd # data processing, CSV file I/O (e.g. pd.read_csv)\n",
    "\n",
    "# Input data files are available in the read-only \"../input/\" directory\n",
    "# For example, running this (by clicking run or pressing Shift+Enter) will list all files under the input directory\n",
    "\n",
    "import os\n",
    "for dirname, _, filenames in os.walk('/kaggle/input'):\n",
    "    for filename in filenames:\n",
    "        print(os.path.join(dirname, filename))\n",
    "\n",
    "# You can write up to 20GB to the current directory (/kaggle/working/) that gets preserved as output when you create a version using \"Save & Run All\" \n",
    "# You can also write temporary files to /kaggle/temp/, but they won't be saved outside of the current session"
   ]
  },
  {
   "cell_type": "code",
   "execution_count": 2,
   "id": "33b17917",
   "metadata": {
    "execution": {
     "iopub.execute_input": "2025-04-08T07:44:35.720110Z",
     "iopub.status.busy": "2025-04-08T07:44:35.719520Z",
     "iopub.status.idle": "2025-04-08T07:44:48.669511Z",
     "shell.execute_reply": "2025-04-08T07:44:48.668294Z"
    },
    "papermill": {
     "duration": 12.957789,
     "end_time": "2025-04-08T07:44:48.671330",
     "exception": false,
     "start_time": "2025-04-08T07:44:35.713541",
     "status": "completed"
    },
    "tags": []
   },
   "outputs": [
    {
     "name": "stdout",
     "output_type": "stream",
     "text": [
      "\u001b[2K   \u001b[90m━━━━━━━━━━━━━━━━━━━━━━━━━━━━━━━━━━━━━━━━\u001b[0m \u001b[32m232.6/232.6 kB\u001b[0m \u001b[31m4.3 MB/s\u001b[0m eta \u001b[36m0:00:00\u001b[0m\r\n",
      "\u001b[?25h  Preparing metadata (setup.py) ... \u001b[?25l\u001b[?25hdone\r\n",
      "  Building wheel for srt (setup.py) ... \u001b[?25l\u001b[?25hdone\r\n"
     ]
    }
   ],
   "source": [
    "!pip install -qqqU PyPDF2\n",
    "!pip install -qqqU edge-tts"
   ]
  },
  {
   "cell_type": "code",
   "execution_count": 3,
   "id": "bd75a2aa",
   "metadata": {
    "execution": {
     "iopub.execute_input": "2025-04-08T07:44:48.683646Z",
     "iopub.status.busy": "2025-04-08T07:44:48.683262Z",
     "iopub.status.idle": "2025-04-08T07:44:51.580045Z",
     "shell.execute_reply": "2025-04-08T07:44:51.579115Z"
    },
    "papermill": {
     "duration": 2.904953,
     "end_time": "2025-04-08T07:44:51.582003",
     "exception": false,
     "start_time": "2025-04-08T07:44:48.677050",
     "status": "completed"
    },
    "tags": []
   },
   "outputs": [],
   "source": [
    "import google.generativeai as genai\n",
    "from google.genai import types\n",
    "import sqlite3\n",
    "import PyPDF2\n",
    "from IPython.display import HTML, Markdown, display"
   ]
  },
  {
   "cell_type": "code",
   "execution_count": 4,
   "id": "794cd45e",
   "metadata": {
    "execution": {
     "iopub.execute_input": "2025-04-08T07:44:51.594225Z",
     "iopub.status.busy": "2025-04-08T07:44:51.593732Z",
     "iopub.status.idle": "2025-04-08T07:44:51.892132Z",
     "shell.execute_reply": "2025-04-08T07:44:51.891146Z"
    },
    "papermill": {
     "duration": 0.30626,
     "end_time": "2025-04-08T07:44:51.893987",
     "exception": false,
     "start_time": "2025-04-08T07:44:51.587727",
     "status": "completed"
    },
    "tags": []
   },
   "outputs": [],
   "source": [
    "from kaggle_secrets import UserSecretsClient\n",
    "user_secrets = UserSecretsClient()\n",
    "secret_value = user_secrets.get_secret(\"gemini_key\")\n",
    "genai.configure(api_key=secret_value)"
   ]
  },
  {
   "cell_type": "code",
   "execution_count": 5,
   "id": "9de2a956",
   "metadata": {
    "execution": {
     "iopub.execute_input": "2025-04-08T07:44:51.905981Z",
     "iopub.status.busy": "2025-04-08T07:44:51.905681Z",
     "iopub.status.idle": "2025-04-08T07:44:51.909813Z",
     "shell.execute_reply": "2025-04-08T07:44:51.908913Z"
    },
    "papermill": {
     "duration": 0.011801,
     "end_time": "2025-04-08T07:44:51.911464",
     "exception": false,
     "start_time": "2025-04-08T07:44:51.899663",
     "status": "completed"
    },
    "tags": []
   },
   "outputs": [],
   "source": [
    "generation_config = {\n",
    "  \"temperature\": 0.3,\n",
    "  \"top_p\": 0.95,\n",
    "  \"top_k\": 64,\n",
    "  \"max_output_tokens\": 8192,\n",
    "  \"response_mime_type\": \"text/plain\",\n",
    "}\n",
    "\n",
    "model = genai.GenerativeModel(\n",
    "  model_name=\"gemini-1.5-flash\",\n",
    "  generation_config=generation_config,\n",
    ")"
   ]
  },
  {
   "cell_type": "markdown",
   "id": "2459410d",
   "metadata": {
    "papermill": {
     "duration": 0.005028,
     "end_time": "2025-04-08T07:44:51.921791",
     "exception": false,
     "start_time": "2025-04-08T07:44:51.916763",
     "status": "completed"
    },
    "tags": []
   },
   "source": [
    "## Gemini’s large context window to analyze the Kenya Financial Performance Document 2023,"
   ]
  },
  {
   "cell_type": "code",
   "execution_count": 6,
   "id": "2a51c686",
   "metadata": {
    "execution": {
     "iopub.execute_input": "2025-04-08T07:44:51.933203Z",
     "iopub.status.busy": "2025-04-08T07:44:51.932845Z",
     "iopub.status.idle": "2025-04-08T07:44:51.936693Z",
     "shell.execute_reply": "2025-04-08T07:44:51.935747Z"
    },
    "papermill": {
     "duration": 0.011163,
     "end_time": "2025-04-08T07:44:51.938095",
     "exception": false,
     "start_time": "2025-04-08T07:44:51.926932",
     "status": "completed"
    },
    "tags": []
   },
   "outputs": [],
   "source": [
    "pdf_file='/kaggle/input/economic/Facts-Figures-2024.pdf'"
   ]
  },
  {
   "cell_type": "code",
   "execution_count": 7,
   "id": "c67f75ba",
   "metadata": {
    "execution": {
     "iopub.execute_input": "2025-04-08T07:44:51.949295Z",
     "iopub.status.busy": "2025-04-08T07:44:51.949023Z",
     "iopub.status.idle": "2025-04-08T07:44:55.053960Z",
     "shell.execute_reply": "2025-04-08T07:44:55.052743Z"
    },
    "papermill": {
     "duration": 3.112313,
     "end_time": "2025-04-08T07:44:55.055648",
     "exception": false,
     "start_time": "2025-04-08T07:44:51.943335",
     "status": "completed"
    },
    "tags": []
   },
   "outputs": [
    {
     "name": "stdout",
     "output_type": "stream",
     "text": [
      "genai.File({\n",
      "    'name': 'files/w3hlbul9npis',\n",
      "    'display_name': 'Facts-Figures-2024.pdf',\n",
      "    'mime_type': 'application/pdf',\n",
      "    'sha256_hash': 'MmJhYjBjODdhNzBiM2U2YWY1MWNiNDU1YzAzYWNmOTU3YTk2Mjc1NWE4MzliM2NhN2I5NjJjMmRmNjFkY2JmYw==',\n",
      "    'size_bytes': '8257036',\n",
      "    'state': 'ACTIVE',\n",
      "    'uri': 'https://generativelanguage.googleapis.com/v1beta/files/w3hlbul9npis',\n",
      "    'create_time': '2025-04-08T07:44:54.311077Z',\n",
      "    'expiration_time': '2025-04-10T07:44:54.271015403Z',\n",
      "    'update_time': '2025-04-08T07:44:54.311077Z'})\n"
     ]
    }
   ],
   "source": [
    "my_file = genai.upload_file(pdf_file)\n",
    "file_name = my_file.name\n",
    "myfile = genai.get_file(file_name)\n",
    "\n",
    "print(myfile)"
   ]
  },
  {
   "cell_type": "markdown",
   "id": "6d506d11",
   "metadata": {
    "papermill": {
     "duration": 0.005316,
     "end_time": "2025-04-08T07:44:55.066585",
     "exception": false,
     "start_time": "2025-04-08T07:44:55.061269",
     "status": "completed"
    },
    "tags": []
   },
   "source": [
    "> testing the model on the pdf file"
   ]
  },
  {
   "cell_type": "code",
   "execution_count": 8,
   "id": "c98f5ba2",
   "metadata": {
    "execution": {
     "iopub.execute_input": "2025-04-08T07:44:55.078070Z",
     "iopub.status.busy": "2025-04-08T07:44:55.077743Z",
     "iopub.status.idle": "2025-04-08T07:45:14.664197Z",
     "shell.execute_reply": "2025-04-08T07:45:14.663224Z"
    },
    "papermill": {
     "duration": 19.594142,
     "end_time": "2025-04-08T07:45:14.665976",
     "exception": false,
     "start_time": "2025-04-08T07:44:55.071834",
     "status": "completed"
    },
    "tags": []
   },
   "outputs": [
    {
     "data": {
      "text/markdown": [
       "This is the Kenya Facts and Figures 2024 publication from the Kenya National Bureau of Statistics (KNBS).  It provides a summary of selected economic and social indicators for the period 2019 to 2023, presented in charts and tables.  The publication covers a wide range of topics, including:\n",
       "\n",
       "* **National Accounts:** GDP, income, savings, etc.\n",
       "* **Employment and Earnings:** Wage employment, wages, inflation.\n",
       "* **Government Finance:** Revenue, expenditure, public debt.\n",
       "* **International Trade:** Exports, imports, balance of trade.\n",
       "* **Monetary and Financial Statistics:** Money supply, interest rates.\n",
       "* **Agriculture Sector:** Crop production, prices.\n",
       "* **Energy Sector:** Electricity generation and consumption, petroleum.\n",
       "* **Manufacturing Sector:** Production indices.\n",
       "* **Building and Construction Sector:** Road infrastructure.\n",
       "* **Tourism Sector:** Visitor arrivals.\n",
       "* **Transport Sector:** Passenger and cargo traffic.\n",
       "* **Communication Sector:** Internet and mobile phone usage.\n",
       "* **Education Sector:** Student enrollment, HELB statistics.\n",
       "* **Health Sector:** Healthcare personnel, facilities.\n",
       "* **Governance Sector:** Identity cards, passports, crime statistics.\n",
       "* **Social and Economic Inclusion:** Affirmative action funds, social protection.\n",
       "\n",
       "\n",
       "Essentially, it's a statistical overview of key aspects of Kenya's economy and society during the specified period.  It's meant to be a concise summary; for more detailed information, the reader is referred to the full Economic Survey 2024 Report.\n"
      ],
      "text/plain": [
       "<IPython.core.display.Markdown object>"
      ]
     },
     "execution_count": 8,
     "metadata": {},
     "output_type": "execute_result"
    }
   ],
   "source": [
    "result = model.generate_content(\n",
    "    [myfile, \"\\n\\n\", \"what is the paper provided about?\"]\n",
    ")\n",
    "Markdown(result.text)"
   ]
  },
  {
   "cell_type": "markdown",
   "id": "9ca134d7",
   "metadata": {
    "papermill": {
     "duration": 0.005298,
     "end_time": "2025-04-08T07:45:14.677069",
     "exception": false,
     "start_time": "2025-04-08T07:45:14.671771",
     "status": "completed"
    },
    "tags": []
   },
   "source": [
    "## few-shot prompting"
   ]
  },
  {
   "cell_type": "code",
   "execution_count": 9,
   "id": "41bfcf4e",
   "metadata": {
    "execution": {
     "iopub.execute_input": "2025-04-08T07:45:14.689206Z",
     "iopub.status.busy": "2025-04-08T07:45:14.688873Z",
     "iopub.status.idle": "2025-04-08T07:45:36.046689Z",
     "shell.execute_reply": "2025-04-08T07:45:36.045668Z"
    },
    "papermill": {
     "duration": 21.365944,
     "end_time": "2025-04-08T07:45:36.048382",
     "exception": false,
     "start_time": "2025-04-08T07:45:14.682438",
     "status": "completed"
    },
    "tags": []
   },
   "outputs": [
    {
     "data": {
      "text/markdown": [
       "With a monthly income of KES 60,000, you have more flexibility in loan amounts compared to someone with a KES 20,000 income.  However, responsible borrowing remains crucial.\n",
       "\n",
       "**Recommended Loan Amount Range:**\n",
       "\n",
       "Using the 30-40% rule of thumb for loan repayments relative to monthly income, your maximum monthly repayment should be between KES 18,000 and KES 24,000.  The exact loan amount you can afford will depend on the interest rate and loan term offered by the lender.  Use a loan calculator (many are available online) to determine the maximum loan amount that results in a monthly repayment within this range.\n",
       "\n",
       "**Investment Recommendations for Your Cattle Brokerage Business:**\n",
       "\n",
       "Since you have an established business, focus your loan on strategies that will increase your profitability and efficiency:\n",
       "\n",
       "* **Improved Infrastructure:** If you don't have a dedicated office or storage space, consider investing in one. This will enhance your professionalism and potentially attract more clients.\n",
       "\n",
       "* **Technology and Communication:** Invest in reliable communication tools (smartphones, internet access) and potentially software for managing your cattle inventory, client records, and transactions.  This will streamline your operations and improve efficiency.\n",
       "\n",
       "* **Transportation:** If you need to transport cattle, consider investing in reliable transportation (a vehicle or contracting reliable transportation services).\n",
       "\n",
       "* **Networking and Marketing:** Allocate funds to expand your network of farmers and buyers. This could involve attending livestock shows, advertising in agricultural publications, or using online platforms to reach a wider audience.\n",
       "\n",
       "* **Professional Development:**  Consider investing in training to improve your negotiation skills, cattle valuation expertise, or market analysis capabilities.\n",
       "\n",
       "**Important Considerations:**\n",
       "\n",
       "* **Interest Rates:**  Compare loan offers from different lenders in Kenya to find the best interest rate.\n",
       "\n",
       "* **Loan Fees:** Factor in any associated fees (processing fees, late payment penalties, etc.) into your calculations.\n",
       "\n",
       "* **Repayment Plan:** Create a realistic repayment plan that aligns with your income and cash flow.  Consider a shorter loan term to minimize interest payments.\n",
       "\n",
       "* **Emergency Fund:** Maintain an emergency fund to cover unexpected expenses.\n",
       "\n",
       "* **Business Plan:** Before applying for a loan, prepare a detailed business plan outlining how you will use the loan and how it will generate a return on investment.  This will strengthen your loan application and demonstrate responsible financial management.\n",
       "\n",
       "\n",
       "Remember, the specific loan amount you should seek depends on your individual circumstances and the lender's terms.  The calculations above provide a starting point for determining a responsible borrowing range.\n"
      ],
      "text/plain": [
       "<IPython.core.display.Markdown object>"
      ]
     },
     "execution_count": 9,
     "metadata": {},
     "output_type": "execute_result"
    }
   ],
   "source": [
    "few_shot_prompt=\"\"\"\n",
    "The provided document is a statistical report on Kenya, not a financial guide.use it when neccesary to provide tailored \n",
    "advice,for a particular request the advice should look like this :\n",
    "With a monthly income of KES 20,000 and a 12-month repayment period, it's crucial\n",
    "to apply for a loan amount that won't strain your finances. A general rule of thumb is\n",
    "to keep your loan repayments at no more than 30-40% of your monthly income. Let's\n",
    "analyze:\n",
    "Maximum Recommended Loan:\n",
    " Using the 40% rule, your maximum monthly repayment should be KES 8,000 (KES\n",
    "20,000\n",
    " 0.40). To determine the maximum loan amount, you'll need to know the interest rate\n",
    "offered by the lender. Let's assume an interest rate of 15% per annum (this is a\n",
    "common rate, but you should check with lenders for their current rates). You can use\n",
    "a loan calculator (many are available online) to determine the maximum loan amount\n",
    "that results in a monthly repayment of approximately KES 8,000 over 12 months. The\n",
    "actual amount will depend on the specific interest rate and any fees.\n",
    "Conservative Approach:\n",
    " A more conservative approach, especially given the inherent risks in business,\n",
    "would be to limit your monthly repayment to 30% of your income (KES 6,000). This\n",
    "leaves more room for unexpected expenses and ensures you can comfortably meet\n",
    "your obligations. Again, use a loan calculator to determine the corresponding loan\n",
    "amount.\n",
    "Investment Recommendations for Your Teaching Business:\n",
    "Since you're a teacher with an established business, the loan should be used to\n",
    "enhance your teaching capabilities and potentially increase your income. Here are\n",
    "some investment options:\n",
    "Improved Teaching Resources:\n",
    " Invest in high-quality teaching materials, technology (like a projector, interactive\n",
    "whiteboard, or educational software), or a comfortable and well-equipped learning\n",
    "space. This will improve the quality of your teaching and attract more students.\n",
    "Marketing and Advertising:\n",
    " Allocate funds to promote your teaching services. This could involve creating a\n",
    "professional website, running targeted online ads, distributing flyers in your\n",
    "community, or networking with schools and other institutions.\n",
    "Professional Development:\n",
    " Use some of the loan to attend workshops, conferences, or online courses to\n",
    "enhance your teaching skills and knowledge in your specific subject area. This will\n",
    "make you more competitive and attractive to potential students.\n",
    "Expansion of Services:\n",
    " If feasible, consider expanding your services. This could involve offering tutoring\n",
    "services, online courses, or workshops in addition to your regular teaching.\n",
    "Important Considerations:\n",
    "Interest Rates:\n",
    " Shop around and compare loan offers from different lenders in Kenya to find the\n",
    "best interest rate.\n",
    "Loan Fees:\n",
    " Be aware of any associated fees (processing fees, late payment penalties, etc.) and\n",
    "factor them into your calculations.\n",
    "Repayment Plan:\n",
    " Ensure you have a realistic repayment plan that aligns with your income and cash\n",
    "flow.\n",
    "Emergency Fund:\n",
    " Before taking out a loan, ensure you have an emergency fund to cover unexpected\n",
    "expenses. This will protect you if your business experiences a downturn.\n",
    "Before applying for any loan, create a detailed business plan outlining how you will\n",
    "use the loan and how it will generate a return on investment. This will help you secure\n",
    "the loan and ensure its successful utilization. \"\"\"\n",
    "\n",
    "borrowers_request = \"\"\"what amount of loan do you recomend for a person having a cattle brokerage bussiness with a monthly income \n",
    "of ksh.60000 and on an established bussiness\"\"\"\n",
    "\n",
    "\n",
    "result = model.generate_content(\n",
    "    [myfile,few_shot_prompt, \"\\n\\n\", borrowers_request]\n",
    ")\n",
    "Markdown(result.text)"
   ]
  },
  {
   "cell_type": "markdown",
   "id": "d46e5500",
   "metadata": {
    "papermill": {
     "duration": 0.005639,
     "end_time": "2025-04-08T07:45:36.060118",
     "exception": false,
     "start_time": "2025-04-08T07:45:36.054479",
     "status": "completed"
    },
    "tags": []
   },
   "source": [
    "## I enhanced user interaction by integrating function calling"
   ]
  },
  {
   "cell_type": "code",
   "execution_count": 10,
   "id": "32911384",
   "metadata": {
    "execution": {
     "iopub.execute_input": "2025-04-08T07:45:36.072465Z",
     "iopub.status.busy": "2025-04-08T07:45:36.072132Z",
     "iopub.status.idle": "2025-04-08T07:45:36.099672Z",
     "shell.execute_reply": "2025-04-08T07:45:36.098814Z"
    },
    "papermill": {
     "duration": 0.035381,
     "end_time": "2025-04-08T07:45:36.101115",
     "exception": false,
     "start_time": "2025-04-08T07:45:36.065734",
     "status": "completed"
    },
    "tags": []
   },
   "outputs": [],
   "source": [
    "df=pd.read_csv(\"/kaggle/input/statements/merged_mpesa.csv\")\n",
    "df1=pd.read_csv(\"/kaggle/input/statements/ml_ready_features.csv\")"
   ]
  },
  {
   "cell_type": "code",
   "execution_count": 11,
   "id": "01b025b0",
   "metadata": {
    "execution": {
     "iopub.execute_input": "2025-04-08T07:45:36.113537Z",
     "iopub.status.busy": "2025-04-08T07:45:36.113226Z",
     "iopub.status.idle": "2025-04-08T07:45:36.160241Z",
     "shell.execute_reply": "2025-04-08T07:45:36.159326Z"
    },
    "papermill": {
     "duration": 0.054763,
     "end_time": "2025-04-08T07:45:36.161793",
     "exception": false,
     "start_time": "2025-04-08T07:45:36.107030",
     "status": "completed"
    },
    "tags": []
   },
   "outputs": [
    {
     "data": {
      "text/plain": [
       "4"
      ]
     },
     "execution_count": 11,
     "metadata": {},
     "output_type": "execute_result"
    }
   ],
   "source": [
    "from io import StringIO\n",
    "\n",
    "# Convert DataFrame to SQLite\n",
    "db_file = \"pandas_to_sql.db\"\n",
    "conn = sqlite3.connect(db_file)\n",
    "df.to_sql(\"transuction\", conn, if_exists=\"replace\", index=False)\n",
    "df1.to_sql(\"summary\", conn, if_exists=\"replace\", index=False)"
   ]
  },
  {
   "cell_type": "code",
   "execution_count": 12,
   "id": "c73ec631",
   "metadata": {
    "execution": {
     "iopub.execute_input": "2025-04-08T07:45:36.174680Z",
     "iopub.status.busy": "2025-04-08T07:45:36.174344Z",
     "iopub.status.idle": "2025-04-08T07:45:36.181401Z",
     "shell.execute_reply": "2025-04-08T07:45:36.180495Z"
    },
    "papermill": {
     "duration": 0.015089,
     "end_time": "2025-04-08T07:45:36.182849",
     "exception": false,
     "start_time": "2025-04-08T07:45:36.167760",
     "status": "completed"
    },
    "tags": []
   },
   "outputs": [
    {
     "name": "stdout",
     "output_type": "stream",
     "text": [
      " - DB CALL: list_tables()\n"
     ]
    },
    {
     "data": {
      "text/plain": [
       "['transuction', 'summary']"
      ]
     },
     "execution_count": 12,
     "metadata": {},
     "output_type": "execute_result"
    }
   ],
   "source": [
    "def list_tables() -> list[str]:\n",
    "    \"\"\"Retrieve the names of all tables in the database.\"\"\"\n",
    "    # Include print logging statements so you can see when functions are being called.\n",
    "    print(' - DB CALL: list_tables()')\n",
    "\n",
    "    cursor = conn.cursor()\n",
    "\n",
    "    # Fetch the table names.\n",
    "    cursor.execute(\"SELECT name FROM sqlite_master WHERE type='table';\")\n",
    "\n",
    "    tables = cursor.fetchall()\n",
    "    return [t[0] for t in tables]\n",
    "\n",
    "\n",
    "list_tables()"
   ]
  },
  {
   "cell_type": "code",
   "execution_count": 13,
   "id": "0a7e43ac",
   "metadata": {
    "execution": {
     "iopub.execute_input": "2025-04-08T07:45:36.196709Z",
     "iopub.status.busy": "2025-04-08T07:45:36.196416Z",
     "iopub.status.idle": "2025-04-08T07:45:36.200512Z",
     "shell.execute_reply": "2025-04-08T07:45:36.199734Z"
    },
    "papermill": {
     "duration": 0.013052,
     "end_time": "2025-04-08T07:45:36.201883",
     "exception": false,
     "start_time": "2025-04-08T07:45:36.188831",
     "status": "completed"
    },
    "tags": []
   },
   "outputs": [],
   "source": [
    "def execute_query(sql: str) -> list[list[str]]:\n",
    "    \"\"\"Execute an SQL statement, returning the results.\"\"\"\n",
    "    print(f' - DB CALL: execute_query({sql})')\n",
    "\n",
    "    cursor = conn.cursor()\n",
    "\n",
    "    cursor.execute(sql)\n",
    "    return cursor.fetchall()\n"
   ]
  },
  {
   "cell_type": "code",
   "execution_count": 14,
   "id": "a3c6ac57",
   "metadata": {
    "execution": {
     "iopub.execute_input": "2025-04-08T07:45:36.214529Z",
     "iopub.status.busy": "2025-04-08T07:45:36.214237Z",
     "iopub.status.idle": "2025-04-08T07:45:36.222056Z",
     "shell.execute_reply": "2025-04-08T07:45:36.221330Z"
    },
    "papermill": {
     "duration": 0.015725,
     "end_time": "2025-04-08T07:45:36.223491",
     "exception": false,
     "start_time": "2025-04-08T07:45:36.207766",
     "status": "completed"
    },
    "tags": []
   },
   "outputs": [
    {
     "name": "stdout",
     "output_type": "stream",
     "text": [
      " - DB CALL: describe_table(transuction)\n"
     ]
    },
    {
     "data": {
      "text/plain": [
       "[('Receipt No.', 'TEXT'),\n",
       " ('Completion Time', 'TEXT'),\n",
       " ('Details', 'TEXT'),\n",
       " ('Transaction Status', 'TEXT'),\n",
       " ('Paid In', 'TEXT'),\n",
       " ('Withdrawn', 'TEXT'),\n",
       " ('Balance', 'TEXT'),\n",
       " ('Unnamed: 2', 'TEXT'),\n",
       " ('Unnamed: 3', 'TEXT'),\n",
       " ('Unnamed: 4', 'TEXT')]"
      ]
     },
     "execution_count": 14,
     "metadata": {},
     "output_type": "execute_result"
    }
   ],
   "source": [
    "def describe_table(table_name: str) -> list[tuple[str, str]]:\n",
    "    \"\"\"Look up the table schema.\n",
    "\n",
    "    Returns:\n",
    "      List of columns, where each entry is a tuple of (column, type).\n",
    "    \"\"\"\n",
    "    print(f' - DB CALL: describe_table({table_name})')\n",
    "\n",
    "    cursor = conn.cursor()\n",
    "\n",
    "    cursor.execute(f\"PRAGMA table_info({table_name});\")\n",
    "\n",
    "    schema = cursor.fetchall()\n",
    "    # [column index, column name, column type, ...]\n",
    "    return [(col[1], col[2]) for col in schema]\n",
    "\n",
    "\n",
    "describe_table(\"transuction\")"
   ]
  },
  {
   "cell_type": "code",
   "execution_count": 15,
   "id": "4ee35214",
   "metadata": {
    "execution": {
     "iopub.execute_input": "2025-04-08T07:45:36.236248Z",
     "iopub.status.busy": "2025-04-08T07:45:36.235988Z",
     "iopub.status.idle": "2025-04-08T07:45:36.242307Z",
     "shell.execute_reply": "2025-04-08T07:45:36.241590Z"
    },
    "papermill": {
     "duration": 0.014118,
     "end_time": "2025-04-08T07:45:36.243701",
     "exception": false,
     "start_time": "2025-04-08T07:45:36.229583",
     "status": "completed"
    },
    "tags": []
   },
   "outputs": [
    {
     "name": "stdout",
     "output_type": "stream",
     "text": [
      " - DB CALL: describe_table(summary)\n"
     ]
    },
    {
     "data": {
      "text/plain": [
       "[('Month', 'TEXT'),\n",
       " ('Paid In', 'REAL'),\n",
       " ('Withdrawn', 'REAL'),\n",
       " ('Net Amount', 'REAL'),\n",
       " ('Transaction Count', 'INTEGER'),\n",
       " ('Bill Payment', 'INTEGER'),\n",
       " ('Gambling', 'INTEGER'),\n",
       " ('Income', 'INTEGER'),\n",
       " ('Loan Related', 'INTEGER'),\n",
       " ('Other', 'INTEGER'),\n",
       " ('Peer Transfer', 'INTEGER'),\n",
       " ('Utilities', 'INTEGER'),\n",
       " ('Loan Expense Ratio', 'REAL'),\n",
       " ('Bill Expense Ratio', 'REAL')]"
      ]
     },
     "execution_count": 15,
     "metadata": {},
     "output_type": "execute_result"
    }
   ],
   "source": [
    "describe_table(\"summary\")"
   ]
  },
  {
   "cell_type": "code",
   "execution_count": 16,
   "id": "be8a3c8a",
   "metadata": {
    "execution": {
     "iopub.execute_input": "2025-04-08T07:45:36.257083Z",
     "iopub.status.busy": "2025-04-08T07:45:36.256832Z",
     "iopub.status.idle": "2025-04-08T07:45:36.524551Z",
     "shell.execute_reply": "2025-04-08T07:45:36.523574Z"
    },
    "papermill": {
     "duration": 0.276109,
     "end_time": "2025-04-08T07:45:36.526332",
     "exception": false,
     "start_time": "2025-04-08T07:45:36.250223",
     "status": "completed"
    },
    "tags": []
   },
   "outputs": [],
   "source": [
    "from google import genai\n",
    "from kaggle_secrets import UserSecretsClient\n",
    "\n",
    "\n",
    "GOOGLE_API_KEY = UserSecretsClient().get_secret(\"GOOGLE_API_KEY\")\n",
    "client = genai.Client(api_key=GOOGLE_API_KEY)\n",
    "# These are the Python functions defined above.\n",
    "db_tools = [list_tables, describe_table, execute_query]\n",
    "\n",
    "instruction = \"\"\"You are a helpful chatbot that can interact with an SQL database\n",
    "for a computer store. You will take the users questions and turn them into SQL\n",
    "queries using the tools available. Once you have the information you need, you will\n",
    "answer the user's question using the data returned.\n",
    "\n",
    "Use list_tables to see what tables are present, describe_table to understand the\n",
    "schema, and execute_query to issue an SQL SELECT query.\"\"\"\n",
    "\n",
    "client = genai.Client(api_key=GOOGLE_API_KEY)\n",
    "\n",
    "# Start a chat with automatic function calling enabled.\n",
    "chat = client.chats.create(\n",
    "    model=\"gemini-2.0-flash\",\n",
    "    config=types.GenerateContentConfig(\n",
    "        system_instruction=instruction,\n",
    "        tools=db_tools,\n",
    "    ),\n",
    ")"
   ]
  },
  {
   "cell_type": "code",
   "execution_count": 17,
   "id": "58376838",
   "metadata": {
    "execution": {
     "iopub.execute_input": "2025-04-08T07:45:36.540431Z",
     "iopub.status.busy": "2025-04-08T07:45:36.540083Z",
     "iopub.status.idle": "2025-04-08T07:45:37.788220Z",
     "shell.execute_reply": "2025-04-08T07:45:37.787186Z"
    },
    "papermill": {
     "duration": 1.256847,
     "end_time": "2025-04-08T07:45:37.789957",
     "exception": false,
     "start_time": "2025-04-08T07:45:36.533110",
     "status": "completed"
    },
    "tags": []
   },
   "outputs": [
    {
     "name": "stdout",
     "output_type": "stream",
     "text": [
      "\n",
      "I need to know which table contains the \"Details\" column and transaction information to answer your question. Could you please tell me which table I should look at?\n",
      "\n"
     ]
    }
   ],
   "source": [
    "resp = chat.send_message(\"how many transuctions involved moureen on the Details column?\")\n",
    "print(f\"\\n{resp.text}\")"
   ]
  },
  {
   "cell_type": "code",
   "execution_count": 18,
   "id": "78b68aff",
   "metadata": {
    "execution": {
     "iopub.execute_input": "2025-04-08T07:45:37.804091Z",
     "iopub.status.busy": "2025-04-08T07:45:37.803797Z",
     "iopub.status.idle": "2025-04-08T07:45:38.454458Z",
     "shell.execute_reply": "2025-04-08T07:45:38.453477Z"
    },
    "papermill": {
     "duration": 0.659423,
     "end_time": "2025-04-08T07:45:38.456038",
     "exception": false,
     "start_time": "2025-04-08T07:45:37.796615",
     "status": "completed"
    },
    "tags": []
   },
   "outputs": [
    {
     "data": {
      "text/markdown": [
       "\n",
       "Could you please specify which table you would like to see?\n"
      ],
      "text/plain": [
       "<IPython.core.display.Markdown object>"
      ]
     },
     "execution_count": 18,
     "metadata": {},
     "output_type": "execute_result"
    }
   ],
   "source": [
    "resp = chat.send_message(\"can i see them\")\n",
    "Markdown(f\"\\n{resp.text}\")"
   ]
  },
  {
   "cell_type": "code",
   "execution_count": 19,
   "id": "c137017f",
   "metadata": {
    "execution": {
     "iopub.execute_input": "2025-04-08T07:45:38.470113Z",
     "iopub.status.busy": "2025-04-08T07:45:38.469780Z",
     "iopub.status.idle": "2025-04-08T07:45:39.919711Z",
     "shell.execute_reply": "2025-04-08T07:45:39.918735Z"
    },
    "papermill": {
     "duration": 1.458557,
     "end_time": "2025-04-08T07:45:39.921267",
     "exception": false,
     "start_time": "2025-04-08T07:45:38.462710",
     "status": "completed"
    },
    "tags": []
   },
   "outputs": [
    {
     "data": {
      "text/markdown": [
       "\n",
       "I need to know which table contains transaction information to calculate your total spending per month. Could you please tell me which table I should look at? Also, I need to know which column represents the transaction date and which column represents the transaction amount.\n"
      ],
      "text/plain": [
       "<IPython.core.display.Markdown object>"
      ]
     },
     "execution_count": 19,
     "metadata": {},
     "output_type": "execute_result"
    }
   ],
   "source": [
    "resp = chat.send_message(\"What was my total spending per month?\")\n",
    "Markdown(f\"\\n{resp.text}\")\n"
   ]
  },
  {
   "cell_type": "markdown",
   "id": "53524a0e",
   "metadata": {
    "papermill": {
     "duration": 0.006323,
     "end_time": "2025-04-08T07:45:39.934491",
     "exception": false,
     "start_time": "2025-04-08T07:45:39.928168",
     "status": "completed"
    },
    "tags": []
   },
   "source": [
    "## conclustion\n",
    "\n",
    "Wow!this is great and huge thank you to the google team for the wonderfull course."
   ]
  },
  {
   "cell_type": "code",
   "execution_count": null,
   "id": "c3ac2fed",
   "metadata": {
    "papermill": {
     "duration": 0.006019,
     "end_time": "2025-04-08T07:45:39.946749",
     "exception": false,
     "start_time": "2025-04-08T07:45:39.940730",
     "status": "completed"
    },
    "tags": []
   },
   "outputs": [],
   "source": []
  }
 ],
 "metadata": {
  "kaggle": {
   "accelerator": "none",
   "dataSources": [
    {
     "sourceId": 97258,
     "sourceType": "competition"
    },
    {
     "datasetId": 7055229,
     "sourceId": 11284218,
     "sourceType": "datasetVersion"
    },
    {
     "datasetId": 7055301,
     "sourceId": 11284316,
     "sourceType": "datasetVersion"
    }
   ],
   "dockerImageVersionId": 30918,
   "isGpuEnabled": false,
   "isInternetEnabled": true,
   "language": "python",
   "sourceType": "notebook"
  },
  "kernelspec": {
   "display_name": "Python 3",
   "language": "python",
   "name": "python3"
  },
  "language_info": {
   "codemirror_mode": {
    "name": "ipython",
    "version": 3
   },
   "file_extension": ".py",
   "mimetype": "text/x-python",
   "name": "python",
   "nbconvert_exporter": "python",
   "pygments_lexer": "ipython3",
   "version": "3.10.12"
  },
  "papermill": {
   "default_parameters": {},
   "duration": 71.614415,
   "end_time": "2025-04-08T07:45:43.440183",
   "environment_variables": {},
   "exception": null,
   "input_path": "__notebook__.ipynb",
   "output_path": "__notebook__.ipynb",
   "parameters": {},
   "start_time": "2025-04-08T07:44:31.825768",
   "version": "2.6.0"
  }
 },
 "nbformat": 4,
 "nbformat_minor": 5
}
