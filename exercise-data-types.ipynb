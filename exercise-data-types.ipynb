{
 "cells": [
  {
   "cell_type": "markdown",
   "id": "f76306be",
   "metadata": {
    "papermill": {
     "duration": 0.004546,
     "end_time": "2025-03-06T06:41:27.888913",
     "exception": false,
     "start_time": "2025-03-06T06:41:27.884367",
     "status": "completed"
    },
    "tags": []
   },
   "source": [
    "**This notebook is an exercise in the [Intro to Programming](https://www.kaggle.com/learn/intro-to-programming) course.  You can reference the tutorial at [this link](https://www.kaggle.com/alexisbcook/data-types).**\n",
    "\n",
    "---\n"
   ]
  },
  {
   "cell_type": "markdown",
   "id": "38c3523b",
   "metadata": {
    "papermill": {
     "duration": 0.003681,
     "end_time": "2025-03-06T06:41:27.896583",
     "exception": false,
     "start_time": "2025-03-06T06:41:27.892902",
     "status": "completed"
    },
    "tags": []
   },
   "source": [
    "In the tutorial, you learned about four different data types: floats, integers, strings, and booleans.  In this exercise, you'll experiment with them.\n",
    "\n",
    "# Set up the notebook\n",
    "\n",
    "Run the next code cell without changes to set up the notebook."
   ]
  },
  {
   "cell_type": "code",
   "execution_count": 1,
   "id": "0dc2945a",
   "metadata": {
    "execution": {
     "iopub.execute_input": "2025-03-06T06:41:27.904959Z",
     "iopub.status.busy": "2025-03-06T06:41:27.904674Z",
     "iopub.status.idle": "2025-03-06T06:41:28.810357Z",
     "shell.execute_reply": "2025-03-06T06:41:28.809414Z"
    },
    "papermill": {
     "duration": 0.911413,
     "end_time": "2025-03-06T06:41:28.811565",
     "exception": false,
     "start_time": "2025-03-06T06:41:27.900152",
     "status": "completed"
    },
    "tags": []
   },
   "outputs": [
    {
     "name": "stdout",
     "output_type": "stream",
     "text": [
      "Setup complete.\n"
     ]
    }
   ],
   "source": [
    "# Set up the exercise\n",
    "from learntools.core import binder\n",
    "binder.bind(globals())\n",
    "from learntools.intro_to_programming.ex3 import *\n",
    "print('Setup complete.')"
   ]
  },
  {
   "cell_type": "markdown",
   "id": "e0af1eaf",
   "metadata": {
    "papermill": {
     "duration": 0.003341,
     "end_time": "2025-03-06T06:41:28.818773",
     "exception": false,
     "start_time": "2025-03-06T06:41:28.815432",
     "status": "completed"
    },
    "tags": []
   },
   "source": [
    "# Question 1\n",
    "\n",
    "You have seen how to convert a float to an integer with the `int` function.  Try this out yourself by running the code cell below."
   ]
  },
  {
   "cell_type": "code",
   "execution_count": 2,
   "id": "894801d0",
   "metadata": {
    "execution": {
     "iopub.execute_input": "2025-03-06T06:41:28.826967Z",
     "iopub.status.busy": "2025-03-06T06:41:28.826572Z",
     "iopub.status.idle": "2025-03-06T06:41:28.831823Z",
     "shell.execute_reply": "2025-03-06T06:41:28.831028Z"
    },
    "papermill": {
     "duration": 0.010602,
     "end_time": "2025-03-06T06:41:28.832878",
     "exception": false,
     "start_time": "2025-03-06T06:41:28.822276",
     "status": "completed"
    },
    "tags": []
   },
   "outputs": [
    {
     "name": "stdout",
     "output_type": "stream",
     "text": [
      "1.0\n",
      "<class 'float'>\n",
      "1\n",
      "<class 'int'>\n"
     ]
    }
   ],
   "source": [
    "# Define a float\n",
    "y = 1.\n",
    "print(y)\n",
    "print(type(y))\n",
    "\n",
    "# Convert float to integer with the int function\n",
    "z = int(y)\n",
    "print(z)\n",
    "print(type(z))"
   ]
  },
  {
   "cell_type": "markdown",
   "id": "243594bb",
   "metadata": {
    "papermill": {
     "duration": 0.003433,
     "end_time": "2025-03-06T06:41:28.840268",
     "exception": false,
     "start_time": "2025-03-06T06:41:28.836835",
     "status": "completed"
    },
    "tags": []
   },
   "source": [
    "In this case, the float you are using has no numbers after the decimal.  \n",
    "- But what happens when you try to convert a float with a fractional part to an integer?  \n",
    "- How does the outcome of the `int` function change for positive and negative numbers?\n",
    "\n",
    "Use the next code cell to investigate and answer these questions.  Feel free to add or remove any lines of code -- it is your workspace!"
   ]
  },
  {
   "cell_type": "code",
   "execution_count": 3,
   "id": "971f8aae",
   "metadata": {
    "execution": {
     "iopub.execute_input": "2025-03-06T06:41:28.848895Z",
     "iopub.status.busy": "2025-03-06T06:41:28.848616Z",
     "iopub.status.idle": "2025-03-06T06:41:28.853962Z",
     "shell.execute_reply": "2025-03-06T06:41:28.853119Z"
    },
    "papermill": {
     "duration": 0.01109,
     "end_time": "2025-03-06T06:41:28.855248",
     "exception": false,
     "start_time": "2025-03-06T06:41:28.844158",
     "status": "completed"
    },
    "tags": []
   },
   "outputs": [
    {
     "name": "stdout",
     "output_type": "stream",
     "text": [
      "1\n",
      "1\n",
      "-3\n",
      "-2\n"
     ]
    }
   ],
   "source": [
    "# Uncomment and run this code to get started!\n",
    "print(int(1.2321))\n",
    "print(int(1.747))\n",
    "print(int(-3.94535))\n",
    "print(int(-2.19774))"
   ]
  },
  {
   "cell_type": "markdown",
   "id": "8eb8d71d",
   "metadata": {
    "papermill": {
     "duration": 0.003494,
     "end_time": "2025-03-06T06:41:28.862800",
     "exception": false,
     "start_time": "2025-03-06T06:41:28.859306",
     "status": "completed"
    },
    "tags": []
   },
   "source": [
    "Once you have an answer, run the code cell below to see the solution.  Viewing the solution will give you credit for answering the problem."
   ]
  },
  {
   "cell_type": "code",
   "execution_count": 4,
   "id": "24da872f",
   "metadata": {
    "execution": {
     "iopub.execute_input": "2025-03-06T06:41:28.870989Z",
     "iopub.status.busy": "2025-03-06T06:41:28.870720Z",
     "iopub.status.idle": "2025-03-06T06:41:28.876955Z",
     "shell.execute_reply": "2025-03-06T06:41:28.876106Z"
    },
    "papermill": {
     "duration": 0.011704,
     "end_time": "2025-03-06T06:41:28.878100",
     "exception": false,
     "start_time": "2025-03-06T06:41:28.866396",
     "status": "completed"
    },
    "tags": []
   },
   "outputs": [
    {
     "data": {
      "application/javascript": [
       "parent.postMessage({\"jupyterEvent\": \"custom.exercise_interaction\", \"data\": {\"outcomeType\": 1, \"valueTowardsCompletion\": 0.2, \"interactionType\": 1, \"questionType\": 4, \"questionId\": \"1_FloatToInt\", \"learnToolsVersion\": \"0.3.4\", \"failureMessage\": \"\", \"exceptionClass\": \"\", \"trace\": \"\"}}, \"*\")"
      ],
      "text/plain": [
       "<IPython.core.display.Javascript object>"
      ]
     },
     "metadata": {},
     "output_type": "display_data"
    },
    {
     "data": {
      "text/markdown": [
       "<span style=\"color:#33cc33\">Correct:</span> \n",
       "\n",
       "Negative floats are always rounded UP to the closest integer (for instance, both -1.1 and -1.9 are rounded up to -1). Positive floats are always rounded DOWN to the closest integer (for instance, 2.1 and 2.9 are rounded down to 2)."
      ],
      "text/plain": [
       "Correct: \n",
       "\n",
       "Negative floats are always rounded UP to the closest integer (for instance, both -1.1 and -1.9 are rounded up to -1). Positive floats are always rounded DOWN to the closest integer (for instance, 2.1 and 2.9 are rounded down to 2)."
      ]
     },
     "metadata": {},
     "output_type": "display_data"
    }
   ],
   "source": [
    "# Check your answer (Run this code cell to receive credit!)\n",
    "q1.check()"
   ]
  },
  {
   "cell_type": "markdown",
   "id": "3cc5860c",
   "metadata": {
    "papermill": {
     "duration": 0.003568,
     "end_time": "2025-03-06T06:41:28.885656",
     "exception": false,
     "start_time": "2025-03-06T06:41:28.882088",
     "status": "completed"
    },
    "tags": []
   },
   "source": [
    "# Question 2\n",
    "\n",
    "In the tutorial, you learned about booleans (which can take a value of `True` or `False`), in addition to integers, floats, and strings.  For this question, your goal is to determine what happens when you multiply a boolean by any of these data types.  Specifically, \n",
    "- What happens when you multiply an integer or float by `True`?  What happens when you multiply them by `False`?  How does the answer change if the numbers are positive or negative?\n",
    "- What happens when you multiply a string by `True`?  By `False`?\n",
    "\n",
    "Use the next code cell for your investigation. "
   ]
  },
  {
   "cell_type": "code",
   "execution_count": 5,
   "id": "8a50051b",
   "metadata": {
    "execution": {
     "iopub.execute_input": "2025-03-06T06:41:28.893972Z",
     "iopub.status.busy": "2025-03-06T06:41:28.893688Z",
     "iopub.status.idle": "2025-03-06T06:41:28.898039Z",
     "shell.execute_reply": "2025-03-06T06:41:28.897080Z"
    },
    "papermill": {
     "duration": 0.010241,
     "end_time": "2025-03-06T06:41:28.899563",
     "exception": false,
     "start_time": "2025-03-06T06:41:28.889322",
     "status": "completed"
    },
    "tags": []
   },
   "outputs": [
    {
     "name": "stdout",
     "output_type": "stream",
     "text": [
      "3\n",
      "-3.1\n",
      "<class 'str'>\n",
      "0\n"
     ]
    }
   ],
   "source": [
    "# Uncomment and run this code to get started!\n",
    "print(3 * True)\n",
    "print(-3.1 * True)\n",
    "print(type(\"abc\" * False))\n",
    "print(len(\"abc\" * False))"
   ]
  },
  {
   "cell_type": "markdown",
   "id": "1d172a23",
   "metadata": {
    "papermill": {
     "duration": 0.003759,
     "end_time": "2025-03-06T06:41:28.907967",
     "exception": false,
     "start_time": "2025-03-06T06:41:28.904208",
     "status": "completed"
    },
    "tags": []
   },
   "source": [
    "Once you have an answer, run the code cell below to see the solution.  Viewing the solution will give you credit for answering the problem."
   ]
  },
  {
   "cell_type": "code",
   "execution_count": 6,
   "id": "2a2b32d9",
   "metadata": {
    "execution": {
     "iopub.execute_input": "2025-03-06T06:41:28.916875Z",
     "iopub.status.busy": "2025-03-06T06:41:28.916587Z",
     "iopub.status.idle": "2025-03-06T06:41:28.922523Z",
     "shell.execute_reply": "2025-03-06T06:41:28.921775Z"
    },
    "papermill": {
     "duration": 0.011747,
     "end_time": "2025-03-06T06:41:28.923658",
     "exception": false,
     "start_time": "2025-03-06T06:41:28.911911",
     "status": "completed"
    },
    "tags": []
   },
   "outputs": [
    {
     "data": {
      "application/javascript": [
       "parent.postMessage({\"jupyterEvent\": \"custom.exercise_interaction\", \"data\": {\"outcomeType\": 1, \"valueTowardsCompletion\": 0.2, \"interactionType\": 1, \"questionType\": 4, \"questionId\": \"2_MultiplyBooleans\", \"learnToolsVersion\": \"0.3.4\", \"failureMessage\": \"\", \"exceptionClass\": \"\", \"trace\": \"\"}}, \"*\")"
      ],
      "text/plain": [
       "<IPython.core.display.Javascript object>"
      ]
     },
     "metadata": {},
     "output_type": "display_data"
    },
    {
     "data": {
      "text/markdown": [
       "<span style=\"color:#33cc33\">Correct:</span> \n",
       "\n",
       "When you multiple an integer or float by a boolean with value `True`, it just returns that same integer or float (and is equivalent to multiplying by 1).  If you multiply an integer or float by a boolean with value `False`, it always returns 0.  This is true for both positive and negative numbers.  If you multiply a string by a boolean with value `True`, it just returns that same string.  And if you multiply a string by a boolean with value `False`, it returns an empty string (or a string with length zero)."
      ],
      "text/plain": [
       "Correct: \n",
       "\n",
       "When you multiple an integer or float by a boolean with value `True`, it just returns that same integer or float (and is equivalent to multiplying by 1).  If you multiply an integer or float by a boolean with value `False`, it always returns 0.  This is true for both positive and negative numbers.  If you multiply a string by a boolean with value `True`, it just returns that same string.  And if you multiply a string by a boolean with value `False`, it returns an empty string (or a string with length zero)."
      ]
     },
     "metadata": {},
     "output_type": "display_data"
    }
   ],
   "source": [
    "# Check your answer (Run this code cell to receive credit!)\n",
    "q2.check()"
   ]
  },
  {
   "cell_type": "markdown",
   "id": "6b48f04c",
   "metadata": {
    "papermill": {
     "duration": 0.003787,
     "end_time": "2025-03-06T06:41:28.931956",
     "exception": false,
     "start_time": "2025-03-06T06:41:28.928169",
     "status": "completed"
    },
    "tags": []
   },
   "source": [
    "# Question 3\n",
    "\n",
    "In this question, you will build off your work from the previous exercise to write a function that estimates the value of a house.\n",
    "\n",
    "Use the next code cell to create a function `get_expected_cost` that takes as input three variables:\n",
    "- `beds` - number of bedrooms (data type float)\n",
    "- `baths` - number of bathrooms (data type float)\n",
    "- `has_basement` - whether or not the house has a basement (data type boolean)\n",
    "\n",
    "It should return the expected cost of a house with those characteristics. Assume that:\n",
    "- the expected cost for a house with 0 bedrooms and 0 bathrooms, and no basement is 80000, \n",
    "- each bedroom adds 30000 to the expected cost,\n",
    "- each bathroom adds 10000 to the expected cost, and\n",
    "- a basement adds 40000 to the expected cost.\n",
    "\n",
    "For instance,\n",
    "- a house with 1 bedroom, 1 bathroom, and no basement has an expected cost of 80000 + 30000 + 10000 = 120000.  This value will be calculated with `get_expected_cost(1, 1, False)`.\n",
    "- a house with 2 bedrooms, 1 bathroom, and a basement has an expected cost of 80000 + 2*30000 + 10000 + 40000 = 190000.  This value will be calculated with `get_expected_cost(2, 1, True)`.\n",
    "\n",
    "Remember you can always get a hint by uncommenting `q3.hint()` in the code cell following the next!"
   ]
  },
  {
   "cell_type": "code",
   "execution_count": 7,
   "id": "01cd9100",
   "metadata": {
    "execution": {
     "iopub.execute_input": "2025-03-06T06:41:28.940992Z",
     "iopub.status.busy": "2025-03-06T06:41:28.940656Z",
     "iopub.status.idle": "2025-03-06T06:41:28.947014Z",
     "shell.execute_reply": "2025-03-06T06:41:28.946265Z"
    },
    "papermill": {
     "duration": 0.012602,
     "end_time": "2025-03-06T06:41:28.948444",
     "exception": false,
     "start_time": "2025-03-06T06:41:28.935842",
     "status": "completed"
    },
    "tags": []
   },
   "outputs": [
    {
     "data": {
      "application/javascript": [
       "parent.postMessage({\"jupyterEvent\": \"custom.exercise_interaction\", \"data\": {\"outcomeType\": 1, \"valueTowardsCompletion\": 0.2, \"interactionType\": 1, \"questionType\": 2, \"questionId\": \"3_EstimateHouseValueBool\", \"learnToolsVersion\": \"0.3.4\", \"failureMessage\": \"\", \"exceptionClass\": \"\", \"trace\": \"\"}}, \"*\")"
      ],
      "text/plain": [
       "<IPython.core.display.Javascript object>"
      ]
     },
     "metadata": {},
     "output_type": "display_data"
    },
    {
     "data": {
      "text/markdown": [
       "<span style=\"color:#33cc33\">Correct</span>"
      ],
      "text/plain": [
       "Correct"
      ]
     },
     "metadata": {},
     "output_type": "display_data"
    }
   ],
   "source": [
    "# TODO: Complete the function\n",
    "def get_expected_cost(beds, baths, has_basement):\n",
    "    value = 80_000 + beds * 30_000 + baths * 10_000 + int(has_basement * 40_000) \n",
    "    return value\n",
    "\n",
    "# Check your answer \n",
    "q3.check()"
   ]
  },
  {
   "cell_type": "code",
   "execution_count": 8,
   "id": "1835c06f",
   "metadata": {
    "execution": {
     "iopub.execute_input": "2025-03-06T06:41:28.958782Z",
     "iopub.status.busy": "2025-03-06T06:41:28.958522Z",
     "iopub.status.idle": "2025-03-06T06:41:28.966487Z",
     "shell.execute_reply": "2025-03-06T06:41:28.965691Z"
    },
    "papermill": {
     "duration": 0.014259,
     "end_time": "2025-03-06T06:41:28.967700",
     "exception": false,
     "start_time": "2025-03-06T06:41:28.953441",
     "status": "completed"
    },
    "tags": []
   },
   "outputs": [
    {
     "data": {
      "application/javascript": [
       "parent.postMessage({\"jupyterEvent\": \"custom.exercise_interaction\", \"data\": {\"interactionType\": 2, \"questionType\": 2, \"questionId\": \"3_EstimateHouseValueBool\", \"learnToolsVersion\": \"0.3.4\", \"valueTowardsCompletion\": 0.0, \"failureMessage\": \"\", \"exceptionClass\": \"\", \"trace\": \"\", \"outcomeType\": 4}}, \"*\")"
      ],
      "text/plain": [
       "<IPython.core.display.Javascript object>"
      ]
     },
     "metadata": {},
     "output_type": "display_data"
    },
    {
     "data": {
      "text/markdown": [
       "<span style=\"color:#3366cc\">Hint:</span> The variable `has_basement` is either `True` or `False`.  What happens when you multiply it by 40000 (the value of a basement)?  Refer to the previous question if you are unsure."
      ],
      "text/plain": [
       "Hint: The variable `has_basement` is either `True` or `False`.  What happens when you multiply it by 40000 (the value of a basement)?  Refer to the previous question if you are unsure."
      ]
     },
     "metadata": {},
     "output_type": "display_data"
    },
    {
     "data": {
      "application/javascript": [
       "parent.postMessage({\"jupyterEvent\": \"custom.exercise_interaction\", \"data\": {\"interactionType\": 3, \"questionType\": 2, \"questionId\": \"3_EstimateHouseValueBool\", \"learnToolsVersion\": \"0.3.4\", \"valueTowardsCompletion\": 0.0, \"failureMessage\": \"\", \"exceptionClass\": \"\", \"trace\": \"\", \"outcomeType\": 4}}, \"*\")"
      ],
      "text/plain": [
       "<IPython.core.display.Javascript object>"
      ]
     },
     "metadata": {},
     "output_type": "display_data"
    },
    {
     "data": {
      "text/markdown": [
       "<span style=\"color:#33cc99\">Solution:</span> \n",
       "```python\n",
       "def get_expected_cost(beds, baths, has_basement):\n",
       "    value = 80000 + 30000 * beds + 10000 * baths + 40000 * has_basement\n",
       "    return value\n",
       "\n",
       "```"
      ],
      "text/plain": [
       "Solution: \n",
       "```python\n",
       "def get_expected_cost(beds, baths, has_basement):\n",
       "    value = 80000 + 30000 * beds + 10000 * baths + 40000 * has_basement\n",
       "    return value\n",
       "\n",
       "```"
      ]
     },
     "metadata": {},
     "output_type": "display_data"
    }
   ],
   "source": [
    "# Uncomment to see a hint\n",
    "q3.hint()\n",
    "\n",
    "# Uncomment to view the solution\n",
    "q3.solution()"
   ]
  },
  {
   "cell_type": "markdown",
   "id": "35d0addd",
   "metadata": {
    "papermill": {
     "duration": 0.004306,
     "end_time": "2025-03-06T06:41:28.976938",
     "exception": false,
     "start_time": "2025-03-06T06:41:28.972632",
     "status": "completed"
    },
    "tags": []
   },
   "source": [
    "# Question 4\n",
    "\n",
    "We'll continue our study of boolean arithmetic.  For this question, your task is to provide a description of what happpens when you add booleans. \n",
    "\n",
    "Use the next code cell for your investigation.  Feel free to add or remove any lines of code - use it as your workspace!"
   ]
  },
  {
   "cell_type": "code",
   "execution_count": 9,
   "id": "11baf912",
   "metadata": {
    "execution": {
     "iopub.execute_input": "2025-03-06T06:41:28.986963Z",
     "iopub.status.busy": "2025-03-06T06:41:28.986615Z",
     "iopub.status.idle": "2025-03-06T06:41:28.991928Z",
     "shell.execute_reply": "2025-03-06T06:41:28.991054Z"
    },
    "papermill": {
     "duration": 0.011726,
     "end_time": "2025-03-06T06:41:28.993083",
     "exception": false,
     "start_time": "2025-03-06T06:41:28.981357",
     "status": "completed"
    },
    "tags": []
   },
   "outputs": [
    {
     "name": "stdout",
     "output_type": "stream",
     "text": [
      "0\n",
      "1\n",
      "1\n",
      "2\n",
      "3\n"
     ]
    }
   ],
   "source": [
    "print(False + False)\n",
    "print(True + False)\n",
    "print(False + True)\n",
    "print(True + True)\n",
    "print(False + True + True + True)"
   ]
  },
  {
   "cell_type": "markdown",
   "id": "557caec1",
   "metadata": {
    "papermill": {
     "duration": 0.004158,
     "end_time": "2025-03-06T06:41:29.002123",
     "exception": false,
     "start_time": "2025-03-06T06:41:28.997965",
     "status": "completed"
    },
    "tags": []
   },
   "source": [
    "Once you have an answer, run the code cell below to see the solution.  Viewing the solution will give you credit for answering the problem."
   ]
  },
  {
   "cell_type": "code",
   "execution_count": 10,
   "id": "0547c4aa",
   "metadata": {
    "execution": {
     "iopub.execute_input": "2025-03-06T06:41:29.011971Z",
     "iopub.status.busy": "2025-03-06T06:41:29.011727Z",
     "iopub.status.idle": "2025-03-06T06:41:29.017914Z",
     "shell.execute_reply": "2025-03-06T06:41:29.017070Z"
    },
    "papermill": {
     "duration": 0.013074,
     "end_time": "2025-03-06T06:41:29.019668",
     "exception": false,
     "start_time": "2025-03-06T06:41:29.006594",
     "status": "completed"
    },
    "tags": []
   },
   "outputs": [
    {
     "data": {
      "application/javascript": [
       "parent.postMessage({\"jupyterEvent\": \"custom.exercise_interaction\", \"data\": {\"outcomeType\": 1, \"valueTowardsCompletion\": 0.2, \"interactionType\": 1, \"questionType\": 4, \"questionId\": \"4_AddingBooleans\", \"learnToolsVersion\": \"0.3.4\", \"failureMessage\": \"\", \"exceptionClass\": \"\", \"trace\": \"\"}}, \"*\")"
      ],
      "text/plain": [
       "<IPython.core.display.Javascript object>"
      ]
     },
     "metadata": {},
     "output_type": "display_data"
    },
    {
     "data": {
      "text/markdown": [
       "<span style=\"color:#33cc33\">Correct:</span> \n",
       "\n",
       "When you add booleans, adding `False` is equivalent to adding 0, and adding `True` is equivalent to adding 1."
      ],
      "text/plain": [
       "Correct: \n",
       "\n",
       "When you add booleans, adding `False` is equivalent to adding 0, and adding `True` is equivalent to adding 1."
      ]
     },
     "metadata": {},
     "output_type": "display_data"
    }
   ],
   "source": [
    "# Check your answer (Run this code cell to receive credit!)\n",
    "q4.check()"
   ]
  },
  {
   "cell_type": "markdown",
   "id": "81b8bd37",
   "metadata": {
    "papermill": {
     "duration": 0.004445,
     "end_time": "2025-03-06T06:41:29.029437",
     "exception": false,
     "start_time": "2025-03-06T06:41:29.024992",
     "status": "completed"
    },
    "tags": []
   },
   "source": [
    "# 🌶️ Question 5\n",
    "\n",
    "You own an online shop where you sell rings with custom engravings.  You offer both gold plated and solid gold rings.\n",
    "- Gold plated rings have a base cost of \\\\$50, and you charge \\\\$7 per engraved unit.  \n",
    "- Solid gold rings have a base cost of \\\\$100, and you charge \\\\$10 per engraved unit.\n",
    "- Spaces and punctuation are counted as engraved units.\n",
    "\n",
    "Write a function `cost_of_project()` that takes two arguments:\n",
    "- `engraving` - a Python string with the text of the engraving\n",
    "- `solid_gold` - a Boolean that indicates whether the ring is solid gold\n",
    "\n",
    "It should return the cost of the project.  This question should be fairly challenging, and you may need a hint."
   ]
  },
  {
   "cell_type": "code",
   "execution_count": 11,
   "id": "74b55333",
   "metadata": {
    "execution": {
     "iopub.execute_input": "2025-03-06T06:41:29.040429Z",
     "iopub.status.busy": "2025-03-06T06:41:29.040072Z",
     "iopub.status.idle": "2025-03-06T06:41:29.047210Z",
     "shell.execute_reply": "2025-03-06T06:41:29.046162Z"
    },
    "papermill": {
     "duration": 0.014445,
     "end_time": "2025-03-06T06:41:29.048895",
     "exception": false,
     "start_time": "2025-03-06T06:41:29.034450",
     "status": "completed"
    },
    "tags": []
   },
   "outputs": [
    {
     "data": {
      "application/javascript": [
       "parent.postMessage({\"jupyterEvent\": \"custom.exercise_interaction\", \"data\": {\"outcomeType\": 1, \"valueTowardsCompletion\": 0.2, \"interactionType\": 1, \"questionType\": 2, \"questionId\": \"5_CustomEngravings\", \"learnToolsVersion\": \"0.3.4\", \"failureMessage\": \"\", \"exceptionClass\": \"\", \"trace\": \"\"}}, \"*\")"
      ],
      "text/plain": [
       "<IPython.core.display.Javascript object>"
      ]
     },
     "metadata": {},
     "output_type": "display_data"
    },
    {
     "data": {
      "text/markdown": [
       "<span style=\"color:#33cc33\">Correct</span>"
      ],
      "text/plain": [
       "Correct"
      ]
     },
     "metadata": {},
     "output_type": "display_data"
    }
   ],
   "source": [
    "def cost_of_project(engraving, solid_gold):\n",
    "    units=len(engraving)\n",
    "    cost = (50 + solid_gold*50) + (7* units) +((solid_gold*units) * 3)\n",
    "    return cost\n",
    "\n",
    "# Check your answer\n",
    "q5.check()"
   ]
  },
  {
   "cell_type": "code",
   "execution_count": 12,
   "id": "a6fe702f",
   "metadata": {
    "execution": {
     "iopub.execute_input": "2025-03-06T06:41:29.060666Z",
     "iopub.status.busy": "2025-03-06T06:41:29.060372Z",
     "iopub.status.idle": "2025-03-06T06:41:29.069490Z",
     "shell.execute_reply": "2025-03-06T06:41:29.068564Z"
    },
    "papermill": {
     "duration": 0.016468,
     "end_time": "2025-03-06T06:41:29.071023",
     "exception": false,
     "start_time": "2025-03-06T06:41:29.054555",
     "status": "completed"
    },
    "tags": []
   },
   "outputs": [
    {
     "data": {
      "application/javascript": [
       "parent.postMessage({\"jupyterEvent\": \"custom.exercise_interaction\", \"data\": {\"interactionType\": 2, \"questionType\": 2, \"questionId\": \"5_CustomEngravings\", \"learnToolsVersion\": \"0.3.4\", \"valueTowardsCompletion\": 0.0, \"failureMessage\": \"\", \"exceptionClass\": \"\", \"trace\": \"\", \"outcomeType\": 4}}, \"*\")"
      ],
      "text/plain": [
       "<IPython.core.display.Javascript object>"
      ]
     },
     "metadata": {},
     "output_type": "display_data"
    },
    {
     "data": {
      "text/markdown": [
       "<span style=\"color:#3366cc\">Hint:</span> There are two options - either the project uses solid gold or does not.  With this in mind, you can structure your solution like this: `cost = solid_gold * ____ + (not solid_gold) * ____`.  You need to figure out how to fill in the blanks. Also, remember that:\n",
       "- If `solid_gold = True`, then `(not solid_gold) = False`, and if `solid_gold = False`, then `(not solid_gold) = True`.\n",
       "- Multiplying an integer by `True` is equivalent to multiplying it by 1, and multiplying an integer by `False` is equivalent to multiplying it by 0."
      ],
      "text/plain": [
       "Hint: There are two options - either the project uses solid gold or does not.  With this in mind, you can structure your solution like this: `cost = solid_gold * ____ + (not solid_gold) * ____`.  You need to figure out how to fill in the blanks. Also, remember that:\n",
       "- If `solid_gold = True`, then `(not solid_gold) = False`, and if `solid_gold = False`, then `(not solid_gold) = True`.\n",
       "- Multiplying an integer by `True` is equivalent to multiplying it by 1, and multiplying an integer by `False` is equivalent to multiplying it by 0."
      ]
     },
     "metadata": {},
     "output_type": "display_data"
    },
    {
     "data": {
      "application/javascript": [
       "parent.postMessage({\"jupyterEvent\": \"custom.exercise_interaction\", \"data\": {\"interactionType\": 3, \"questionType\": 2, \"questionId\": \"5_CustomEngravings\", \"learnToolsVersion\": \"0.3.4\", \"valueTowardsCompletion\": 0.0, \"failureMessage\": \"\", \"exceptionClass\": \"\", \"trace\": \"\", \"outcomeType\": 4}}, \"*\")"
      ],
      "text/plain": [
       "<IPython.core.display.Javascript object>"
      ]
     },
     "metadata": {},
     "output_type": "display_data"
    },
    {
     "data": {
      "text/markdown": [
       "<span style=\"color:#33cc99\">Solution:</span> \n",
       "```python\n",
       "def cost_of_project(engraving, solid_gold):\n",
       "    cost = solid_gold * (100 + 10 * len(engraving)) + (not solid_gold) * (50 + 7 * len(engraving))\n",
       "    return cost\n",
       "\n",
       "```"
      ],
      "text/plain": [
       "Solution: \n",
       "```python\n",
       "def cost_of_project(engraving, solid_gold):\n",
       "    cost = solid_gold * (100 + 10 * len(engraving)) + (not solid_gold) * (50 + 7 * len(engraving))\n",
       "    return cost\n",
       "\n",
       "```"
      ]
     },
     "metadata": {},
     "output_type": "display_data"
    }
   ],
   "source": [
    "# Uncomment to see a hint\n",
    "q5.hint()\n",
    "\n",
    "# Uncomment to view the solution\n",
    "q5.solution()"
   ]
  },
  {
   "cell_type": "markdown",
   "id": "09aac650",
   "metadata": {
    "papermill": {
     "duration": 0.004981,
     "end_time": "2025-03-06T06:41:29.081731",
     "exception": false,
     "start_time": "2025-03-06T06:41:29.076750",
     "status": "completed"
    },
    "tags": []
   },
   "source": [
    "Run the next code cell to calculate the cost of engraving `Charlie+Denver` on a solid gold ring."
   ]
  },
  {
   "cell_type": "code",
   "execution_count": 13,
   "id": "f3ae463e",
   "metadata": {
    "execution": {
     "iopub.execute_input": "2025-03-06T06:41:29.093334Z",
     "iopub.status.busy": "2025-03-06T06:41:29.092963Z",
     "iopub.status.idle": "2025-03-06T06:41:29.097459Z",
     "shell.execute_reply": "2025-03-06T06:41:29.096592Z"
    },
    "papermill": {
     "duration": 0.011686,
     "end_time": "2025-03-06T06:41:29.098680",
     "exception": false,
     "start_time": "2025-03-06T06:41:29.086994",
     "status": "completed"
    },
    "tags": []
   },
   "outputs": [
    {
     "name": "stdout",
     "output_type": "stream",
     "text": [
      "240\n"
     ]
    }
   ],
   "source": [
    "project_one = cost_of_project(\"Charlie+Denver\", True)\n",
    "print(project_one)"
   ]
  },
  {
   "cell_type": "markdown",
   "id": "61e1206b",
   "metadata": {
    "papermill": {
     "duration": 0.005032,
     "end_time": "2025-03-06T06:41:29.109724",
     "exception": false,
     "start_time": "2025-03-06T06:41:29.104692",
     "status": "completed"
    },
    "tags": []
   },
   "source": [
    "Use the next code cell to calculate the cost of engraving `08/10/2000` on a gold plated ring."
   ]
  },
  {
   "cell_type": "code",
   "execution_count": 14,
   "id": "b464bdb0",
   "metadata": {
    "execution": {
     "iopub.execute_input": "2025-03-06T06:41:29.121651Z",
     "iopub.status.busy": "2025-03-06T06:41:29.121315Z",
     "iopub.status.idle": "2025-03-06T06:41:29.126080Z",
     "shell.execute_reply": "2025-03-06T06:41:29.125206Z"
    },
    "papermill": {
     "duration": 0.012299,
     "end_time": "2025-03-06T06:41:29.127268",
     "exception": false,
     "start_time": "2025-03-06T06:41:29.114969",
     "status": "completed"
    },
    "tags": []
   },
   "outputs": [
    {
     "name": "stdout",
     "output_type": "stream",
     "text": [
      "120\n"
     ]
    }
   ],
   "source": [
    "project_two = cost_of_project(\"08/10/2000\", False)\n",
    "print(project_two)"
   ]
  },
  {
   "cell_type": "markdown",
   "id": "66011db2",
   "metadata": {
    "papermill": {
     "duration": 0.005023,
     "end_time": "2025-03-06T06:41:29.138033",
     "exception": false,
     "start_time": "2025-03-06T06:41:29.133010",
     "status": "completed"
    },
    "tags": []
   },
   "source": [
    "# Keep going\n",
    "\n",
    "Continue to the next lesson to **[learn about conditions and conditional statements](https://www.kaggle.com/alexisbcook/conditions-and-conditional-statements)**."
   ]
  },
  {
   "cell_type": "markdown",
   "id": "1e1e6383",
   "metadata": {
    "papermill": {
     "duration": 0.004775,
     "end_time": "2025-03-06T06:41:29.148083",
     "exception": false,
     "start_time": "2025-03-06T06:41:29.143308",
     "status": "completed"
    },
    "tags": []
   },
   "source": [
    "---\n",
    "\n",
    "\n",
    "\n",
    "\n",
    "*Have questions or comments? Visit the [course discussion forum](https://www.kaggle.com/learn/intro-to-programming/discussion) to chat with other learners.*"
   ]
  }
 ],
 "metadata": {
  "kaggle": {
   "accelerator": "none",
   "dataSources": [],
   "isGpuEnabled": false,
   "isInternetEnabled": false,
   "language": "python",
   "sourceType": "notebook"
  },
  "kernelspec": {
   "display_name": "Python 3",
   "language": "python",
   "name": "python3"
  },
  "language_info": {
   "codemirror_mode": {
    "name": "ipython",
    "version": 3
   },
   "file_extension": ".py",
   "mimetype": "text/x-python",
   "name": "python",
   "nbconvert_exporter": "python",
   "pygments_lexer": "ipython3",
   "version": "3.10.12"
  },
  "papermill": {
   "default_parameters": {},
   "duration": 4.00628,
   "end_time": "2025-03-06T06:41:29.670756",
   "environment_variables": {},
   "exception": null,
   "input_path": "__notebook__.ipynb",
   "output_path": "__notebook__.ipynb",
   "parameters": {},
   "start_time": "2025-03-06T06:41:25.664476",
   "version": "2.3.3"
  }
 },
 "nbformat": 4,
 "nbformat_minor": 5
}
