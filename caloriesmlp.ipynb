{
 "cells": [
  {
   "cell_type": "code",
   "execution_count": 1,
   "id": "7d092f27",
   "metadata": {
    "_cell_guid": "b1076dfc-b9ad-4769-8c92-a6c4dae69d19",
    "_uuid": "8f2839f25d086af736a60e9eeb907d3b93b6e0e5",
    "execution": {
     "iopub.execute_input": "2025-05-06T08:46:50.815201Z",
     "iopub.status.busy": "2025-05-06T08:46:50.814635Z",
     "iopub.status.idle": "2025-05-06T08:46:52.195714Z",
     "shell.execute_reply": "2025-05-06T08:46:52.194793Z"
    },
    "papermill": {
     "duration": 1.385826,
     "end_time": "2025-05-06T08:46:52.196882",
     "exception": false,
     "start_time": "2025-05-06T08:46:50.811056",
     "status": "completed"
    },
    "tags": []
   },
   "outputs": [
    {
     "name": "stdout",
     "output_type": "stream",
     "text": [
      "/kaggle/input/playground-series-s5e5/sample_submission.csv\n",
      "/kaggle/input/playground-series-s5e5/train.csv\n",
      "/kaggle/input/playground-series-s5e5/test.csv\n"
     ]
    }
   ],
   "source": [
    "# This Python 3 environment comes with many helpful analytics libraries installed\n",
    "# It is defined by the kaggle/python Docker image: https://github.com/kaggle/docker-python\n",
    "# For example, here's several helpful packages to load\n",
    "\n",
    "import numpy as np # linear algebra\n",
    "import pandas as pd # data processing, CSV file I/O (e.g. pd.read_csv)\n",
    "\n",
    "# Input data files are available in the read-only \"../input/\" directory\n",
    "# For example, running this (by clicking run or pressing Shift+Enter) will list all files under the input directory\n",
    "\n",
    "import os\n",
    "for dirname, _, filenames in os.walk('/kaggle/input'):\n",
    "    for filename in filenames:\n",
    "        print(os.path.join(dirname, filename))\n",
    "\n",
    "# You can write up to 20GB to the current directory (/kaggle/working/) that gets preserved as output when you create a version using \"Save & Run All\" \n",
    "# You can also write temporary files to /kaggle/temp/, but they won't be saved outside of the current session"
   ]
  },
  {
   "cell_type": "code",
   "execution_count": 2,
   "id": "f3a91816",
   "metadata": {
    "execution": {
     "iopub.execute_input": "2025-05-06T08:46:52.203309Z",
     "iopub.status.busy": "2025-05-06T08:46:52.202675Z",
     "iopub.status.idle": "2025-05-06T08:46:53.130335Z",
     "shell.execute_reply": "2025-05-06T08:46:53.129476Z"
    },
    "papermill": {
     "duration": 0.931921,
     "end_time": "2025-05-06T08:46:53.131630",
     "exception": false,
     "start_time": "2025-05-06T08:46:52.199709",
     "status": "completed"
    },
    "tags": []
   },
   "outputs": [
    {
     "name": "stdout",
     "output_type": "stream",
     "text": [
      "<class 'pandas.core.frame.DataFrame'>\n",
      "RangeIndex: 750000 entries, 0 to 749999\n",
      "Data columns (total 9 columns):\n",
      " #   Column      Non-Null Count   Dtype  \n",
      "---  ------      --------------   -----  \n",
      " 0   id          750000 non-null  int64  \n",
      " 1   Sex         750000 non-null  object \n",
      " 2   Age         750000 non-null  int64  \n",
      " 3   Height      750000 non-null  float64\n",
      " 4   Weight      750000 non-null  float64\n",
      " 5   Duration    750000 non-null  float64\n",
      " 6   Heart_Rate  750000 non-null  float64\n",
      " 7   Body_Temp   750000 non-null  float64\n",
      " 8   Calories    750000 non-null  float64\n",
      "dtypes: float64(6), int64(2), object(1)\n",
      "memory usage: 51.5+ MB\n"
     ]
    }
   ],
   "source": [
    "train=pd.read_csv(\"/kaggle/input/playground-series-s5e5/train.csv\")\n",
    "train.info()"
   ]
  },
  {
   "cell_type": "code",
   "execution_count": 3,
   "id": "8b2a7c23",
   "metadata": {
    "execution": {
     "iopub.execute_input": "2025-05-06T08:46:53.137609Z",
     "iopub.status.busy": "2025-05-06T08:46:53.137164Z",
     "iopub.status.idle": "2025-05-06T08:46:53.366472Z",
     "shell.execute_reply": "2025-05-06T08:46:53.365546Z"
    },
    "papermill": {
     "duration": 0.233577,
     "end_time": "2025-05-06T08:46:53.367754",
     "exception": false,
     "start_time": "2025-05-06T08:46:53.134177",
     "status": "completed"
    },
    "tags": []
   },
   "outputs": [
    {
     "name": "stdout",
     "output_type": "stream",
     "text": [
      "<class 'pandas.core.frame.DataFrame'>\n",
      "RangeIndex: 250000 entries, 0 to 249999\n",
      "Data columns (total 8 columns):\n",
      " #   Column      Non-Null Count   Dtype  \n",
      "---  ------      --------------   -----  \n",
      " 0   id          250000 non-null  int64  \n",
      " 1   Sex         250000 non-null  object \n",
      " 2   Age         250000 non-null  int64  \n",
      " 3   Height      250000 non-null  float64\n",
      " 4   Weight      250000 non-null  float64\n",
      " 5   Duration    250000 non-null  float64\n",
      " 6   Heart_Rate  250000 non-null  float64\n",
      " 7   Body_Temp   250000 non-null  float64\n",
      "dtypes: float64(5), int64(2), object(1)\n",
      "memory usage: 15.3+ MB\n"
     ]
    }
   ],
   "source": [
    "test=pd.read_csv(\"/kaggle/input/playground-series-s5e5/test.csv\")\n",
    "test.info()"
   ]
  },
  {
   "cell_type": "code",
   "execution_count": 4,
   "id": "61aae32e",
   "metadata": {
    "execution": {
     "iopub.execute_input": "2025-05-06T08:46:53.373735Z",
     "iopub.status.busy": "2025-05-06T08:46:53.373518Z",
     "iopub.status.idle": "2025-05-06T08:46:53.444174Z",
     "shell.execute_reply": "2025-05-06T08:46:53.443340Z"
    },
    "papermill": {
     "duration": 0.074757,
     "end_time": "2025-05-06T08:46:53.445275",
     "exception": false,
     "start_time": "2025-05-06T08:46:53.370518",
     "status": "completed"
    },
    "tags": []
   },
   "outputs": [
    {
     "name": "stdout",
     "output_type": "stream",
     "text": [
      "<class 'pandas.core.frame.DataFrame'>\n",
      "RangeIndex: 250000 entries, 0 to 249999\n",
      "Data columns (total 2 columns):\n",
      " #   Column    Non-Null Count   Dtype  \n",
      "---  ------    --------------   -----  \n",
      " 0   id        250000 non-null  int64  \n",
      " 1   Calories  250000 non-null  float64\n",
      "dtypes: float64(1), int64(1)\n",
      "memory usage: 3.8 MB\n"
     ]
    }
   ],
   "source": [
    "sample_sub=pd.read_csv(\"/kaggle/input/playground-series-s5e5/sample_submission.csv\")\n",
    "sample_sub.info()"
   ]
  },
  {
   "cell_type": "code",
   "execution_count": 5,
   "id": "e55eb98f",
   "metadata": {
    "execution": {
     "iopub.execute_input": "2025-05-06T08:46:53.451214Z",
     "iopub.status.busy": "2025-05-06T08:46:53.451017Z",
     "iopub.status.idle": "2025-05-06T08:46:59.013232Z",
     "shell.execute_reply": "2025-05-06T08:46:59.012652Z"
    },
    "papermill": {
     "duration": 5.566625,
     "end_time": "2025-05-06T08:46:59.014621",
     "exception": false,
     "start_time": "2025-05-06T08:46:53.447996",
     "status": "completed"
    },
    "tags": []
   },
   "outputs": [],
   "source": [
    "import pandas as pd\n",
    "import numpy as np\n",
    "from sklearn.model_selection import train_test_split\n",
    "from sklearn.preprocessing import StandardScaler\n",
    "\n",
    "import torch\n",
    "import torch.nn as nn\n",
    "from torch.utils.data import DataLoader, TensorDataset"
   ]
  },
  {
   "cell_type": "code",
   "execution_count": 6,
   "id": "d0a18443",
   "metadata": {
    "execution": {
     "iopub.execute_input": "2025-05-06T08:46:59.022154Z",
     "iopub.status.busy": "2025-05-06T08:46:59.021839Z",
     "iopub.status.idle": "2025-05-06T08:47:01.943097Z",
     "shell.execute_reply": "2025-05-06T08:47:01.942320Z"
    },
    "papermill": {
     "duration": 2.927151,
     "end_time": "2025-05-06T08:47:01.944608",
     "exception": false,
     "start_time": "2025-05-06T08:46:59.017457",
     "status": "completed"
    },
    "tags": []
   },
   "outputs": [],
   "source": [
    "\n",
    "df = pd.read_csv(\"/kaggle/input/playground-series-s5e5/train.csv\")\n",
    "\n",
    "# Drop ID\n",
    "df.drop(columns=['id'], inplace=True)\n",
    "\n",
    "# One-hot encode 'Sex'\n",
    "df = pd.get_dummies(df, columns=['Sex'], drop_first=True)\n",
    "\n",
    "# Split features and target\n",
    "X = df.drop(columns=['Calories']).values\n",
    "y = df['Calories'].values.reshape(-1, 1)\n",
    "\n",
    "# Train-validation split\n",
    "X_train, X_val, y_train, y_val = train_test_split(\n",
    "    X, y, test_size=0.2, random_state=42\n",
    ")\n",
    "\n",
    "# Standardize features\n",
    "scaler = StandardScaler()\n",
    "X_train_scaled = scaler.fit_transform(X_train)\n",
    "X_val_scaled = scaler.transform(X_val)\n",
    "\n",
    "# Convert to PyTorch tensors\n",
    "X_train_tensor = torch.tensor(X_train_scaled, dtype=torch.float32)\n",
    "y_train_tensor = torch.tensor(y_train, dtype=torch.float32)\n",
    "\n",
    "X_val_tensor = torch.tensor(X_val_scaled, dtype=torch.float32)\n",
    "y_val_tensor = torch.tensor(y_val, dtype=torch.float32)\n",
    "\n",
    "# DataLoaders\n",
    "train_dataset = TensorDataset(X_train_tensor, y_train_tensor)\n",
    "val_dataset = TensorDataset(X_val_tensor, y_val_tensor)\n",
    "\n",
    "train_loader = DataLoader(train_dataset, batch_size=64, shuffle=True)\n",
    "val_loader = DataLoader(val_dataset, batch_size=64)\n",
    "\n",
    "# Feature count\n",
    "input_dim = X_train_tensor.shape[1]\n"
   ]
  },
  {
   "cell_type": "code",
   "execution_count": 7,
   "id": "6b9014a2",
   "metadata": {
    "execution": {
     "iopub.execute_input": "2025-05-06T08:47:01.951676Z",
     "iopub.status.busy": "2025-05-06T08:47:01.951455Z",
     "iopub.status.idle": "2025-05-06T08:47:01.955710Z",
     "shell.execute_reply": "2025-05-06T08:47:01.955066Z"
    },
    "papermill": {
     "duration": 0.008766,
     "end_time": "2025-05-06T08:47:01.956696",
     "exception": false,
     "start_time": "2025-05-06T08:47:01.947930",
     "status": "completed"
    },
    "tags": []
   },
   "outputs": [],
   "source": [
    "class CaloriesMLP(nn.Module):\n",
    "    def __init__(self, input_dim):\n",
    "        super(CaloriesMLP, self).__init__()\n",
    "        self.model = nn.Sequential(\n",
    "            nn.Linear(input_dim, 64),\n",
    "            nn.ReLU(),\n",
    "            nn.Linear(64, 32),\n",
    "            nn.ReLU(),\n",
    "            nn.Linear(32, 1),\n",
    "            nn.ReLU()  # Ensures non-negative predictions for RMSLE\n",
    "        )\n",
    "\n",
    "    def forward(self, x):\n",
    "        return self.model(x)\n"
   ]
  },
  {
   "cell_type": "code",
   "execution_count": 8,
   "id": "9ac68adf",
   "metadata": {
    "execution": {
     "iopub.execute_input": "2025-05-06T08:47:01.962348Z",
     "iopub.status.busy": "2025-05-06T08:47:01.961829Z",
     "iopub.status.idle": "2025-05-06T08:47:01.966061Z",
     "shell.execute_reply": "2025-05-06T08:47:01.965431Z"
    },
    "papermill": {
     "duration": 0.008162,
     "end_time": "2025-05-06T08:47:01.967180",
     "exception": false,
     "start_time": "2025-05-06T08:47:01.959018",
     "status": "completed"
    },
    "tags": []
   },
   "outputs": [],
   "source": [
    "class RMSLELoss(nn.Module):\n",
    "    def __init__(self):\n",
    "        super(RMSLELoss, self).__init__()\n",
    "\n",
    "    def forward(self, y_pred, y_true):\n",
    "        y_pred = torch.clamp(y_pred, min=0)\n",
    "        y_true = torch.clamp(y_true, min=0)\n",
    "        return torch.sqrt(torch.mean((torch.log1p(y_pred) - torch.log1p(y_true)) ** 2))\n"
   ]
  },
  {
   "cell_type": "code",
   "execution_count": 9,
   "id": "cad4d3b2",
   "metadata": {
    "execution": {
     "iopub.execute_input": "2025-05-06T08:47:01.972782Z",
     "iopub.status.busy": "2025-05-06T08:47:01.972586Z",
     "iopub.status.idle": "2025-05-06T08:54:16.130378Z",
     "shell.execute_reply": "2025-05-06T08:54:16.129592Z"
    },
    "papermill": {
     "duration": 434.161853,
     "end_time": "2025-05-06T08:54:16.131497",
     "exception": false,
     "start_time": "2025-05-06T08:47:01.969644",
     "status": "completed"
    },
    "tags": []
   },
   "outputs": [
    {
     "name": "stdout",
     "output_type": "stream",
     "text": [
      "Epoch [1/30], Train RMSLE: 0.3154, Val RMSLE: 0.0888\n",
      "Epoch [2/30], Train RMSLE: 0.0752, Val RMSLE: 0.0737\n",
      "Epoch [3/30], Train RMSLE: 0.0665, Val RMSLE: 0.0652\n",
      "Epoch [4/30], Train RMSLE: 0.0637, Val RMSLE: 0.0621\n",
      "Epoch [5/30], Train RMSLE: 0.0623, Val RMSLE: 0.0617\n",
      "Epoch [6/30], Train RMSLE: 0.0613, Val RMSLE: 0.0604\n",
      "Epoch [7/30], Train RMSLE: 0.0608, Val RMSLE: 0.0607\n",
      "Epoch [8/30], Train RMSLE: 0.0603, Val RMSLE: 0.0596\n",
      "Epoch [9/30], Train RMSLE: 0.0599, Val RMSLE: 0.0590\n",
      "Epoch [10/30], Train RMSLE: 0.0596, Val RMSLE: 0.0598\n",
      "Epoch [11/30], Train RMSLE: 0.0594, Val RMSLE: 0.0583\n",
      "Epoch [12/30], Train RMSLE: 0.0592, Val RMSLE: 0.0590\n",
      "Epoch [13/30], Train RMSLE: 0.0590, Val RMSLE: 0.0590\n",
      "Epoch [14/30], Train RMSLE: 0.0588, Val RMSLE: 0.0582\n",
      "Epoch [15/30], Train RMSLE: 0.0587, Val RMSLE: 0.0583\n",
      "Epoch [16/30], Train RMSLE: 0.0587, Val RMSLE: 0.0581\n",
      "Epoch [17/30], Train RMSLE: 0.0585, Val RMSLE: 0.0587\n",
      "Epoch [18/30], Train RMSLE: 0.0585, Val RMSLE: 0.0579\n",
      "Epoch [19/30], Train RMSLE: 0.0584, Val RMSLE: 0.0594\n",
      "Epoch [20/30], Train RMSLE: 0.0583, Val RMSLE: 0.0589\n",
      "Epoch [21/30], Train RMSLE: 0.0582, Val RMSLE: 0.0591\n",
      "Epoch [22/30], Train RMSLE: 0.0582, Val RMSLE: 0.0578\n",
      "Epoch [23/30], Train RMSLE: 0.0582, Val RMSLE: 0.0578\n",
      "Epoch [24/30], Train RMSLE: 0.0581, Val RMSLE: 0.0579\n",
      "Epoch [25/30], Train RMSLE: 0.0581, Val RMSLE: 0.0580\n",
      "Epoch [26/30], Train RMSLE: 0.0580, Val RMSLE: 0.0577\n",
      "Epoch [27/30], Train RMSLE: 0.0580, Val RMSLE: 0.0576\n",
      "Epoch [28/30], Train RMSLE: 0.0580, Val RMSLE: 0.0577\n",
      "Epoch [29/30], Train RMSLE: 0.0579, Val RMSLE: 0.0576\n",
      "Epoch [30/30], Train RMSLE: 0.0579, Val RMSLE: 0.0582\n"
     ]
    }
   ],
   "source": [
    "# Instantiate\n",
    "model = CaloriesMLP(input_dim)\n",
    "criterion = RMSLELoss()\n",
    "optimizer = torch.optim.SGD(model.parameters(), lr=0.01)\n",
    "\n",
    "# Training loop\n",
    "num_epochs = 30\n",
    "\n",
    "for epoch in range(num_epochs):\n",
    "    model.train()\n",
    "    train_loss = 0.0\n",
    "\n",
    "    for X_batch, y_batch in train_loader:\n",
    "        optimizer.zero_grad()\n",
    "        outputs = model(X_batch)\n",
    "        loss = criterion(outputs, y_batch)\n",
    "        loss.backward()\n",
    "        optimizer.step()\n",
    "        train_loss += loss.item() * X_batch.size(0)\n",
    "\n",
    "    train_loss /= len(train_loader.dataset)\n",
    "\n",
    "    # Validation loss\n",
    "    model.eval()\n",
    "    val_loss = 0.0\n",
    "    with torch.no_grad():\n",
    "        for X_batch, y_batch in val_loader:\n",
    "            outputs = model(X_batch)\n",
    "            loss = criterion(outputs, y_batch)\n",
    "            val_loss += loss.item() * X_batch.size(0)\n",
    "    val_loss /= len(val_loader.dataset)\n",
    "\n",
    "    print(f\"Epoch [{epoch+1}/{num_epochs}], Train RMSLE: {train_loss:.4f}, Val RMSLE: {val_loss:.4f}\")\n"
   ]
  },
  {
   "cell_type": "code",
   "execution_count": 10,
   "id": "e853b9c2",
   "metadata": {
    "execution": {
     "iopub.execute_input": "2025-05-06T08:54:16.140002Z",
     "iopub.status.busy": "2025-05-06T08:54:16.139485Z",
     "iopub.status.idle": "2025-05-06T08:54:16.300989Z",
     "shell.execute_reply": "2025-05-06T08:54:16.300185Z"
    },
    "papermill": {
     "duration": 0.167256,
     "end_time": "2025-05-06T08:54:16.302531",
     "exception": false,
     "start_time": "2025-05-06T08:54:16.135275",
     "status": "completed"
    },
    "tags": []
   },
   "outputs": [],
   "source": [
    "# Load test data\n",
    "test_df = test  # Replace with your path\n",
    "\n",
    "# Store IDs for submission\n",
    "test_ids = test_df['id'].values\n",
    "\n",
    "# Drop 'id' column\n",
    "test_df = test_df.drop(columns=['id'])\n",
    "\n",
    "# One-hot encode 'Sex' to match train columns\n",
    "test_df = pd.get_dummies(test_df, columns=['Sex'], drop_first=True)\n",
    "\n",
    "\n",
    "# Align column order (same as training data)\n",
    "test_df = test_df[X_train_tensor.shape[1]:] if test_df.shape[1] > X_train_tensor.shape[1] else test_df\n",
    "test_features = test_df.values\n",
    "\n",
    "# Standardize using training scaler\n",
    "X_test_scaled = scaler.transform(test_features)\n",
    "\n",
    "# Convert to PyTorch tensor\n",
    "X_test_tensor = torch.tensor(X_test_scaled, dtype=torch.float32)\n"
   ]
  },
  {
   "cell_type": "code",
   "execution_count": 11,
   "id": "60c99a54",
   "metadata": {
    "execution": {
     "iopub.execute_input": "2025-05-06T08:54:16.312846Z",
     "iopub.status.busy": "2025-05-06T08:54:16.312383Z",
     "iopub.status.idle": "2025-05-06T08:54:16.424735Z",
     "shell.execute_reply": "2025-05-06T08:54:16.423947Z"
    },
    "papermill": {
     "duration": 0.118835,
     "end_time": "2025-05-06T08:54:16.426199",
     "exception": false,
     "start_time": "2025-05-06T08:54:16.307364",
     "status": "completed"
    },
    "tags": []
   },
   "outputs": [],
   "source": [
    "model.eval()\n",
    "with torch.no_grad():\n",
    "    predictions = model(X_test_tensor).squeeze().numpy()\n"
   ]
  },
  {
   "cell_type": "code",
   "execution_count": 12,
   "id": "75e2a0e2",
   "metadata": {
    "execution": {
     "iopub.execute_input": "2025-05-06T08:54:16.434927Z",
     "iopub.status.busy": "2025-05-06T08:54:16.434375Z",
     "iopub.status.idle": "2025-05-06T08:54:16.768819Z",
     "shell.execute_reply": "2025-05-06T08:54:16.768248Z"
    },
    "papermill": {
     "duration": 0.339929,
     "end_time": "2025-05-06T08:54:16.770054",
     "exception": false,
     "start_time": "2025-05-06T08:54:16.430125",
     "status": "completed"
    },
    "tags": []
   },
   "outputs": [],
   "source": [
    "submission_df = pd.DataFrame({\n",
    "    'id': test_ids,\n",
    "    'Calories': predictions\n",
    "})\n",
    "\n",
    "# Save to CSV\n",
    "submission_df.to_csv(\"submission.csv\", index=False)\n"
   ]
  },
  {
   "cell_type": "code",
   "execution_count": null,
   "id": "e42067ed",
   "metadata": {
    "papermill": {
     "duration": 0.003423,
     "end_time": "2025-05-06T08:54:16.777175",
     "exception": false,
     "start_time": "2025-05-06T08:54:16.773752",
     "status": "completed"
    },
    "tags": []
   },
   "outputs": [],
   "source": []
  }
 ],
 "metadata": {
  "kaggle": {
   "accelerator": "nvidiaTeslaT4",
   "dataSources": [
    {
     "databundleVersionId": 11893428,
     "sourceId": 91716,
     "sourceType": "competition"
    }
   ],
   "dockerImageVersionId": 31011,
   "isGpuEnabled": true,
   "isInternetEnabled": true,
   "language": "python",
   "sourceType": "notebook"
  },
  "kernelspec": {
   "display_name": "Python 3",
   "language": "python",
   "name": "python3"
  },
  "language_info": {
   "codemirror_mode": {
    "name": "ipython",
    "version": 3
   },
   "file_extension": ".py",
   "mimetype": "text/x-python",
   "name": "python",
   "nbconvert_exporter": "python",
   "pygments_lexer": "ipython3",
   "version": "3.11.11"
  },
  "papermill": {
   "default_parameters": {},
   "duration": 452.216717,
   "end_time": "2025-05-06T08:54:19.002196",
   "environment_variables": {},
   "exception": null,
   "input_path": "__notebook__.ipynb",
   "output_path": "__notebook__.ipynb",
   "parameters": {},
   "start_time": "2025-05-06T08:46:46.785479",
   "version": "2.6.0"
  }
 },
 "nbformat": 4,
 "nbformat_minor": 5
}
