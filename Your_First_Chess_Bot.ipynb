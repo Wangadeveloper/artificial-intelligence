{
  "metadata": {
    "kernelspec": {
      "language": "python",
      "display_name": "Python 3",
      "name": "python3"
    },
    "language_info": {
      "name": "python",
      "version": "3.10.14",
      "mimetype": "text/x-python",
      "codemirror_mode": {
        "name": "ipython",
        "version": 3
      },
      "pygments_lexer": "ipython3",
      "nbconvert_exporter": "python",
      "file_extension": ".py"
    },
    "kaggle": {
      "accelerator": "none",
      "dataSources": [
        {
          "sourceId": 86524,
          "databundleVersionId": 9818394,
          "sourceType": "competition"
        }
      ],
      "dockerImageVersionId": 30786,
      "isInternetEnabled": true,
      "language": "python",
      "sourceType": "notebook",
      "isGpuEnabled": false
    },
    "colab": {
      "name": "Your First Chess Bot",
      "provenance": [],
      "include_colab_link": true
    }
  },
  "nbformat_minor": 0,
  "nbformat": 4,
  "cells": [
    {
      "cell_type": "markdown",
      "metadata": {
        "id": "view-in-github",
        "colab_type": "text"
      },
      "source": [
        "<a href=\"https://colab.research.google.com/github/Wangadeveloper/artificial-intelligence/blob/main/Your_First_Chess_Bot.ipynb\" target=\"_parent\"><img src=\"https://colab.research.google.com/assets/colab-badge.svg\" alt=\"Open In Colab\"/></a>"
      ]
    },
    {
      "source": [
        "# IMPORTANT: SOME KAGGLE DATA SOURCES ARE PRIVATE\n",
        "# RUN THIS CELL IN ORDER TO IMPORT YOUR KAGGLE DATA SOURCES.\n",
        "import kagglehub\n",
        "kagglehub.login()"
      ],
      "metadata": {
        "id": "-0rRXRIMuW_g"
      },
      "cell_type": "code",
      "outputs": [],
      "execution_count": null
    },
    {
      "source": [
        "# IMPORTANT: RUN THIS CELL IN ORDER TO IMPORT YOUR KAGGLE DATA SOURCES,\n",
        "# THEN FEEL FREE TO DELETE THIS CELL.\n",
        "# NOTE: THIS NOTEBOOK ENVIRONMENT DIFFERS FROM KAGGLE'S PYTHON\n",
        "# ENVIRONMENT SO THERE MAY BE MISSING LIBRARIES USED BY YOUR\n",
        "# NOTEBOOK.\n",
        "\n",
        "fide_google_efficiency_chess_ai_challenge_path = kagglehub.competition_download('fide-google-efficiency-chess-ai-challenge')\n",
        "\n",
        "print('Data source import complete.')\n"
      ],
      "metadata": {
        "id": "jt42OzqKuW_j"
      },
      "cell_type": "code",
      "outputs": [],
      "execution_count": null
    },
    {
      "cell_type": "markdown",
      "source": [
        "# FIDE & Google Efficient Chess AI Challenge\n",
        "\n",
        "Welcome! This notebook will familiarize you with using competition's environment, creating an agent, and submitting your first chess bot!"
      ],
      "metadata": {
        "id": "Rt81ncNQuW_m"
      }
    },
    {
      "cell_type": "markdown",
      "source": [],
      "metadata": {
        "id": "tGVdbZxHuW_p"
      }
    },
    {
      "cell_type": "code",
      "source": [
        "# first let's make sure you have internet enabled\n",
        "import requests\n",
        "requests.get('http://www.google.com',timeout=10).ok"
      ],
      "metadata": {
        "trusted": true,
        "execution": {
          "iopub.status.busy": "2024-11-25T17:36:59.372203Z",
          "iopub.execute_input": "2024-11-25T17:36:59.37266Z",
          "iopub.status.idle": "2024-11-25T17:36:59.528207Z",
          "shell.execute_reply.started": "2024-11-25T17:36:59.372606Z",
          "shell.execute_reply": "2024-11-25T17:36:59.527046Z"
        },
        "id": "oNJq1DHeuW_p"
      },
      "outputs": [],
      "execution_count": null
    },
    {
      "cell_type": "markdown",
      "source": [
        "#### If you don't have internet access (it doesn't say \"True\" above)\n",
        "1. make sure your account is Phone Verified in [account settings](https://www.kaggle.com/settings)\n",
        "2. make sure internet is turned on in Settings -> Turn on internet"
      ],
      "metadata": {
        "id": "Vx7mn9KTuW_r"
      }
    },
    {
      "cell_type": "code",
      "source": [
        "%%capture\n",
        "# ensure we are on the latest version of kaggle-environments\n",
        "!pip install --upgrade kaggle-environments"
      ],
      "metadata": {
        "trusted": true,
        "execution": {
          "iopub.status.busy": "2024-11-25T17:36:59.530173Z",
          "iopub.execute_input": "2024-11-25T17:36:59.530539Z",
          "iopub.status.idle": "2024-11-25T17:37:14.670144Z",
          "shell.execute_reply.started": "2024-11-25T17:36:59.530506Z",
          "shell.execute_reply": "2024-11-25T17:37:14.668674Z"
        },
        "id": "tcsq3sxiuW_s"
      },
      "outputs": [],
      "execution_count": null
    },
    {
      "cell_type": "code",
      "source": [
        "# Now let's set up the chess environment!\n",
        "from kaggle_environments import make\n",
        "env = make(\"chess\", debug=True)"
      ],
      "metadata": {
        "trusted": true,
        "execution": {
          "iopub.status.busy": "2024-11-25T17:37:14.672017Z",
          "iopub.execute_input": "2024-11-25T17:37:14.672513Z",
          "iopub.status.idle": "2024-11-25T17:37:23.388997Z",
          "shell.execute_reply.started": "2024-11-25T17:37:14.67244Z",
          "shell.execute_reply": "2024-11-25T17:37:23.387988Z"
        },
        "id": "xZT7Qqo4uW_u"
      },
      "outputs": [],
      "execution_count": null
    },
    {
      "cell_type": "code",
      "source": [
        "# this should run a game in the environment between two random bots\n",
        "# NOTE: each game starts from a randomly selected opening\n",
        "result = env.run([\"random\", \"random\"])\n",
        "env.render(mode=\"ipython\", width=1000, height=1000)"
      ],
      "metadata": {
        "trusted": true,
        "execution": {
          "iopub.status.busy": "2024-11-25T17:37:23.390927Z",
          "iopub.execute_input": "2024-11-25T17:37:23.39144Z",
          "iopub.status.idle": "2024-11-25T17:37:28.787253Z",
          "shell.execute_reply.started": "2024-11-25T17:37:23.391404Z",
          "shell.execute_reply": "2024-11-25T17:37:28.785992Z"
        },
        "id": "Mrzhu0FduW_v"
      },
      "outputs": [],
      "execution_count": null
    },
    {
      "cell_type": "markdown",
      "source": [
        "### Creating your first agent\n",
        "Now let's create your first agent! The environment has the [Chessnut](https://github.com/cgearhart/Chessnut) pip package installed and we'll use that to parse the board state and generate moves."
      ],
      "metadata": {
        "id": "xa2jmk2AuW_x"
      }
    },
    {
      "cell_type": "code",
      "source": [
        "%%writefile main.py\n",
        "from Chessnut import Game\n",
        "import random\n",
        "class MCTSNode:\n",
        "    def __init__(self, game, parent=None):\n",
        "        self.game = game  # Chessnut Game object\n",
        "        self.parent = parent\n",
        "        self.children = []\n",
        "        self.visits = 0\n",
        "        self.wins = 0\n",
        "        self.untried_moves = list(self.game.get_moves())\n",
        "\n",
        "    def select(self):\n",
        "        return max(self.children, key=lambda child: child.ucb1(self.visits))\n",
        "\n",
        "    def expand(self):\n",
        "        if not self.untried_moves:\n",
        "            return None\n",
        "        move = self.untried_moves.pop()\n",
        "        game_copy = Game(self.game.get_fen())\n",
        "        game_copy.apply_move(move)\n",
        "        child_node = MCTSNode(game_copy, parent=self)\n",
        "        self.children.append(child_node)\n",
        "        return child_node\n",
        "\n",
        "    def simulate(self):\n",
        "        game_copy = Game(self.game.get_fen())\n",
        "        while not (game_copy.status in [Game.CHECKMATE, Game.STALEMATE]):\n",
        "            moves = list(game_copy.get_moves())\n",
        "            if not moves:\n",
        "                break\n",
        "            move = random.choice(moves)\n",
        "            game_copy.apply_move(move)\n",
        "        return 1 if game_copy.status == Game.CHECKMATE else 0\n",
        "\n",
        "    def backpropagate(self, result):\n",
        "        self.visits += 1\n",
        "        self.wins += result\n",
        "        if self.parent:\n",
        "            self.parent.backpropagate(result)\n",
        "\n",
        "    def ucb1(self, total_simulations):\n",
        "        if self.visits == 0:\n",
        "            return float('inf')\n",
        "        return (self.wins / self.visits) + 2 * ((total_simulations ** 0.5) / (1 + self.visits))\n",
        "\n",
        "# Define the MCTS with DP logic\n",
        "def mcts_with_dp(game, simulations=1000):\n",
        "    # Use MCTS logic from earlier, adjusted for Chessnut's board\n",
        "    # Note: Modify board interactions to align with Chessnut methods.\n",
        "    root_node = MCTSNode(game)\n",
        "    for _ in range(simulations):\n",
        "        node = root_node\n",
        "        # Selection: Traverse the tree\n",
        "        while node.children:\n",
        "            node = node.select()\n",
        "\n",
        "        # Expansion: Add child nodes for unexplored moves\n",
        "        if node.untried_moves:\n",
        "            node = node.expand()\n",
        "\n",
        "        # Simulation: Simulate the game\n",
        "        result = node.simulate()\n",
        "\n",
        "        # Backpropagation: Update tree with results\n",
        "        node.backpropagate(result)\n",
        "\n",
        "    # Select the best move\n",
        "    best_move = max(root_node.children, key=lambda c: c.visits).move\n",
        "    return best_move\n",
        "\n",
        "def chess_bot(obs):\n",
        "    \"\"\"\n",
        "    Enhanced chess bot using MCTS with DP for decision-making.\n",
        "\n",
        "    Args:\n",
        "        obs: An object with a 'board' attribute representing the current board state as a FEN string.\n",
        "\n",
        "    Returns:\n",
        "        A string representing the chosen move in UCI notation (e.g., \"e2e4\")\n",
        "    \"\"\"\n",
        "    game = Game(obs.board)\n",
        "    # Integrate MCTS with DP for move selection\n",
        "    return mcts_with_dp(game, simulations=1000)\n"
      ],
      "metadata": {
        "trusted": true,
        "execution": {
          "iopub.status.busy": "2024-11-25T17:37:28.789037Z",
          "iopub.execute_input": "2024-11-25T17:37:28.789533Z",
          "iopub.status.idle": "2024-11-25T17:37:28.801171Z",
          "shell.execute_reply.started": "2024-11-25T17:37:28.789458Z",
          "shell.execute_reply": "2024-11-25T17:37:28.799786Z"
        },
        "id": "zKX9pJKeuW_y"
      },
      "outputs": [],
      "execution_count": null
    },
    {
      "cell_type": "markdown",
      "source": [
        "### Testing your agent\n",
        "\n",
        "Now let's see how your agent does againt the random agent!"
      ],
      "metadata": {
        "id": "AXpmg4P8uW_0"
      }
    },
    {
      "cell_type": "code",
      "source": [
        "result = env.run([\"main.py\", \"random\"])\n",
        "print(\"Agent exit status/reward/time left: \")\n",
        "# look at the generated replay.json and print out the agent info\n",
        "for agent in result[-1]:\n",
        "    print(\"\\t\", agent.status, \"/\", agent.reward, \"/\", agent.observation.remainingOverageTime)\n",
        "print(\"\\n\")\n",
        "# render the game\n",
        "env.render(mode=\"ipython\", width=1000, height=1000)"
      ],
      "metadata": {
        "trusted": true,
        "execution": {
          "iopub.status.busy": "2024-11-25T17:37:28.802688Z",
          "iopub.execute_input": "2024-11-25T17:37:28.803153Z"
        },
        "id": "sv1zgqEmuW_1"
      },
      "outputs": [],
      "execution_count": null
    },
    {
      "cell_type": "markdown",
      "source": [
        "# To Submit:\n",
        "1. Download (or save) main.py\n",
        "2. Go to the [submissions page](https://www.kaggle.com/competitions/fide-google-efficiency-chess-ai-challenge/submissions) and click \"Submit Agent\"\n",
        "3. Upload main.py\n",
        "4. Press Submit!\n",
        "\n",
        "Now doubt you are already thinking of ways this bot could be improved! Go ahead and fork this notebook and get started! ♟️"
      ],
      "metadata": {
        "id": "5k1nrF50uW_2"
      }
    },
    {
      "cell_type": "markdown",
      "source": [
        "# Submitting Multiple files\n",
        "### (or compressing your main.py)\n",
        "\n",
        "Set up your directory structure like this:\n",
        "```\n",
        "kaggle_submissions/\n",
        "  main.py\n",
        "  <other files as desired>\n",
        "```\n",
        "\n",
        "You can run `tar -czf submission.tar.gz -C kaggle_submissions .` and upload `submission.tar.gz`"
      ],
      "metadata": {
        "id": "Mx3MIx-huW_3"
      }
    }
  ]
}